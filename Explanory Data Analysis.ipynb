{
 "cells": [
  {
   "cell_type": "markdown",
   "id": "f88a0d96",
   "metadata": {},
   "source": [
    "# Explanatory Data Analysis\n",
    "Перед нами стоит задача провести EDA. В первую очередь мы попробуем прочитать предложенный файл и посмотреть на результат. Но перед эти импортируем необходимые для этого библиотеки.\n"
   ]
  },
  {
   "cell_type": "code",
   "execution_count": 3,
   "id": "89d0b351",
   "metadata": {},
   "outputs": [
    {
     "name": "stdout",
     "output_type": "stream",
     "text": [
      "Requirement already satisfied: plotly in c:\\users\\kasti\\anaconda3\\lib\\site-packages (5.0.0)\n",
      "Requirement already satisfied: tenacity>=6.2.0 in c:\\users\\kasti\\anaconda3\\lib\\site-packages (from plotly) (7.0.0)\n",
      "Requirement already satisfied: six in c:\\users\\kasti\\anaconda3\\lib\\site-packages (from plotly) (1.15.0)\n",
      "Requirement already satisfied: cufflinks in c:\\users\\kasti\\anaconda3\\lib\\site-packages (0.17.3)\n",
      "Requirement already satisfied: plotly>=4.1.1 in c:\\users\\kasti\\anaconda3\\lib\\site-packages (from cufflinks) (5.0.0)\n",
      "Requirement already satisfied: pandas>=0.19.2 in c:\\users\\kasti\\anaconda3\\lib\\site-packages (from cufflinks) (1.2.4)\n",
      "Requirement already satisfied: numpy>=1.9.2 in c:\\users\\kasti\\anaconda3\\lib\\site-packages (from cufflinks) (1.20.1)\n",
      "Requirement already satisfied: ipywidgets>=7.0.0 in c:\\users\\kasti\\anaconda3\\lib\\site-packages (from cufflinks) (7.6.3)\n",
      "Requirement already satisfied: ipython>=5.3.0 in c:\\users\\kasti\\anaconda3\\lib\\site-packages (from cufflinks) (7.22.0)\n",
      "Requirement already satisfied: six>=1.9.0 in c:\\users\\kasti\\anaconda3\\lib\\site-packages (from cufflinks) (1.15.0)\n",
      "Requirement already satisfied: setuptools>=34.4.1 in c:\\users\\kasti\\anaconda3\\lib\\site-packages (from cufflinks) (57.0.0)\n",
      "Requirement already satisfied: colorlover>=0.2.1 in c:\\users\\kasti\\anaconda3\\lib\\site-packages (from cufflinks) (0.3.0)\n",
      "Requirement already satisfied: prompt-toolkit!=3.0.0,!=3.0.1,<3.1.0,>=2.0.0 in c:\\users\\kasti\\anaconda3\\lib\\site-packages (from ipython>=5.3.0->cufflinks) (3.0.17)\n",
      "Requirement already satisfied: backcall in c:\\users\\kasti\\anaconda3\\lib\\site-packages (from ipython>=5.3.0->cufflinks) (0.2.0)\n",
      "Requirement already satisfied: pygments in c:\\users\\kasti\\anaconda3\\lib\\site-packages (from ipython>=5.3.0->cufflinks) (2.8.1)\n",
      "Requirement already satisfied: decorator in c:\\users\\kasti\\anaconda3\\lib\\site-packages (from ipython>=5.3.0->cufflinks) (5.0.6)\n",
      "Requirement already satisfied: traitlets>=4.2 in c:\\users\\kasti\\anaconda3\\lib\\site-packages (from ipython>=5.3.0->cufflinks) (5.0.5)\n",
      "Requirement already satisfied: colorama in c:\\users\\kasti\\anaconda3\\lib\\site-packages (from ipython>=5.3.0->cufflinks) (0.4.4)\n",
      "Requirement already satisfied: pickleshare in c:\\users\\kasti\\anaconda3\\lib\\site-packages (from ipython>=5.3.0->cufflinks) (0.7.5)\n",
      "Requirement already satisfied: jedi>=0.16 in c:\\users\\kasti\\anaconda3\\lib\\site-packages (from ipython>=5.3.0->cufflinks) (0.17.2)\n",
      "Requirement already satisfied: ipykernel>=4.5.1 in c:\\users\\kasti\\anaconda3\\lib\\site-packages (from ipywidgets>=7.0.0->cufflinks) (5.3.4)\n",
      "Requirement already satisfied: widgetsnbextension~=3.5.0 in c:\\users\\kasti\\anaconda3\\lib\\site-packages (from ipywidgets>=7.0.0->cufflinks) (3.5.1)\n",
      "Requirement already satisfied: nbformat>=4.2.0 in c:\\users\\kasti\\anaconda3\\lib\\site-packages (from ipywidgets>=7.0.0->cufflinks) (5.1.3)\n",
      "Requirement already satisfied: jupyterlab-widgets>=1.0.0 in c:\\users\\kasti\\anaconda3\\lib\\site-packages (from ipywidgets>=7.0.0->cufflinks) (1.0.0)\n",
      "Requirement already satisfied: tornado>=4.2 in c:\\users\\kasti\\anaconda3\\lib\\site-packages (from ipykernel>=4.5.1->ipywidgets>=7.0.0->cufflinks) (6.1)\n",
      "Requirement already satisfied: jupyter-client in c:\\users\\kasti\\anaconda3\\lib\\site-packages (from ipykernel>=4.5.1->ipywidgets>=7.0.0->cufflinks) (6.1.12)\n",
      "Requirement already satisfied: parso<0.8.0,>=0.7.0 in c:\\users\\kasti\\anaconda3\\lib\\site-packages (from jedi>=0.16->ipython>=5.3.0->cufflinks) (0.7.0)\n",
      "Requirement already satisfied: ipython-genutils in c:\\users\\kasti\\anaconda3\\lib\\site-packages (from nbformat>=4.2.0->ipywidgets>=7.0.0->cufflinks) (0.2.0)\n",
      "Requirement already satisfied: jupyter-core in c:\\users\\kasti\\anaconda3\\lib\\site-packages (from nbformat>=4.2.0->ipywidgets>=7.0.0->cufflinks) (4.7.1)\n",
      "Requirement already satisfied: jsonschema!=2.5.0,>=2.4 in c:\\users\\kasti\\anaconda3\\lib\\site-packages (from nbformat>=4.2.0->ipywidgets>=7.0.0->cufflinks) (3.2.0)\n",
      "Requirement already satisfied: pyrsistent>=0.14.0 in c:\\users\\kasti\\anaconda3\\lib\\site-packages (from jsonschema!=2.5.0,>=2.4->nbformat>=4.2.0->ipywidgets>=7.0.0->cufflinks) (0.17.3)\n",
      "Requirement already satisfied: attrs>=17.4.0 in c:\\users\\kasti\\anaconda3\\lib\\site-packages (from jsonschema!=2.5.0,>=2.4->nbformat>=4.2.0->ipywidgets>=7.0.0->cufflinks) (20.3.0)\n",
      "Requirement already satisfied: python-dateutil>=2.7.3 in c:\\users\\kasti\\anaconda3\\lib\\site-packages (from pandas>=0.19.2->cufflinks) (2.8.1)\n",
      "Requirement already satisfied: pytz>=2017.3 in c:\\users\\kasti\\anaconda3\\lib\\site-packages (from pandas>=0.19.2->cufflinks) (2021.1)\n",
      "Requirement already satisfied: tenacity>=6.2.0 in c:\\users\\kasti\\anaconda3\\lib\\site-packages (from plotly>=4.1.1->cufflinks) (7.0.0)\n",
      "Requirement already satisfied: wcwidth in c:\\users\\kasti\\anaconda3\\lib\\site-packages (from prompt-toolkit!=3.0.0,!=3.0.1,<3.1.0,>=2.0.0->ipython>=5.3.0->cufflinks) (0.2.5)\n",
      "Requirement already satisfied: notebook>=4.4.1 in c:\\users\\kasti\\anaconda3\\lib\\site-packages (from widgetsnbextension~=3.5.0->ipywidgets>=7.0.0->cufflinks) (6.3.0)\n",
      "Requirement already satisfied: terminado>=0.8.3 in c:\\users\\kasti\\anaconda3\\lib\\site-packages (from notebook>=4.4.1->widgetsnbextension~=3.5.0->ipywidgets>=7.0.0->cufflinks) (0.9.4)\n",
      "Requirement already satisfied: nbconvert in c:\\users\\kasti\\anaconda3\\lib\\site-packages (from notebook>=4.4.1->widgetsnbextension~=3.5.0->ipywidgets>=7.0.0->cufflinks) (6.0.7)\n",
      "Requirement already satisfied: prometheus-client in c:\\users\\kasti\\anaconda3\\lib\\site-packages (from notebook>=4.4.1->widgetsnbextension~=3.5.0->ipywidgets>=7.0.0->cufflinks) (0.10.1)\n",
      "Requirement already satisfied: Send2Trash>=1.5.0 in c:\\users\\kasti\\anaconda3\\lib\\site-packages (from notebook>=4.4.1->widgetsnbextension~=3.5.0->ipywidgets>=7.0.0->cufflinks) (1.5.0)\n",
      "Requirement already satisfied: pyzmq>=17 in c:\\users\\kasti\\anaconda3\\lib\\site-packages (from notebook>=4.4.1->widgetsnbextension~=3.5.0->ipywidgets>=7.0.0->cufflinks) (20.0.0)\n",
      "Requirement already satisfied: argon2-cffi in c:\\users\\kasti\\anaconda3\\lib\\site-packages (from notebook>=4.4.1->widgetsnbextension~=3.5.0->ipywidgets>=7.0.0->cufflinks) (20.1.0)\n",
      "Requirement already satisfied: jinja2 in c:\\users\\kasti\\anaconda3\\lib\\site-packages (from notebook>=4.4.1->widgetsnbextension~=3.5.0->ipywidgets>=7.0.0->cufflinks) (2.11.3)\n",
      "Requirement already satisfied: pywin32>=1.0 in c:\\users\\kasti\\anaconda3\\lib\\site-packages (from jupyter-core->nbformat>=4.2.0->ipywidgets>=7.0.0->cufflinks) (227)\n",
      "Requirement already satisfied: pywinpty>=0.5 in c:\\users\\kasti\\anaconda3\\lib\\site-packages (from terminado>=0.8.3->notebook>=4.4.1->widgetsnbextension~=3.5.0->ipywidgets>=7.0.0->cufflinks) (0.5.7)\n",
      "Requirement already satisfied: cffi>=1.0.0 in c:\\users\\kasti\\anaconda3\\lib\\site-packages (from argon2-cffi->notebook>=4.4.1->widgetsnbextension~=3.5.0->ipywidgets>=7.0.0->cufflinks) (1.14.5)\n",
      "Requirement already satisfied: pycparser in c:\\users\\kasti\\anaconda3\\lib\\site-packages (from cffi>=1.0.0->argon2-cffi->notebook>=4.4.1->widgetsnbextension~=3.5.0->ipywidgets>=7.0.0->cufflinks) (2.20)\n",
      "Requirement already satisfied: MarkupSafe>=0.23 in c:\\users\\kasti\\anaconda3\\lib\\site-packages (from jinja2->notebook>=4.4.1->widgetsnbextension~=3.5.0->ipywidgets>=7.0.0->cufflinks) (1.1.1)\n",
      "Requirement already satisfied: defusedxml in c:\\users\\kasti\\anaconda3\\lib\\site-packages (from nbconvert->notebook>=4.4.1->widgetsnbextension~=3.5.0->ipywidgets>=7.0.0->cufflinks) (0.7.1)\n",
      "Requirement already satisfied: nbclient<0.6.0,>=0.5.0 in c:\\users\\kasti\\anaconda3\\lib\\site-packages (from nbconvert->notebook>=4.4.1->widgetsnbextension~=3.5.0->ipywidgets>=7.0.0->cufflinks) (0.5.3)\n",
      "Requirement already satisfied: mistune<2,>=0.8.1 in c:\\users\\kasti\\anaconda3\\lib\\site-packages (from nbconvert->notebook>=4.4.1->widgetsnbextension~=3.5.0->ipywidgets>=7.0.0->cufflinks) (0.8.4)\n",
      "Requirement already satisfied: jupyterlab-pygments in c:\\users\\kasti\\anaconda3\\lib\\site-packages (from nbconvert->notebook>=4.4.1->widgetsnbextension~=3.5.0->ipywidgets>=7.0.0->cufflinks) (0.1.2)\n",
      "Requirement already satisfied: entrypoints>=0.2.2 in c:\\users\\kasti\\anaconda3\\lib\\site-packages (from nbconvert->notebook>=4.4.1->widgetsnbextension~=3.5.0->ipywidgets>=7.0.0->cufflinks) (0.3)\n",
      "Requirement already satisfied: bleach in c:\\users\\kasti\\anaconda3\\lib\\site-packages (from nbconvert->notebook>=4.4.1->widgetsnbextension~=3.5.0->ipywidgets>=7.0.0->cufflinks) (3.3.0)\n",
      "Requirement already satisfied: testpath in c:\\users\\kasti\\anaconda3\\lib\\site-packages (from nbconvert->notebook>=4.4.1->widgetsnbextension~=3.5.0->ipywidgets>=7.0.0->cufflinks) (0.4.4)\n",
      "Requirement already satisfied: pandocfilters>=1.4.1 in c:\\users\\kasti\\anaconda3\\lib\\site-packages (from nbconvert->notebook>=4.4.1->widgetsnbextension~=3.5.0->ipywidgets>=7.0.0->cufflinks) (1.4.3)\n",
      "Requirement already satisfied: nest-asyncio in c:\\users\\kasti\\anaconda3\\lib\\site-packages (from nbclient<0.6.0,>=0.5.0->nbconvert->notebook>=4.4.1->widgetsnbextension~=3.5.0->ipywidgets>=7.0.0->cufflinks) (1.5.1)\n",
      "Requirement already satisfied: async-generator in c:\\users\\kasti\\anaconda3\\lib\\site-packages (from nbclient<0.6.0,>=0.5.0->nbconvert->notebook>=4.4.1->widgetsnbextension~=3.5.0->ipywidgets>=7.0.0->cufflinks) (1.10)\n",
      "Requirement already satisfied: webencodings in c:\\users\\kasti\\anaconda3\\lib\\site-packages (from bleach->nbconvert->notebook>=4.4.1->widgetsnbextension~=3.5.0->ipywidgets>=7.0.0->cufflinks) (0.5.1)\n",
      "Requirement already satisfied: packaging in c:\\users\\kasti\\anaconda3\\lib\\site-packages (from bleach->nbconvert->notebook>=4.4.1->widgetsnbextension~=3.5.0->ipywidgets>=7.0.0->cufflinks) (20.9)\n",
      "Requirement already satisfied: pyparsing>=2.0.2 in c:\\users\\kasti\\anaconda3\\lib\\site-packages (from packaging->bleach->nbconvert->notebook>=4.4.1->widgetsnbextension~=3.5.0->ipywidgets>=7.0.0->cufflinks) (2.4.7)\n"
     ]
    },
    {
     "name": "stdout",
     "output_type": "stream",
     "text": [
      "Requirement already satisfied: textblob in c:\\users\\kasti\\anaconda3\\lib\\site-packages (0.15.3)\n",
      "Requirement already satisfied: nltk>=3.1 in c:\\users\\kasti\\anaconda3\\lib\\site-packages (from textblob) (3.6.1)\n",
      "Requirement already satisfied: regex in c:\\users\\kasti\\anaconda3\\lib\\site-packages (from nltk>=3.1->textblob) (2021.4.4)\n",
      "Requirement already satisfied: joblib in c:\\users\\kasti\\anaconda3\\lib\\site-packages (from nltk>=3.1->textblob) (1.0.1)\n",
      "Requirement already satisfied: tqdm in c:\\users\\kasti\\anaconda3\\lib\\site-packages (from nltk>=3.1->textblob) (4.59.0)\n",
      "Requirement already satisfied: click in c:\\users\\kasti\\anaconda3\\lib\\site-packages (from nltk>=3.1->textblob) (7.1.2)\n",
      "Requirement already satisfied: spacy in c:\\users\\kasti\\anaconda3\\lib\\site-packages (3.0.6)\n",
      "Requirement already satisfied: cymem<2.1.0,>=2.0.2 in c:\\users\\kasti\\anaconda3\\lib\\site-packages (from spacy) (2.0.5)\n",
      "Requirement already satisfied: pydantic<1.8.0,>=1.7.1 in c:\\users\\kasti\\anaconda3\\lib\\site-packages (from spacy) (1.7.4)\n",
      "Requirement already satisfied: packaging>=20.0 in c:\\users\\kasti\\anaconda3\\lib\\site-packages (from spacy) (20.9)\n",
      "Requirement already satisfied: jinja2 in c:\\users\\kasti\\anaconda3\\lib\\site-packages (from spacy) (2.11.3)\n",
      "Requirement already satisfied: tqdm<5.0.0,>=4.38.0 in c:\\users\\kasti\\anaconda3\\lib\\site-packages (from spacy) (4.59.0)\n",
      "Requirement already satisfied: catalogue<2.1.0,>=2.0.3 in c:\\users\\kasti\\anaconda3\\lib\\site-packages (from spacy) (2.0.4)\n",
      "Requirement already satisfied: preshed<3.1.0,>=3.0.2 in c:\\users\\kasti\\anaconda3\\lib\\site-packages (from spacy) (3.0.5)\n",
      "Requirement already satisfied: typer<0.4.0,>=0.3.0 in c:\\users\\kasti\\anaconda3\\lib\\site-packages (from spacy) (0.3.2)\n",
      "Requirement already satisfied: blis<0.8.0,>=0.4.0 in c:\\users\\kasti\\anaconda3\\lib\\site-packages (from spacy) (0.7.4)\n",
      "Requirement already satisfied: srsly<3.0.0,>=2.4.1 in c:\\users\\kasti\\anaconda3\\lib\\site-packages (from spacy) (2.4.1)\n",
      "Requirement already satisfied: numpy>=1.15.0 in c:\\users\\kasti\\anaconda3\\lib\\site-packages (from spacy) (1.20.1)\n",
      "Requirement already satisfied: murmurhash<1.1.0,>=0.28.0 in c:\\users\\kasti\\anaconda3\\lib\\site-packages (from spacy) (1.0.5)\n",
      "Requirement already satisfied: setuptools in c:\\users\\kasti\\anaconda3\\lib\\site-packages (from spacy) (57.0.0)\n",
      "Requirement already satisfied: requests<3.0.0,>=2.13.0 in c:\\users\\kasti\\anaconda3\\lib\\site-packages (from spacy) (2.25.1)\n",
      "Requirement already satisfied: wasabi<1.1.0,>=0.8.1 in c:\\users\\kasti\\anaconda3\\lib\\site-packages (from spacy) (0.8.2)\n",
      "Requirement already satisfied: thinc<8.1.0,>=8.0.3 in c:\\users\\kasti\\anaconda3\\lib\\site-packages (from spacy) (8.0.6)\n",
      "Requirement already satisfied: pathy>=0.3.5 in c:\\users\\kasti\\anaconda3\\lib\\site-packages (from spacy) (0.6.0)\n",
      "Requirement already satisfied: spacy-legacy<3.1.0,>=3.0.4 in c:\\users\\kasti\\anaconda3\\lib\\site-packages (from spacy) (3.0.6)\n",
      "Requirement already satisfied: pyparsing>=2.0.2 in c:\\users\\kasti\\anaconda3\\lib\\site-packages (from packaging>=20.0->spacy) (2.4.7)\n",
      "Requirement already satisfied: smart-open<6.0.0,>=5.0.0 in c:\\users\\kasti\\anaconda3\\lib\\site-packages (from pathy>=0.3.5->spacy) (5.1.0)\n",
      "Requirement already satisfied: idna<3,>=2.5 in c:\\users\\kasti\\anaconda3\\lib\\site-packages (from requests<3.0.0,>=2.13.0->spacy) (2.10)\n",
      "Requirement already satisfied: chardet<5,>=3.0.2 in c:\\users\\kasti\\anaconda3\\lib\\site-packages (from requests<3.0.0,>=2.13.0->spacy) (4.0.0)\n",
      "Requirement already satisfied: certifi>=2017.4.17 in c:\\users\\kasti\\anaconda3\\lib\\site-packages (from requests<3.0.0,>=2.13.0->spacy) (2020.12.5)\n",
      "Requirement already satisfied: urllib3<1.27,>=1.21.1 in c:\\users\\kasti\\anaconda3\\lib\\site-packages (from requests<3.0.0,>=2.13.0->spacy) (1.26.4)\n",
      "Requirement already satisfied: click<7.2.0,>=7.1.1 in c:\\users\\kasti\\anaconda3\\lib\\site-packages (from typer<0.4.0,>=0.3.0->spacy) (7.1.2)\n",
      "Requirement already satisfied: MarkupSafe>=0.23 in c:\\users\\kasti\\anaconda3\\lib\\site-packages (from jinja2->spacy) (1.1.1)\n"
     ]
    }
   ],
   "source": [
    "!pip install plotly\n",
    "!pip install cufflinks\n",
    "!pip install textblob\n",
    "!pip install spacy"
   ]
  },
  {
   "cell_type": "code",
   "execution_count": 4,
   "id": "50ad2a8c",
   "metadata": {},
   "outputs": [
    {
     "data": {
      "text/html": [
       "        <script type=\"text/javascript\">\n",
       "        window.PlotlyConfig = {MathJaxConfig: 'local'};\n",
       "        if (window.MathJax) {MathJax.Hub.Config({SVG: {font: \"STIX-Web\"}});}\n",
       "        if (typeof require !== 'undefined') {\n",
       "        require.undef(\"plotly\");\n",
       "        requirejs.config({\n",
       "            paths: {\n",
       "                'plotly': ['https://cdn.plot.ly/plotly-2.1.0.min']\n",
       "            }\n",
       "        });\n",
       "        require(['plotly'], function(Plotly) {\n",
       "            window._Plotly = Plotly;\n",
       "        });\n",
       "        }\n",
       "        </script>\n",
       "        "
      ]
     },
     "metadata": {},
     "output_type": "display_data"
    },
    {
     "data": {
      "text/html": [
       "        <script type=\"text/javascript\">\n",
       "        window.PlotlyConfig = {MathJaxConfig: 'local'};\n",
       "        if (window.MathJax) {MathJax.Hub.Config({SVG: {font: \"STIX-Web\"}});}\n",
       "        if (typeof require !== 'undefined') {\n",
       "        require.undef(\"plotly\");\n",
       "        requirejs.config({\n",
       "            paths: {\n",
       "                'plotly': ['https://cdn.plot.ly/plotly-2.1.0.min']\n",
       "            }\n",
       "        });\n",
       "        require(['plotly'], function(Plotly) {\n",
       "            window._Plotly = Plotly;\n",
       "        });\n",
       "        }\n",
       "        </script>\n",
       "        "
      ]
     },
     "metadata": {},
     "output_type": "display_data"
    }
   ],
   "source": [
    "import pandas as pd\n",
    "import numpy as np\n",
    "import matplotlib.pyplot as plt\n",
    "import seaborn as sns\n",
    "import re\n",
    "import string\n",
    "%matplotlib inline\n",
    "import plotly as py\n",
    "import cufflinks as cf\n",
    "from plotly.offline import iplot\n",
    "py.offline.init_notebook_mode(connected=True)\n",
    "cf.go_offline()"
   ]
  },
  {
   "cell_type": "code",
   "execution_count": 8,
   "id": "a86d1b51",
   "metadata": {},
   "outputs": [
    {
     "data": {
      "text/html": [
       "<div>\n",
       "<style scoped>\n",
       "    .dataframe tbody tr th:only-of-type {\n",
       "        vertical-align: middle;\n",
       "    }\n",
       "\n",
       "    .dataframe tbody tr th {\n",
       "        vertical-align: top;\n",
       "    }\n",
       "\n",
       "    .dataframe thead th {\n",
       "        text-align: right;\n",
       "    }\n",
       "</style>\n",
       "<table border=\"1\" class=\"dataframe\">\n",
       "  <thead>\n",
       "    <tr style=\"text-align: right;\">\n",
       "      <th></th>\n",
       "      <th>id</th>\n",
       "      <th>txt</th>\n",
       "      <th>gender</th>\n",
       "      <th>birthdate</th>\n",
       "      <th>create_date</th>\n",
       "      <th>source</th>\n",
       "      <th>additional_info</th>\n",
       "    </tr>\n",
       "  </thead>\n",
       "  <tbody>\n",
       "    <tr>\n",
       "      <th>0</th>\n",
       "      <td>3181</td>\n",
       "      <td>Здравствуйте Евгений Альбертович! В октябре 20...</td>\n",
       "      <td>NaN</td>\n",
       "      <td>NaN</td>\n",
       "      <td>2021-04-10</td>\n",
       "      <td>vladmedicina.ru/faq/answers/73190.htm</td>\n",
       "      <td>NaN</td>\n",
       "    </tr>\n",
       "    <tr>\n",
       "      <th>1</th>\n",
       "      <td>3182</td>\n",
       "      <td>Здравствуйте. Как на этом сайте оставить отзыв?</td>\n",
       "      <td>NaN</td>\n",
       "      <td>NaN</td>\n",
       "      <td>2021-04-06</td>\n",
       "      <td>vladmedicina.ru/faq/answers/73172.htm</td>\n",
       "      <td>NaN</td>\n",
       "    </tr>\n",
       "    <tr>\n",
       "      <th>2</th>\n",
       "      <td>3183</td>\n",
       "      <td>Добрый день, Евгений Альбертович!\\nРебенку 3,5...</td>\n",
       "      <td>female</td>\n",
       "      <td>NaN</td>\n",
       "      <td>2021-04-02</td>\n",
       "      <td>vladmedicina.ru/faq/answers/73154.htm</td>\n",
       "      <td>NaN</td>\n",
       "    </tr>\n",
       "    <tr>\n",
       "      <th>3</th>\n",
       "      <td>3184</td>\n",
       "      <td>Здравствуйте, Алексей Леонтьевич! Скажите, пос...</td>\n",
       "      <td>NaN</td>\n",
       "      <td>NaN</td>\n",
       "      <td>2020-12-08</td>\n",
       "      <td>vladmedicina.ru/faq/answers/72437.htm</td>\n",
       "      <td>NaN</td>\n",
       "    </tr>\n",
       "    <tr>\n",
       "      <th>4</th>\n",
       "      <td>3185</td>\n",
       "      <td>Здравствуйте! Хочу оставить отзыв. Восемь лет ...</td>\n",
       "      <td>female</td>\n",
       "      <td>NaN</td>\n",
       "      <td>2021-03-31</td>\n",
       "      <td>vladmedicina.ru/faq/answers/73141.htm</td>\n",
       "      <td>NaN</td>\n",
       "    </tr>\n",
       "  </tbody>\n",
       "</table>\n",
       "</div>"
      ],
      "text/plain": [
       "     id                                                txt  gender  birthdate  \\\n",
       "0  3181  Здравствуйте Евгений Альбертович! В октябре 20...     NaN        NaN   \n",
       "1  3182    Здравствуйте. Как на этом сайте оставить отзыв?     NaN        NaN   \n",
       "2  3183  Добрый день, Евгений Альбертович!\\nРебенку 3,5...  female        NaN   \n",
       "3  3184  Здравствуйте, Алексей Леонтьевич! Скажите, пос...     NaN        NaN   \n",
       "4  3185  Здравствуйте! Хочу оставить отзыв. Восемь лет ...  female        NaN   \n",
       "\n",
       "  create_date                                 source  additional_info  \n",
       "0  2021-04-10  vladmedicina.ru/faq/answers/73190.htm              NaN  \n",
       "1  2021-04-06  vladmedicina.ru/faq/answers/73172.htm              NaN  \n",
       "2  2021-04-02  vladmedicina.ru/faq/answers/73154.htm              NaN  \n",
       "3  2020-12-08  vladmedicina.ru/faq/answers/72437.htm              NaN  \n",
       "4  2021-03-31  vladmedicina.ru/faq/answers/73141.htm              NaN  "
      ]
     },
     "execution_count": 8,
     "metadata": {},
     "output_type": "execute_result"
    }
   ],
   "source": [
    "info = pd.read_csv('D:/Проекты/Analysis/texts.csv')\n",
    "info.head()"
   ]
  },
  {
   "cell_type": "markdown",
   "id": "1d72f35f",
   "metadata": {},
   "source": [
    "Далее, для упрощения анализа оставим только необходимые для этого столбцы. Для этого воспользуемся методом drop()."
   ]
  },
  {
   "cell_type": "code",
   "execution_count": 9,
   "id": "5569dd3b",
   "metadata": {},
   "outputs": [
    {
     "data": {
      "text/html": [
       "<div>\n",
       "<style scoped>\n",
       "    .dataframe tbody tr th:only-of-type {\n",
       "        vertical-align: middle;\n",
       "    }\n",
       "\n",
       "    .dataframe tbody tr th {\n",
       "        vertical-align: top;\n",
       "    }\n",
       "\n",
       "    .dataframe thead th {\n",
       "        text-align: right;\n",
       "    }\n",
       "</style>\n",
       "<table border=\"1\" class=\"dataframe\">\n",
       "  <thead>\n",
       "    <tr style=\"text-align: right;\">\n",
       "      <th></th>\n",
       "      <th>txt</th>\n",
       "      <th>gender</th>\n",
       "      <th>create_date</th>\n",
       "    </tr>\n",
       "  </thead>\n",
       "  <tbody>\n",
       "    <tr>\n",
       "      <th>0</th>\n",
       "      <td>Здравствуйте Евгений Альбертович! В октябре 20...</td>\n",
       "      <td>NaN</td>\n",
       "      <td>2021-04-10</td>\n",
       "    </tr>\n",
       "    <tr>\n",
       "      <th>1</th>\n",
       "      <td>Здравствуйте. Как на этом сайте оставить отзыв?</td>\n",
       "      <td>NaN</td>\n",
       "      <td>2021-04-06</td>\n",
       "    </tr>\n",
       "    <tr>\n",
       "      <th>2</th>\n",
       "      <td>Добрый день, Евгений Альбертович!\\nРебенку 3,5...</td>\n",
       "      <td>female</td>\n",
       "      <td>2021-04-02</td>\n",
       "    </tr>\n",
       "    <tr>\n",
       "      <th>3</th>\n",
       "      <td>Здравствуйте, Алексей Леонтьевич! Скажите, пос...</td>\n",
       "      <td>NaN</td>\n",
       "      <td>2020-12-08</td>\n",
       "    </tr>\n",
       "    <tr>\n",
       "      <th>4</th>\n",
       "      <td>Здравствуйте! Хочу оставить отзыв. Восемь лет ...</td>\n",
       "      <td>female</td>\n",
       "      <td>2021-03-31</td>\n",
       "    </tr>\n",
       "  </tbody>\n",
       "</table>\n",
       "</div>"
      ],
      "text/plain": [
       "                                                 txt  gender create_date\n",
       "0  Здравствуйте Евгений Альбертович! В октябре 20...     NaN  2021-04-10\n",
       "1    Здравствуйте. Как на этом сайте оставить отзыв?     NaN  2021-04-06\n",
       "2  Добрый день, Евгений Альбертович!\\nРебенку 3,5...  female  2021-04-02\n",
       "3  Здравствуйте, Алексей Леонтьевич! Скажите, пос...     NaN  2020-12-08\n",
       "4  Здравствуйте! Хочу оставить отзыв. Восемь лет ...  female  2021-03-31"
      ]
     },
     "execution_count": 9,
     "metadata": {},
     "output_type": "execute_result"
    }
   ],
   "source": [
    "info.drop(labels=['id', 'birthdate', 'additional_info', 'source'], axis=1, inplace=True)\n",
    "info.head()"
   ]
  },
  {
   "cell_type": "markdown",
   "id": "bca2235c",
   "metadata": {},
   "source": [
    "Давайте посмотрим, есть ли в нашем наборе данных какие-либо нулевые значения:"
   ]
  },
  {
   "cell_type": "code",
   "execution_count": 10,
   "id": "2522d78c",
   "metadata": {},
   "outputs": [
    {
     "data": {
      "text/plain": [
       "txt               0\n",
       "gender         5075\n",
       "create_date       0\n",
       "dtype: int64"
      ]
     },
     "execution_count": 10,
     "metadata": {},
     "output_type": "execute_result"
    }
   ],
   "source": [
    "info.isnull().sum()"
   ]
  },
  {
   "cell_type": "markdown",
   "id": "4b1168a4",
   "metadata": {},
   "source": [
    "Видно, что в столбце gender присутствуют пустые значения. Для того, чтобы было проще проводить анализ предложенных данных, воспользуемся методом dropna() для удаления нулевых значений.\n"
   ]
  },
  {
   "cell_type": "code",
   "execution_count": 11,
   "id": "10eb58b6",
   "metadata": {},
   "outputs": [
    {
     "data": {
      "text/html": [
       "<div>\n",
       "<style scoped>\n",
       "    .dataframe tbody tr th:only-of-type {\n",
       "        vertical-align: middle;\n",
       "    }\n",
       "\n",
       "    .dataframe tbody tr th {\n",
       "        vertical-align: top;\n",
       "    }\n",
       "\n",
       "    .dataframe thead th {\n",
       "        text-align: right;\n",
       "    }\n",
       "</style>\n",
       "<table border=\"1\" class=\"dataframe\">\n",
       "  <thead>\n",
       "    <tr style=\"text-align: right;\">\n",
       "      <th></th>\n",
       "      <th>txt</th>\n",
       "      <th>gender</th>\n",
       "      <th>create_date</th>\n",
       "    </tr>\n",
       "  </thead>\n",
       "  <tbody>\n",
       "    <tr>\n",
       "      <th>2</th>\n",
       "      <td>Добрый день, Евгений Альбертович!\\nРебенку 3,5...</td>\n",
       "      <td>female</td>\n",
       "      <td>2021-04-02</td>\n",
       "    </tr>\n",
       "    <tr>\n",
       "      <th>4</th>\n",
       "      <td>Здравствуйте! Хочу оставить отзыв. Восемь лет ...</td>\n",
       "      <td>female</td>\n",
       "      <td>2021-03-31</td>\n",
       "    </tr>\n",
       "    <tr>\n",
       "      <th>5</th>\n",
       "      <td>Здравствуйте! В 2018 году ребенку (сейчас ему ...</td>\n",
       "      <td>female</td>\n",
       "      <td>2021-03-29</td>\n",
       "    </tr>\n",
       "    <tr>\n",
       "      <th>8</th>\n",
       "      <td>Здравствуйте! Скажите, пожалуйста, может ли ми...</td>\n",
       "      <td>female</td>\n",
       "      <td>2021-02-24</td>\n",
       "    </tr>\n",
       "    <tr>\n",
       "      <th>12</th>\n",
       "      <td>Здравствуйте, Евгений Альбертович! Куда и с ка...</td>\n",
       "      <td>female</td>\n",
       "      <td>2021-02-14</td>\n",
       "    </tr>\n",
       "  </tbody>\n",
       "</table>\n",
       "</div>"
      ],
      "text/plain": [
       "                                                  txt  gender create_date\n",
       "2   Добрый день, Евгений Альбертович!\\nРебенку 3,5...  female  2021-04-02\n",
       "4   Здравствуйте! Хочу оставить отзыв. Восемь лет ...  female  2021-03-31\n",
       "5   Здравствуйте! В 2018 году ребенку (сейчас ему ...  female  2021-03-29\n",
       "8   Здравствуйте! Скажите, пожалуйста, может ли ми...  female  2021-02-24\n",
       "12  Здравствуйте, Евгений Альбертович! Куда и с ка...  female  2021-02-14"
      ]
     },
     "execution_count": 11,
     "metadata": {},
     "output_type": "execute_result"
    }
   ],
   "source": [
    "info.dropna(subset=['gender'], inplace=True)\n",
    "info.head()"
   ]
  },
  {
   "cell_type": "code",
   "execution_count": 12,
   "id": "5b8f0784",
   "metadata": {},
   "outputs": [
    {
     "data": {
      "text/plain": [
       "txt            0\n",
       "gender         0\n",
       "create_date    0\n",
       "dtype: int64"
      ]
     },
     "execution_count": 12,
     "metadata": {},
     "output_type": "execute_result"
    }
   ],
   "source": [
    "info.isnull().sum()"
   ]
  },
  {
   "cell_type": "markdown",
   "id": "7daa6522",
   "metadata": {},
   "source": [
    "Мы можем наглядно рассмотреть всевозможные сокращения, которые используются в русском языке и в последствии создадим словарь с такими сокращениями, дабы текст был более приятным на вид и понятным.\n"
   ]
  },
  {
   "cell_type": "code",
   "execution_count": 14,
   "id": "bfc5529e",
   "metadata": {},
   "outputs": [],
   "source": [
    "contraction = {\"д/сад\": \"детский сад\", \"г.\": \"город\", \"мм\": \"миллиметр\", \"т.д\": \"так далее\", \"см\": \"сантиметр\",\n",
    "               \"таб/день\": \"таблетки в день\", \"кг\": \"киллограмм\", \"уд/мин\": \"ударов в минуту\"}"
   ]
  },
  {
   "cell_type": "markdown",
   "id": "61f4a101",
   "metadata": {},
   "source": [
    "Напишем функцию, позволяющую применить наш словарь."
   ]
  },
  {
   "cell_type": "code",
   "execution_count": 15,
   "id": "43447f51",
   "metadata": {},
   "outputs": [],
   "source": [
    "def cont_to_exp(x):\n",
    "    if type(x) is str:\n",
    "        for key in contraction:\n",
    "            value = contraction[key]\n",
    "            x = x.replace(key, value)\n",
    "        return x\n",
    "    else:\n",
    "        return x"
   ]
  },
  {
   "cell_type": "code",
   "execution_count": 16,
   "id": "5ddda5fa",
   "metadata": {},
   "outputs": [],
   "source": [
    "info['txt'] = info['txt'].apply(lambda x: cont_to_exp(x))"
   ]
  },
  {
   "cell_type": "markdown",
   "id": "3b0e95e6",
   "metadata": {},
   "source": [
    "# Очистка текстовых данных в Python\n",
    "\n",
    "Как правило, текстовые данные содержат много шума либо в виде символов, либо в виде знаков препинания и стоп-слов. Следовательно, возникает необходимость очистить текст не только для того, чтобы сделать его более понятным, но и для лучшего понимания.\n",
    "\n",
    "Мы можем видеть, что у нас в тексте есть нежелательные сокращения по типу 3.5 года, то есть цифры, которые можно записать в виде текста, а также знаки препинания."
   ]
  },
  {
   "cell_type": "markdown",
   "id": "b525dd54",
   "metadata": {},
   "source": [
    "# Нижний регистр"
   ]
  },
  {
   "cell_type": "markdown",
   "id": "c8625672",
   "metadata": {},
   "source": [
    "В НЛП модели трактуют такие слова, как график(план работы) и график(художник), по-разному, даже если они одинаковы. Поэтому, чтобы решить эту проблему, мы пишем слова в нижнем регистре. Здесь я использую функцию lower (), доступную в Python, для преобразования текста в нижний регистр:\n"
   ]
  },
  {
   "cell_type": "code",
   "execution_count": 17,
   "id": "061ae036",
   "metadata": {},
   "outputs": [
    {
     "data": {
      "text/plain": [
       "2       добрый день, евгений альбертович!\\nребенку 3,5...\n",
       "4       здравствуйте! хочу оставить отзыв. восемь лет ...\n",
       "5       здравствуйте! в 2018 году ребенку (сейчас ему ...\n",
       "8       здравствуйте! скажите, пожалуйста, может ли ми...\n",
       "12      здравствуйте, евгений альбертович! куда и с ка...\n",
       "                              ...                        \n",
       "6856    здравствуйте! беспокою вас с сахалина, пореком...\n",
       "6861    здравствуйте! у меня муж ночью сильно храпит. ...\n",
       "6867    здравствуйте. подскажите когда и где в ближайш...\n",
       "6871    здравствуйте евгений альбертович! у меня к вам...\n",
       "6875    в какую больницу лучше обратиться для исправле...\n",
       "Name: cleaned, Length: 1801, dtype: object"
      ]
     },
     "execution_count": 17,
     "metadata": {},
     "output_type": "execute_result"
    }
   ],
   "source": [
    "info['cleaned']=info['txt'].apply(lambda x: x.lower())\n",
    "info['cleaned']"
   ]
  },
  {
   "cell_type": "markdown",
   "id": "097e93ec",
   "metadata": {},
   "source": [
    "# Удаление цифр и слов, содержащих цифры\n",
    "Далее нам нужно удалить числа и слова, содержащие цифры. Я делаю это потому, что цифры и слова, содержащие цифры, не придают большого значения основным словам. Для этого я использую регулярные выражения с лямбда-функциями.\n"
   ]
  },
  {
   "cell_type": "code",
   "execution_count": 18,
   "id": "aa5b45c8",
   "metadata": {},
   "outputs": [],
   "source": [
    "info['cleaned']=info['cleaned'].apply(lambda x: re.sub('\\w*\\d\\w*','', x))"
   ]
  },
  {
   "cell_type": "markdown",
   "id": "516d50c0",
   "metadata": {},
   "source": [
    "# Удаление пунктуации\n",
    "Пунктуация - это знаки языка, такие как запятые, дефисы, точки и т.д. Они важны для грамматики языка, но не для анализа текста. Поэтому их нужно удалить:"
   ]
  },
  {
   "cell_type": "code",
   "execution_count": 19,
   "id": "48536aa5",
   "metadata": {},
   "outputs": [],
   "source": [
    "info['cleaned']=info['cleaned'].apply(lambda x: re.sub('[%s]' % re.escape(string.punctuation), '', x))"
   ]
  },
  {
   "cell_type": "markdown",
   "id": "59dbfaed",
   "metadata": {},
   "source": [
    "У нас остались лишние пробелы, удалим их"
   ]
  },
  {
   "cell_type": "code",
   "execution_count": 20,
   "id": "9f80a75e",
   "metadata": {},
   "outputs": [],
   "source": [
    "info['cleaned']=info['cleaned'].apply(lambda x: re.sub(' +',' ',x))\n",
    "info['cleaned']=info['cleaned'].apply(lambda x: re.sub(\"^\\s+|\\n|\\r|\\s+$\", ' ', x))"
   ]
  },
  {
   "cell_type": "markdown",
   "id": "b8b87404",
   "metadata": {},
   "source": [
    "# Подготовка текстовых данных для исследовательского анализа данных (EDA)\n",
    "Мы уже очистили наши данные и подготовили корпус. В этом разделе мы создадим матрицу терминов документа, которую позже будем использовать в нашем анализе.\n",
    "\n",
    "В этом разделе сделаем следующее:\n",
    "\n",
    "Удаление стоп-слов\n",
    "\n",
    "Лемматизация\n",
    "\n",
    "# Стоп-слова \n",
    "Стоп-слова - это наиболее распространенные слова в таких языках, как «я», «это», «есть», «в», которые не придают большого значения значению документа. Эти значения будут удалены, чтобы уменьшить размер набора данных и сосредоточить внимание на значимых словах.\n",
    "\n",
    "# Лемматизация\n",
    "\n",
    "Лемматизация - это систематический процесс сведения токена к его лемме. Он использует словарь, структуру слова, часть речевых тегов и грамматические отношения для преобразования слова в его базовую форму.\n",
    "\n",
    "Для этого я буду использовать SpaCy для удаления игнорируемых слов и лемматизации."
   ]
  },
  {
   "cell_type": "code",
   "execution_count": 21,
   "id": "0e1dddaf",
   "metadata": {},
   "outputs": [
    {
     "data": {
      "text/html": [
       "<div>\n",
       "<style scoped>\n",
       "    .dataframe tbody tr th:only-of-type {\n",
       "        vertical-align: middle;\n",
       "    }\n",
       "\n",
       "    .dataframe tbody tr th {\n",
       "        vertical-align: top;\n",
       "    }\n",
       "\n",
       "    .dataframe thead th {\n",
       "        text-align: right;\n",
       "    }\n",
       "</style>\n",
       "<table border=\"1\" class=\"dataframe\">\n",
       "  <thead>\n",
       "    <tr style=\"text-align: right;\">\n",
       "      <th></th>\n",
       "      <th>lemmatized</th>\n",
       "    </tr>\n",
       "    <tr>\n",
       "      <th>txt</th>\n",
       "      <th></th>\n",
       "    </tr>\n",
       "  </thead>\n",
       "  <tbody>\n",
       "    <tr>\n",
       "      <th>1. Андрей м, 02.02.2013, 22:00\\r\\nЗдравствуйте ! У меня был инфаркт 1,5 месяца назад. Врачи предложили пройти коронографию, но у меня аллергия на обезболивающие убистезин, ультракаин с-п, септанест, ултракаин д-с форте. Что мне делать?\\r\\nНасколько болезненна коронография?</th>\n",
       "      <td>андрей м    здравствовать инфаркт месяц наза...</td>\n",
       "    </tr>\n",
       "    <tr>\n",
       "      <th>1. Андрей м, 02.02.2013, 22:00\\r\\nЗдравствуйте Валерий Гамитович! У меня был инфаркт 1,5 месяца назад. Врачи предложили пройти коронографию, но у меня аллергия на обезболивающие убистезин, ультракаин с-п, септанест, ултракаин д-с форте. Что мне делать?\\r\\nНасколько болезненна коронография?</th>\n",
       "      <td>андрей м    здравствовать валерий гамитович ...</td>\n",
       "    </tr>\n",
       "    <tr>\n",
       "      <th>1.Порвался презерватив...через месяц узнал, что у партнерши нашли Кондиломы. Это опасно для меня? Какие анализы нужно сдать для того, чтобы провериться максимально, \"чист\" ли я?2.имеется варикоцеле рецидивповторять операцию по Иванисевичу нет сантиметрысла же? Нужна эндоскопическая операция?</th>\n",
       "      <td>порваться презервативчерез месяц узнать партнё...</td>\n",
       "    </tr>\n",
       "    <tr>\n",
       "      <th>130 С детства частое мочеиспускание , но тем не менее жизни это не мешало. Спокойно сидела и на уроках и на парах, и в кино. Если нужно было - выходила во время сеанса. Могла терпеть. Лишь только после много выпитой жидкости позывы были сильные . Ночами ходила раз или два. Порции небольшие. В марте прошлого месяца впервые был приступ - сильного непроходящего позыва , все анализы были в норме , узи тоже . Как то потом отпустило на время. и Вот в июле этого года снова все повторилось. Начался один сплошной непроходящий позыв . И снова ОАМ , БАК ПОСЕВ, ПО НИЧЕПОРЕНКО - ВСЕ В ИДЕАЛЕ. ПЦР МОЧИ тоже. Узи по женски и мочеполовой системы тоже без потологий. При цистоскопии объем мочевого пузыря 200 мл, стенки ровные и розовые , что позволило врачу предположить, что это не ИЦ. Нашли лейкоплакию на шейке МП 2,0 на 1,5 сантиметр. 21 августа прооперировалась. Немного боль при мочеиспускании , но позыв так и сохранился. Особенно чувствительно при ходьбе. Очень бъет по нервам.Черезе время позыв должен пройти после операции. Я понимаю, . что реже , чем раньше я ходить не буду , меня интересует именно позыв неприкращаюшийся. Пробовала пить везикар неделю, но мне не совсем хорошо от него , далее уротол почти месяц, подключила бетмигу ( все это до операции ) , действий не почувствовала . Они лишь как то тормозили сам процесс мочеиспускания. На женские гормоны сдала , немного повышен тестостерон. Все остальные показатели для 32 лет для 4 го дня цикла в норме. Возможен ли был этот позыв от лейкоплакии ? и как долго ждать его прекращения после операции? или же все же это ГАПМ ( но даже с учетом, что я ходила раньше часто в туалет ) почему он из частых позывов превратился в один сплошной позыв ? и судя по форумам , если это ГАМП -то он практически не лечится</th>\n",
       "      <td>детство частый мочеиспускание менее жизнь ме...</td>\n",
       "    </tr>\n",
       "    <tr>\n",
       "      <th>4 года назад мне удалили матку из-за миомы. вчера часть шва покраснела, появился дискомфорт и боль при касании именно на этом участке. Это опухоль? к какому врачу обратится и какое пройти обследование? мне страшно</th>\n",
       "      <td>год назад удалить матка изза миома вчера час...</td>\n",
       "    </tr>\n",
       "  </tbody>\n",
       "</table>\n",
       "</div>"
      ],
      "text/plain": [
       "                                                                                           lemmatized\n",
       "txt                                                                                                  \n",
       "1. Андрей м, 02.02.2013, 22:00\\r\\nЗдравствуйте ...    андрей м    здравствовать инфаркт месяц наза...\n",
       "1. Андрей м, 02.02.2013, 22:00\\r\\nЗдравствуйте ...    андрей м    здравствовать валерий гамитович ...\n",
       "1.Порвался презерватив...через месяц узнал, что...  порваться презервативчерез месяц узнать партнё...\n",
       "130 С детства частое мочеиспускание , но тем не...    детство частый мочеиспускание менее жизнь ме...\n",
       "4 года назад мне удалили матку из-за миомы. вче...    год назад удалить матка изза миома вчера час..."
      ]
     },
     "execution_count": 21,
     "metadata": {},
     "output_type": "execute_result"
    }
   ],
   "source": [
    "import spacy\n",
    "from spacy.lang.ru import Russian\n",
    "nlp = Russian()\n",
    "nlp = spacy.load('ru_core_news_sm',disable=['parser', 'ner'])\n",
    "info['lemmatized']=info['cleaned'].apply(lambda x: ' '.join([token.lemma_ for token in list(nlp(x)) if (token.is_stop==False)]))\n",
    "info['lemmatized'].head()\n",
    "info_grouped=info[['txt','lemmatized']].groupby(by='txt').agg(lambda x:' '.join(x))\n",
    "info_grouped.head()"
   ]
  },
  {
   "cell_type": "markdown",
   "id": "cac93474",
   "metadata": {},
   "source": [
    "Посчитаем базовые статистики по текстам"
   ]
  },
  {
   "cell_type": "code",
   "execution_count": 22,
   "id": "470c713e",
   "metadata": {},
   "outputs": [],
   "source": [
    "from textblob import TextBlob\n",
    "info['review_len'] = info['lemmatized'].apply(lambda x: len(x))  # Считаем количество символов\n",
    "info['w_count'] = info['lemmatized'].apply(lambda x: len(x.split()))  # Общее количество слов в данном наборе"
   ]
  },
  {
   "cell_type": "code",
   "execution_count": 23,
   "id": "4de94bc7",
   "metadata": {},
   "outputs": [],
   "source": [
    "# Средняя длина слова\n",
    "def middle_words(x):\n",
    "    words = x.split()\n",
    "    word_len = 0\n",
    "    for word in words:\n",
    "        word_len = word_len + len(word)\n",
    "    return word_len/len(words)"
   ]
  },
  {
   "cell_type": "code",
   "execution_count": 24,
   "id": "e6a132c8",
   "metadata": {},
   "outputs": [
    {
     "data": {
      "text/html": [
       "<div>\n",
       "<style scoped>\n",
       "    .dataframe tbody tr th:only-of-type {\n",
       "        vertical-align: middle;\n",
       "    }\n",
       "\n",
       "    .dataframe tbody tr th {\n",
       "        vertical-align: top;\n",
       "    }\n",
       "\n",
       "    .dataframe thead th {\n",
       "        text-align: right;\n",
       "    }\n",
       "</style>\n",
       "<table border=\"1\" class=\"dataframe\">\n",
       "  <thead>\n",
       "    <tr style=\"text-align: right;\">\n",
       "      <th></th>\n",
       "      <th>txt</th>\n",
       "      <th>gender</th>\n",
       "      <th>create_date</th>\n",
       "      <th>cleaned</th>\n",
       "      <th>lemmatized</th>\n",
       "      <th>review_len</th>\n",
       "      <th>w_count</th>\n",
       "      <th>middle_words</th>\n",
       "    </tr>\n",
       "  </thead>\n",
       "  <tbody>\n",
       "    <tr>\n",
       "      <th>2</th>\n",
       "      <td>Добрый день, Евгений Альбертович!\\nРебенку 3,5...</td>\n",
       "      <td>female</td>\n",
       "      <td>2021-04-02</td>\n",
       "      <td>добрый день евгений альбертович ребенку года с...</td>\n",
       "      <td>добрый день евгений альбертович ребёнок год ст...</td>\n",
       "      <td>332</td>\n",
       "      <td>46</td>\n",
       "      <td>6.239130</td>\n",
       "    </tr>\n",
       "    <tr>\n",
       "      <th>4</th>\n",
       "      <td>Здравствуйте! Хочу оставить отзыв. Восемь лет ...</td>\n",
       "      <td>female</td>\n",
       "      <td>2021-03-31</td>\n",
       "      <td>здравствуйте хочу оставить отзыв восемь лет мо...</td>\n",
       "      <td>здравствовать хотеть оставить отзыв восемь год...</td>\n",
       "      <td>530</td>\n",
       "      <td>59</td>\n",
       "      <td>8.000000</td>\n",
       "    </tr>\n",
       "    <tr>\n",
       "      <th>5</th>\n",
       "      <td>Здравствуйте! В 2018 году ребенку (сейчас ему ...</td>\n",
       "      <td>female</td>\n",
       "      <td>2021-03-29</td>\n",
       "      <td>здравствуйте в году ребенку сейчас ему лет уда...</td>\n",
       "      <td>здравствовать год ребёнок сейчас год удалить а...</td>\n",
       "      <td>274</td>\n",
       "      <td>34</td>\n",
       "      <td>6.852941</td>\n",
       "    </tr>\n",
       "    <tr>\n",
       "      <th>8</th>\n",
       "      <td>Здравствуйте! Скажите, пожалуйста, может ли ми...</td>\n",
       "      <td>female</td>\n",
       "      <td>2021-02-24</td>\n",
       "      <td>здравствуйте скажите пожалуйста может ли минол...</td>\n",
       "      <td>здравствовать сказать пожалуйста ли минолексин...</td>\n",
       "      <td>122</td>\n",
       "      <td>15</td>\n",
       "      <td>7.200000</td>\n",
       "    </tr>\n",
       "    <tr>\n",
       "      <th>12</th>\n",
       "      <td>Здравствуйте, Евгений Альбертович! Куда и с ка...</td>\n",
       "      <td>female</td>\n",
       "      <td>2021-02-14</td>\n",
       "      <td>здравствуйте евгений альбертович куда и с каки...</td>\n",
       "      <td>здравствовать евгений альбертович куда какой о...</td>\n",
       "      <td>157</td>\n",
       "      <td>20</td>\n",
       "      <td>6.900000</td>\n",
       "    </tr>\n",
       "  </tbody>\n",
       "</table>\n",
       "</div>"
      ],
      "text/plain": [
       "                                                  txt  gender create_date  \\\n",
       "2   Добрый день, Евгений Альбертович!\\nРебенку 3,5...  female  2021-04-02   \n",
       "4   Здравствуйте! Хочу оставить отзыв. Восемь лет ...  female  2021-03-31   \n",
       "5   Здравствуйте! В 2018 году ребенку (сейчас ему ...  female  2021-03-29   \n",
       "8   Здравствуйте! Скажите, пожалуйста, может ли ми...  female  2021-02-24   \n",
       "12  Здравствуйте, Евгений Альбертович! Куда и с ка...  female  2021-02-14   \n",
       "\n",
       "                                              cleaned  \\\n",
       "2   добрый день евгений альбертович ребенку года с...   \n",
       "4   здравствуйте хочу оставить отзыв восемь лет мо...   \n",
       "5   здравствуйте в году ребенку сейчас ему лет уда...   \n",
       "8   здравствуйте скажите пожалуйста может ли минол...   \n",
       "12  здравствуйте евгений альбертович куда и с каки...   \n",
       "\n",
       "                                           lemmatized  review_len  w_count  \\\n",
       "2   добрый день евгений альбертович ребёнок год ст...         332       46   \n",
       "4   здравствовать хотеть оставить отзыв восемь год...         530       59   \n",
       "5   здравствовать год ребёнок сейчас год удалить а...         274       34   \n",
       "8   здравствовать сказать пожалуйста ли минолексин...         122       15   \n",
       "12  здравствовать евгений альбертович куда какой о...         157       20   \n",
       "\n",
       "    middle_words  \n",
       "2       6.239130  \n",
       "4       8.000000  \n",
       "5       6.852941  \n",
       "8       7.200000  \n",
       "12      6.900000  "
      ]
     },
     "execution_count": 24,
     "metadata": {},
     "output_type": "execute_result"
    }
   ],
   "source": [
    "info['middle_words'] = info['lemmatized'].apply(lambda x: middle_words(x))  # Поиск средней длины слова\n",
    "info.head()"
   ]
  },
  {
   "cell_type": "markdown",
   "id": "9ad91bd5",
   "metadata": {},
   "source": [
    "# Визуализация\n",
    "Визуализируем полученные результаты"
   ]
  },
  {
   "cell_type": "code",
   "execution_count": 25,
   "id": "eab589ca",
   "metadata": {},
   "outputs": [
    {
     "data": {
      "application/vnd.plotly.v1+json": {
       "config": {
        "linkText": "Export to plot.ly",
        "plotlyServerURL": "https://plot.ly",
        "showLink": true
       },
       "data": [
        {
         "histfunc": "count",
         "histnorm": "",
         "marker": {
          "color": "rgba(255, 153, 51, 1.0)",
          "line": {
           "color": "#4D5663",
           "width": 1.3
          }
         },
         "name": "review_len",
         "opacity": 0.8,
         "orientation": "v",
         "type": "histogram",
         "x": [
          332,
          530,
          274,
          122,
          157,
          704,
          251,
          389,
          851,
          236,
          1085,
          329,
          807,
          546,
          131,
          184,
          197,
          325,
          187,
          492,
          814,
          405,
          139,
          1620,
          212,
          776,
          885,
          522,
          283,
          1516,
          260,
          176,
          55,
          396,
          329,
          517,
          635,
          382,
          135,
          107,
          1181,
          775,
          1229,
          301,
          269,
          275,
          480,
          163,
          1190,
          272,
          177,
          258,
          201,
          280,
          234,
          703,
          175,
          161,
          101,
          265,
          299,
          90,
          161,
          145,
          111,
          128,
          280,
          171,
          108,
          129,
          186,
          1115,
          241,
          367,
          649,
          244,
          326,
          243,
          422,
          1350,
          1067,
          307,
          315,
          815,
          672,
          518,
          442,
          1206,
          398,
          1083,
          816,
          1569,
          373,
          249,
          1240,
          157,
          484,
          1430,
          354,
          108,
          71,
          203,
          196,
          232,
          244,
          514,
          89,
          274,
          269,
          173,
          173,
          217,
          847,
          353,
          106,
          488,
          180,
          442,
          70,
          97,
          297,
          102,
          114,
          81,
          419,
          126,
          567,
          130,
          485,
          236,
          687,
          111,
          153,
          364,
          364,
          262,
          119,
          134,
          132,
          231,
          97,
          370,
          103,
          584,
          294,
          1516,
          109,
          90,
          190,
          332,
          252,
          319,
          249,
          1504,
          327,
          297,
          1479,
          184,
          92,
          455,
          455,
          82,
          472,
          132,
          440,
          826,
          152,
          1525,
          207,
          623,
          135,
          285,
          697,
          178,
          201,
          1290,
          49,
          423,
          206,
          1204,
          555,
          219,
          71,
          48,
          464,
          384,
          599,
          822,
          61,
          483,
          281,
          241,
          378,
          789,
          749,
          415,
          700,
          244,
          356,
          439,
          544,
          214,
          144,
          1256,
          357,
          382,
          229,
          112,
          426,
          255,
          279,
          806,
          239,
          580,
          434,
          203,
          1061,
          95,
          1106,
          107,
          127,
          98,
          146,
          1004,
          569,
          469,
          159,
          144,
          228,
          106,
          82,
          128,
          296,
          301,
          85,
          129,
          544,
          285,
          204,
          144,
          112,
          200,
          1089,
          684,
          296,
          270,
          101,
          91,
          564,
          272,
          673,
          574,
          651,
          161,
          495,
          360,
          276,
          665,
          290,
          1159,
          211,
          572,
          675,
          149,
          176,
          273,
          133,
          277,
          396,
          441,
          907,
          119,
          818,
          270,
          331,
          213,
          300,
          281,
          188,
          154,
          79,
          254,
          113,
          228,
          207,
          400,
          1573,
          1073,
          1593,
          220,
          183,
          159,
          313,
          434,
          369,
          259,
          259,
          219,
          62,
          305,
          284,
          1037,
          95,
          146,
          193,
          486,
          259,
          39,
          99,
          119,
          81,
          107,
          167,
          125,
          151,
          500,
          301,
          55,
          73,
          104,
          556,
          147,
          129,
          165,
          201,
          76,
          285,
          183,
          121,
          298,
          75,
          476,
          412,
          1197,
          480,
          231,
          389,
          668,
          253,
          137,
          236,
          536,
          302,
          346,
          122,
          783,
          474,
          57,
          540,
          163,
          853,
          63,
          462,
          1154,
          268,
          268,
          488,
          656,
          427,
          249,
          475,
          494,
          511,
          914,
          213,
          298,
          277,
          115,
          405,
          319,
          457,
          143,
          44,
          192,
          140,
          1308,
          1449,
          474,
          169,
          184,
          150,
          1573,
          120,
          1661,
          864,
          121,
          86,
          210,
          540,
          1036,
          325,
          263,
          325,
          391,
          202,
          398,
          1248,
          514,
          157,
          64,
          580,
          491,
          840,
          435,
          159,
          30,
          134,
          408,
          215,
          559,
          146,
          136,
          283,
          209,
          157,
          87,
          92,
          333,
          208,
          163,
          197,
          262,
          108,
          220,
          1379,
          92,
          395,
          133,
          211,
          256,
          238,
          285,
          171,
          333,
          155,
          72,
          646,
          539,
          146,
          128,
          118,
          97,
          382,
          232,
          875,
          201,
          81,
          747,
          200,
          293,
          109,
          169,
          336,
          130,
          863,
          177,
          1095,
          190,
          134,
          863,
          863,
          443,
          213,
          187,
          1033,
          316,
          293,
          863,
          443,
          186,
          309,
          256,
          348,
          863,
          181,
          410,
          254,
          125,
          863,
          194,
          209,
          863,
          863,
          216,
          169,
          458,
          269,
          1049,
          366,
          239,
          356,
          240,
          863,
          2158,
          467,
          1035,
          194,
          81,
          394,
          27,
          1411,
          643,
          266,
          460,
          185,
          252,
          345,
          156,
          164,
          467,
          216,
          963,
          943,
          218,
          384,
          586,
          397,
          943,
          528,
          323,
          489,
          394,
          366,
          304,
          835,
          120,
          68,
          247,
          232,
          564,
          253,
          255,
          440,
          183,
          274,
          288,
          240,
          262,
          76,
          844,
          300,
          396,
          264,
          763,
          245,
          398,
          334,
          454,
          583,
          167,
          78,
          186,
          265,
          44,
          276,
          85,
          193,
          140,
          124,
          357,
          1276,
          192,
          134,
          690,
          177,
          1029,
          217,
          137,
          776,
          476,
          378,
          275,
          431,
          385,
          378,
          362,
          577,
          407,
          149,
          444,
          120,
          190,
          691,
          370,
          206,
          679,
          345,
          229,
          72,
          798,
          120,
          79,
          340,
          435,
          271,
          397,
          351,
          65,
          216,
          148,
          110,
          349,
          518,
          409,
          145,
          383,
          230,
          415,
          207,
          342,
          150,
          342,
          459,
          494,
          404,
          145,
          608,
          120,
          333,
          208,
          99,
          205,
          109,
          345,
          425,
          56,
          566,
          1413,
          902,
          388,
          166,
          682,
          471,
          362,
          491,
          885,
          194,
          261,
          243,
          134,
          661,
          774,
          245,
          203,
          230,
          286,
          269,
          117,
          390,
          1092,
          515,
          620,
          256,
          152,
          222,
          114,
          110,
          88,
          93,
          125,
          557,
          365,
          497,
          610,
          50,
          288,
          425,
          936,
          144,
          185,
          600,
          214,
          230,
          657,
          78,
          430,
          135,
          696,
          364,
          131,
          190,
          437,
          679,
          205,
          1102,
          305,
          364,
          73,
          505,
          395,
          139,
          136,
          456,
          579,
          651,
          122,
          481,
          568,
          240,
          284,
          243,
          268,
          223,
          316,
          211,
          330,
          585,
          1468,
          96,
          209,
          215,
          400,
          281,
          253,
          236,
          168,
          319,
          28,
          419,
          98,
          119,
          167,
          135,
          472,
          102,
          156,
          174,
          354,
          385,
          90,
          243,
          311,
          926,
          325,
          191,
          129,
          196,
          940,
          414,
          267,
          251,
          186,
          138,
          345,
          271,
          568,
          124,
          199,
          268,
          437,
          360,
          352,
          279,
          277,
          59,
          1742,
          158,
          389,
          354,
          446,
          416,
          159,
          782,
          431,
          395,
          476,
          308,
          189,
          591,
          167,
          121,
          865,
          135,
          281,
          354,
          737,
          224,
          101,
          525,
          256,
          272,
          425,
          600,
          146,
          992,
          174,
          472,
          296,
          315,
          537,
          145,
          247,
          235,
          359,
          265,
          354,
          331,
          354,
          157,
          314,
          599,
          101,
          251,
          70,
          179,
          57,
          152,
          194,
          353,
          201,
          376,
          334,
          269,
          279,
          151,
          376,
          88,
          269,
          327,
          361,
          286,
          458,
          259,
          192,
          224,
          237,
          136,
          160,
          184,
          302,
          105,
          556,
          235,
          860,
          641,
          275,
          471,
          192,
          139,
          387,
          85,
          260,
          215,
          125,
          156,
          586,
          87,
          74,
          21,
          192,
          460,
          519,
          164,
          680,
          528,
          315,
          228,
          788,
          191,
          243,
          300,
          1092,
          600,
          152,
          168,
          403,
          63,
          306,
          430,
          227,
          156,
          691,
          858,
          640,
          181,
          57,
          538,
          238,
          1810,
          382,
          449,
          188,
          864,
          236,
          238,
          579,
          307,
          59,
          1305,
          687,
          172,
          426,
          597,
          2626,
          916,
          177,
          104,
          88,
          153,
          207,
          31,
          399,
          465,
          372,
          416,
          124,
          1229,
          481,
          119,
          1139,
          176,
          238,
          175,
          228,
          133,
          288,
          233,
          1066,
          78,
          427,
          256,
          369,
          215,
          147,
          251,
          60,
          224,
          702,
          660,
          360,
          490,
          241,
          98,
          1667,
          995,
          769,
          108,
          244,
          248,
          212,
          716,
          191,
          544,
          445,
          212,
          98,
          705,
          775,
          240,
          213,
          542,
          182,
          246,
          175,
          54,
          228,
          384,
          300,
          461,
          210,
          180,
          92,
          832,
          191,
          122,
          440,
          254,
          142,
          167,
          90,
          127,
          229,
          225,
          678,
          248,
          243,
          211,
          316,
          527,
          1258,
          162,
          227,
          188,
          329,
          346,
          244,
          574,
          337,
          149,
          323,
          150,
          642,
          382,
          224,
          314,
          115,
          464,
          191,
          179,
          394,
          133,
          415,
          154,
          77,
          223,
          628,
          414,
          168,
          126,
          198,
          750,
          407,
          183,
          1042,
          137,
          206,
          1095,
          1046,
          425,
          179,
          224,
          430,
          412,
          118,
          211,
          1128,
          118,
          149,
          319,
          228,
          662,
          77,
          228,
          156,
          96,
          461,
          394,
          280,
          142,
          491,
          138,
          113,
          215,
          800,
          119,
          90,
          178,
          718,
          60,
          203,
          383,
          1054,
          90,
          457,
          174,
          58,
          295,
          143,
          198,
          454,
          615,
          633,
          312,
          361,
          63,
          299,
          348,
          173,
          824,
          160,
          347,
          418,
          528,
          2239,
          626,
          308,
          180,
          838,
          686,
          54,
          296,
          142,
          191,
          321,
          210,
          276,
          138,
          197,
          461,
          300,
          132,
          363,
          302,
          321,
          509,
          305,
          312,
          220,
          396,
          277,
          288,
          669,
          456,
          461,
          270,
          501,
          170,
          101,
          75,
          1011,
          65,
          351,
          247,
          482,
          354,
          44,
          504,
          1251,
          558,
          120,
          455,
          313,
          1727,
          113,
          273,
          197,
          463,
          517,
          422,
          1280,
          244,
          972,
          244,
          158,
          296,
          337,
          169,
          314,
          317,
          204,
          146,
          226,
          494,
          198,
          260,
          189,
          292,
          638,
          969,
          456,
          322,
          665,
          300,
          186,
          193,
          1233,
          388,
          534,
          297,
          311,
          88,
          112,
          176,
          173,
          132,
          400,
          748,
          264,
          504,
          236,
          272,
          121,
          500,
          100,
          245,
          129,
          204,
          146,
          939,
          459,
          133,
          109,
          170,
          727,
          135,
          692,
          249,
          184,
          209,
          663,
          220,
          283,
          341,
          156,
          349,
          215,
          299,
          904,
          423,
          282,
          201,
          280,
          108,
          588,
          649,
          455,
          517,
          161,
          446,
          55,
          218,
          141,
          542,
          665,
          374,
          568,
          365,
          200,
          300,
          279,
          109,
          83,
          231,
          263,
          695,
          408,
          271,
          150,
          177,
          349,
          263,
          92,
          196,
          180,
          76,
          920,
          306,
          365,
          369,
          213,
          424,
          1050,
          35,
          396,
          63,
          71,
          381,
          432,
          447,
          221,
          495,
          316,
          136,
          166,
          114,
          260,
          66,
          224,
          134,
          284,
          121,
          230,
          186,
          523,
          68,
          157,
          128,
          661,
          136,
          109,
          141,
          285,
          1320,
          212,
          770,
          128,
          372,
          59,
          269,
          464,
          102,
          212,
          397,
          67,
          1150,
          219,
          157,
          415,
          992,
          523,
          821,
          69,
          58,
          107,
          687,
          279,
          1425,
          99,
          219,
          90,
          846,
          24,
          668,
          340,
          196,
          247,
          123,
          115,
          75,
          447,
          226,
          165,
          686,
          407,
          251,
          334,
          337,
          91,
          158,
          294,
          257,
          220,
          143,
          196,
          186,
          102,
          329,
          150,
          348,
          683,
          55,
          400,
          347,
          82,
          380,
          52,
          2980,
          185,
          239,
          582,
          544,
          190,
          69,
          113,
          253,
          955,
          183,
          238,
          365,
          485,
          127,
          259,
          208,
          612,
          196,
          433,
          1135,
          177,
          710,
          205,
          484,
          144,
          75,
          126,
          330,
          220,
          245,
          49,
          216,
          147,
          491,
          322,
          64,
          114,
          26,
          300,
          62,
          460,
          406,
          125,
          427,
          396,
          159,
          118,
          208,
          234,
          301,
          447,
          392,
          194,
          178,
          36,
          1231,
          314,
          417,
          155,
          189,
          169,
          604,
          360,
          416,
          227,
          245,
          146,
          583,
          236,
          257,
          160,
          339,
          1325,
          105,
          532,
          164,
          153,
          153,
          170,
          85,
          224,
          506,
          194,
          482,
          288,
          445,
          607,
          162,
          215,
          52,
          74,
          461,
          109,
          342,
          384,
          77,
          471,
          84,
          342,
          628,
          311,
          69,
          72,
          248,
          301,
          429,
          680,
          136,
          65,
          71,
          1000,
          249,
          393,
          764,
          134,
          142,
          73,
          382,
          293,
          639,
          588,
          225,
          149,
          384,
          172,
          296,
          94,
          195,
          322,
          343,
          186,
          58,
          294,
          125,
          209,
          279,
          192,
          252,
          205,
          309,
          221,
          138,
          415,
          392,
          163,
          207,
          181,
          245,
          55,
          379,
          222,
          296,
          130,
          296,
          248,
          240,
          134,
          177,
          53,
          170,
          563,
          175,
          486,
          84,
          124,
          938,
          461,
          108,
          99,
          111,
          671,
          353,
          136,
          116,
          309,
          94,
          110,
          108,
          132,
          349,
          838,
          333,
          792,
          61,
          208,
          792,
          390,
          107,
          216,
          69,
          153,
          965,
          392,
          46,
          162,
          165,
          315,
          48,
          404,
          222,
          192,
          763,
          272,
          354,
          63,
          162,
          125,
          380,
          40,
          489,
          226,
          590,
          83,
          269,
          78,
          345,
          287,
          258,
          54,
          95,
          382,
          588,
          809,
          272,
          675,
          660,
          948,
          104,
          239,
          1105,
          878,
          84,
          470,
          229,
          638,
          403,
          102,
          145,
          614,
          299,
          613,
          227,
          104,
          314,
          145,
          141,
          287,
          191,
          406,
          164,
          108,
          163,
          423,
          886,
          645,
          265,
          141,
          197,
          370,
          303,
          134,
          454,
          315,
          393,
          204,
          289,
          367,
          309,
          86,
          219,
          195,
          95,
          203,
          134,
          375,
          169,
          420,
          345,
          166,
          172,
          217,
          376,
          131,
          352,
          177,
          564,
          34,
          808,
          125,
          157,
          363,
          131,
          445,
          282,
          235,
          478,
          395,
          224,
          210,
          529,
          745,
          1800,
          588,
          178,
          137,
          109,
          328,
          3502,
          439,
          237,
          260,
          537,
          1101,
          138,
          348,
          272,
          626,
          274,
          177,
          375,
          181,
          665,
          525,
          358,
          185,
          199,
          663,
          229,
          306,
          203,
          677,
          128,
          1029,
          1119,
          1192,
          697,
          150,
          61,
          255,
          145,
          306,
          876,
          1359,
          594,
          180,
          427,
          631,
          327,
          405,
          715,
          201,
          229,
          250,
          741,
          213,
          608,
          370,
          266,
          400,
          392,
          867,
          371,
          229,
          251,
          88,
          172,
          45,
          119,
          258,
          244,
          383,
          476,
          496,
          380,
          220,
          339,
          397,
          209,
          319,
          102,
          266,
          862,
          169,
          908,
          94,
          141,
          633,
          365,
          568,
          181,
          540,
          233,
          311,
          831,
          816,
          152,
          542,
          215,
          62,
          457,
          392,
          337,
          202,
          459,
          212,
          975,
          311,
          144,
          515,
          256,
          201,
          129,
          383,
          284,
          479,
          379,
          375,
          361,
          93,
          193,
          332,
          773,
          230,
          287,
          375,
          237,
          608,
          516,
          657,
          1239,
          240,
          323,
          247,
          427,
          233,
          224,
          536,
          358,
          189,
          682,
          92,
          191,
          645,
          63,
          844,
          552,
          396,
          250,
          665,
          411,
          321,
          552,
          158,
          554,
          329,
          394,
          428,
          135,
          456,
          266,
          82,
          70,
          546,
          65
         ]
        }
       ],
       "layout": {
        "barmode": "overlay",
        "legend": {
         "bgcolor": "#F5F6F9",
         "font": {
          "color": "#4D5663"
         }
        },
        "paper_bgcolor": "#F5F6F9",
        "plot_bgcolor": "#F5F6F9",
        "template": {
         "data": {
          "bar": [
           {
            "error_x": {
             "color": "#2a3f5f"
            },
            "error_y": {
             "color": "#2a3f5f"
            },
            "marker": {
             "line": {
              "color": "#E5ECF6",
              "width": 0.5
             },
             "pattern": {
              "fillmode": "overlay",
              "size": 10,
              "solidity": 0.2
             }
            },
            "type": "bar"
           }
          ],
          "barpolar": [
           {
            "marker": {
             "line": {
              "color": "#E5ECF6",
              "width": 0.5
             },
             "pattern": {
              "fillmode": "overlay",
              "size": 10,
              "solidity": 0.2
             }
            },
            "type": "barpolar"
           }
          ],
          "carpet": [
           {
            "aaxis": {
             "endlinecolor": "#2a3f5f",
             "gridcolor": "white",
             "linecolor": "white",
             "minorgridcolor": "white",
             "startlinecolor": "#2a3f5f"
            },
            "baxis": {
             "endlinecolor": "#2a3f5f",
             "gridcolor": "white",
             "linecolor": "white",
             "minorgridcolor": "white",
             "startlinecolor": "#2a3f5f"
            },
            "type": "carpet"
           }
          ],
          "choropleth": [
           {
            "colorbar": {
             "outlinewidth": 0,
             "ticks": ""
            },
            "type": "choropleth"
           }
          ],
          "contour": [
           {
            "colorbar": {
             "outlinewidth": 0,
             "ticks": ""
            },
            "colorscale": [
             [
              0,
              "#0d0887"
             ],
             [
              0.1111111111111111,
              "#46039f"
             ],
             [
              0.2222222222222222,
              "#7201a8"
             ],
             [
              0.3333333333333333,
              "#9c179e"
             ],
             [
              0.4444444444444444,
              "#bd3786"
             ],
             [
              0.5555555555555556,
              "#d8576b"
             ],
             [
              0.6666666666666666,
              "#ed7953"
             ],
             [
              0.7777777777777778,
              "#fb9f3a"
             ],
             [
              0.8888888888888888,
              "#fdca26"
             ],
             [
              1,
              "#f0f921"
             ]
            ],
            "type": "contour"
           }
          ],
          "contourcarpet": [
           {
            "colorbar": {
             "outlinewidth": 0,
             "ticks": ""
            },
            "type": "contourcarpet"
           }
          ],
          "heatmap": [
           {
            "colorbar": {
             "outlinewidth": 0,
             "ticks": ""
            },
            "colorscale": [
             [
              0,
              "#0d0887"
             ],
             [
              0.1111111111111111,
              "#46039f"
             ],
             [
              0.2222222222222222,
              "#7201a8"
             ],
             [
              0.3333333333333333,
              "#9c179e"
             ],
             [
              0.4444444444444444,
              "#bd3786"
             ],
             [
              0.5555555555555556,
              "#d8576b"
             ],
             [
              0.6666666666666666,
              "#ed7953"
             ],
             [
              0.7777777777777778,
              "#fb9f3a"
             ],
             [
              0.8888888888888888,
              "#fdca26"
             ],
             [
              1,
              "#f0f921"
             ]
            ],
            "type": "heatmap"
           }
          ],
          "heatmapgl": [
           {
            "colorbar": {
             "outlinewidth": 0,
             "ticks": ""
            },
            "colorscale": [
             [
              0,
              "#0d0887"
             ],
             [
              0.1111111111111111,
              "#46039f"
             ],
             [
              0.2222222222222222,
              "#7201a8"
             ],
             [
              0.3333333333333333,
              "#9c179e"
             ],
             [
              0.4444444444444444,
              "#bd3786"
             ],
             [
              0.5555555555555556,
              "#d8576b"
             ],
             [
              0.6666666666666666,
              "#ed7953"
             ],
             [
              0.7777777777777778,
              "#fb9f3a"
             ],
             [
              0.8888888888888888,
              "#fdca26"
             ],
             [
              1,
              "#f0f921"
             ]
            ],
            "type": "heatmapgl"
           }
          ],
          "histogram": [
           {
            "marker": {
             "pattern": {
              "fillmode": "overlay",
              "size": 10,
              "solidity": 0.2
             }
            },
            "type": "histogram"
           }
          ],
          "histogram2d": [
           {
            "colorbar": {
             "outlinewidth": 0,
             "ticks": ""
            },
            "colorscale": [
             [
              0,
              "#0d0887"
             ],
             [
              0.1111111111111111,
              "#46039f"
             ],
             [
              0.2222222222222222,
              "#7201a8"
             ],
             [
              0.3333333333333333,
              "#9c179e"
             ],
             [
              0.4444444444444444,
              "#bd3786"
             ],
             [
              0.5555555555555556,
              "#d8576b"
             ],
             [
              0.6666666666666666,
              "#ed7953"
             ],
             [
              0.7777777777777778,
              "#fb9f3a"
             ],
             [
              0.8888888888888888,
              "#fdca26"
             ],
             [
              1,
              "#f0f921"
             ]
            ],
            "type": "histogram2d"
           }
          ],
          "histogram2dcontour": [
           {
            "colorbar": {
             "outlinewidth": 0,
             "ticks": ""
            },
            "colorscale": [
             [
              0,
              "#0d0887"
             ],
             [
              0.1111111111111111,
              "#46039f"
             ],
             [
              0.2222222222222222,
              "#7201a8"
             ],
             [
              0.3333333333333333,
              "#9c179e"
             ],
             [
              0.4444444444444444,
              "#bd3786"
             ],
             [
              0.5555555555555556,
              "#d8576b"
             ],
             [
              0.6666666666666666,
              "#ed7953"
             ],
             [
              0.7777777777777778,
              "#fb9f3a"
             ],
             [
              0.8888888888888888,
              "#fdca26"
             ],
             [
              1,
              "#f0f921"
             ]
            ],
            "type": "histogram2dcontour"
           }
          ],
          "mesh3d": [
           {
            "colorbar": {
             "outlinewidth": 0,
             "ticks": ""
            },
            "type": "mesh3d"
           }
          ],
          "parcoords": [
           {
            "line": {
             "colorbar": {
              "outlinewidth": 0,
              "ticks": ""
             }
            },
            "type": "parcoords"
           }
          ],
          "pie": [
           {
            "automargin": true,
            "type": "pie"
           }
          ],
          "scatter": [
           {
            "marker": {
             "colorbar": {
              "outlinewidth": 0,
              "ticks": ""
             }
            },
            "type": "scatter"
           }
          ],
          "scatter3d": [
           {
            "line": {
             "colorbar": {
              "outlinewidth": 0,
              "ticks": ""
             }
            },
            "marker": {
             "colorbar": {
              "outlinewidth": 0,
              "ticks": ""
             }
            },
            "type": "scatter3d"
           }
          ],
          "scattercarpet": [
           {
            "marker": {
             "colorbar": {
              "outlinewidth": 0,
              "ticks": ""
             }
            },
            "type": "scattercarpet"
           }
          ],
          "scattergeo": [
           {
            "marker": {
             "colorbar": {
              "outlinewidth": 0,
              "ticks": ""
             }
            },
            "type": "scattergeo"
           }
          ],
          "scattergl": [
           {
            "marker": {
             "colorbar": {
              "outlinewidth": 0,
              "ticks": ""
             }
            },
            "type": "scattergl"
           }
          ],
          "scattermapbox": [
           {
            "marker": {
             "colorbar": {
              "outlinewidth": 0,
              "ticks": ""
             }
            },
            "type": "scattermapbox"
           }
          ],
          "scatterpolar": [
           {
            "marker": {
             "colorbar": {
              "outlinewidth": 0,
              "ticks": ""
             }
            },
            "type": "scatterpolar"
           }
          ],
          "scatterpolargl": [
           {
            "marker": {
             "colorbar": {
              "outlinewidth": 0,
              "ticks": ""
             }
            },
            "type": "scatterpolargl"
           }
          ],
          "scatterternary": [
           {
            "marker": {
             "colorbar": {
              "outlinewidth": 0,
              "ticks": ""
             }
            },
            "type": "scatterternary"
           }
          ],
          "surface": [
           {
            "colorbar": {
             "outlinewidth": 0,
             "ticks": ""
            },
            "colorscale": [
             [
              0,
              "#0d0887"
             ],
             [
              0.1111111111111111,
              "#46039f"
             ],
             [
              0.2222222222222222,
              "#7201a8"
             ],
             [
              0.3333333333333333,
              "#9c179e"
             ],
             [
              0.4444444444444444,
              "#bd3786"
             ],
             [
              0.5555555555555556,
              "#d8576b"
             ],
             [
              0.6666666666666666,
              "#ed7953"
             ],
             [
              0.7777777777777778,
              "#fb9f3a"
             ],
             [
              0.8888888888888888,
              "#fdca26"
             ],
             [
              1,
              "#f0f921"
             ]
            ],
            "type": "surface"
           }
          ],
          "table": [
           {
            "cells": {
             "fill": {
              "color": "#EBF0F8"
             },
             "line": {
              "color": "white"
             }
            },
            "header": {
             "fill": {
              "color": "#C8D4E3"
             },
             "line": {
              "color": "white"
             }
            },
            "type": "table"
           }
          ]
         },
         "layout": {
          "annotationdefaults": {
           "arrowcolor": "#2a3f5f",
           "arrowhead": 0,
           "arrowwidth": 1
          },
          "autotypenumbers": "strict",
          "coloraxis": {
           "colorbar": {
            "outlinewidth": 0,
            "ticks": ""
           }
          },
          "colorscale": {
           "diverging": [
            [
             0,
             "#8e0152"
            ],
            [
             0.1,
             "#c51b7d"
            ],
            [
             0.2,
             "#de77ae"
            ],
            [
             0.3,
             "#f1b6da"
            ],
            [
             0.4,
             "#fde0ef"
            ],
            [
             0.5,
             "#f7f7f7"
            ],
            [
             0.6,
             "#e6f5d0"
            ],
            [
             0.7,
             "#b8e186"
            ],
            [
             0.8,
             "#7fbc41"
            ],
            [
             0.9,
             "#4d9221"
            ],
            [
             1,
             "#276419"
            ]
           ],
           "sequential": [
            [
             0,
             "#0d0887"
            ],
            [
             0.1111111111111111,
             "#46039f"
            ],
            [
             0.2222222222222222,
             "#7201a8"
            ],
            [
             0.3333333333333333,
             "#9c179e"
            ],
            [
             0.4444444444444444,
             "#bd3786"
            ],
            [
             0.5555555555555556,
             "#d8576b"
            ],
            [
             0.6666666666666666,
             "#ed7953"
            ],
            [
             0.7777777777777778,
             "#fb9f3a"
            ],
            [
             0.8888888888888888,
             "#fdca26"
            ],
            [
             1,
             "#f0f921"
            ]
           ],
           "sequentialminus": [
            [
             0,
             "#0d0887"
            ],
            [
             0.1111111111111111,
             "#46039f"
            ],
            [
             0.2222222222222222,
             "#7201a8"
            ],
            [
             0.3333333333333333,
             "#9c179e"
            ],
            [
             0.4444444444444444,
             "#bd3786"
            ],
            [
             0.5555555555555556,
             "#d8576b"
            ],
            [
             0.6666666666666666,
             "#ed7953"
            ],
            [
             0.7777777777777778,
             "#fb9f3a"
            ],
            [
             0.8888888888888888,
             "#fdca26"
            ],
            [
             1,
             "#f0f921"
            ]
           ]
          },
          "colorway": [
           "#636efa",
           "#EF553B",
           "#00cc96",
           "#ab63fa",
           "#FFA15A",
           "#19d3f3",
           "#FF6692",
           "#B6E880",
           "#FF97FF",
           "#FECB52"
          ],
          "font": {
           "color": "#2a3f5f"
          },
          "geo": {
           "bgcolor": "white",
           "lakecolor": "white",
           "landcolor": "#E5ECF6",
           "showlakes": true,
           "showland": true,
           "subunitcolor": "white"
          },
          "hoverlabel": {
           "align": "left"
          },
          "hovermode": "closest",
          "mapbox": {
           "style": "light"
          },
          "paper_bgcolor": "white",
          "plot_bgcolor": "#E5ECF6",
          "polar": {
           "angularaxis": {
            "gridcolor": "white",
            "linecolor": "white",
            "ticks": ""
           },
           "bgcolor": "#E5ECF6",
           "radialaxis": {
            "gridcolor": "white",
            "linecolor": "white",
            "ticks": ""
           }
          },
          "scene": {
           "xaxis": {
            "backgroundcolor": "#E5ECF6",
            "gridcolor": "white",
            "gridwidth": 2,
            "linecolor": "white",
            "showbackground": true,
            "ticks": "",
            "zerolinecolor": "white"
           },
           "yaxis": {
            "backgroundcolor": "#E5ECF6",
            "gridcolor": "white",
            "gridwidth": 2,
            "linecolor": "white",
            "showbackground": true,
            "ticks": "",
            "zerolinecolor": "white"
           },
           "zaxis": {
            "backgroundcolor": "#E5ECF6",
            "gridcolor": "white",
            "gridwidth": 2,
            "linecolor": "white",
            "showbackground": true,
            "ticks": "",
            "zerolinecolor": "white"
           }
          },
          "shapedefaults": {
           "line": {
            "color": "#2a3f5f"
           }
          },
          "ternary": {
           "aaxis": {
            "gridcolor": "white",
            "linecolor": "white",
            "ticks": ""
           },
           "baxis": {
            "gridcolor": "white",
            "linecolor": "white",
            "ticks": ""
           },
           "bgcolor": "#E5ECF6",
           "caxis": {
            "gridcolor": "white",
            "linecolor": "white",
            "ticks": ""
           }
          },
          "title": {
           "x": 0.05
          },
          "xaxis": {
           "automargin": true,
           "gridcolor": "white",
           "linecolor": "white",
           "ticks": "",
           "title": {
            "standoff": 15
           },
           "zerolinecolor": "white",
           "zerolinewidth": 2
          },
          "yaxis": {
           "automargin": true,
           "gridcolor": "white",
           "linecolor": "white",
           "ticks": "",
           "title": {
            "standoff": 15
           },
           "zerolinecolor": "white",
           "zerolinewidth": 2
          }
         }
        },
        "title": {
         "font": {
          "color": "#4D5663"
         },
         "text": "Количество символов"
        },
        "xaxis": {
         "gridcolor": "#E1E5ED",
         "showgrid": true,
         "tickfont": {
          "color": "#4D5663"
         },
         "title": {
          "font": {
           "color": "#4D5663"
          },
          "text": "Количество символов"
         },
         "zerolinecolor": "#E1E5ED"
        },
        "yaxis": {
         "gridcolor": "#E1E5ED",
         "showgrid": true,
         "tickfont": {
          "color": "#4D5663"
         },
         "title": {
          "font": {
           "color": "#4D5663"
          },
          "text": "Количество отзывов, имеющих столько символов"
         },
         "zerolinecolor": "#E1E5ED"
        }
       }
      },
      "text/html": [
       "<div>                            <div id=\"fb8bc551-ae45-4172-bae0-6cb323e2ab52\" class=\"plotly-graph-div\" style=\"height:525px; width:100%;\"></div>            <script type=\"text/javascript\">                require([\"plotly\"], function(Plotly) {                    window.PLOTLYENV=window.PLOTLYENV || {};\n",
       "                    window.PLOTLYENV.BASE_URL='https://plot.ly';                                    if (document.getElementById(\"fb8bc551-ae45-4172-bae0-6cb323e2ab52\")) {                    Plotly.newPlot(                        \"fb8bc551-ae45-4172-bae0-6cb323e2ab52\",                        [{\"histfunc\":\"count\",\"histnorm\":\"\",\"marker\":{\"color\":\"rgba(255, 153, 51, 1.0)\",\"line\":{\"color\":\"#4D5663\",\"width\":1.3}},\"name\":\"review_len\",\"opacity\":0.8,\"orientation\":\"v\",\"type\":\"histogram\",\"x\":[332,530,274,122,157,704,251,389,851,236,1085,329,807,546,131,184,197,325,187,492,814,405,139,1620,212,776,885,522,283,1516,260,176,55,396,329,517,635,382,135,107,1181,775,1229,301,269,275,480,163,1190,272,177,258,201,280,234,703,175,161,101,265,299,90,161,145,111,128,280,171,108,129,186,1115,241,367,649,244,326,243,422,1350,1067,307,315,815,672,518,442,1206,398,1083,816,1569,373,249,1240,157,484,1430,354,108,71,203,196,232,244,514,89,274,269,173,173,217,847,353,106,488,180,442,70,97,297,102,114,81,419,126,567,130,485,236,687,111,153,364,364,262,119,134,132,231,97,370,103,584,294,1516,109,90,190,332,252,319,249,1504,327,297,1479,184,92,455,455,82,472,132,440,826,152,1525,207,623,135,285,697,178,201,1290,49,423,206,1204,555,219,71,48,464,384,599,822,61,483,281,241,378,789,749,415,700,244,356,439,544,214,144,1256,357,382,229,112,426,255,279,806,239,580,434,203,1061,95,1106,107,127,98,146,1004,569,469,159,144,228,106,82,128,296,301,85,129,544,285,204,144,112,200,1089,684,296,270,101,91,564,272,673,574,651,161,495,360,276,665,290,1159,211,572,675,149,176,273,133,277,396,441,907,119,818,270,331,213,300,281,188,154,79,254,113,228,207,400,1573,1073,1593,220,183,159,313,434,369,259,259,219,62,305,284,1037,95,146,193,486,259,39,99,119,81,107,167,125,151,500,301,55,73,104,556,147,129,165,201,76,285,183,121,298,75,476,412,1197,480,231,389,668,253,137,236,536,302,346,122,783,474,57,540,163,853,63,462,1154,268,268,488,656,427,249,475,494,511,914,213,298,277,115,405,319,457,143,44,192,140,1308,1449,474,169,184,150,1573,120,1661,864,121,86,210,540,1036,325,263,325,391,202,398,1248,514,157,64,580,491,840,435,159,30,134,408,215,559,146,136,283,209,157,87,92,333,208,163,197,262,108,220,1379,92,395,133,211,256,238,285,171,333,155,72,646,539,146,128,118,97,382,232,875,201,81,747,200,293,109,169,336,130,863,177,1095,190,134,863,863,443,213,187,1033,316,293,863,443,186,309,256,348,863,181,410,254,125,863,194,209,863,863,216,169,458,269,1049,366,239,356,240,863,2158,467,1035,194,81,394,27,1411,643,266,460,185,252,345,156,164,467,216,963,943,218,384,586,397,943,528,323,489,394,366,304,835,120,68,247,232,564,253,255,440,183,274,288,240,262,76,844,300,396,264,763,245,398,334,454,583,167,78,186,265,44,276,85,193,140,124,357,1276,192,134,690,177,1029,217,137,776,476,378,275,431,385,378,362,577,407,149,444,120,190,691,370,206,679,345,229,72,798,120,79,340,435,271,397,351,65,216,148,110,349,518,409,145,383,230,415,207,342,150,342,459,494,404,145,608,120,333,208,99,205,109,345,425,56,566,1413,902,388,166,682,471,362,491,885,194,261,243,134,661,774,245,203,230,286,269,117,390,1092,515,620,256,152,222,114,110,88,93,125,557,365,497,610,50,288,425,936,144,185,600,214,230,657,78,430,135,696,364,131,190,437,679,205,1102,305,364,73,505,395,139,136,456,579,651,122,481,568,240,284,243,268,223,316,211,330,585,1468,96,209,215,400,281,253,236,168,319,28,419,98,119,167,135,472,102,156,174,354,385,90,243,311,926,325,191,129,196,940,414,267,251,186,138,345,271,568,124,199,268,437,360,352,279,277,59,1742,158,389,354,446,416,159,782,431,395,476,308,189,591,167,121,865,135,281,354,737,224,101,525,256,272,425,600,146,992,174,472,296,315,537,145,247,235,359,265,354,331,354,157,314,599,101,251,70,179,57,152,194,353,201,376,334,269,279,151,376,88,269,327,361,286,458,259,192,224,237,136,160,184,302,105,556,235,860,641,275,471,192,139,387,85,260,215,125,156,586,87,74,21,192,460,519,164,680,528,315,228,788,191,243,300,1092,600,152,168,403,63,306,430,227,156,691,858,640,181,57,538,238,1810,382,449,188,864,236,238,579,307,59,1305,687,172,426,597,2626,916,177,104,88,153,207,31,399,465,372,416,124,1229,481,119,1139,176,238,175,228,133,288,233,1066,78,427,256,369,215,147,251,60,224,702,660,360,490,241,98,1667,995,769,108,244,248,212,716,191,544,445,212,98,705,775,240,213,542,182,246,175,54,228,384,300,461,210,180,92,832,191,122,440,254,142,167,90,127,229,225,678,248,243,211,316,527,1258,162,227,188,329,346,244,574,337,149,323,150,642,382,224,314,115,464,191,179,394,133,415,154,77,223,628,414,168,126,198,750,407,183,1042,137,206,1095,1046,425,179,224,430,412,118,211,1128,118,149,319,228,662,77,228,156,96,461,394,280,142,491,138,113,215,800,119,90,178,718,60,203,383,1054,90,457,174,58,295,143,198,454,615,633,312,361,63,299,348,173,824,160,347,418,528,2239,626,308,180,838,686,54,296,142,191,321,210,276,138,197,461,300,132,363,302,321,509,305,312,220,396,277,288,669,456,461,270,501,170,101,75,1011,65,351,247,482,354,44,504,1251,558,120,455,313,1727,113,273,197,463,517,422,1280,244,972,244,158,296,337,169,314,317,204,146,226,494,198,260,189,292,638,969,456,322,665,300,186,193,1233,388,534,297,311,88,112,176,173,132,400,748,264,504,236,272,121,500,100,245,129,204,146,939,459,133,109,170,727,135,692,249,184,209,663,220,283,341,156,349,215,299,904,423,282,201,280,108,588,649,455,517,161,446,55,218,141,542,665,374,568,365,200,300,279,109,83,231,263,695,408,271,150,177,349,263,92,196,180,76,920,306,365,369,213,424,1050,35,396,63,71,381,432,447,221,495,316,136,166,114,260,66,224,134,284,121,230,186,523,68,157,128,661,136,109,141,285,1320,212,770,128,372,59,269,464,102,212,397,67,1150,219,157,415,992,523,821,69,58,107,687,279,1425,99,219,90,846,24,668,340,196,247,123,115,75,447,226,165,686,407,251,334,337,91,158,294,257,220,143,196,186,102,329,150,348,683,55,400,347,82,380,52,2980,185,239,582,544,190,69,113,253,955,183,238,365,485,127,259,208,612,196,433,1135,177,710,205,484,144,75,126,330,220,245,49,216,147,491,322,64,114,26,300,62,460,406,125,427,396,159,118,208,234,301,447,392,194,178,36,1231,314,417,155,189,169,604,360,416,227,245,146,583,236,257,160,339,1325,105,532,164,153,153,170,85,224,506,194,482,288,445,607,162,215,52,74,461,109,342,384,77,471,84,342,628,311,69,72,248,301,429,680,136,65,71,1000,249,393,764,134,142,73,382,293,639,588,225,149,384,172,296,94,195,322,343,186,58,294,125,209,279,192,252,205,309,221,138,415,392,163,207,181,245,55,379,222,296,130,296,248,240,134,177,53,170,563,175,486,84,124,938,461,108,99,111,671,353,136,116,309,94,110,108,132,349,838,333,792,61,208,792,390,107,216,69,153,965,392,46,162,165,315,48,404,222,192,763,272,354,63,162,125,380,40,489,226,590,83,269,78,345,287,258,54,95,382,588,809,272,675,660,948,104,239,1105,878,84,470,229,638,403,102,145,614,299,613,227,104,314,145,141,287,191,406,164,108,163,423,886,645,265,141,197,370,303,134,454,315,393,204,289,367,309,86,219,195,95,203,134,375,169,420,345,166,172,217,376,131,352,177,564,34,808,125,157,363,131,445,282,235,478,395,224,210,529,745,1800,588,178,137,109,328,3502,439,237,260,537,1101,138,348,272,626,274,177,375,181,665,525,358,185,199,663,229,306,203,677,128,1029,1119,1192,697,150,61,255,145,306,876,1359,594,180,427,631,327,405,715,201,229,250,741,213,608,370,266,400,392,867,371,229,251,88,172,45,119,258,244,383,476,496,380,220,339,397,209,319,102,266,862,169,908,94,141,633,365,568,181,540,233,311,831,816,152,542,215,62,457,392,337,202,459,212,975,311,144,515,256,201,129,383,284,479,379,375,361,93,193,332,773,230,287,375,237,608,516,657,1239,240,323,247,427,233,224,536,358,189,682,92,191,645,63,844,552,396,250,665,411,321,552,158,554,329,394,428,135,456,266,82,70,546,65]}],                        {\"barmode\":\"overlay\",\"legend\":{\"bgcolor\":\"#F5F6F9\",\"font\":{\"color\":\"#4D5663\"}},\"paper_bgcolor\":\"#F5F6F9\",\"plot_bgcolor\":\"#F5F6F9\",\"template\":{\"data\":{\"bar\":[{\"error_x\":{\"color\":\"#2a3f5f\"},\"error_y\":{\"color\":\"#2a3f5f\"},\"marker\":{\"line\":{\"color\":\"#E5ECF6\",\"width\":0.5},\"pattern\":{\"fillmode\":\"overlay\",\"size\":10,\"solidity\":0.2}},\"type\":\"bar\"}],\"barpolar\":[{\"marker\":{\"line\":{\"color\":\"#E5ECF6\",\"width\":0.5},\"pattern\":{\"fillmode\":\"overlay\",\"size\":10,\"solidity\":0.2}},\"type\":\"barpolar\"}],\"carpet\":[{\"aaxis\":{\"endlinecolor\":\"#2a3f5f\",\"gridcolor\":\"white\",\"linecolor\":\"white\",\"minorgridcolor\":\"white\",\"startlinecolor\":\"#2a3f5f\"},\"baxis\":{\"endlinecolor\":\"#2a3f5f\",\"gridcolor\":\"white\",\"linecolor\":\"white\",\"minorgridcolor\":\"white\",\"startlinecolor\":\"#2a3f5f\"},\"type\":\"carpet\"}],\"choropleth\":[{\"colorbar\":{\"outlinewidth\":0,\"ticks\":\"\"},\"type\":\"choropleth\"}],\"contour\":[{\"colorbar\":{\"outlinewidth\":0,\"ticks\":\"\"},\"colorscale\":[[0.0,\"#0d0887\"],[0.1111111111111111,\"#46039f\"],[0.2222222222222222,\"#7201a8\"],[0.3333333333333333,\"#9c179e\"],[0.4444444444444444,\"#bd3786\"],[0.5555555555555556,\"#d8576b\"],[0.6666666666666666,\"#ed7953\"],[0.7777777777777778,\"#fb9f3a\"],[0.8888888888888888,\"#fdca26\"],[1.0,\"#f0f921\"]],\"type\":\"contour\"}],\"contourcarpet\":[{\"colorbar\":{\"outlinewidth\":0,\"ticks\":\"\"},\"type\":\"contourcarpet\"}],\"heatmap\":[{\"colorbar\":{\"outlinewidth\":0,\"ticks\":\"\"},\"colorscale\":[[0.0,\"#0d0887\"],[0.1111111111111111,\"#46039f\"],[0.2222222222222222,\"#7201a8\"],[0.3333333333333333,\"#9c179e\"],[0.4444444444444444,\"#bd3786\"],[0.5555555555555556,\"#d8576b\"],[0.6666666666666666,\"#ed7953\"],[0.7777777777777778,\"#fb9f3a\"],[0.8888888888888888,\"#fdca26\"],[1.0,\"#f0f921\"]],\"type\":\"heatmap\"}],\"heatmapgl\":[{\"colorbar\":{\"outlinewidth\":0,\"ticks\":\"\"},\"colorscale\":[[0.0,\"#0d0887\"],[0.1111111111111111,\"#46039f\"],[0.2222222222222222,\"#7201a8\"],[0.3333333333333333,\"#9c179e\"],[0.4444444444444444,\"#bd3786\"],[0.5555555555555556,\"#d8576b\"],[0.6666666666666666,\"#ed7953\"],[0.7777777777777778,\"#fb9f3a\"],[0.8888888888888888,\"#fdca26\"],[1.0,\"#f0f921\"]],\"type\":\"heatmapgl\"}],\"histogram\":[{\"marker\":{\"pattern\":{\"fillmode\":\"overlay\",\"size\":10,\"solidity\":0.2}},\"type\":\"histogram\"}],\"histogram2d\":[{\"colorbar\":{\"outlinewidth\":0,\"ticks\":\"\"},\"colorscale\":[[0.0,\"#0d0887\"],[0.1111111111111111,\"#46039f\"],[0.2222222222222222,\"#7201a8\"],[0.3333333333333333,\"#9c179e\"],[0.4444444444444444,\"#bd3786\"],[0.5555555555555556,\"#d8576b\"],[0.6666666666666666,\"#ed7953\"],[0.7777777777777778,\"#fb9f3a\"],[0.8888888888888888,\"#fdca26\"],[1.0,\"#f0f921\"]],\"type\":\"histogram2d\"}],\"histogram2dcontour\":[{\"colorbar\":{\"outlinewidth\":0,\"ticks\":\"\"},\"colorscale\":[[0.0,\"#0d0887\"],[0.1111111111111111,\"#46039f\"],[0.2222222222222222,\"#7201a8\"],[0.3333333333333333,\"#9c179e\"],[0.4444444444444444,\"#bd3786\"],[0.5555555555555556,\"#d8576b\"],[0.6666666666666666,\"#ed7953\"],[0.7777777777777778,\"#fb9f3a\"],[0.8888888888888888,\"#fdca26\"],[1.0,\"#f0f921\"]],\"type\":\"histogram2dcontour\"}],\"mesh3d\":[{\"colorbar\":{\"outlinewidth\":0,\"ticks\":\"\"},\"type\":\"mesh3d\"}],\"parcoords\":[{\"line\":{\"colorbar\":{\"outlinewidth\":0,\"ticks\":\"\"}},\"type\":\"parcoords\"}],\"pie\":[{\"automargin\":true,\"type\":\"pie\"}],\"scatter\":[{\"marker\":{\"colorbar\":{\"outlinewidth\":0,\"ticks\":\"\"}},\"type\":\"scatter\"}],\"scatter3d\":[{\"line\":{\"colorbar\":{\"outlinewidth\":0,\"ticks\":\"\"}},\"marker\":{\"colorbar\":{\"outlinewidth\":0,\"ticks\":\"\"}},\"type\":\"scatter3d\"}],\"scattercarpet\":[{\"marker\":{\"colorbar\":{\"outlinewidth\":0,\"ticks\":\"\"}},\"type\":\"scattercarpet\"}],\"scattergeo\":[{\"marker\":{\"colorbar\":{\"outlinewidth\":0,\"ticks\":\"\"}},\"type\":\"scattergeo\"}],\"scattergl\":[{\"marker\":{\"colorbar\":{\"outlinewidth\":0,\"ticks\":\"\"}},\"type\":\"scattergl\"}],\"scattermapbox\":[{\"marker\":{\"colorbar\":{\"outlinewidth\":0,\"ticks\":\"\"}},\"type\":\"scattermapbox\"}],\"scatterpolar\":[{\"marker\":{\"colorbar\":{\"outlinewidth\":0,\"ticks\":\"\"}},\"type\":\"scatterpolar\"}],\"scatterpolargl\":[{\"marker\":{\"colorbar\":{\"outlinewidth\":0,\"ticks\":\"\"}},\"type\":\"scatterpolargl\"}],\"scatterternary\":[{\"marker\":{\"colorbar\":{\"outlinewidth\":0,\"ticks\":\"\"}},\"type\":\"scatterternary\"}],\"surface\":[{\"colorbar\":{\"outlinewidth\":0,\"ticks\":\"\"},\"colorscale\":[[0.0,\"#0d0887\"],[0.1111111111111111,\"#46039f\"],[0.2222222222222222,\"#7201a8\"],[0.3333333333333333,\"#9c179e\"],[0.4444444444444444,\"#bd3786\"],[0.5555555555555556,\"#d8576b\"],[0.6666666666666666,\"#ed7953\"],[0.7777777777777778,\"#fb9f3a\"],[0.8888888888888888,\"#fdca26\"],[1.0,\"#f0f921\"]],\"type\":\"surface\"}],\"table\":[{\"cells\":{\"fill\":{\"color\":\"#EBF0F8\"},\"line\":{\"color\":\"white\"}},\"header\":{\"fill\":{\"color\":\"#C8D4E3\"},\"line\":{\"color\":\"white\"}},\"type\":\"table\"}]},\"layout\":{\"annotationdefaults\":{\"arrowcolor\":\"#2a3f5f\",\"arrowhead\":0,\"arrowwidth\":1},\"autotypenumbers\":\"strict\",\"coloraxis\":{\"colorbar\":{\"outlinewidth\":0,\"ticks\":\"\"}},\"colorscale\":{\"diverging\":[[0,\"#8e0152\"],[0.1,\"#c51b7d\"],[0.2,\"#de77ae\"],[0.3,\"#f1b6da\"],[0.4,\"#fde0ef\"],[0.5,\"#f7f7f7\"],[0.6,\"#e6f5d0\"],[0.7,\"#b8e186\"],[0.8,\"#7fbc41\"],[0.9,\"#4d9221\"],[1,\"#276419\"]],\"sequential\":[[0.0,\"#0d0887\"],[0.1111111111111111,\"#46039f\"],[0.2222222222222222,\"#7201a8\"],[0.3333333333333333,\"#9c179e\"],[0.4444444444444444,\"#bd3786\"],[0.5555555555555556,\"#d8576b\"],[0.6666666666666666,\"#ed7953\"],[0.7777777777777778,\"#fb9f3a\"],[0.8888888888888888,\"#fdca26\"],[1.0,\"#f0f921\"]],\"sequentialminus\":[[0.0,\"#0d0887\"],[0.1111111111111111,\"#46039f\"],[0.2222222222222222,\"#7201a8\"],[0.3333333333333333,\"#9c179e\"],[0.4444444444444444,\"#bd3786\"],[0.5555555555555556,\"#d8576b\"],[0.6666666666666666,\"#ed7953\"],[0.7777777777777778,\"#fb9f3a\"],[0.8888888888888888,\"#fdca26\"],[1.0,\"#f0f921\"]]},\"colorway\":[\"#636efa\",\"#EF553B\",\"#00cc96\",\"#ab63fa\",\"#FFA15A\",\"#19d3f3\",\"#FF6692\",\"#B6E880\",\"#FF97FF\",\"#FECB52\"],\"font\":{\"color\":\"#2a3f5f\"},\"geo\":{\"bgcolor\":\"white\",\"lakecolor\":\"white\",\"landcolor\":\"#E5ECF6\",\"showlakes\":true,\"showland\":true,\"subunitcolor\":\"white\"},\"hoverlabel\":{\"align\":\"left\"},\"hovermode\":\"closest\",\"mapbox\":{\"style\":\"light\"},\"paper_bgcolor\":\"white\",\"plot_bgcolor\":\"#E5ECF6\",\"polar\":{\"angularaxis\":{\"gridcolor\":\"white\",\"linecolor\":\"white\",\"ticks\":\"\"},\"bgcolor\":\"#E5ECF6\",\"radialaxis\":{\"gridcolor\":\"white\",\"linecolor\":\"white\",\"ticks\":\"\"}},\"scene\":{\"xaxis\":{\"backgroundcolor\":\"#E5ECF6\",\"gridcolor\":\"white\",\"gridwidth\":2,\"linecolor\":\"white\",\"showbackground\":true,\"ticks\":\"\",\"zerolinecolor\":\"white\"},\"yaxis\":{\"backgroundcolor\":\"#E5ECF6\",\"gridcolor\":\"white\",\"gridwidth\":2,\"linecolor\":\"white\",\"showbackground\":true,\"ticks\":\"\",\"zerolinecolor\":\"white\"},\"zaxis\":{\"backgroundcolor\":\"#E5ECF6\",\"gridcolor\":\"white\",\"gridwidth\":2,\"linecolor\":\"white\",\"showbackground\":true,\"ticks\":\"\",\"zerolinecolor\":\"white\"}},\"shapedefaults\":{\"line\":{\"color\":\"#2a3f5f\"}},\"ternary\":{\"aaxis\":{\"gridcolor\":\"white\",\"linecolor\":\"white\",\"ticks\":\"\"},\"baxis\":{\"gridcolor\":\"white\",\"linecolor\":\"white\",\"ticks\":\"\"},\"bgcolor\":\"#E5ECF6\",\"caxis\":{\"gridcolor\":\"white\",\"linecolor\":\"white\",\"ticks\":\"\"}},\"title\":{\"x\":0.05},\"xaxis\":{\"automargin\":true,\"gridcolor\":\"white\",\"linecolor\":\"white\",\"ticks\":\"\",\"title\":{\"standoff\":15},\"zerolinecolor\":\"white\",\"zerolinewidth\":2},\"yaxis\":{\"automargin\":true,\"gridcolor\":\"white\",\"linecolor\":\"white\",\"ticks\":\"\",\"title\":{\"standoff\":15},\"zerolinecolor\":\"white\",\"zerolinewidth\":2}}},\"title\":{\"font\":{\"color\":\"#4D5663\"},\"text\":\"\\u041a\\u043e\\u043b\\u0438\\u0447\\u0435\\u0441\\u0442\\u0432\\u043e \\u0441\\u0438\\u043c\\u0432\\u043e\\u043b\\u043e\\u0432\"},\"xaxis\":{\"gridcolor\":\"#E1E5ED\",\"showgrid\":true,\"tickfont\":{\"color\":\"#4D5663\"},\"title\":{\"font\":{\"color\":\"#4D5663\"},\"text\":\"\\u041a\\u043e\\u043b\\u0438\\u0447\\u0435\\u0441\\u0442\\u0432\\u043e \\u0441\\u0438\\u043c\\u0432\\u043e\\u043b\\u043e\\u0432\"},\"zerolinecolor\":\"#E1E5ED\"},\"yaxis\":{\"gridcolor\":\"#E1E5ED\",\"showgrid\":true,\"tickfont\":{\"color\":\"#4D5663\"},\"title\":{\"font\":{\"color\":\"#4D5663\"},\"text\":\"\\u041a\\u043e\\u043b\\u0438\\u0447\\u0435\\u0441\\u0442\\u0432\\u043e \\u043e\\u0442\\u0437\\u044b\\u0432\\u043e\\u0432, \\u0438\\u043c\\u0435\\u044e\\u0449\\u0438\\u0445 \\u0441\\u0442\\u043e\\u043b\\u044c\\u043a\\u043e \\u0441\\u0438\\u043c\\u0432\\u043e\\u043b\\u043e\\u0432\"},\"zerolinecolor\":\"#E1E5ED\"}},                        {\"showLink\": true, \"linkText\": \"Export to plot.ly\", \"plotlyServerURL\": \"https://plot.ly\", \"responsive\": true}                    ).then(function(){\n",
       "                            \n",
       "var gd = document.getElementById('fb8bc551-ae45-4172-bae0-6cb323e2ab52');\n",
       "var x = new MutationObserver(function (mutations, observer) {{\n",
       "        var display = window.getComputedStyle(gd).display;\n",
       "        if (!display || display === 'none') {{\n",
       "            console.log([gd, 'removed!']);\n",
       "            Plotly.purge(gd);\n",
       "            observer.disconnect();\n",
       "        }}\n",
       "}});\n",
       "\n",
       "// Listen for the removal of the full notebook cells\n",
       "var notebookContainer = gd.closest('#notebook-container');\n",
       "if (notebookContainer) {{\n",
       "    x.observe(notebookContainer, {childList: true});\n",
       "}}\n",
       "\n",
       "// Listen for the clearing of the current output cell\n",
       "var outputEl = gd.closest('.output');\n",
       "if (outputEl) {{\n",
       "    x.observe(outputEl, {childList: true});\n",
       "}}\n",
       "\n",
       "                        })                };                });            </script>        </div>"
      ]
     },
     "metadata": {},
     "output_type": "display_data"
    }
   ],
   "source": [
    "info['review_len'].iplot(kind='hist', xTitle = \"Количество символов\", yTitle = \"Количество отзывов, имеющих столько символов\", title = \"Количество символов\")"
   ]
  },
  {
   "cell_type": "code",
   "execution_count": 26,
   "id": "ef66d67d",
   "metadata": {},
   "outputs": [
    {
     "data": {
      "application/vnd.plotly.v1+json": {
       "config": {
        "linkText": "Export to plot.ly",
        "plotlyServerURL": "https://plot.ly",
        "showLink": true
       },
       "data": [
        {
         "histfunc": "count",
         "histnorm": "",
         "marker": {
          "color": "rgba(255, 153, 51, 1.0)",
          "line": {
           "color": "#4D5663",
           "width": 1.3
          }
         },
         "name": "w_count",
         "opacity": 0.8,
         "orientation": "v",
         "type": "histogram",
         "x": [
          46,
          59,
          34,
          15,
          20,
          93,
          31,
          45,
          109,
          30,
          138,
          37,
          97,
          61,
          14,
          24,
          23,
          45,
          21,
          59,
          97,
          49,
          16,
          187,
          26,
          102,
          116,
          57,
          35,
          163,
          27,
          20,
          7,
          38,
          34,
          56,
          81,
          44,
          19,
          15,
          144,
          94,
          143,
          38,
          33,
          33,
          61,
          16,
          142,
          32,
          24,
          32,
          22,
          32,
          25,
          82,
          21,
          20,
          11,
          34,
          37,
          10,
          21,
          17,
          11,
          16,
          36,
          19,
          13,
          16,
          23,
          143,
          31,
          44,
          82,
          31,
          41,
          30,
          52,
          160,
          138,
          38,
          40,
          97,
          83,
          65,
          54,
          155,
          46,
          129,
          94,
          178,
          39,
          28,
          153,
          19,
          58,
          161,
          44,
          11,
          8,
          19,
          19,
          24,
          27,
          67,
          9,
          32,
          29,
          18,
          14,
          26,
          103,
          47,
          14,
          57,
          20,
          55,
          8,
          11,
          38,
          12,
          13,
          12,
          54,
          16,
          60,
          15,
          60,
          30,
          80,
          14,
          19,
          41,
          41,
          37,
          17,
          16,
          16,
          28,
          11,
          43,
          13,
          68,
          38,
          163,
          13,
          10,
          22,
          41,
          30,
          37,
          34,
          177,
          42,
          31,
          204,
          22,
          10,
          57,
          57,
          12,
          64,
          14,
          49,
          104,
          22,
          169,
          24,
          76,
          14,
          31,
          84,
          22,
          25,
          171,
          6,
          53,
          22,
          134,
          64,
          31,
          5,
          8,
          65,
          47,
          73,
          96,
          10,
          56,
          37,
          30,
          45,
          101,
          90,
          42,
          76,
          31,
          37,
          57,
          64,
          27,
          18,
          145,
          34,
          44,
          30,
          13,
          48,
          24,
          33,
          101,
          29,
          71,
          49,
          25,
          129,
          14,
          135,
          10,
          14,
          11,
          15,
          122,
          71,
          56,
          22,
          15,
          25,
          14,
          11,
          17,
          36,
          37,
          9,
          19,
          59,
          33,
          26,
          17,
          13,
          25,
          131,
          76,
          39,
          36,
          13,
          12,
          69,
          35,
          79,
          73,
          72,
          17,
          63,
          41,
          32,
          77,
          36,
          154,
          29,
          60,
          80,
          20,
          19,
          33,
          11,
          35,
          49,
          48,
          104,
          13,
          99,
          30,
          42,
          24,
          38,
          33,
          22,
          22,
          10,
          30,
          14,
          26,
          24,
          49,
          178,
          132,
          183,
          27,
          21,
          18,
          38,
          56,
          50,
          32,
          32,
          26,
          9,
          38,
          39,
          118,
          11,
          17,
          21,
          58,
          33,
          4,
          14,
          13,
          11,
          15,
          22,
          15,
          16,
          67,
          32,
          8,
          10,
          14,
          66,
          12,
          16,
          21,
          20,
          11,
          32,
          20,
          17,
          41,
          9,
          55,
          45,
          163,
          50,
          27,
          48,
          83,
          24,
          17,
          24,
          65,
          36,
          40,
          14,
          95,
          54,
          7,
          69,
          20,
          98,
          8,
          58,
          149,
          27,
          27,
          59,
          83,
          57,
          25,
          53,
          57,
          65,
          116,
          25,
          31,
          26,
          14,
          46,
          37,
          58,
          14,
          5,
          16,
          15,
          148,
          162,
          53,
          21,
          20,
          17,
          178,
          13,
          179,
          117,
          13,
          12,
          24,
          73,
          118,
          39,
          34,
          41,
          47,
          25,
          49,
          164,
          68,
          22,
          7,
          71,
          59,
          110,
          52,
          21,
          4,
          17,
          52,
          24,
          67,
          18,
          16,
          29,
          24,
          17,
          10,
          8,
          32,
          22,
          23,
          22,
          29,
          11,
          30,
          136,
          11,
          50,
          15,
          22,
          33,
          27,
          36,
          20,
          30,
          20,
          8,
          81,
          63,
          19,
          15,
          11,
          12,
          49,
          29,
          108,
          19,
          9,
          93,
          21,
          35,
          13,
          22,
          42,
          13,
          84,
          22,
          134,
          24,
          16,
          84,
          84,
          48,
          27,
          24,
          121,
          36,
          33,
          84,
          48,
          25,
          35,
          31,
          43,
          84,
          21,
          50,
          28,
          15,
          84,
          25,
          25,
          84,
          84,
          30,
          19,
          51,
          30,
          130,
          47,
          32,
          49,
          32,
          109,
          249,
          57,
          124,
          24,
          11,
          41,
          3,
          162,
          69,
          30,
          54,
          17,
          28,
          40,
          21,
          24,
          58,
          28,
          117,
          117,
          25,
          45,
          73,
          45,
          117,
          57,
          36,
          59,
          47,
          47,
          37,
          90,
          15,
          8,
          30,
          30,
          65,
          31,
          30,
          43,
          19,
          33,
          36,
          26,
          35,
          10,
          86,
          28,
          57,
          30,
          101,
          27,
          42,
          33,
          53,
          78,
          25,
          9,
          22,
          34,
          5,
          36,
          10,
          24,
          19,
          19,
          40,
          170,
          25,
          17,
          85,
          22,
          112,
          28,
          16,
          86,
          65,
          43,
          31,
          52,
          50,
          43,
          48,
          70,
          42,
          18,
          46,
          14,
          23,
          79,
          41,
          30,
          75,
          32,
          26,
          10,
          108,
          14,
          8,
          40,
          47,
          35,
          48,
          44,
          8,
          27,
          20,
          13,
          48,
          56,
          50,
          17,
          45,
          30,
          55,
          26,
          38,
          18,
          42,
          48,
          60,
          51,
          17,
          56,
          11,
          41,
          24,
          12,
          23,
          13,
          41,
          56,
          4,
          61,
          162,
          104,
          47,
          20,
          77,
          57,
          40,
          62,
          96,
          25,
          30,
          26,
          15,
          81,
          88,
          31,
          24,
          27,
          40,
          33,
          13,
          47,
          129,
          67,
          79,
          27,
          20,
          29,
          11,
          12,
          10,
          10,
          15,
          69,
          37,
          65,
          69,
          7,
          31,
          52,
          78,
          19,
          21,
          67,
          25,
          25,
          77,
          9,
          60,
          16,
          86,
          45,
          13,
          26,
          53,
          81,
          25,
          139,
          37,
          45,
          9,
          63,
          50,
          15,
          19,
          57,
          69,
          80,
          14,
          61,
          70,
          28,
          32,
          25,
          26,
          26,
          40,
          17,
          38,
          70,
          169,
          11,
          21,
          29,
          45,
          33,
          32,
          29,
          18,
          34,
          3,
          55,
          12,
          15,
          23,
          17,
          58,
          9,
          18,
          23,
          43,
          46,
          10,
          30,
          37,
          113,
          39,
          25,
          16,
          23,
          120,
          53,
          32,
          32,
          21,
          17,
          32,
          34,
          63,
          15,
          19,
          30,
          54,
          41,
          43,
          33,
          27,
          10,
          213,
          17,
          42,
          47,
          60,
          52,
          18,
          101,
          51,
          53,
          59,
          39,
          22,
          75,
          21,
          16,
          96,
          16,
          32,
          32,
          81,
          28,
          15,
          57,
          28,
          35,
          65,
          81,
          18,
          117,
          24,
          53,
          35,
          38,
          62,
          20,
          31,
          22,
          43,
          28,
          44,
          39,
          39,
          19,
          39,
          76,
          13,
          30,
          7,
          20,
          5,
          17,
          22,
          37,
          23,
          44,
          39,
          28,
          36,
          19,
          43,
          12,
          33,
          43,
          45,
          31,
          53,
          28,
          22,
          27,
          29,
          13,
          17,
          21,
          34,
          13,
          64,
          24,
          62,
          60,
          33,
          55,
          22,
          17,
          40,
          11,
          33,
          20,
          16,
          16,
          80,
          10,
          9,
          2,
          21,
          52,
          65,
          18,
          80,
          58,
          39,
          29,
          103,
          22,
          25,
          40,
          129,
          67,
          18,
          22,
          52,
          11,
          42,
          60,
          27,
          18,
          73,
          113,
          75,
          26,
          7,
          71,
          28,
          204,
          47,
          56,
          25,
          103,
          32,
          27,
          72,
          37,
          9,
          136,
          73,
          16,
          54,
          75,
          316,
          98,
          21,
          13,
          11,
          16,
          27,
          4,
          52,
          59,
          49,
          53,
          13,
          138,
          53,
          15,
          124,
          23,
          30,
          21,
          22,
          19,
          39,
          29,
          117,
          10,
          47,
          30,
          36,
          27,
          17,
          33,
          8,
          28,
          76,
          74,
          49,
          57,
          31,
          12,
          193,
          131,
          87,
          14,
          25,
          29,
          26,
          86,
          23,
          63,
          53,
          26,
          9,
          90,
          97,
          26,
          28,
          59,
          21,
          29,
          22,
          8,
          26,
          46,
          36,
          57,
          24,
          20,
          11,
          93,
          22,
          16,
          50,
          31,
          17,
          21,
          11,
          14,
          27,
          25,
          87,
          32,
          29,
          26,
          37,
          59,
          164,
          20,
          28,
          19,
          43,
          44,
          29,
          54,
          40,
          18,
          39,
          18,
          74,
          45,
          25,
          38,
          14,
          56,
          22,
          22,
          55,
          17,
          47,
          16,
          9,
          20,
          67,
          52,
          17,
          14,
          25,
          97,
          49,
          23,
          137,
          14,
          26,
          138,
          143,
          46,
          20,
          27,
          52,
          50,
          13,
          26,
          131,
          15,
          15,
          42,
          25,
          80,
          9,
          28,
          21,
          11,
          59,
          47,
          31,
          17,
          58,
          14,
          16,
          28,
          109,
          16,
          10,
          22,
          89,
          8,
          27,
          50,
          139,
          10,
          60,
          22,
          7,
          32,
          21,
          21,
          51,
          70,
          77,
          36,
          44,
          9,
          34,
          43,
          21,
          88,
          20,
          45,
          42,
          57,
          269,
          74,
          37,
          22,
          100,
          83,
          6,
          36,
          16,
          25,
          31,
          25,
          35,
          15,
          26,
          57,
          40,
          16,
          41,
          37,
          35,
          61,
          31,
          38,
          27,
          45,
          34,
          33,
          79,
          56,
          57,
          33,
          66,
          21,
          12,
          9,
          113,
          12,
          36,
          33,
          58,
          39,
          6,
          68,
          138,
          69,
          12,
          50,
          31,
          193,
          12,
          30,
          20,
          49,
          51,
          51,
          156,
          25,
          116,
          27,
          20,
          33,
          42,
          21,
          36,
          32,
          21,
          18,
          22,
          49,
          24,
          32,
          21,
          34,
          69,
          110,
          62,
          40,
          76,
          36,
          25,
          23,
          118,
          52,
          60,
          23,
          38,
          11,
          14,
          24,
          22,
          17,
          52,
          89,
          36,
          62,
          28,
          33,
          17,
          58,
          11,
          33,
          12,
          25,
          20,
          100,
          48,
          12,
          14,
          21,
          79,
          15,
          81,
          33,
          23,
          26,
          84,
          24,
          33,
          41,
          16,
          43,
          22,
          39,
          104,
          52,
          28,
          24,
          30,
          13,
          74,
          72,
          56,
          61,
          17,
          54,
          6,
          26,
          19,
          59,
          81,
          46,
          59,
          43,
          23,
          40,
          31,
          13,
          9,
          23,
          34,
          87,
          51,
          30,
          18,
          21,
          41,
          31,
          10,
          22,
          20,
          9,
          120,
          38,
          47,
          41,
          24,
          57,
          102,
          4,
          44,
          10,
          8,
          53,
          52,
          51,
          25,
          61,
          41,
          14,
          20,
          16,
          28,
          9,
          23,
          17,
          32,
          12,
          24,
          24,
          58,
          8,
          20,
          13,
          80,
          19,
          11,
          15,
          37,
          136,
          24,
          81,
          17,
          39,
          7,
          32,
          55,
          13,
          28,
          52,
          7,
          141,
          30,
          21,
          46,
          121,
          66,
          95,
          9,
          5,
          16,
          75,
          39,
          165,
          11,
          25,
          13,
          106,
          3,
          83,
          48,
          26,
          29,
          16,
          14,
          9,
          58,
          29,
          21,
          80,
          54,
          28,
          43,
          40,
          9,
          22,
          30,
          35,
          24,
          18,
          26,
          25,
          12,
          43,
          20,
          40,
          73,
          6,
          51,
          45,
          8,
          48,
          9,
          383,
          22,
          33,
          69,
          63,
          23,
          9,
          13,
          32,
          110,
          24,
          26,
          40,
          61,
          14,
          34,
          26,
          77,
          21,
          54,
          116,
          24,
          94,
          24,
          47,
          13,
          8,
          16,
          37,
          24,
          24,
          6,
          26,
          17,
          52,
          41,
          7,
          15,
          3,
          34,
          8,
          57,
          52,
          17,
          56,
          47,
          21,
          16,
          25,
          30,
          29,
          50,
          42,
          27,
          23,
          5,
          154,
          34,
          54,
          21,
          23,
          20,
          58,
          40,
          51,
          31,
          23,
          18,
          66,
          29,
          30,
          18,
          41,
          126,
          14,
          65,
          22,
          15,
          16,
          21,
          11,
          25,
          56,
          25,
          59,
          35,
          60,
          70,
          23,
          22,
          9,
          8,
          58,
          15,
          45,
          45,
          8,
          60,
          10,
          38,
          77,
          41,
          10,
          9,
          31,
          38,
          44,
          79,
          18,
          8,
          8,
          120,
          36,
          53,
          91,
          18,
          16,
          8,
          51,
          38,
          88,
          73,
          30,
          18,
          47,
          19,
          35,
          10,
          20,
          43,
          41,
          21,
          6,
          26,
          16,
          24,
          39,
          22,
          30,
          24,
          35,
          25,
          13,
          51,
          50,
          20,
          24,
          17,
          26,
          5,
          49,
          26,
          43,
          16,
          32,
          30,
          22,
          18,
          17,
          7,
          20,
          71,
          19,
          56,
          10,
          15,
          106,
          59,
          14,
          13,
          14,
          83,
          41,
          17,
          12,
          38,
          11,
          11,
          13,
          13,
          42,
          86,
          35,
          103,
          7,
          23,
          103,
          40,
          13,
          26,
          8,
          17,
          104,
          50,
          5,
          16,
          21,
          39,
          7,
          52,
          31,
          19,
          79,
          31,
          45,
          7,
          20,
          16,
          38,
          6,
          53,
          28,
          70,
          9,
          25,
          8,
          42,
          35,
          28,
          8,
          11,
          48,
          81,
          104,
          26,
          76,
          67,
          110,
          13,
          29,
          130,
          99,
          11,
          56,
          29,
          72,
          43,
          12,
          17,
          78,
          33,
          84,
          26,
          12,
          37,
          17,
          18,
          35,
          23,
          49,
          22,
          15,
          16,
          50,
          107,
          77,
          30,
          15,
          26,
          33,
          37,
          15,
          54,
          34,
          41,
          24,
          39,
          42,
          38,
          12,
          25,
          24,
          10,
          24,
          16,
          48,
          21,
          45,
          42,
          18,
          22,
          30,
          44,
          15,
          44,
          22,
          72,
          6,
          106,
          14,
          20,
          35,
          16,
          56,
          32,
          29,
          60,
          44,
          30,
          23,
          64,
          87,
          221,
          78,
          22,
          17,
          9,
          38,
          384,
          54,
          25,
          29,
          66,
          133,
          14,
          43,
          35,
          81,
          31,
          22,
          52,
          20,
          72,
          61,
          45,
          22,
          21,
          63,
          25,
          38,
          26,
          87,
          13,
          120,
          127,
          138,
          80,
          19,
          10,
          29,
          17,
          37,
          103,
          141,
          60,
          17,
          57,
          57,
          40,
          47,
          91,
          22,
          25,
          27,
          76,
          24,
          70,
          45,
          34,
          54,
          49,
          103,
          47,
          28,
          29,
          11,
          20,
          6,
          15,
          26,
          31,
          49,
          62,
          57,
          42,
          23,
          41,
          47,
          26,
          38,
          12,
          33,
          109,
          21,
          113,
          9,
          16,
          79,
          40,
          72,
          19,
          62,
          30,
          37,
          101,
          102,
          17,
          59,
          18,
          5,
          52,
          52,
          38,
          24,
          58,
          27,
          114,
          34,
          17,
          62,
          22,
          25,
          16,
          46,
          34,
          56,
          51,
          46,
          43,
          12,
          19,
          40,
          87,
          30,
          36,
          37,
          27,
          70,
          67,
          77,
          153,
          32,
          44,
          21,
          53,
          28,
          26,
          66,
          39,
          22,
          95,
          11,
          24,
          73,
          8,
          105,
          70,
          45,
          34,
          85,
          44,
          40,
          72,
          15,
          68,
          40,
          49,
          50,
          16,
          54,
          30,
          11,
          9,
          69,
          7
         ]
        }
       ],
       "layout": {
        "barmode": "overlay",
        "legend": {
         "bgcolor": "#F5F6F9",
         "font": {
          "color": "#4D5663"
         }
        },
        "paper_bgcolor": "#F5F6F9",
        "plot_bgcolor": "#F5F6F9",
        "template": {
         "data": {
          "bar": [
           {
            "error_x": {
             "color": "#2a3f5f"
            },
            "error_y": {
             "color": "#2a3f5f"
            },
            "marker": {
             "line": {
              "color": "#E5ECF6",
              "width": 0.5
             },
             "pattern": {
              "fillmode": "overlay",
              "size": 10,
              "solidity": 0.2
             }
            },
            "type": "bar"
           }
          ],
          "barpolar": [
           {
            "marker": {
             "line": {
              "color": "#E5ECF6",
              "width": 0.5
             },
             "pattern": {
              "fillmode": "overlay",
              "size": 10,
              "solidity": 0.2
             }
            },
            "type": "barpolar"
           }
          ],
          "carpet": [
           {
            "aaxis": {
             "endlinecolor": "#2a3f5f",
             "gridcolor": "white",
             "linecolor": "white",
             "minorgridcolor": "white",
             "startlinecolor": "#2a3f5f"
            },
            "baxis": {
             "endlinecolor": "#2a3f5f",
             "gridcolor": "white",
             "linecolor": "white",
             "minorgridcolor": "white",
             "startlinecolor": "#2a3f5f"
            },
            "type": "carpet"
           }
          ],
          "choropleth": [
           {
            "colorbar": {
             "outlinewidth": 0,
             "ticks": ""
            },
            "type": "choropleth"
           }
          ],
          "contour": [
           {
            "colorbar": {
             "outlinewidth": 0,
             "ticks": ""
            },
            "colorscale": [
             [
              0,
              "#0d0887"
             ],
             [
              0.1111111111111111,
              "#46039f"
             ],
             [
              0.2222222222222222,
              "#7201a8"
             ],
             [
              0.3333333333333333,
              "#9c179e"
             ],
             [
              0.4444444444444444,
              "#bd3786"
             ],
             [
              0.5555555555555556,
              "#d8576b"
             ],
             [
              0.6666666666666666,
              "#ed7953"
             ],
             [
              0.7777777777777778,
              "#fb9f3a"
             ],
             [
              0.8888888888888888,
              "#fdca26"
             ],
             [
              1,
              "#f0f921"
             ]
            ],
            "type": "contour"
           }
          ],
          "contourcarpet": [
           {
            "colorbar": {
             "outlinewidth": 0,
             "ticks": ""
            },
            "type": "contourcarpet"
           }
          ],
          "heatmap": [
           {
            "colorbar": {
             "outlinewidth": 0,
             "ticks": ""
            },
            "colorscale": [
             [
              0,
              "#0d0887"
             ],
             [
              0.1111111111111111,
              "#46039f"
             ],
             [
              0.2222222222222222,
              "#7201a8"
             ],
             [
              0.3333333333333333,
              "#9c179e"
             ],
             [
              0.4444444444444444,
              "#bd3786"
             ],
             [
              0.5555555555555556,
              "#d8576b"
             ],
             [
              0.6666666666666666,
              "#ed7953"
             ],
             [
              0.7777777777777778,
              "#fb9f3a"
             ],
             [
              0.8888888888888888,
              "#fdca26"
             ],
             [
              1,
              "#f0f921"
             ]
            ],
            "type": "heatmap"
           }
          ],
          "heatmapgl": [
           {
            "colorbar": {
             "outlinewidth": 0,
             "ticks": ""
            },
            "colorscale": [
             [
              0,
              "#0d0887"
             ],
             [
              0.1111111111111111,
              "#46039f"
             ],
             [
              0.2222222222222222,
              "#7201a8"
             ],
             [
              0.3333333333333333,
              "#9c179e"
             ],
             [
              0.4444444444444444,
              "#bd3786"
             ],
             [
              0.5555555555555556,
              "#d8576b"
             ],
             [
              0.6666666666666666,
              "#ed7953"
             ],
             [
              0.7777777777777778,
              "#fb9f3a"
             ],
             [
              0.8888888888888888,
              "#fdca26"
             ],
             [
              1,
              "#f0f921"
             ]
            ],
            "type": "heatmapgl"
           }
          ],
          "histogram": [
           {
            "marker": {
             "pattern": {
              "fillmode": "overlay",
              "size": 10,
              "solidity": 0.2
             }
            },
            "type": "histogram"
           }
          ],
          "histogram2d": [
           {
            "colorbar": {
             "outlinewidth": 0,
             "ticks": ""
            },
            "colorscale": [
             [
              0,
              "#0d0887"
             ],
             [
              0.1111111111111111,
              "#46039f"
             ],
             [
              0.2222222222222222,
              "#7201a8"
             ],
             [
              0.3333333333333333,
              "#9c179e"
             ],
             [
              0.4444444444444444,
              "#bd3786"
             ],
             [
              0.5555555555555556,
              "#d8576b"
             ],
             [
              0.6666666666666666,
              "#ed7953"
             ],
             [
              0.7777777777777778,
              "#fb9f3a"
             ],
             [
              0.8888888888888888,
              "#fdca26"
             ],
             [
              1,
              "#f0f921"
             ]
            ],
            "type": "histogram2d"
           }
          ],
          "histogram2dcontour": [
           {
            "colorbar": {
             "outlinewidth": 0,
             "ticks": ""
            },
            "colorscale": [
             [
              0,
              "#0d0887"
             ],
             [
              0.1111111111111111,
              "#46039f"
             ],
             [
              0.2222222222222222,
              "#7201a8"
             ],
             [
              0.3333333333333333,
              "#9c179e"
             ],
             [
              0.4444444444444444,
              "#bd3786"
             ],
             [
              0.5555555555555556,
              "#d8576b"
             ],
             [
              0.6666666666666666,
              "#ed7953"
             ],
             [
              0.7777777777777778,
              "#fb9f3a"
             ],
             [
              0.8888888888888888,
              "#fdca26"
             ],
             [
              1,
              "#f0f921"
             ]
            ],
            "type": "histogram2dcontour"
           }
          ],
          "mesh3d": [
           {
            "colorbar": {
             "outlinewidth": 0,
             "ticks": ""
            },
            "type": "mesh3d"
           }
          ],
          "parcoords": [
           {
            "line": {
             "colorbar": {
              "outlinewidth": 0,
              "ticks": ""
             }
            },
            "type": "parcoords"
           }
          ],
          "pie": [
           {
            "automargin": true,
            "type": "pie"
           }
          ],
          "scatter": [
           {
            "marker": {
             "colorbar": {
              "outlinewidth": 0,
              "ticks": ""
             }
            },
            "type": "scatter"
           }
          ],
          "scatter3d": [
           {
            "line": {
             "colorbar": {
              "outlinewidth": 0,
              "ticks": ""
             }
            },
            "marker": {
             "colorbar": {
              "outlinewidth": 0,
              "ticks": ""
             }
            },
            "type": "scatter3d"
           }
          ],
          "scattercarpet": [
           {
            "marker": {
             "colorbar": {
              "outlinewidth": 0,
              "ticks": ""
             }
            },
            "type": "scattercarpet"
           }
          ],
          "scattergeo": [
           {
            "marker": {
             "colorbar": {
              "outlinewidth": 0,
              "ticks": ""
             }
            },
            "type": "scattergeo"
           }
          ],
          "scattergl": [
           {
            "marker": {
             "colorbar": {
              "outlinewidth": 0,
              "ticks": ""
             }
            },
            "type": "scattergl"
           }
          ],
          "scattermapbox": [
           {
            "marker": {
             "colorbar": {
              "outlinewidth": 0,
              "ticks": ""
             }
            },
            "type": "scattermapbox"
           }
          ],
          "scatterpolar": [
           {
            "marker": {
             "colorbar": {
              "outlinewidth": 0,
              "ticks": ""
             }
            },
            "type": "scatterpolar"
           }
          ],
          "scatterpolargl": [
           {
            "marker": {
             "colorbar": {
              "outlinewidth": 0,
              "ticks": ""
             }
            },
            "type": "scatterpolargl"
           }
          ],
          "scatterternary": [
           {
            "marker": {
             "colorbar": {
              "outlinewidth": 0,
              "ticks": ""
             }
            },
            "type": "scatterternary"
           }
          ],
          "surface": [
           {
            "colorbar": {
             "outlinewidth": 0,
             "ticks": ""
            },
            "colorscale": [
             [
              0,
              "#0d0887"
             ],
             [
              0.1111111111111111,
              "#46039f"
             ],
             [
              0.2222222222222222,
              "#7201a8"
             ],
             [
              0.3333333333333333,
              "#9c179e"
             ],
             [
              0.4444444444444444,
              "#bd3786"
             ],
             [
              0.5555555555555556,
              "#d8576b"
             ],
             [
              0.6666666666666666,
              "#ed7953"
             ],
             [
              0.7777777777777778,
              "#fb9f3a"
             ],
             [
              0.8888888888888888,
              "#fdca26"
             ],
             [
              1,
              "#f0f921"
             ]
            ],
            "type": "surface"
           }
          ],
          "table": [
           {
            "cells": {
             "fill": {
              "color": "#EBF0F8"
             },
             "line": {
              "color": "white"
             }
            },
            "header": {
             "fill": {
              "color": "#C8D4E3"
             },
             "line": {
              "color": "white"
             }
            },
            "type": "table"
           }
          ]
         },
         "layout": {
          "annotationdefaults": {
           "arrowcolor": "#2a3f5f",
           "arrowhead": 0,
           "arrowwidth": 1
          },
          "autotypenumbers": "strict",
          "coloraxis": {
           "colorbar": {
            "outlinewidth": 0,
            "ticks": ""
           }
          },
          "colorscale": {
           "diverging": [
            [
             0,
             "#8e0152"
            ],
            [
             0.1,
             "#c51b7d"
            ],
            [
             0.2,
             "#de77ae"
            ],
            [
             0.3,
             "#f1b6da"
            ],
            [
             0.4,
             "#fde0ef"
            ],
            [
             0.5,
             "#f7f7f7"
            ],
            [
             0.6,
             "#e6f5d0"
            ],
            [
             0.7,
             "#b8e186"
            ],
            [
             0.8,
             "#7fbc41"
            ],
            [
             0.9,
             "#4d9221"
            ],
            [
             1,
             "#276419"
            ]
           ],
           "sequential": [
            [
             0,
             "#0d0887"
            ],
            [
             0.1111111111111111,
             "#46039f"
            ],
            [
             0.2222222222222222,
             "#7201a8"
            ],
            [
             0.3333333333333333,
             "#9c179e"
            ],
            [
             0.4444444444444444,
             "#bd3786"
            ],
            [
             0.5555555555555556,
             "#d8576b"
            ],
            [
             0.6666666666666666,
             "#ed7953"
            ],
            [
             0.7777777777777778,
             "#fb9f3a"
            ],
            [
             0.8888888888888888,
             "#fdca26"
            ],
            [
             1,
             "#f0f921"
            ]
           ],
           "sequentialminus": [
            [
             0,
             "#0d0887"
            ],
            [
             0.1111111111111111,
             "#46039f"
            ],
            [
             0.2222222222222222,
             "#7201a8"
            ],
            [
             0.3333333333333333,
             "#9c179e"
            ],
            [
             0.4444444444444444,
             "#bd3786"
            ],
            [
             0.5555555555555556,
             "#d8576b"
            ],
            [
             0.6666666666666666,
             "#ed7953"
            ],
            [
             0.7777777777777778,
             "#fb9f3a"
            ],
            [
             0.8888888888888888,
             "#fdca26"
            ],
            [
             1,
             "#f0f921"
            ]
           ]
          },
          "colorway": [
           "#636efa",
           "#EF553B",
           "#00cc96",
           "#ab63fa",
           "#FFA15A",
           "#19d3f3",
           "#FF6692",
           "#B6E880",
           "#FF97FF",
           "#FECB52"
          ],
          "font": {
           "color": "#2a3f5f"
          },
          "geo": {
           "bgcolor": "white",
           "lakecolor": "white",
           "landcolor": "#E5ECF6",
           "showlakes": true,
           "showland": true,
           "subunitcolor": "white"
          },
          "hoverlabel": {
           "align": "left"
          },
          "hovermode": "closest",
          "mapbox": {
           "style": "light"
          },
          "paper_bgcolor": "white",
          "plot_bgcolor": "#E5ECF6",
          "polar": {
           "angularaxis": {
            "gridcolor": "white",
            "linecolor": "white",
            "ticks": ""
           },
           "bgcolor": "#E5ECF6",
           "radialaxis": {
            "gridcolor": "white",
            "linecolor": "white",
            "ticks": ""
           }
          },
          "scene": {
           "xaxis": {
            "backgroundcolor": "#E5ECF6",
            "gridcolor": "white",
            "gridwidth": 2,
            "linecolor": "white",
            "showbackground": true,
            "ticks": "",
            "zerolinecolor": "white"
           },
           "yaxis": {
            "backgroundcolor": "#E5ECF6",
            "gridcolor": "white",
            "gridwidth": 2,
            "linecolor": "white",
            "showbackground": true,
            "ticks": "",
            "zerolinecolor": "white"
           },
           "zaxis": {
            "backgroundcolor": "#E5ECF6",
            "gridcolor": "white",
            "gridwidth": 2,
            "linecolor": "white",
            "showbackground": true,
            "ticks": "",
            "zerolinecolor": "white"
           }
          },
          "shapedefaults": {
           "line": {
            "color": "#2a3f5f"
           }
          },
          "ternary": {
           "aaxis": {
            "gridcolor": "white",
            "linecolor": "white",
            "ticks": ""
           },
           "baxis": {
            "gridcolor": "white",
            "linecolor": "white",
            "ticks": ""
           },
           "bgcolor": "#E5ECF6",
           "caxis": {
            "gridcolor": "white",
            "linecolor": "white",
            "ticks": ""
           }
          },
          "title": {
           "x": 0.05
          },
          "xaxis": {
           "automargin": true,
           "gridcolor": "white",
           "linecolor": "white",
           "ticks": "",
           "title": {
            "standoff": 15
           },
           "zerolinecolor": "white",
           "zerolinewidth": 2
          },
          "yaxis": {
           "automargin": true,
           "gridcolor": "white",
           "linecolor": "white",
           "ticks": "",
           "title": {
            "standoff": 15
           },
           "zerolinecolor": "white",
           "zerolinewidth": 2
          }
         }
        },
        "title": {
         "font": {
          "color": "#4D5663"
         },
         "text": "Количество слов"
        },
        "xaxis": {
         "gridcolor": "#E1E5ED",
         "showgrid": true,
         "tickfont": {
          "color": "#4D5663"
         },
         "title": {
          "font": {
           "color": "#4D5663"
          },
          "text": "Количество слов"
         },
         "zerolinecolor": "#E1E5ED"
        },
        "yaxis": {
         "gridcolor": "#E1E5ED",
         "showgrid": true,
         "tickfont": {
          "color": "#4D5663"
         },
         "title": {
          "font": {
           "color": "#4D5663"
          },
          "text": "Количество отзывов, имеющих столько слов"
         },
         "zerolinecolor": "#E1E5ED"
        }
       }
      },
      "text/html": [
       "<div>                            <div id=\"124afd34-8a76-42ed-91e9-4d2d4fc8fd1d\" class=\"plotly-graph-div\" style=\"height:525px; width:100%;\"></div>            <script type=\"text/javascript\">                require([\"plotly\"], function(Plotly) {                    window.PLOTLYENV=window.PLOTLYENV || {};\n",
       "                    window.PLOTLYENV.BASE_URL='https://plot.ly';                                    if (document.getElementById(\"124afd34-8a76-42ed-91e9-4d2d4fc8fd1d\")) {                    Plotly.newPlot(                        \"124afd34-8a76-42ed-91e9-4d2d4fc8fd1d\",                        [{\"histfunc\":\"count\",\"histnorm\":\"\",\"marker\":{\"color\":\"rgba(255, 153, 51, 1.0)\",\"line\":{\"color\":\"#4D5663\",\"width\":1.3}},\"name\":\"w_count\",\"opacity\":0.8,\"orientation\":\"v\",\"type\":\"histogram\",\"x\":[46,59,34,15,20,93,31,45,109,30,138,37,97,61,14,24,23,45,21,59,97,49,16,187,26,102,116,57,35,163,27,20,7,38,34,56,81,44,19,15,144,94,143,38,33,33,61,16,142,32,24,32,22,32,25,82,21,20,11,34,37,10,21,17,11,16,36,19,13,16,23,143,31,44,82,31,41,30,52,160,138,38,40,97,83,65,54,155,46,129,94,178,39,28,153,19,58,161,44,11,8,19,19,24,27,67,9,32,29,18,14,26,103,47,14,57,20,55,8,11,38,12,13,12,54,16,60,15,60,30,80,14,19,41,41,37,17,16,16,28,11,43,13,68,38,163,13,10,22,41,30,37,34,177,42,31,204,22,10,57,57,12,64,14,49,104,22,169,24,76,14,31,84,22,25,171,6,53,22,134,64,31,5,8,65,47,73,96,10,56,37,30,45,101,90,42,76,31,37,57,64,27,18,145,34,44,30,13,48,24,33,101,29,71,49,25,129,14,135,10,14,11,15,122,71,56,22,15,25,14,11,17,36,37,9,19,59,33,26,17,13,25,131,76,39,36,13,12,69,35,79,73,72,17,63,41,32,77,36,154,29,60,80,20,19,33,11,35,49,48,104,13,99,30,42,24,38,33,22,22,10,30,14,26,24,49,178,132,183,27,21,18,38,56,50,32,32,26,9,38,39,118,11,17,21,58,33,4,14,13,11,15,22,15,16,67,32,8,10,14,66,12,16,21,20,11,32,20,17,41,9,55,45,163,50,27,48,83,24,17,24,65,36,40,14,95,54,7,69,20,98,8,58,149,27,27,59,83,57,25,53,57,65,116,25,31,26,14,46,37,58,14,5,16,15,148,162,53,21,20,17,178,13,179,117,13,12,24,73,118,39,34,41,47,25,49,164,68,22,7,71,59,110,52,21,4,17,52,24,67,18,16,29,24,17,10,8,32,22,23,22,29,11,30,136,11,50,15,22,33,27,36,20,30,20,8,81,63,19,15,11,12,49,29,108,19,9,93,21,35,13,22,42,13,84,22,134,24,16,84,84,48,27,24,121,36,33,84,48,25,35,31,43,84,21,50,28,15,84,25,25,84,84,30,19,51,30,130,47,32,49,32,109,249,57,124,24,11,41,3,162,69,30,54,17,28,40,21,24,58,28,117,117,25,45,73,45,117,57,36,59,47,47,37,90,15,8,30,30,65,31,30,43,19,33,36,26,35,10,86,28,57,30,101,27,42,33,53,78,25,9,22,34,5,36,10,24,19,19,40,170,25,17,85,22,112,28,16,86,65,43,31,52,50,43,48,70,42,18,46,14,23,79,41,30,75,32,26,10,108,14,8,40,47,35,48,44,8,27,20,13,48,56,50,17,45,30,55,26,38,18,42,48,60,51,17,56,11,41,24,12,23,13,41,56,4,61,162,104,47,20,77,57,40,62,96,25,30,26,15,81,88,31,24,27,40,33,13,47,129,67,79,27,20,29,11,12,10,10,15,69,37,65,69,7,31,52,78,19,21,67,25,25,77,9,60,16,86,45,13,26,53,81,25,139,37,45,9,63,50,15,19,57,69,80,14,61,70,28,32,25,26,26,40,17,38,70,169,11,21,29,45,33,32,29,18,34,3,55,12,15,23,17,58,9,18,23,43,46,10,30,37,113,39,25,16,23,120,53,32,32,21,17,32,34,63,15,19,30,54,41,43,33,27,10,213,17,42,47,60,52,18,101,51,53,59,39,22,75,21,16,96,16,32,32,81,28,15,57,28,35,65,81,18,117,24,53,35,38,62,20,31,22,43,28,44,39,39,19,39,76,13,30,7,20,5,17,22,37,23,44,39,28,36,19,43,12,33,43,45,31,53,28,22,27,29,13,17,21,34,13,64,24,62,60,33,55,22,17,40,11,33,20,16,16,80,10,9,2,21,52,65,18,80,58,39,29,103,22,25,40,129,67,18,22,52,11,42,60,27,18,73,113,75,26,7,71,28,204,47,56,25,103,32,27,72,37,9,136,73,16,54,75,316,98,21,13,11,16,27,4,52,59,49,53,13,138,53,15,124,23,30,21,22,19,39,29,117,10,47,30,36,27,17,33,8,28,76,74,49,57,31,12,193,131,87,14,25,29,26,86,23,63,53,26,9,90,97,26,28,59,21,29,22,8,26,46,36,57,24,20,11,93,22,16,50,31,17,21,11,14,27,25,87,32,29,26,37,59,164,20,28,19,43,44,29,54,40,18,39,18,74,45,25,38,14,56,22,22,55,17,47,16,9,20,67,52,17,14,25,97,49,23,137,14,26,138,143,46,20,27,52,50,13,26,131,15,15,42,25,80,9,28,21,11,59,47,31,17,58,14,16,28,109,16,10,22,89,8,27,50,139,10,60,22,7,32,21,21,51,70,77,36,44,9,34,43,21,88,20,45,42,57,269,74,37,22,100,83,6,36,16,25,31,25,35,15,26,57,40,16,41,37,35,61,31,38,27,45,34,33,79,56,57,33,66,21,12,9,113,12,36,33,58,39,6,68,138,69,12,50,31,193,12,30,20,49,51,51,156,25,116,27,20,33,42,21,36,32,21,18,22,49,24,32,21,34,69,110,62,40,76,36,25,23,118,52,60,23,38,11,14,24,22,17,52,89,36,62,28,33,17,58,11,33,12,25,20,100,48,12,14,21,79,15,81,33,23,26,84,24,33,41,16,43,22,39,104,52,28,24,30,13,74,72,56,61,17,54,6,26,19,59,81,46,59,43,23,40,31,13,9,23,34,87,51,30,18,21,41,31,10,22,20,9,120,38,47,41,24,57,102,4,44,10,8,53,52,51,25,61,41,14,20,16,28,9,23,17,32,12,24,24,58,8,20,13,80,19,11,15,37,136,24,81,17,39,7,32,55,13,28,52,7,141,30,21,46,121,66,95,9,5,16,75,39,165,11,25,13,106,3,83,48,26,29,16,14,9,58,29,21,80,54,28,43,40,9,22,30,35,24,18,26,25,12,43,20,40,73,6,51,45,8,48,9,383,22,33,69,63,23,9,13,32,110,24,26,40,61,14,34,26,77,21,54,116,24,94,24,47,13,8,16,37,24,24,6,26,17,52,41,7,15,3,34,8,57,52,17,56,47,21,16,25,30,29,50,42,27,23,5,154,34,54,21,23,20,58,40,51,31,23,18,66,29,30,18,41,126,14,65,22,15,16,21,11,25,56,25,59,35,60,70,23,22,9,8,58,15,45,45,8,60,10,38,77,41,10,9,31,38,44,79,18,8,8,120,36,53,91,18,16,8,51,38,88,73,30,18,47,19,35,10,20,43,41,21,6,26,16,24,39,22,30,24,35,25,13,51,50,20,24,17,26,5,49,26,43,16,32,30,22,18,17,7,20,71,19,56,10,15,106,59,14,13,14,83,41,17,12,38,11,11,13,13,42,86,35,103,7,23,103,40,13,26,8,17,104,50,5,16,21,39,7,52,31,19,79,31,45,7,20,16,38,6,53,28,70,9,25,8,42,35,28,8,11,48,81,104,26,76,67,110,13,29,130,99,11,56,29,72,43,12,17,78,33,84,26,12,37,17,18,35,23,49,22,15,16,50,107,77,30,15,26,33,37,15,54,34,41,24,39,42,38,12,25,24,10,24,16,48,21,45,42,18,22,30,44,15,44,22,72,6,106,14,20,35,16,56,32,29,60,44,30,23,64,87,221,78,22,17,9,38,384,54,25,29,66,133,14,43,35,81,31,22,52,20,72,61,45,22,21,63,25,38,26,87,13,120,127,138,80,19,10,29,17,37,103,141,60,17,57,57,40,47,91,22,25,27,76,24,70,45,34,54,49,103,47,28,29,11,20,6,15,26,31,49,62,57,42,23,41,47,26,38,12,33,109,21,113,9,16,79,40,72,19,62,30,37,101,102,17,59,18,5,52,52,38,24,58,27,114,34,17,62,22,25,16,46,34,56,51,46,43,12,19,40,87,30,36,37,27,70,67,77,153,32,44,21,53,28,26,66,39,22,95,11,24,73,8,105,70,45,34,85,44,40,72,15,68,40,49,50,16,54,30,11,9,69,7]}],                        {\"barmode\":\"overlay\",\"legend\":{\"bgcolor\":\"#F5F6F9\",\"font\":{\"color\":\"#4D5663\"}},\"paper_bgcolor\":\"#F5F6F9\",\"plot_bgcolor\":\"#F5F6F9\",\"template\":{\"data\":{\"bar\":[{\"error_x\":{\"color\":\"#2a3f5f\"},\"error_y\":{\"color\":\"#2a3f5f\"},\"marker\":{\"line\":{\"color\":\"#E5ECF6\",\"width\":0.5},\"pattern\":{\"fillmode\":\"overlay\",\"size\":10,\"solidity\":0.2}},\"type\":\"bar\"}],\"barpolar\":[{\"marker\":{\"line\":{\"color\":\"#E5ECF6\",\"width\":0.5},\"pattern\":{\"fillmode\":\"overlay\",\"size\":10,\"solidity\":0.2}},\"type\":\"barpolar\"}],\"carpet\":[{\"aaxis\":{\"endlinecolor\":\"#2a3f5f\",\"gridcolor\":\"white\",\"linecolor\":\"white\",\"minorgridcolor\":\"white\",\"startlinecolor\":\"#2a3f5f\"},\"baxis\":{\"endlinecolor\":\"#2a3f5f\",\"gridcolor\":\"white\",\"linecolor\":\"white\",\"minorgridcolor\":\"white\",\"startlinecolor\":\"#2a3f5f\"},\"type\":\"carpet\"}],\"choropleth\":[{\"colorbar\":{\"outlinewidth\":0,\"ticks\":\"\"},\"type\":\"choropleth\"}],\"contour\":[{\"colorbar\":{\"outlinewidth\":0,\"ticks\":\"\"},\"colorscale\":[[0.0,\"#0d0887\"],[0.1111111111111111,\"#46039f\"],[0.2222222222222222,\"#7201a8\"],[0.3333333333333333,\"#9c179e\"],[0.4444444444444444,\"#bd3786\"],[0.5555555555555556,\"#d8576b\"],[0.6666666666666666,\"#ed7953\"],[0.7777777777777778,\"#fb9f3a\"],[0.8888888888888888,\"#fdca26\"],[1.0,\"#f0f921\"]],\"type\":\"contour\"}],\"contourcarpet\":[{\"colorbar\":{\"outlinewidth\":0,\"ticks\":\"\"},\"type\":\"contourcarpet\"}],\"heatmap\":[{\"colorbar\":{\"outlinewidth\":0,\"ticks\":\"\"},\"colorscale\":[[0.0,\"#0d0887\"],[0.1111111111111111,\"#46039f\"],[0.2222222222222222,\"#7201a8\"],[0.3333333333333333,\"#9c179e\"],[0.4444444444444444,\"#bd3786\"],[0.5555555555555556,\"#d8576b\"],[0.6666666666666666,\"#ed7953\"],[0.7777777777777778,\"#fb9f3a\"],[0.8888888888888888,\"#fdca26\"],[1.0,\"#f0f921\"]],\"type\":\"heatmap\"}],\"heatmapgl\":[{\"colorbar\":{\"outlinewidth\":0,\"ticks\":\"\"},\"colorscale\":[[0.0,\"#0d0887\"],[0.1111111111111111,\"#46039f\"],[0.2222222222222222,\"#7201a8\"],[0.3333333333333333,\"#9c179e\"],[0.4444444444444444,\"#bd3786\"],[0.5555555555555556,\"#d8576b\"],[0.6666666666666666,\"#ed7953\"],[0.7777777777777778,\"#fb9f3a\"],[0.8888888888888888,\"#fdca26\"],[1.0,\"#f0f921\"]],\"type\":\"heatmapgl\"}],\"histogram\":[{\"marker\":{\"pattern\":{\"fillmode\":\"overlay\",\"size\":10,\"solidity\":0.2}},\"type\":\"histogram\"}],\"histogram2d\":[{\"colorbar\":{\"outlinewidth\":0,\"ticks\":\"\"},\"colorscale\":[[0.0,\"#0d0887\"],[0.1111111111111111,\"#46039f\"],[0.2222222222222222,\"#7201a8\"],[0.3333333333333333,\"#9c179e\"],[0.4444444444444444,\"#bd3786\"],[0.5555555555555556,\"#d8576b\"],[0.6666666666666666,\"#ed7953\"],[0.7777777777777778,\"#fb9f3a\"],[0.8888888888888888,\"#fdca26\"],[1.0,\"#f0f921\"]],\"type\":\"histogram2d\"}],\"histogram2dcontour\":[{\"colorbar\":{\"outlinewidth\":0,\"ticks\":\"\"},\"colorscale\":[[0.0,\"#0d0887\"],[0.1111111111111111,\"#46039f\"],[0.2222222222222222,\"#7201a8\"],[0.3333333333333333,\"#9c179e\"],[0.4444444444444444,\"#bd3786\"],[0.5555555555555556,\"#d8576b\"],[0.6666666666666666,\"#ed7953\"],[0.7777777777777778,\"#fb9f3a\"],[0.8888888888888888,\"#fdca26\"],[1.0,\"#f0f921\"]],\"type\":\"histogram2dcontour\"}],\"mesh3d\":[{\"colorbar\":{\"outlinewidth\":0,\"ticks\":\"\"},\"type\":\"mesh3d\"}],\"parcoords\":[{\"line\":{\"colorbar\":{\"outlinewidth\":0,\"ticks\":\"\"}},\"type\":\"parcoords\"}],\"pie\":[{\"automargin\":true,\"type\":\"pie\"}],\"scatter\":[{\"marker\":{\"colorbar\":{\"outlinewidth\":0,\"ticks\":\"\"}},\"type\":\"scatter\"}],\"scatter3d\":[{\"line\":{\"colorbar\":{\"outlinewidth\":0,\"ticks\":\"\"}},\"marker\":{\"colorbar\":{\"outlinewidth\":0,\"ticks\":\"\"}},\"type\":\"scatter3d\"}],\"scattercarpet\":[{\"marker\":{\"colorbar\":{\"outlinewidth\":0,\"ticks\":\"\"}},\"type\":\"scattercarpet\"}],\"scattergeo\":[{\"marker\":{\"colorbar\":{\"outlinewidth\":0,\"ticks\":\"\"}},\"type\":\"scattergeo\"}],\"scattergl\":[{\"marker\":{\"colorbar\":{\"outlinewidth\":0,\"ticks\":\"\"}},\"type\":\"scattergl\"}],\"scattermapbox\":[{\"marker\":{\"colorbar\":{\"outlinewidth\":0,\"ticks\":\"\"}},\"type\":\"scattermapbox\"}],\"scatterpolar\":[{\"marker\":{\"colorbar\":{\"outlinewidth\":0,\"ticks\":\"\"}},\"type\":\"scatterpolar\"}],\"scatterpolargl\":[{\"marker\":{\"colorbar\":{\"outlinewidth\":0,\"ticks\":\"\"}},\"type\":\"scatterpolargl\"}],\"scatterternary\":[{\"marker\":{\"colorbar\":{\"outlinewidth\":0,\"ticks\":\"\"}},\"type\":\"scatterternary\"}],\"surface\":[{\"colorbar\":{\"outlinewidth\":0,\"ticks\":\"\"},\"colorscale\":[[0.0,\"#0d0887\"],[0.1111111111111111,\"#46039f\"],[0.2222222222222222,\"#7201a8\"],[0.3333333333333333,\"#9c179e\"],[0.4444444444444444,\"#bd3786\"],[0.5555555555555556,\"#d8576b\"],[0.6666666666666666,\"#ed7953\"],[0.7777777777777778,\"#fb9f3a\"],[0.8888888888888888,\"#fdca26\"],[1.0,\"#f0f921\"]],\"type\":\"surface\"}],\"table\":[{\"cells\":{\"fill\":{\"color\":\"#EBF0F8\"},\"line\":{\"color\":\"white\"}},\"header\":{\"fill\":{\"color\":\"#C8D4E3\"},\"line\":{\"color\":\"white\"}},\"type\":\"table\"}]},\"layout\":{\"annotationdefaults\":{\"arrowcolor\":\"#2a3f5f\",\"arrowhead\":0,\"arrowwidth\":1},\"autotypenumbers\":\"strict\",\"coloraxis\":{\"colorbar\":{\"outlinewidth\":0,\"ticks\":\"\"}},\"colorscale\":{\"diverging\":[[0,\"#8e0152\"],[0.1,\"#c51b7d\"],[0.2,\"#de77ae\"],[0.3,\"#f1b6da\"],[0.4,\"#fde0ef\"],[0.5,\"#f7f7f7\"],[0.6,\"#e6f5d0\"],[0.7,\"#b8e186\"],[0.8,\"#7fbc41\"],[0.9,\"#4d9221\"],[1,\"#276419\"]],\"sequential\":[[0.0,\"#0d0887\"],[0.1111111111111111,\"#46039f\"],[0.2222222222222222,\"#7201a8\"],[0.3333333333333333,\"#9c179e\"],[0.4444444444444444,\"#bd3786\"],[0.5555555555555556,\"#d8576b\"],[0.6666666666666666,\"#ed7953\"],[0.7777777777777778,\"#fb9f3a\"],[0.8888888888888888,\"#fdca26\"],[1.0,\"#f0f921\"]],\"sequentialminus\":[[0.0,\"#0d0887\"],[0.1111111111111111,\"#46039f\"],[0.2222222222222222,\"#7201a8\"],[0.3333333333333333,\"#9c179e\"],[0.4444444444444444,\"#bd3786\"],[0.5555555555555556,\"#d8576b\"],[0.6666666666666666,\"#ed7953\"],[0.7777777777777778,\"#fb9f3a\"],[0.8888888888888888,\"#fdca26\"],[1.0,\"#f0f921\"]]},\"colorway\":[\"#636efa\",\"#EF553B\",\"#00cc96\",\"#ab63fa\",\"#FFA15A\",\"#19d3f3\",\"#FF6692\",\"#B6E880\",\"#FF97FF\",\"#FECB52\"],\"font\":{\"color\":\"#2a3f5f\"},\"geo\":{\"bgcolor\":\"white\",\"lakecolor\":\"white\",\"landcolor\":\"#E5ECF6\",\"showlakes\":true,\"showland\":true,\"subunitcolor\":\"white\"},\"hoverlabel\":{\"align\":\"left\"},\"hovermode\":\"closest\",\"mapbox\":{\"style\":\"light\"},\"paper_bgcolor\":\"white\",\"plot_bgcolor\":\"#E5ECF6\",\"polar\":{\"angularaxis\":{\"gridcolor\":\"white\",\"linecolor\":\"white\",\"ticks\":\"\"},\"bgcolor\":\"#E5ECF6\",\"radialaxis\":{\"gridcolor\":\"white\",\"linecolor\":\"white\",\"ticks\":\"\"}},\"scene\":{\"xaxis\":{\"backgroundcolor\":\"#E5ECF6\",\"gridcolor\":\"white\",\"gridwidth\":2,\"linecolor\":\"white\",\"showbackground\":true,\"ticks\":\"\",\"zerolinecolor\":\"white\"},\"yaxis\":{\"backgroundcolor\":\"#E5ECF6\",\"gridcolor\":\"white\",\"gridwidth\":2,\"linecolor\":\"white\",\"showbackground\":true,\"ticks\":\"\",\"zerolinecolor\":\"white\"},\"zaxis\":{\"backgroundcolor\":\"#E5ECF6\",\"gridcolor\":\"white\",\"gridwidth\":2,\"linecolor\":\"white\",\"showbackground\":true,\"ticks\":\"\",\"zerolinecolor\":\"white\"}},\"shapedefaults\":{\"line\":{\"color\":\"#2a3f5f\"}},\"ternary\":{\"aaxis\":{\"gridcolor\":\"white\",\"linecolor\":\"white\",\"ticks\":\"\"},\"baxis\":{\"gridcolor\":\"white\",\"linecolor\":\"white\",\"ticks\":\"\"},\"bgcolor\":\"#E5ECF6\",\"caxis\":{\"gridcolor\":\"white\",\"linecolor\":\"white\",\"ticks\":\"\"}},\"title\":{\"x\":0.05},\"xaxis\":{\"automargin\":true,\"gridcolor\":\"white\",\"linecolor\":\"white\",\"ticks\":\"\",\"title\":{\"standoff\":15},\"zerolinecolor\":\"white\",\"zerolinewidth\":2},\"yaxis\":{\"automargin\":true,\"gridcolor\":\"white\",\"linecolor\":\"white\",\"ticks\":\"\",\"title\":{\"standoff\":15},\"zerolinecolor\":\"white\",\"zerolinewidth\":2}}},\"title\":{\"font\":{\"color\":\"#4D5663\"},\"text\":\"\\u041a\\u043e\\u043b\\u0438\\u0447\\u0435\\u0441\\u0442\\u0432\\u043e \\u0441\\u043b\\u043e\\u0432\"},\"xaxis\":{\"gridcolor\":\"#E1E5ED\",\"showgrid\":true,\"tickfont\":{\"color\":\"#4D5663\"},\"title\":{\"font\":{\"color\":\"#4D5663\"},\"text\":\"\\u041a\\u043e\\u043b\\u0438\\u0447\\u0435\\u0441\\u0442\\u0432\\u043e \\u0441\\u043b\\u043e\\u0432\"},\"zerolinecolor\":\"#E1E5ED\"},\"yaxis\":{\"gridcolor\":\"#E1E5ED\",\"showgrid\":true,\"tickfont\":{\"color\":\"#4D5663\"},\"title\":{\"font\":{\"color\":\"#4D5663\"},\"text\":\"\\u041a\\u043e\\u043b\\u0438\\u0447\\u0435\\u0441\\u0442\\u0432\\u043e \\u043e\\u0442\\u0437\\u044b\\u0432\\u043e\\u0432, \\u0438\\u043c\\u0435\\u044e\\u0449\\u0438\\u0445 \\u0441\\u0442\\u043e\\u043b\\u044c\\u043a\\u043e \\u0441\\u043b\\u043e\\u0432\"},\"zerolinecolor\":\"#E1E5ED\"}},                        {\"showLink\": true, \"linkText\": \"Export to plot.ly\", \"plotlyServerURL\": \"https://plot.ly\", \"responsive\": true}                    ).then(function(){\n",
       "                            \n",
       "var gd = document.getElementById('124afd34-8a76-42ed-91e9-4d2d4fc8fd1d');\n",
       "var x = new MutationObserver(function (mutations, observer) {{\n",
       "        var display = window.getComputedStyle(gd).display;\n",
       "        if (!display || display === 'none') {{\n",
       "            console.log([gd, 'removed!']);\n",
       "            Plotly.purge(gd);\n",
       "            observer.disconnect();\n",
       "        }}\n",
       "}});\n",
       "\n",
       "// Listen for the removal of the full notebook cells\n",
       "var notebookContainer = gd.closest('#notebook-container');\n",
       "if (notebookContainer) {{\n",
       "    x.observe(notebookContainer, {childList: true});\n",
       "}}\n",
       "\n",
       "// Listen for the clearing of the current output cell\n",
       "var outputEl = gd.closest('.output');\n",
       "if (outputEl) {{\n",
       "    x.observe(outputEl, {childList: true});\n",
       "}}\n",
       "\n",
       "                        })                };                });            </script>        </div>"
      ]
     },
     "metadata": {},
     "output_type": "display_data"
    }
   ],
   "source": [
    "info['w_count'].iplot(kind='hist', xTitle = \"Количество слов\", yTitle = \"Количество отзывов, имеющих столько слов\", title = \"Количество слов\")"
   ]
  },
  {
   "cell_type": "code",
   "execution_count": 27,
   "id": "f0a99761",
   "metadata": {},
   "outputs": [
    {
     "data": {
      "application/vnd.plotly.v1+json": {
       "config": {
        "linkText": "Export to plot.ly",
        "plotlyServerURL": "https://plot.ly",
        "showLink": true
       },
       "data": [
        {
         "histfunc": "count",
         "histnorm": "",
         "marker": {
          "color": "rgba(255, 153, 51, 1.0)",
          "line": {
           "color": "#4D5663",
           "width": 1.3
          }
         },
         "name": "middle_words",
         "opacity": 0.8,
         "orientation": "v",
         "type": "histogram",
         "x": [
          6.239130434782608,
          8,
          6.852941176470588,
          7.2,
          6.9,
          6.580645161290323,
          7.129032258064516,
          7.666666666666667,
          6.81651376146789,
          6.9,
          6.869565217391305,
          7.918918918918919,
          7.329896907216495,
          7.967213114754099,
          8.428571428571429,
          6.708333333333333,
          7.608695652173913,
          6.2444444444444445,
          7.9523809523809526,
          7.3559322033898304,
          7.298969072164948,
          7.285714285714286,
          7.75,
          7.668449197860962,
          7.1923076923076925,
          6.598039215686274,
          6.637931034482759,
          8.175438596491228,
          7.114285714285714,
          8.306748466257668,
          8.666666666666666,
          7.85,
          7,
          9.447368421052632,
          8.588235294117647,
          8.142857142857142,
          6.827160493827161,
          7.704545454545454,
          6.157894736842105,
          6.2,
          7.208333333333333,
          7.25531914893617,
          7.601398601398602,
          6.947368421052632,
          7.181818181818182,
          7.363636363636363,
          6.885245901639344,
          9,
          7.091549295774648,
          7.53125,
          6.416666666666667,
          7.09375,
          8,
          7.78125,
          8.4,
          7.585365853658536,
          7.380952380952381,
          7.1,
          8.272727272727273,
          6.676470588235294,
          7.108108108108108,
          8.1,
          6.714285714285714,
          7.588235294117647,
          9.181818181818182,
          7.0625,
          6.805555555555555,
          8.052631578947368,
          7.384615384615385,
          7.125,
          7.130434782608695,
          6.804195804195804,
          6.806451612903226,
          7.363636363636363,
          6.829268292682927,
          6.903225806451613,
          6.975609756097561,
          7.133333333333334,
          7.0576923076923075,
          7.44375,
          6.739130434782608,
          7.105263157894737,
          6.8,
          7.288659793814433,
          7.108433734939759,
          6.984615384615385,
          7.203703703703703,
          6.632258064516129,
          7.543478260869565,
          7.403100775193798,
          7.691489361702128,
          7.820224719101123,
          8.58974358974359,
          7.928571428571429,
          6.980392156862745,
          7.315789473684211,
          7.362068965517241,
          7.888198757763975,
          7.068181818181818,
          8.909090909090908,
          8,
          9.736842105263158,
          9.368421052631579,
          8.708333333333334,
          8.074074074074074,
          6.686567164179104,
          9,
          7.59375,
          8.310344827586206,
          8.666666666666666,
          11.428571428571429,
          7.384615384615385,
          7.233009708737864,
          6.404255319148936,
          6.642857142857143,
          7.578947368421052,
          8.05,
          7.054545454545455,
          7.875,
          7.909090909090909,
          6.842105263157895,
          7.583333333333333,
          7.846153846153846,
          5.833333333333333,
          6.777777777777778,
          6.9375,
          8.466666666666667,
          7.733333333333333,
          7.1,
          6.9,
          7.6,
          7,
          7.105263157894737,
          7.902439024390244,
          7.902439024390244,
          6.108108108108108,
          6.0588235294117645,
          7.4375,
          7.3125,
          7.285714285714286,
          7.909090909090909,
          7.627906976744186,
          7,
          7.602941176470588,
          6.7631578947368425,
          8.306748466257668,
          7.461538461538462,
          8.1,
          7.681818181818182,
          7.121951219512195,
          7.433333333333334,
          7.648648648648648,
          6.176470588235294,
          7.468926553672317,
          6.809523809523809,
          8.612903225806452,
          6.254901960784314,
          7.409090909090909,
          8.3,
          7,
          7,
          5.916666666666667,
          6.390625,
          8.5,
          8,
          6.951923076923077,
          5.954545454545454,
          8.029585798816568,
          7.666666666666667,
          7.2105263157894735,
          8.714285714285714,
          7.774193548387097,
          7.309523809523809,
          7.136363636363637,
          7.08,
          6.538011695906433,
          7.333333333333333,
          7,
          8.409090909090908,
          7.992537313432836,
          7.6875,
          6.096774193548387,
          13.4,
          5.125,
          6.153846153846154,
          7.191489361702128,
          7.219178082191781,
          7.572916666666667,
          5.2,
          7.642857142857143,
          6.513513513513513,
          7.066666666666666,
          7.4222222222222225,
          6.821782178217822,
          7.333333333333333,
          8.476190476190476,
          8.223684210526315,
          6.903225806451613,
          8.64864864864865,
          6.719298245614035,
          7.515625,
          6.962962962962963,
          7.055555555555555,
          7.6689655172413795,
          9.470588235294118,
          7.704545454545454,
          6.666666666666667,
          7.6923076923076925,
          7.895833333333333,
          9.666666666666666,
          7.484848484848484,
          6.99009900990099,
          7.275862068965517,
          7.183098591549296,
          7.877551020408164,
          7.16,
          7.232558139534884,
          5.857142857142857,
          7.2,
          9.8,
          8.142857142857142,
          8,
          8.666666666666666,
          7.237704918032787,
          7,
          7.392857142857143,
          6.2727272727272725,
          8.666666666666666,
          8.16,
          6.642857142857143,
          6.545454545454546,
          6.588235294117647,
          7.25,
          7.162162162162162,
          8.555555555555555,
          5.842105263157895,
          8.23728813559322,
          7.606060606060606,
          6.884615384615385,
          7.529411764705882,
          7.6923076923076925,
          7.04,
          7.297709923664122,
          8.013157894736842,
          6.615384615384615,
          6.527777777777778,
          6.846153846153846,
          6.666666666666667,
          7.188405797101449,
          6.8,
          7.531645569620253,
          6.876712328767123,
          8.055555555555555,
          8.529411764705882,
          6.873015873015873,
          7.804878048780488,
          7.59375,
          7.64935064935065,
          7.083333333333333,
          6.532467532467533,
          6.310344827586207,
          8.55,
          7.45,
          6.5,
          8.31578947368421,
          7.303030303030303,
          11.181818181818182,
          6.942857142857143,
          7.1020408163265305,
          8.208333333333334,
          7.730769230769231,
          8.23076923076923,
          7.2727272727272725,
          8.033333333333333,
          6.904761904761905,
          7.916666666666667,
          6.921052631578948,
          7.545454545454546,
          7.590909090909091,
          6.045454545454546,
          7,
          7.5,
          7.142857142857143,
          7.8076923076923075,
          7.666666666666667,
          7.183673469387755,
          7.842696629213483,
          7.136363636363637,
          7.7103825136612025,
          7.111111111111111,
          7.761904761904762,
          7.777777777777778,
          7.2631578947368425,
          6.767857142857143,
          6.4,
          7.125,
          7.125,
          7.461538461538462,
          6,
          7.052631578947368,
          6.3076923076923075,
          7.796610169491525,
          7.7272727272727275,
          7.647058823529412,
          8.238095238095237,
          7.396551724137931,
          6.878787878787879,
          9,
          6.142857142857143,
          8.23076923076923,
          6.454545454545454,
          6.2,
          6.636363636363637,
          7.4,
          8.5,
          6.477611940298507,
          8.4375,
          6,
          6.4,
          6.5,
          7.4393939393939394,
          11.333333333333334,
          7.125,
          6.904761904761905,
          9.1,
          6,
          7.9375,
          8.2,
          6.176470588235294,
          6.2926829268292686,
          7.444444444444445,
          7.672727272727273,
          8.177777777777777,
          6.245398773006135,
          8.62,
          7.518518518518518,
          7.125,
          6.855421686746988,
          9.583333333333334,
          7.117647058823529,
          8.541666666666666,
          7.2615384615384615,
          7.416666666666667,
          7.675,
          7.785714285714286,
          7.252631578947368,
          7.796296296296297,
          7.285714285714286,
          6.840579710144928,
          7.2,
          7.714285714285714,
          7,
          6.982758620689655,
          6.751677852348993,
          8.962962962962964,
          8.962962962962964,
          7.288135593220339,
          6.9156626506024095,
          6.508771929824562,
          9,
          7.981132075471698,
          7.684210526315789,
          6.876923076923077,
          6.887931034482759,
          7.56,
          8.64516129032258,
          9.692307692307692,
          7.285714285714286,
          7.826086956521739,
          7.648648648648648,
          6.896551724137931,
          9.285714285714286,
          8,
          10.8125,
          8.266666666666667,
          7.844594594594595,
          7.950617283950617,
          7.962264150943396,
          7.095238095238095,
          8.25,
          7.882352941176471,
          7.842696629213483,
          8.307692307692308,
          8.28491620111732,
          6.3931623931623935,
          8.384615384615385,
          6.25,
          7.791666666666667,
          6.410958904109589,
          7.737288135593221,
          7.358974358974359,
          6.764705882352941,
          6.951219512195122,
          7.340425531914893,
          6.96,
          7.142857142857143,
          6.615853658536586,
          6.573529411764706,
          6.181818181818182,
          8.285714285714286,
          7.183098591549296,
          7.338983050847458,
          6.6454545454545455,
          7.384615384615385,
          6.619047619047619,
          6.75,
          6.9411764705882355,
          6.865384615384615,
          8,
          7.358208955223881,
          7.166666666666667,
          7.5625,
          8.793103448275861,
          7.75,
          8.294117647058824,
          7.8,
          10.625,
          9.25,
          8.5,
          6.130434782608695,
          7.818181818181818,
          8.068965517241379,
          8.909090909090908,
          6.366666666666666,
          9.147058823529411,
          7.454545454545454,
          6.82,
          7.933333333333334,
          8.636363636363637,
          6.787878787878788,
          7.777777777777778,
          6.888888888888889,
          7.6,
          10.133333333333333,
          6.8,
          8.125,
          6.987654320987654,
          7.571428571428571,
          6.7368421052631575,
          7.6,
          9.818181818181818,
          7.166666666666667,
          6.816326530612245,
          7.0344827586206895,
          7.111111111111111,
          9.631578947368421,
          8.11111111111111,
          7.043010752688172,
          8.571428571428571,
          7.4,
          7.461538461538462,
          6.7272727272727275,
          7.023809523809524,
          9.076923076923077,
          9.285714285714286,
          7.090909090909091,
          7.17910447761194,
          6.958333333333333,
          7.4375,
          9.285714285714286,
          9.285714285714286,
          8.25,
          6.925925925925926,
          6.833333333333333,
          7.545454545454546,
          7.805555555555555,
          7.909090909090909,
          9.285714285714286,
          8.25,
          6.48,
          7.857142857142857,
          7.290322580645161,
          7.116279069767442,
          9.285714285714286,
          7.666666666666667,
          7.22,
          8.107142857142858,
          7.4,
          9.285714285714286,
          6.8,
          7.4,
          9.285714285714286,
          9.285714285714286,
          6.233333333333333,
          7.947368421052632,
          8,
          8,
          7.076923076923077,
          6.808510638297872,
          6.5,
          6.285714285714286,
          6.53125,
          6.926605504587156,
          7.670682730923695,
          7.2105263157894735,
          7.354838709677419,
          7.125,
          6.454545454545454,
          8.634146341463415,
          8.333333333333334,
          7.716049382716049,
          8.333333333333334,
          7.9,
          7.537037037037037,
          9.941176470588236,
          8.035714285714286,
          7.65,
          6.476190476190476,
          5.875,
          7.068965517241379,
          6.75,
          7.239316239316239,
          7.068376068376068,
          7.76,
          7.511111111111111,
          7.041095890410959,
          7.844444444444444,
          7.068376068376068,
          8.280701754385966,
          8,
          7.305084745762712,
          7.404255319148936,
          6.808510638297872,
          7.081081081081081,
          8.28888888888889,
          7.066666666666666,
          7.625,
          7.266666666666667,
          6.766666666666667,
          7.6923076923076925,
          7.193548387096774,
          7.533333333333333,
          9.255813953488373,
          8.68421052631579,
          7.333333333333333,
          7.027777777777778,
          8.26923076923077,
          6.285714285714286,
          6.7,
          8.825581395348838,
          9.75,
          5.964912280701754,
          7.833333333333333,
          6.564356435643564,
          8.11111111111111,
          8.5,
          9.151515151515152,
          7.584905660377358,
          6.487179487179487,
          5.72,
          7.777777777777778,
          7.5,
          6.823529411764706,
          8,
          6.694444444444445,
          7.6,
          7.083333333333333,
          6.421052631578948,
          5.578947368421052,
          7.95,
          6.511764705882353,
          6.72,
          6.9411764705882355,
          7.129411764705883,
          7.090909090909091,
          8.196428571428571,
          6.785714285714286,
          7.625,
          8.034883720930232,
          6.338461538461538,
          7.813953488372093,
          7.903225806451613,
          7.3076923076923075,
          6.72,
          7.813953488372093,
          6.5625,
          7.257142857142857,
          8.714285714285714,
          7.333333333333333,
          8.673913043478262,
          7.642857142857143,
          7.304347826086956,
          7.7594936708860756,
          8.048780487804878,
          5.9,
          8.066666666666666,
          9.8125,
          7.846153846153846,
          6.3,
          6.398148148148148,
          7.642857142857143,
          9,
          7.525,
          8.27659574468085,
          6.771428571428571,
          7.291666666666667,
          7,
          7.25,
          7.037037037037037,
          6.45,
          7.538461538461538,
          6.291666666666667,
          8.267857142857142,
          7.2,
          7.588235294117647,
          7.533333333333333,
          6.7,
          6.5636363636363635,
          7,
          8.026315789473685,
          7.388888888888889,
          7.166666666666667,
          8.583333333333334,
          7.25,
          6.9411764705882355,
          7.588235294117647,
          9.875,
          10,
          7.146341463414634,
          7.708333333333333,
          7.333333333333333,
          7.956521739130435,
          7.461538461538462,
          7.439024390243903,
          6.607142857142857,
          13.25,
          8.295081967213115,
          7.728395061728395,
          7.6826923076923075,
          7.276595744680851,
          7.35,
          7.87012987012987,
          7.280701754385965,
          8.075,
          6.935483870967742,
          8.229166666666666,
          6.8,
          7.733333333333333,
          8.384615384615385,
          8,
          7.172839506172839,
          7.806818181818182,
          6.935483870967742,
          7.5,
          7.555555555555555,
          6.175,
          7.181818181818182,
          8.076923076923077,
          7.25531914893617,
          7.4728682170542635,
          6.701492537313433,
          6.8354430379746836,
          8.518518518518519,
          6.65,
          6.689655172413793,
          9.454545454545455,
          8.25,
          7.9,
          8.4,
          7.4,
          7.086956521739131,
          8.891891891891891,
          6.661538461538462,
          7.826086956521739,
          6.285714285714286,
          8.193548387096774,
          7.1923076923076925,
          11.012820512820513,
          6.631578947368421,
          7.857142857142857,
          7.970149253731344,
          7.52,
          8.24,
          7.545454545454546,
          7.777777777777778,
          6.183333333333334,
          7.5,
          7.104651162790698,
          7.111111111111111,
          9.153846153846153,
          6.346153846153846,
          7.264150943396227,
          7.395061728395062,
          7.24,
          6.9352517985611515,
          7.27027027027027,
          7.111111111111111,
          7.222222222222222,
          7,
          6.88,
          8.333333333333334,
          6.2105263157894735,
          7.017543859649122,
          7.405797101449275,
          7.15,
          7.785714285714286,
          6.901639344262295,
          7.128571428571429,
          7.607142857142857,
          7.90625,
          8.76,
          9.346153846153847,
          7.615384615384615,
          6.925,
          11.470588235294118,
          7.7105263157894735,
          7.3428571428571425,
          7.6923076923076925,
          7.818181818181818,
          9,
          6.448275862068965,
          7.911111111111111,
          7.545454545454546,
          6.9375,
          7.172413793103448,
          8.38888888888889,
          8.411764705882353,
          8.666666666666666,
          6.636363636363637,
          7.25,
          7,
          6.304347826086956,
          7,
          7.155172413793103,
          10.444444444444445,
          7.722222222222222,
          6.608695652173913,
          7.255813953488372,
          7.3478260869565215,
          8.1,
          7.133333333333334,
          7.4324324324324325,
          7.168141592920354,
          7.358974358974359,
          6.68,
          7.125,
          7.565217391304348,
          6.841666666666667,
          6.830188679245283,
          7.375,
          6.875,
          7.904761904761905,
          7.176470588235294,
          9.8125,
          7,
          8.031746031746032,
          7.333333333333333,
          9.526315789473685,
          7.966666666666667,
          7.111111111111111,
          7.804878048780488,
          7.209302325581396,
          7.484848484848484,
          9.296296296296296,
          5,
          7.183098591549296,
          8.352941176470589,
          8.238095238095237,
          6.553191489361702,
          6.45,
          7.019230769230769,
          7.888888888888889,
          6.732673267326732,
          7.470588235294118,
          6.471698113207547,
          7.084745762711864,
          6.923076923076923,
          7.636363636363637,
          6.8933333333333335,
          7,
          6.625,
          8.020833333333334,
          7.5,
          7.8125,
          10.09375,
          8.11111111111111,
          7.035714285714286,
          5.8,
          8.228070175438596,
          8.178571428571429,
          6.8,
          5.553846153846154,
          6.419753086419753,
          7.166666666666667,
          7.487179487179487,
          6.291666666666667,
          7.9245283018867925,
          7.485714285714286,
          7.315789473684211,
          7.67741935483871,
          6.3,
          7,
          9.727272727272727,
          7.372093023255814,
          8.5,
          7.068181818181818,
          7.461538461538462,
          7.666666666666667,
          7.315789473684211,
          7.076923076923077,
          6.894736842105263,
          6.846153846153846,
          7.4,
          9.142857142857142,
          8,
          10.6,
          8,
          7.863636363636363,
          8.567567567567568,
          7.478260869565218,
          7.568181818181818,
          7.589743589743589,
          8.642857142857142,
          6.777777777777778,
          7,
          7.767441860465116,
          6.416666666666667,
          7.181818181818182,
          6.627906976744186,
          7.044444444444444,
          8.258064516129032,
          7.660377358490566,
          8.285714285714286,
          7.7727272727272725,
          7.333333333333333,
          7.068965517241379,
          9.538461538461538,
          8.470588235294118,
          7.809523809523809,
          7.911764705882353,
          7.153846153846154,
          7.703125,
          8.833333333333334,
          12.887096774193548,
          9.7,
          7.363636363636363,
          7.581818181818182,
          7.7727272727272725,
          7.235294117647059,
          8.7,
          6.818181818181818,
          6.909090909090909,
          9.8,
          6.875,
          8.8125,
          6.3375,
          7.8,
          7.333333333333333,
          10,
          8.19047619047619,
          7.865384615384615,
          7,
          8.166666666666666,
          7.5125,
          8.120689655172415,
          7.102564102564102,
          6.896551724137931,
          6.660194174757281,
          7.7272727272727275,
          8.52,
          6.525,
          7.4728682170542635,
          7.970149253731344,
          7.388888888888889,
          6.590909090909091,
          6.653846153846154,
          4.818181818181818,
          6.309523809523809,
          6.183333333333334,
          7.444444444444445,
          7.722222222222222,
          7.7534246575342465,
          6.530973451327434,
          7.44,
          6,
          7.285714285714286,
          6.591549295774648,
          7.535714285714286,
          7.485294117647059,
          7.148936170212766,
          7.035714285714286,
          6.56,
          7.398058252427185,
          6.40625,
          7.851851851851852,
          7.055555555555555,
          7.324324324324325,
          5.666666666666667,
          8.602941176470589,
          7.698630136986301,
          9.8125,
          6.907407407407407,
          6.973333333333334,
          7.313291139240507,
          8.357142857142858,
          7.476190476190476,
          7.076923076923077,
          7.090909090909091,
          8.5,
          6.703703703703703,
          7,
          6.6923076923076925,
          6.898305084745763,
          6.612244897959184,
          6.867924528301887,
          8.615384615384615,
          7.913043478260869,
          8.09433962264151,
          7,
          8.193548387096774,
          6.695652173913044,
          6.966666666666667,
          7.380952380952381,
          9.409090909090908,
          6.052631578947368,
          6.410256410256411,
          7.068965517241379,
          8.11965811965812,
          6.9,
          7.9787234042553195,
          7.566666666666666,
          9.277777777777779,
          7,
          7.705882352941177,
          6.636363636363637,
          6.625,
          7.035714285714286,
          8.25,
          7.9324324324324325,
          5.73469387755102,
          7.614035087719298,
          6.806451612903226,
          7.25,
          7.642487046632124,
          6.603053435114504,
          7.850574712643678,
          6.785714285714286,
          8.8,
          7.586206896551724,
          7.1923076923076925,
          7.337209302325581,
          7.3478260869565215,
          7.523809523809524,
          7.415094339622642,
          7.1923076923076925,
          10,
          6.844444444444444,
          7,
          8.26923076923077,
          6.642857142857143,
          8.203389830508474,
          7.714285714285714,
          7.517241379310345,
          7,
          5.875,
          7.8076923076923075,
          7.369565217391305,
          7.361111111111111,
          7.105263157894737,
          7.791666666666667,
          8.05,
          7.454545454545454,
          7.956989247311828,
          7.7272727272727275,
          6.6875,
          7.78,
          7.225806451612903,
          7.411764705882353,
          7,
          7.2727272727272725,
          8.142857142857142,
          7.518518518518518,
          8.04,
          6.804597701149425,
          6.78125,
          7.413793103448276,
          7.153846153846154,
          7.513513513513513,
          7.9491525423728815,
          6.676829268292683,
          7.15,
          7.142857142857143,
          8.947368421052632,
          6.674418604651163,
          6.886363636363637,
          7.448275862068965,
          9.537037037037036,
          7.45,
          7.333333333333333,
          7.3076923076923075,
          7.388888888888889,
          7.6891891891891895,
          7.511111111111111,
          8,
          7.2894736842105265,
          7.285714285714286,
          7.303571428571429,
          7.7272727272727275,
          7.181818181818182,
          6.181818181818182,
          6.882352941176471,
          7.851063829787234,
          8.6875,
          7.666666666666667,
          10.2,
          8.388059701492537,
          6.980769230769231,
          8.941176470588236,
          8.071428571428571,
          6.96,
          6.742268041237113,
          7.326530612244898,
          7,
          6.613138686131387,
          8.857142857142858,
          6.961538461538462,
          6.942028985507246,
          6.321678321678322,
          8.26086956521739,
          8,
          7.333333333333333,
          7.288461538461538,
          7.26,
          8.153846153846153,
          7.153846153846154,
          7.6183206106870225,
          6.933333333333334,
          9,
          6.619047619047619,
          8.16,
          7.2875,
          7.666666666666667,
          7.107142857142857,
          6.476190476190476,
          7.818181818181818,
          6.796610169491525,
          7.361702127659575,
          8.064516129032258,
          7.411764705882353,
          7.482758620689655,
          8.785714285714286,
          6.125,
          6.535714285714286,
          6.348623853211009,
          6.5,
          8.1,
          7.136363636363637,
          7.078651685393258,
          6.625,
          6.555555555555555,
          6.68,
          6.589928057553957,
          8.1,
          6.633333333333334,
          6.954545454545454,
          7.428571428571429,
          8.25,
          5.857142857142857,
          8.476190476190476,
          7.921568627450981,
          7.8,
          7.233766233766234,
          7.694444444444445,
          7.2272727272727275,
          6.111111111111111,
          7.823529411764706,
          7.116279069767442,
          7.285714285714286,
          8.375,
          7.05,
          6.733333333333333,
          8.976190476190476,
          8.280701754385966,
          7.308550185873606,
          7.364864864864865,
          7.351351351351352,
          7.2272727272727275,
          7.39,
          7.204819277108434,
          7.833333333333333,
          7.25,
          7.9375,
          6.68,
          9.387096774193548,
          7.44,
          6.914285714285715,
          8.266666666666667,
          6.615384615384615,
          7.105263157894737,
          6.525,
          7.3125,
          7.878048780487805,
          7.1891891891891895,
          8.2,
          7.360655737704918,
          8.870967741935484,
          7.157894736842105,
          7.185185185185185,
          7.822222222222222,
          7.176470588235294,
          7.757575757575758,
          7.481012658227848,
          6.875,
          7.105263157894737,
          7.212121212121212,
          6.606060606060606,
          7.142857142857143,
          7.5,
          7.444444444444445,
          7.95575221238938,
          4.5,
          8.722222222222221,
          6.515151515151516,
          7.327586206896552,
          8.102564102564102,
          6.5,
          6.426470588235294,
          7.891304347826087,
          7.101449275362318,
          9.083333333333334,
          8.12,
          9.129032258064516,
          7.953367875647668,
          8.5,
          8.133333333333333,
          8.9,
          8.46938775510204,
          9.117647058823529,
          7.294117647058823,
          7.211538461538462,
          8.8,
          7.387931034482759,
          8.074074074074074,
          6.95,
          8,
          7.0476190476190474,
          7.095238095238095,
          7.75,
          8.9375,
          8.761904761904763,
          7.166666666666667,
          9.318181818181818,
          9.10204081632653,
          7.291666666666667,
          7.09375,
          8.047619047619047,
          7.617647058823529,
          8.26086956521739,
          7.763636363636364,
          6.306451612903226,
          7.075,
          7.7631578947368425,
          7.361111111111111,
          6.48,
          7.434782608695652,
          9.457627118644067,
          6.480769230769231,
          7.916666666666667,
          11.956521739130435,
          7.2105263157894735,
          7.090909090909091,
          7.071428571428571,
          6.375,
          6.909090909090909,
          6.823529411764706,
          6.711538461538462,
          7.415730337078652,
          6.361111111111111,
          7.145161290322581,
          7.464285714285714,
          7.2727272727272725,
          6.176470588235294,
          7.637931034482759,
          8.181818181818182,
          6.454545454545454,
          9.666666666666666,
          7.2,
          6.35,
          8.4,
          8.583333333333334,
          9.666666666666666,
          6.857142857142857,
          7.142857142857143,
          8.164556962025317,
          8.066666666666666,
          7.555555555555555,
          6.575757575757576,
          7.043478260869565,
          7.076923076923077,
          6.904761904761905,
          8.208333333333334,
          7.545454545454546,
          7.341463414634147,
          8.8125,
          7.1395348837209305,
          8.681818181818182,
          6.6923076923076925,
          7.701923076923077,
          7.153846153846154,
          9.107142857142858,
          7.416666666666667,
          8.366666666666667,
          7.384615384615385,
          6.905405405405405,
          8.027777777777779,
          7.142857142857143,
          7.426229508196721,
          8.529411764705882,
          7.277777777777778,
          8.333333333333334,
          7.423076923076923,
          6.473684210526316,
          8.203389830508474,
          7.222222222222222,
          7.1521739130434785,
          8.64406779661017,
          7.511627906976744,
          7.739130434782608,
          6.525,
          8.03225806451613,
          7.461538461538462,
          8.333333333333334,
          9.08695652173913,
          6.764705882352941,
          6.977011494252873,
          6.980392156862745,
          8.066666666666666,
          7.388888888888889,
          7.476190476190476,
          7.536585365853658,
          7.516129032258065,
          8.3,
          7.954545454545454,
          7.85,
          7.555555555555555,
          6.675,
          7.078947368421052,
          6.787234042553192,
          8.024390243902438,
          7.833333333333333,
          6.456140350877193,
          9.303921568627452,
          8,
          8.022727272727273,
          5.4,
          8,
          6.2075471698113205,
          7.326923076923077,
          7.784313725490196,
          7.88,
          7.131147540983607,
          6.7317073170731705,
          8.785714285714286,
          7.35,
          6.1875,
          8.321428571428571,
          6.444444444444445,
          8.608695652173912,
          6.9411764705882355,
          7.90625,
          9.166666666666666,
          8.625,
          6.791666666666667,
          8.03448275862069,
          7.625,
          6.8,
          8.923076923076923,
          7.275,
          6.2105263157894735,
          9,
          8.466666666666667,
          6.72972972972973,
          8.713235294117647,
          7.875,
          8.518518518518519,
          6.588235294117647,
          8.564102564102564,
          7.571428571428571,
          7.4375,
          7.454545454545454,
          6.923076923076923,
          6.607142857142857,
          6.653846153846154,
          8.714285714285714,
          6.8936170212765955,
          6.333333333333333,
          6.428571428571429,
          8.043478260869565,
          7.206611570247934,
          6.757575757575758,
          7.652631578947369,
          6.777777777777778,
          10.8,
          5.75,
          8.173333333333334,
          6.128205128205129,
          7.642424242424243,
          8.090909090909092,
          7.52,
          6,
          6.990566037735849,
          7.333333333333333,
          7.0602409638554215,
          6.104166666666667,
          6.576923076923077,
          7.482758620689655,
          6.75,
          7.285714285714286,
          7.444444444444445,
          6.689655172413793,
          6.827586206896552,
          6.904761904761905,
          7.55,
          6.555555555555555,
          8,
          6.790697674418604,
          7.45,
          9.222222222222221,
          6.2272727272727275,
          8.7,
          6.371428571428571,
          8.208333333333334,
          7,
          6.576923076923077,
          6.48,
          7.583333333333333,
          6.674418604651163,
          6.55,
          7.725,
          7.712328767123288,
          8.333333333333334,
          6.862745098039215,
          6.733333333333333,
          9.375,
          6.729166666666667,
          4.888888888888889,
          6.783289817232376,
          7.363636363636363,
          6.2727272727272725,
          7.449275362318841,
          7.523809523809524,
          7.304347826086956,
          6.777777777777778,
          7.769230769230769,
          6.9375,
          7.6909090909090905,
          6.666666666666667,
          8.192307692307692,
          8.15,
          6.967213114754099,
          8.142857142857142,
          6.647058823529412,
          7.038461538461538,
          6.961038961038961,
          8.380952380952381,
          7.037037037037037,
          8.793103448275861,
          6.333333333333333,
          6.5638297872340425,
          7.583333333333333,
          9.319148936170214,
          10.153846153846153,
          8.5,
          6.9375,
          7.945945945945946,
          8.208333333333334,
          9.25,
          7.333333333333333,
          7.346153846153846,
          7.705882352941177,
          8.461538461538462,
          6.804878048780488,
          8.285714285714286,
          6.666666666666667,
          8,
          7.852941176470588,
          6.875,
          7.087719298245614,
          6.730769230769231,
          6.411764705882353,
          6.607142857142857,
          7.446808510638298,
          6.619047619047619,
          6.4375,
          7.36,
          6.833333333333333,
          9.413793103448276,
          7.96,
          8.357142857142858,
          6.222222222222222,
          6.782608695652174,
          6.4,
          7,
          8.264705882352942,
          6.7407407407407405,
          6.428571428571429,
          7.260869565217392,
          7.5,
          9.431034482758621,
          8.025,
          7.176470588235294,
          6.354838709677419,
          9.695652173913043,
          7.166666666666667,
          7.848484848484849,
          7.172413793103448,
          7.6,
          7.944444444444445,
          7.2926829268292686,
          9.523809523809524,
          6.571428571428571,
          7.2,
          6.5,
          9.266666666666667,
          8.625,
          7.142857142857143,
          6.818181818181818,
          8,
          8.053571428571429,
          6.56,
          7.186440677966102,
          7.257142857142857,
          6.433333333333334,
          7.685714285714286,
          6.086956521739131,
          8.818181818181818,
          4.888888888888889,
          8.375,
          6.9655172413793105,
          6.333333333333333,
          6.622222222222222,
          7.555555555555555,
          8.75,
          6.866666666666666,
          7.5,
          8.026315789473685,
          7.1688311688311686,
          6.609756097560975,
          6,
          7.111111111111111,
          7.032258064516129,
          6.947368421052632,
          8.772727272727273,
          7.620253164556962,
          6.611111111111111,
          7.25,
          8,
          7.341666666666667,
          5.944444444444445,
          6.433962264150943,
          7.406593406593407,
          6.5,
          7.9375,
          8.25,
          6.509803921568627,
          6.7368421052631575,
          6.2727272727272725,
          7.068493150684931,
          6.533333333333333,
          7.333333333333333,
          7.191489361702128,
          8.105263157894736,
          7.485714285714286,
          8.5,
          8.8,
          6.511627906976744,
          7.390243902439025,
          7.904761904761905,
          8.833333333333334,
          10.346153846153847,
          6.875,
          7.75,
          6.17948717948718,
          7.7727272727272725,
          7.433333333333334,
          7.458333333333333,
          7.857142857142857,
          7.88,
          9.692307692307692,
          7.1568627450980395,
          6.86,
          7.2,
          7.666666666666667,
          9.705882352941176,
          8.461538461538462,
          10.2,
          6.755102040816326,
          7.576923076923077,
          5.906976744186046,
          7.1875,
          8.28125,
          7.3,
          9.954545454545455,
          6.5,
          9.470588235294118,
          6.714285714285714,
          7.55,
          6.943661971830986,
          8.263157894736842,
          7.696428571428571,
          7.5,
          7.333333333333333,
          7.8584905660377355,
          6.830508474576271,
          6.785714285714286,
          6.538461538461538,
          7,
          7.096385542168675,
          7.634146341463414,
          7.0588235294117645,
          8.75,
          7.157894736842105,
          7.636363636363637,
          9.090909090909092,
          7.384615384615385,
          9.23076923076923,
          7.333333333333333,
          8.686046511627907,
          8.542857142857143,
          6.699029126213592,
          7.857142857142857,
          8.08695652173913,
          6.699029126213592,
          8.775,
          7.3076923076923075,
          7.346153846153846,
          7.75,
          8.058823529411764,
          8.288461538461538,
          6.86,
          8.4,
          9.1875,
          6.904761904761905,
          7.102564102564102,
          6,
          6.788461538461538,
          6.193548387096774,
          9.157894736842104,
          8.518987341772151,
          7.806451612903226,
          6.888888888888889,
          8.142857142857142,
          7.15,
          6.875,
          9.026315789473685,
          5.833333333333333,
          8.245283018867925,
          7.107142857142857,
          7.442857142857143,
          8.333333333333334,
          9.8,
          8.875,
          7.238095238095238,
          7.228571428571429,
          8.25,
          5.875,
          7.545454545454546,
          6.979166666666667,
          6.271604938271605,
          6.788461538461538,
          9.5,
          7.894736842105263,
          8.865671641791044,
          7.627272727272727,
          7.076923076923077,
          7.275862068965517,
          7.461538461538462,
          7.878787878787879,
          6.7272727272727275,
          7.410714285714286,
          6.931034482758621,
          7.875,
          8.395348837209303,
          7.583333333333333,
          7.117647058823529,
          6.884615384615385,
          8.090909090909092,
          6.309523809523809,
          7.769230769230769,
          7.75,
          7.513513513513513,
          7.588235294117647,
          6.888888888888889,
          7.228571428571429,
          7.3478260869565215,
          7.26530612244898,
          6.5,
          6.266666666666667,
          9.25,
          7.48,
          7.289719626168225,
          7.3896103896103895,
          7.866666666666666,
          8.466666666666667,
          6.615384615384615,
          10.242424242424242,
          7.216216216216216,
          8,
          7.425925925925926,
          8.294117647058824,
          8.609756097560975,
          7.541666666666667,
          6.435897435897436,
          7.761904761904762,
          7,
          6.25,
          7.8,
          7.166666666666667,
          8.6,
          7.5,
          7.4375,
          6.833333333333333,
          7.095238095238095,
          8.355555555555556,
          7.238095238095238,
          8.277777777777779,
          6.863636363636363,
          6.266666666666667,
          7.568181818181818,
          7.8,
          7.0227272727272725,
          7.090909090909091,
          6.847222222222222,
          4.833333333333333,
          6.632075471698113,
          8,
          6.9,
          9.4,
          7.25,
          6.964285714285714,
          7.84375,
          7.137931034482759,
          6.983333333333333,
          8,
          6.5,
          8.173913043478262,
          7.28125,
          7.574712643678161,
          7.149321266968326,
          6.551282051282051,
          7.136363636363637,
          7.117647058823529,
          11.222222222222221,
          7.657894736842105,
          8.122395833333334,
          7.148148148148148,
          8.52,
          8,
          7.151515151515151,
          7.195488721804511,
          8.785714285714286,
          7.116279069767442,
          6.8,
          6.617283950617284,
          7.870967741935484,
          7.090909090909091,
          6.230769230769231,
          8.1,
          8.25,
          7.622950819672131,
          6.933333333333334,
          7.454545454545454,
          8.523809523809524,
          9.53968253968254,
          8.2,
          7.078947368421052,
          6.846153846153846,
          6.793103448275862,
          8.923076923076923,
          7.541666666666667,
          7.818897637795276,
          7.644927536231884,
          7.725,
          6.947368421052632,
          5.2,
          7.827586206896552,
          7.588235294117647,
          7.297297297297297,
          7.456310679611651,
          8.645390070921986,
          8.883333333333333,
          9.647058823529411,
          6.508771929824562,
          10.052631578947368,
          7.15,
          7.638297872340425,
          6.868131868131868,
          8.181818181818182,
          8.2,
          8.296296296296296,
          8.763157894736842,
          7.916666666666667,
          7.7,
          7.2444444444444445,
          6.852941176470588,
          6.425925925925926,
          7.020408163265306,
          7.388349514563107,
          6.914893617021277,
          7.214285714285714,
          7.689655172413793,
          7.090909090909091,
          7.65,
          6.666666666666667,
          7,
          8.884615384615385,
          6.838709677419355,
          6.836734693877551,
          6.693548387096774,
          7.719298245614035,
          8.071428571428571,
          8.608695652173912,
          7.2926829268292686,
          7.468085106382978,
          7.076923076923077,
          7.421052631578948,
          7.416666666666667,
          7.090909090909091,
          6.91743119266055,
          7.095238095238095,
          7.04424778761062,
          9.555555555555555,
          7.875,
          7.025316455696203,
          8.05,
          6.902777777777778,
          8.578947368421053,
          7.612903225806452,
          6.8,
          7.4324324324324325,
          7.237623762376238,
          7.009803921568627,
          8,
          8.203389830508474,
          11,
          11.6,
          7.6923076923076925,
          6.5576923076923075,
          7.894736842105263,
          7.375,
          6.862068965517241,
          6.888888888888889,
          7.56140350877193,
          8.176470588235293,
          7.529411764705882,
          7.209677419354839,
          10.681818181818182,
          7.08,
          7.125,
          7.217391304347826,
          7.382352941176471,
          7.535714285714286,
          6.450980392156863,
          7.173913043478261,
          7.325581395348837,
          6.833333333333333,
          9.210526315789474,
          7.325,
          7.896551724137931,
          6.7,
          7,
          9.162162162162161,
          7.814814814814815,
          7.7,
          6.7164179104477615,
          7.545454545454546,
          7.065359477124183,
          6.53125,
          6.318181818181818,
          10.80952380952381,
          7.0754716981132075,
          7.357142857142857,
          7.653846153846154,
          7.136363636363637,
          8.102564102564102,
          7.636363636363637,
          6.189473684210526,
          7.454545454545454,
          7,
          7.8493150684931505,
          7,
          7.0476190476190474,
          6.9,
          7.822222222222222,
          6.382352941176471,
          6.8352941176470585,
          8.363636363636363,
          7.05,
          6.680555555555555,
          9.6,
          7.029411764705882,
          7.25,
          7.020408163265306,
          7.58,
          7.5,
          7.462962962962963,
          7.9,
          6.545454545454546,
          6.888888888888889,
          6.927536231884058,
          8.428571428571429
         ]
        }
       ],
       "layout": {
        "barmode": "overlay",
        "legend": {
         "bgcolor": "#F5F6F9",
         "font": {
          "color": "#4D5663"
         }
        },
        "paper_bgcolor": "#F5F6F9",
        "plot_bgcolor": "#F5F6F9",
        "template": {
         "data": {
          "bar": [
           {
            "error_x": {
             "color": "#2a3f5f"
            },
            "error_y": {
             "color": "#2a3f5f"
            },
            "marker": {
             "line": {
              "color": "#E5ECF6",
              "width": 0.5
             },
             "pattern": {
              "fillmode": "overlay",
              "size": 10,
              "solidity": 0.2
             }
            },
            "type": "bar"
           }
          ],
          "barpolar": [
           {
            "marker": {
             "line": {
              "color": "#E5ECF6",
              "width": 0.5
             },
             "pattern": {
              "fillmode": "overlay",
              "size": 10,
              "solidity": 0.2
             }
            },
            "type": "barpolar"
           }
          ],
          "carpet": [
           {
            "aaxis": {
             "endlinecolor": "#2a3f5f",
             "gridcolor": "white",
             "linecolor": "white",
             "minorgridcolor": "white",
             "startlinecolor": "#2a3f5f"
            },
            "baxis": {
             "endlinecolor": "#2a3f5f",
             "gridcolor": "white",
             "linecolor": "white",
             "minorgridcolor": "white",
             "startlinecolor": "#2a3f5f"
            },
            "type": "carpet"
           }
          ],
          "choropleth": [
           {
            "colorbar": {
             "outlinewidth": 0,
             "ticks": ""
            },
            "type": "choropleth"
           }
          ],
          "contour": [
           {
            "colorbar": {
             "outlinewidth": 0,
             "ticks": ""
            },
            "colorscale": [
             [
              0,
              "#0d0887"
             ],
             [
              0.1111111111111111,
              "#46039f"
             ],
             [
              0.2222222222222222,
              "#7201a8"
             ],
             [
              0.3333333333333333,
              "#9c179e"
             ],
             [
              0.4444444444444444,
              "#bd3786"
             ],
             [
              0.5555555555555556,
              "#d8576b"
             ],
             [
              0.6666666666666666,
              "#ed7953"
             ],
             [
              0.7777777777777778,
              "#fb9f3a"
             ],
             [
              0.8888888888888888,
              "#fdca26"
             ],
             [
              1,
              "#f0f921"
             ]
            ],
            "type": "contour"
           }
          ],
          "contourcarpet": [
           {
            "colorbar": {
             "outlinewidth": 0,
             "ticks": ""
            },
            "type": "contourcarpet"
           }
          ],
          "heatmap": [
           {
            "colorbar": {
             "outlinewidth": 0,
             "ticks": ""
            },
            "colorscale": [
             [
              0,
              "#0d0887"
             ],
             [
              0.1111111111111111,
              "#46039f"
             ],
             [
              0.2222222222222222,
              "#7201a8"
             ],
             [
              0.3333333333333333,
              "#9c179e"
             ],
             [
              0.4444444444444444,
              "#bd3786"
             ],
             [
              0.5555555555555556,
              "#d8576b"
             ],
             [
              0.6666666666666666,
              "#ed7953"
             ],
             [
              0.7777777777777778,
              "#fb9f3a"
             ],
             [
              0.8888888888888888,
              "#fdca26"
             ],
             [
              1,
              "#f0f921"
             ]
            ],
            "type": "heatmap"
           }
          ],
          "heatmapgl": [
           {
            "colorbar": {
             "outlinewidth": 0,
             "ticks": ""
            },
            "colorscale": [
             [
              0,
              "#0d0887"
             ],
             [
              0.1111111111111111,
              "#46039f"
             ],
             [
              0.2222222222222222,
              "#7201a8"
             ],
             [
              0.3333333333333333,
              "#9c179e"
             ],
             [
              0.4444444444444444,
              "#bd3786"
             ],
             [
              0.5555555555555556,
              "#d8576b"
             ],
             [
              0.6666666666666666,
              "#ed7953"
             ],
             [
              0.7777777777777778,
              "#fb9f3a"
             ],
             [
              0.8888888888888888,
              "#fdca26"
             ],
             [
              1,
              "#f0f921"
             ]
            ],
            "type": "heatmapgl"
           }
          ],
          "histogram": [
           {
            "marker": {
             "pattern": {
              "fillmode": "overlay",
              "size": 10,
              "solidity": 0.2
             }
            },
            "type": "histogram"
           }
          ],
          "histogram2d": [
           {
            "colorbar": {
             "outlinewidth": 0,
             "ticks": ""
            },
            "colorscale": [
             [
              0,
              "#0d0887"
             ],
             [
              0.1111111111111111,
              "#46039f"
             ],
             [
              0.2222222222222222,
              "#7201a8"
             ],
             [
              0.3333333333333333,
              "#9c179e"
             ],
             [
              0.4444444444444444,
              "#bd3786"
             ],
             [
              0.5555555555555556,
              "#d8576b"
             ],
             [
              0.6666666666666666,
              "#ed7953"
             ],
             [
              0.7777777777777778,
              "#fb9f3a"
             ],
             [
              0.8888888888888888,
              "#fdca26"
             ],
             [
              1,
              "#f0f921"
             ]
            ],
            "type": "histogram2d"
           }
          ],
          "histogram2dcontour": [
           {
            "colorbar": {
             "outlinewidth": 0,
             "ticks": ""
            },
            "colorscale": [
             [
              0,
              "#0d0887"
             ],
             [
              0.1111111111111111,
              "#46039f"
             ],
             [
              0.2222222222222222,
              "#7201a8"
             ],
             [
              0.3333333333333333,
              "#9c179e"
             ],
             [
              0.4444444444444444,
              "#bd3786"
             ],
             [
              0.5555555555555556,
              "#d8576b"
             ],
             [
              0.6666666666666666,
              "#ed7953"
             ],
             [
              0.7777777777777778,
              "#fb9f3a"
             ],
             [
              0.8888888888888888,
              "#fdca26"
             ],
             [
              1,
              "#f0f921"
             ]
            ],
            "type": "histogram2dcontour"
           }
          ],
          "mesh3d": [
           {
            "colorbar": {
             "outlinewidth": 0,
             "ticks": ""
            },
            "type": "mesh3d"
           }
          ],
          "parcoords": [
           {
            "line": {
             "colorbar": {
              "outlinewidth": 0,
              "ticks": ""
             }
            },
            "type": "parcoords"
           }
          ],
          "pie": [
           {
            "automargin": true,
            "type": "pie"
           }
          ],
          "scatter": [
           {
            "marker": {
             "colorbar": {
              "outlinewidth": 0,
              "ticks": ""
             }
            },
            "type": "scatter"
           }
          ],
          "scatter3d": [
           {
            "line": {
             "colorbar": {
              "outlinewidth": 0,
              "ticks": ""
             }
            },
            "marker": {
             "colorbar": {
              "outlinewidth": 0,
              "ticks": ""
             }
            },
            "type": "scatter3d"
           }
          ],
          "scattercarpet": [
           {
            "marker": {
             "colorbar": {
              "outlinewidth": 0,
              "ticks": ""
             }
            },
            "type": "scattercarpet"
           }
          ],
          "scattergeo": [
           {
            "marker": {
             "colorbar": {
              "outlinewidth": 0,
              "ticks": ""
             }
            },
            "type": "scattergeo"
           }
          ],
          "scattergl": [
           {
            "marker": {
             "colorbar": {
              "outlinewidth": 0,
              "ticks": ""
             }
            },
            "type": "scattergl"
           }
          ],
          "scattermapbox": [
           {
            "marker": {
             "colorbar": {
              "outlinewidth": 0,
              "ticks": ""
             }
            },
            "type": "scattermapbox"
           }
          ],
          "scatterpolar": [
           {
            "marker": {
             "colorbar": {
              "outlinewidth": 0,
              "ticks": ""
             }
            },
            "type": "scatterpolar"
           }
          ],
          "scatterpolargl": [
           {
            "marker": {
             "colorbar": {
              "outlinewidth": 0,
              "ticks": ""
             }
            },
            "type": "scatterpolargl"
           }
          ],
          "scatterternary": [
           {
            "marker": {
             "colorbar": {
              "outlinewidth": 0,
              "ticks": ""
             }
            },
            "type": "scatterternary"
           }
          ],
          "surface": [
           {
            "colorbar": {
             "outlinewidth": 0,
             "ticks": ""
            },
            "colorscale": [
             [
              0,
              "#0d0887"
             ],
             [
              0.1111111111111111,
              "#46039f"
             ],
             [
              0.2222222222222222,
              "#7201a8"
             ],
             [
              0.3333333333333333,
              "#9c179e"
             ],
             [
              0.4444444444444444,
              "#bd3786"
             ],
             [
              0.5555555555555556,
              "#d8576b"
             ],
             [
              0.6666666666666666,
              "#ed7953"
             ],
             [
              0.7777777777777778,
              "#fb9f3a"
             ],
             [
              0.8888888888888888,
              "#fdca26"
             ],
             [
              1,
              "#f0f921"
             ]
            ],
            "type": "surface"
           }
          ],
          "table": [
           {
            "cells": {
             "fill": {
              "color": "#EBF0F8"
             },
             "line": {
              "color": "white"
             }
            },
            "header": {
             "fill": {
              "color": "#C8D4E3"
             },
             "line": {
              "color": "white"
             }
            },
            "type": "table"
           }
          ]
         },
         "layout": {
          "annotationdefaults": {
           "arrowcolor": "#2a3f5f",
           "arrowhead": 0,
           "arrowwidth": 1
          },
          "autotypenumbers": "strict",
          "coloraxis": {
           "colorbar": {
            "outlinewidth": 0,
            "ticks": ""
           }
          },
          "colorscale": {
           "diverging": [
            [
             0,
             "#8e0152"
            ],
            [
             0.1,
             "#c51b7d"
            ],
            [
             0.2,
             "#de77ae"
            ],
            [
             0.3,
             "#f1b6da"
            ],
            [
             0.4,
             "#fde0ef"
            ],
            [
             0.5,
             "#f7f7f7"
            ],
            [
             0.6,
             "#e6f5d0"
            ],
            [
             0.7,
             "#b8e186"
            ],
            [
             0.8,
             "#7fbc41"
            ],
            [
             0.9,
             "#4d9221"
            ],
            [
             1,
             "#276419"
            ]
           ],
           "sequential": [
            [
             0,
             "#0d0887"
            ],
            [
             0.1111111111111111,
             "#46039f"
            ],
            [
             0.2222222222222222,
             "#7201a8"
            ],
            [
             0.3333333333333333,
             "#9c179e"
            ],
            [
             0.4444444444444444,
             "#bd3786"
            ],
            [
             0.5555555555555556,
             "#d8576b"
            ],
            [
             0.6666666666666666,
             "#ed7953"
            ],
            [
             0.7777777777777778,
             "#fb9f3a"
            ],
            [
             0.8888888888888888,
             "#fdca26"
            ],
            [
             1,
             "#f0f921"
            ]
           ],
           "sequentialminus": [
            [
             0,
             "#0d0887"
            ],
            [
             0.1111111111111111,
             "#46039f"
            ],
            [
             0.2222222222222222,
             "#7201a8"
            ],
            [
             0.3333333333333333,
             "#9c179e"
            ],
            [
             0.4444444444444444,
             "#bd3786"
            ],
            [
             0.5555555555555556,
             "#d8576b"
            ],
            [
             0.6666666666666666,
             "#ed7953"
            ],
            [
             0.7777777777777778,
             "#fb9f3a"
            ],
            [
             0.8888888888888888,
             "#fdca26"
            ],
            [
             1,
             "#f0f921"
            ]
           ]
          },
          "colorway": [
           "#636efa",
           "#EF553B",
           "#00cc96",
           "#ab63fa",
           "#FFA15A",
           "#19d3f3",
           "#FF6692",
           "#B6E880",
           "#FF97FF",
           "#FECB52"
          ],
          "font": {
           "color": "#2a3f5f"
          },
          "geo": {
           "bgcolor": "white",
           "lakecolor": "white",
           "landcolor": "#E5ECF6",
           "showlakes": true,
           "showland": true,
           "subunitcolor": "white"
          },
          "hoverlabel": {
           "align": "left"
          },
          "hovermode": "closest",
          "mapbox": {
           "style": "light"
          },
          "paper_bgcolor": "white",
          "plot_bgcolor": "#E5ECF6",
          "polar": {
           "angularaxis": {
            "gridcolor": "white",
            "linecolor": "white",
            "ticks": ""
           },
           "bgcolor": "#E5ECF6",
           "radialaxis": {
            "gridcolor": "white",
            "linecolor": "white",
            "ticks": ""
           }
          },
          "scene": {
           "xaxis": {
            "backgroundcolor": "#E5ECF6",
            "gridcolor": "white",
            "gridwidth": 2,
            "linecolor": "white",
            "showbackground": true,
            "ticks": "",
            "zerolinecolor": "white"
           },
           "yaxis": {
            "backgroundcolor": "#E5ECF6",
            "gridcolor": "white",
            "gridwidth": 2,
            "linecolor": "white",
            "showbackground": true,
            "ticks": "",
            "zerolinecolor": "white"
           },
           "zaxis": {
            "backgroundcolor": "#E5ECF6",
            "gridcolor": "white",
            "gridwidth": 2,
            "linecolor": "white",
            "showbackground": true,
            "ticks": "",
            "zerolinecolor": "white"
           }
          },
          "shapedefaults": {
           "line": {
            "color": "#2a3f5f"
           }
          },
          "ternary": {
           "aaxis": {
            "gridcolor": "white",
            "linecolor": "white",
            "ticks": ""
           },
           "baxis": {
            "gridcolor": "white",
            "linecolor": "white",
            "ticks": ""
           },
           "bgcolor": "#E5ECF6",
           "caxis": {
            "gridcolor": "white",
            "linecolor": "white",
            "ticks": ""
           }
          },
          "title": {
           "x": 0.05
          },
          "xaxis": {
           "automargin": true,
           "gridcolor": "white",
           "linecolor": "white",
           "ticks": "",
           "title": {
            "standoff": 15
           },
           "zerolinecolor": "white",
           "zerolinewidth": 2
          },
          "yaxis": {
           "automargin": true,
           "gridcolor": "white",
           "linecolor": "white",
           "ticks": "",
           "title": {
            "standoff": 15
           },
           "zerolinecolor": "white",
           "zerolinewidth": 2
          }
         }
        },
        "title": {
         "font": {
          "color": "#4D5663"
         },
         "text": "Средняя длина слов"
        },
        "xaxis": {
         "gridcolor": "#E1E5ED",
         "showgrid": true,
         "tickfont": {
          "color": "#4D5663"
         },
         "title": {
          "font": {
           "color": "#4D5663"
          },
          "text": "Средняя длина слов"
         },
         "zerolinecolor": "#E1E5ED"
        },
        "yaxis": {
         "gridcolor": "#E1E5ED",
         "showgrid": true,
         "tickfont": {
          "color": "#4D5663"
         },
         "title": {
          "font": {
           "color": "#4D5663"
          },
          "text": "Количество отзывов, имеющих такую среднюю длину слова"
         },
         "zerolinecolor": "#E1E5ED"
        }
       }
      },
      "text/html": [
       "<div>                            <div id=\"4f402237-f040-4c32-b033-54360ba6e748\" class=\"plotly-graph-div\" style=\"height:525px; width:100%;\"></div>            <script type=\"text/javascript\">                require([\"plotly\"], function(Plotly) {                    window.PLOTLYENV=window.PLOTLYENV || {};\n",
       "                    window.PLOTLYENV.BASE_URL='https://plot.ly';                                    if (document.getElementById(\"4f402237-f040-4c32-b033-54360ba6e748\")) {                    Plotly.newPlot(                        \"4f402237-f040-4c32-b033-54360ba6e748\",                        [{\"histfunc\":\"count\",\"histnorm\":\"\",\"marker\":{\"color\":\"rgba(255, 153, 51, 1.0)\",\"line\":{\"color\":\"#4D5663\",\"width\":1.3}},\"name\":\"middle_words\",\"opacity\":0.8,\"orientation\":\"v\",\"type\":\"histogram\",\"x\":[6.239130434782608,8.0,6.852941176470588,7.2,6.9,6.580645161290323,7.129032258064516,7.666666666666667,6.81651376146789,6.9,6.869565217391305,7.918918918918919,7.329896907216495,7.967213114754099,8.428571428571429,6.708333333333333,7.608695652173913,6.2444444444444445,7.9523809523809526,7.3559322033898304,7.298969072164948,7.285714285714286,7.75,7.668449197860962,7.1923076923076925,6.598039215686274,6.637931034482759,8.175438596491228,7.114285714285714,8.306748466257668,8.666666666666666,7.85,7.0,9.447368421052632,8.588235294117647,8.142857142857142,6.827160493827161,7.704545454545454,6.157894736842105,6.2,7.208333333333333,7.25531914893617,7.601398601398602,6.947368421052632,7.181818181818182,7.363636363636363,6.885245901639344,9.0,7.091549295774648,7.53125,6.416666666666667,7.09375,8.0,7.78125,8.4,7.585365853658536,7.380952380952381,7.1,8.272727272727273,6.676470588235294,7.108108108108108,8.1,6.714285714285714,7.588235294117647,9.181818181818182,7.0625,6.805555555555555,8.052631578947368,7.384615384615385,7.125,7.130434782608695,6.804195804195804,6.806451612903226,7.363636363636363,6.829268292682927,6.903225806451613,6.975609756097561,7.133333333333334,7.0576923076923075,7.44375,6.739130434782608,7.105263157894737,6.8,7.288659793814433,7.108433734939759,6.984615384615385,7.203703703703703,6.632258064516129,7.543478260869565,7.403100775193798,7.691489361702128,7.820224719101123,8.58974358974359,7.928571428571429,6.980392156862745,7.315789473684211,7.362068965517241,7.888198757763975,7.068181818181818,8.909090909090908,8.0,9.736842105263158,9.368421052631579,8.708333333333334,8.074074074074074,6.686567164179104,9.0,7.59375,8.310344827586206,8.666666666666666,11.428571428571429,7.384615384615385,7.233009708737864,6.404255319148936,6.642857142857143,7.578947368421052,8.05,7.054545454545455,7.875,7.909090909090909,6.842105263157895,7.583333333333333,7.846153846153846,5.833333333333333,6.777777777777778,6.9375,8.466666666666667,7.733333333333333,7.1,6.9,7.6,7.0,7.105263157894737,7.902439024390244,7.902439024390244,6.108108108108108,6.0588235294117645,7.4375,7.3125,7.285714285714286,7.909090909090909,7.627906976744186,7.0,7.602941176470588,6.7631578947368425,8.306748466257668,7.461538461538462,8.1,7.681818181818182,7.121951219512195,7.433333333333334,7.648648648648648,6.176470588235294,7.468926553672317,6.809523809523809,8.612903225806452,6.254901960784314,7.409090909090909,8.3,7.0,7.0,5.916666666666667,6.390625,8.5,8.0,6.951923076923077,5.954545454545454,8.029585798816568,7.666666666666667,7.2105263157894735,8.714285714285714,7.774193548387097,7.309523809523809,7.136363636363637,7.08,6.538011695906433,7.333333333333333,7.0,8.409090909090908,7.992537313432836,7.6875,6.096774193548387,13.4,5.125,6.153846153846154,7.191489361702128,7.219178082191781,7.572916666666667,5.2,7.642857142857143,6.513513513513513,7.066666666666666,7.4222222222222225,6.821782178217822,7.333333333333333,8.476190476190476,8.223684210526315,6.903225806451613,8.64864864864865,6.719298245614035,7.515625,6.962962962962963,7.055555555555555,7.6689655172413795,9.470588235294118,7.704545454545454,6.666666666666667,7.6923076923076925,7.895833333333333,9.666666666666666,7.484848484848484,6.99009900990099,7.275862068965517,7.183098591549296,7.877551020408164,7.16,7.232558139534884,5.857142857142857,7.2,9.8,8.142857142857142,8.0,8.666666666666666,7.237704918032787,7.0,7.392857142857143,6.2727272727272725,8.666666666666666,8.16,6.642857142857143,6.545454545454546,6.588235294117647,7.25,7.162162162162162,8.555555555555555,5.842105263157895,8.23728813559322,7.606060606060606,6.884615384615385,7.529411764705882,7.6923076923076925,7.04,7.297709923664122,8.013157894736842,6.615384615384615,6.527777777777778,6.846153846153846,6.666666666666667,7.188405797101449,6.8,7.531645569620253,6.876712328767123,8.055555555555555,8.529411764705882,6.873015873015873,7.804878048780488,7.59375,7.64935064935065,7.083333333333333,6.532467532467533,6.310344827586207,8.55,7.45,6.5,8.31578947368421,7.303030303030303,11.181818181818182,6.942857142857143,7.1020408163265305,8.208333333333334,7.730769230769231,8.23076923076923,7.2727272727272725,8.033333333333333,6.904761904761905,7.916666666666667,6.921052631578948,7.545454545454546,7.590909090909091,6.045454545454546,7.0,7.5,7.142857142857143,7.8076923076923075,7.666666666666667,7.183673469387755,7.842696629213483,7.136363636363637,7.7103825136612025,7.111111111111111,7.761904761904762,7.777777777777778,7.2631578947368425,6.767857142857143,6.4,7.125,7.125,7.461538461538462,6.0,7.052631578947368,6.3076923076923075,7.796610169491525,7.7272727272727275,7.647058823529412,8.238095238095237,7.396551724137931,6.878787878787879,9.0,6.142857142857143,8.23076923076923,6.454545454545454,6.2,6.636363636363637,7.4,8.5,6.477611940298507,8.4375,6.0,6.4,6.5,7.4393939393939394,11.333333333333334,7.125,6.904761904761905,9.1,6.0,7.9375,8.2,6.176470588235294,6.2926829268292686,7.444444444444445,7.672727272727273,8.177777777777777,6.245398773006135,8.62,7.518518518518518,7.125,6.855421686746988,9.583333333333334,7.117647058823529,8.541666666666666,7.2615384615384615,7.416666666666667,7.675,7.785714285714286,7.252631578947368,7.796296296296297,7.285714285714286,6.840579710144928,7.2,7.714285714285714,7.0,6.982758620689655,6.751677852348993,8.962962962962964,8.962962962962964,7.288135593220339,6.9156626506024095,6.508771929824562,9.0,7.981132075471698,7.684210526315789,6.876923076923077,6.887931034482759,7.56,8.64516129032258,9.692307692307692,7.285714285714286,7.826086956521739,7.648648648648648,6.896551724137931,9.285714285714286,8.0,10.8125,8.266666666666667,7.844594594594595,7.950617283950617,7.962264150943396,7.095238095238095,8.25,7.882352941176471,7.842696629213483,8.307692307692308,8.28491620111732,6.3931623931623935,8.384615384615385,6.25,7.791666666666667,6.410958904109589,7.737288135593221,7.358974358974359,6.764705882352941,6.951219512195122,7.340425531914893,6.96,7.142857142857143,6.615853658536586,6.573529411764706,6.181818181818182,8.285714285714286,7.183098591549296,7.338983050847458,6.6454545454545455,7.384615384615385,6.619047619047619,6.75,6.9411764705882355,6.865384615384615,8.0,7.358208955223881,7.166666666666667,7.5625,8.793103448275861,7.75,8.294117647058824,7.8,10.625,9.25,8.5,6.130434782608695,7.818181818181818,8.068965517241379,8.909090909090908,6.366666666666666,9.147058823529411,7.454545454545454,6.82,7.933333333333334,8.636363636363637,6.787878787878788,7.777777777777778,6.888888888888889,7.6,10.133333333333333,6.8,8.125,6.987654320987654,7.571428571428571,6.7368421052631575,7.6,9.818181818181818,7.166666666666667,6.816326530612245,7.0344827586206895,7.111111111111111,9.631578947368421,8.11111111111111,7.043010752688172,8.571428571428571,7.4,7.461538461538462,6.7272727272727275,7.023809523809524,9.076923076923077,9.285714285714286,7.090909090909091,7.17910447761194,6.958333333333333,7.4375,9.285714285714286,9.285714285714286,8.25,6.925925925925926,6.833333333333333,7.545454545454546,7.805555555555555,7.909090909090909,9.285714285714286,8.25,6.48,7.857142857142857,7.290322580645161,7.116279069767442,9.285714285714286,7.666666666666667,7.22,8.107142857142858,7.4,9.285714285714286,6.8,7.4,9.285714285714286,9.285714285714286,6.233333333333333,7.947368421052632,8.0,8.0,7.076923076923077,6.808510638297872,6.5,6.285714285714286,6.53125,6.926605504587156,7.670682730923695,7.2105263157894735,7.354838709677419,7.125,6.454545454545454,8.634146341463415,8.333333333333334,7.716049382716049,8.333333333333334,7.9,7.537037037037037,9.941176470588236,8.035714285714286,7.65,6.476190476190476,5.875,7.068965517241379,6.75,7.239316239316239,7.068376068376068,7.76,7.511111111111111,7.041095890410959,7.844444444444444,7.068376068376068,8.280701754385966,8.0,7.305084745762712,7.404255319148936,6.808510638297872,7.081081081081081,8.28888888888889,7.066666666666666,7.625,7.266666666666667,6.766666666666667,7.6923076923076925,7.193548387096774,7.533333333333333,9.255813953488373,8.68421052631579,7.333333333333333,7.027777777777778,8.26923076923077,6.285714285714286,6.7,8.825581395348838,9.75,5.964912280701754,7.833333333333333,6.564356435643564,8.11111111111111,8.5,9.151515151515152,7.584905660377358,6.487179487179487,5.72,7.777777777777778,7.5,6.823529411764706,8.0,6.694444444444445,7.6,7.083333333333333,6.421052631578948,5.578947368421052,7.95,6.511764705882353,6.72,6.9411764705882355,7.129411764705883,7.090909090909091,8.196428571428571,6.785714285714286,7.625,8.034883720930232,6.338461538461538,7.813953488372093,7.903225806451613,7.3076923076923075,6.72,7.813953488372093,6.5625,7.257142857142857,8.714285714285714,7.333333333333333,8.673913043478262,7.642857142857143,7.304347826086956,7.7594936708860756,8.048780487804878,5.9,8.066666666666666,9.8125,7.846153846153846,6.3,6.398148148148148,7.642857142857143,9.0,7.525,8.27659574468085,6.771428571428571,7.291666666666667,7.0,7.25,7.037037037037037,6.45,7.538461538461538,6.291666666666667,8.267857142857142,7.2,7.588235294117647,7.533333333333333,6.7,6.5636363636363635,7.0,8.026315789473685,7.388888888888889,7.166666666666667,8.583333333333334,7.25,6.9411764705882355,7.588235294117647,9.875,10.0,7.146341463414634,7.708333333333333,7.333333333333333,7.956521739130435,7.461538461538462,7.439024390243903,6.607142857142857,13.25,8.295081967213115,7.728395061728395,7.6826923076923075,7.276595744680851,7.35,7.87012987012987,7.280701754385965,8.075,6.935483870967742,8.229166666666666,6.8,7.733333333333333,8.384615384615385,8.0,7.172839506172839,7.806818181818182,6.935483870967742,7.5,7.555555555555555,6.175,7.181818181818182,8.076923076923077,7.25531914893617,7.4728682170542635,6.701492537313433,6.8354430379746836,8.518518518518519,6.65,6.689655172413793,9.454545454545455,8.25,7.9,8.4,7.4,7.086956521739131,8.891891891891891,6.661538461538462,7.826086956521739,6.285714285714286,8.193548387096774,7.1923076923076925,11.012820512820513,6.631578947368421,7.857142857142857,7.970149253731344,7.52,8.24,7.545454545454546,7.777777777777778,6.183333333333334,7.5,7.104651162790698,7.111111111111111,9.153846153846153,6.346153846153846,7.264150943396227,7.395061728395062,7.24,6.9352517985611515,7.27027027027027,7.111111111111111,7.222222222222222,7.0,6.88,8.333333333333334,6.2105263157894735,7.017543859649122,7.405797101449275,7.15,7.785714285714286,6.901639344262295,7.128571428571429,7.607142857142857,7.90625,8.76,9.346153846153847,7.615384615384615,6.925,11.470588235294118,7.7105263157894735,7.3428571428571425,7.6923076923076925,7.818181818181818,9.0,6.448275862068965,7.911111111111111,7.545454545454546,6.9375,7.172413793103448,8.38888888888889,8.411764705882353,8.666666666666666,6.636363636363637,7.25,7.0,6.304347826086956,7.0,7.155172413793103,10.444444444444445,7.722222222222222,6.608695652173913,7.255813953488372,7.3478260869565215,8.1,7.133333333333334,7.4324324324324325,7.168141592920354,7.358974358974359,6.68,7.125,7.565217391304348,6.841666666666667,6.830188679245283,7.375,6.875,7.904761904761905,7.176470588235294,9.8125,7.0,8.031746031746032,7.333333333333333,9.526315789473685,7.966666666666667,7.111111111111111,7.804878048780488,7.209302325581396,7.484848484848484,9.296296296296296,5.0,7.183098591549296,8.352941176470589,8.238095238095237,6.553191489361702,6.45,7.019230769230769,7.888888888888889,6.732673267326732,7.470588235294118,6.471698113207547,7.084745762711864,6.923076923076923,7.636363636363637,6.8933333333333335,7.0,6.625,8.020833333333334,7.5,7.8125,10.09375,8.11111111111111,7.035714285714286,5.8,8.228070175438596,8.178571428571429,6.8,5.553846153846154,6.419753086419753,7.166666666666667,7.487179487179487,6.291666666666667,7.9245283018867925,7.485714285714286,7.315789473684211,7.67741935483871,6.3,7.0,9.727272727272727,7.372093023255814,8.5,7.068181818181818,7.461538461538462,7.666666666666667,7.315789473684211,7.076923076923077,6.894736842105263,6.846153846153846,7.4,9.142857142857142,8.0,10.6,8.0,7.863636363636363,8.567567567567568,7.478260869565218,7.568181818181818,7.589743589743589,8.642857142857142,6.777777777777778,7.0,7.767441860465116,6.416666666666667,7.181818181818182,6.627906976744186,7.044444444444444,8.258064516129032,7.660377358490566,8.285714285714286,7.7727272727272725,7.333333333333333,7.068965517241379,9.538461538461538,8.470588235294118,7.809523809523809,7.911764705882353,7.153846153846154,7.703125,8.833333333333334,12.887096774193548,9.7,7.363636363636363,7.581818181818182,7.7727272727272725,7.235294117647059,8.7,6.818181818181818,6.909090909090909,9.8,6.875,8.8125,6.3375,7.8,7.333333333333333,10.0,8.19047619047619,7.865384615384615,7.0,8.166666666666666,7.5125,8.120689655172415,7.102564102564102,6.896551724137931,6.660194174757281,7.7272727272727275,8.52,6.525,7.4728682170542635,7.970149253731344,7.388888888888889,6.590909090909091,6.653846153846154,4.818181818181818,6.309523809523809,6.183333333333334,7.444444444444445,7.722222222222222,7.7534246575342465,6.530973451327434,7.44,6.0,7.285714285714286,6.591549295774648,7.535714285714286,7.485294117647059,7.148936170212766,7.035714285714286,6.56,7.398058252427185,6.40625,7.851851851851852,7.055555555555555,7.324324324324325,5.666666666666667,8.602941176470589,7.698630136986301,9.8125,6.907407407407407,6.973333333333334,7.313291139240507,8.357142857142858,7.476190476190476,7.076923076923077,7.090909090909091,8.5,6.703703703703703,7.0,6.6923076923076925,6.898305084745763,6.612244897959184,6.867924528301887,8.615384615384615,7.913043478260869,8.09433962264151,7.0,8.193548387096774,6.695652173913044,6.966666666666667,7.380952380952381,9.409090909090908,6.052631578947368,6.410256410256411,7.068965517241379,8.11965811965812,6.9,7.9787234042553195,7.566666666666666,9.277777777777779,7.0,7.705882352941177,6.636363636363637,6.625,7.035714285714286,8.25,7.9324324324324325,5.73469387755102,7.614035087719298,6.806451612903226,7.25,7.642487046632124,6.603053435114504,7.850574712643678,6.785714285714286,8.8,7.586206896551724,7.1923076923076925,7.337209302325581,7.3478260869565215,7.523809523809524,7.415094339622642,7.1923076923076925,10.0,6.844444444444444,7.0,8.26923076923077,6.642857142857143,8.203389830508474,7.714285714285714,7.517241379310345,7.0,5.875,7.8076923076923075,7.369565217391305,7.361111111111111,7.105263157894737,7.791666666666667,8.05,7.454545454545454,7.956989247311828,7.7272727272727275,6.6875,7.78,7.225806451612903,7.411764705882353,7.0,7.2727272727272725,8.142857142857142,7.518518518518518,8.04,6.804597701149425,6.78125,7.413793103448276,7.153846153846154,7.513513513513513,7.9491525423728815,6.676829268292683,7.15,7.142857142857143,8.947368421052632,6.674418604651163,6.886363636363637,7.448275862068965,9.537037037037036,7.45,7.333333333333333,7.3076923076923075,7.388888888888889,7.6891891891891895,7.511111111111111,8.0,7.2894736842105265,7.285714285714286,7.303571428571429,7.7272727272727275,7.181818181818182,6.181818181818182,6.882352941176471,7.851063829787234,8.6875,7.666666666666667,10.2,8.388059701492537,6.980769230769231,8.941176470588236,8.071428571428571,6.96,6.742268041237113,7.326530612244898,7.0,6.613138686131387,8.857142857142858,6.961538461538462,6.942028985507246,6.321678321678322,8.26086956521739,8.0,7.333333333333333,7.288461538461538,7.26,8.153846153846153,7.153846153846154,7.6183206106870225,6.933333333333334,9.0,6.619047619047619,8.16,7.2875,7.666666666666667,7.107142857142857,6.476190476190476,7.818181818181818,6.796610169491525,7.361702127659575,8.064516129032258,7.411764705882353,7.482758620689655,8.785714285714286,6.125,6.535714285714286,6.348623853211009,6.5,8.1,7.136363636363637,7.078651685393258,6.625,6.555555555555555,6.68,6.589928057553957,8.1,6.633333333333334,6.954545454545454,7.428571428571429,8.25,5.857142857142857,8.476190476190476,7.921568627450981,7.8,7.233766233766234,7.694444444444445,7.2272727272727275,6.111111111111111,7.823529411764706,7.116279069767442,7.285714285714286,8.375,7.05,6.733333333333333,8.976190476190476,8.280701754385966,7.308550185873606,7.364864864864865,7.351351351351352,7.2272727272727275,7.39,7.204819277108434,7.833333333333333,7.25,7.9375,6.68,9.387096774193548,7.44,6.914285714285715,8.266666666666667,6.615384615384615,7.105263157894737,6.525,7.3125,7.878048780487805,7.1891891891891895,8.2,7.360655737704918,8.870967741935484,7.157894736842105,7.185185185185185,7.822222222222222,7.176470588235294,7.757575757575758,7.481012658227848,6.875,7.105263157894737,7.212121212121212,6.606060606060606,7.142857142857143,7.5,7.444444444444445,7.95575221238938,4.5,8.722222222222221,6.515151515151516,7.327586206896552,8.102564102564102,6.5,6.426470588235294,7.891304347826087,7.101449275362318,9.083333333333334,8.12,9.129032258064516,7.953367875647668,8.5,8.133333333333333,8.9,8.46938775510204,9.117647058823529,7.294117647058823,7.211538461538462,8.8,7.387931034482759,8.074074074074074,6.95,8.0,7.0476190476190474,7.095238095238095,7.75,8.9375,8.761904761904763,7.166666666666667,9.318181818181818,9.10204081632653,7.291666666666667,7.09375,8.047619047619047,7.617647058823529,8.26086956521739,7.763636363636364,6.306451612903226,7.075,7.7631578947368425,7.361111111111111,6.48,7.434782608695652,9.457627118644067,6.480769230769231,7.916666666666667,11.956521739130435,7.2105263157894735,7.090909090909091,7.071428571428571,6.375,6.909090909090909,6.823529411764706,6.711538461538462,7.415730337078652,6.361111111111111,7.145161290322581,7.464285714285714,7.2727272727272725,6.176470588235294,7.637931034482759,8.181818181818182,6.454545454545454,9.666666666666666,7.2,6.35,8.4,8.583333333333334,9.666666666666666,6.857142857142857,7.142857142857143,8.164556962025317,8.066666666666666,7.555555555555555,6.575757575757576,7.043478260869565,7.076923076923077,6.904761904761905,8.208333333333334,7.545454545454546,7.341463414634147,8.8125,7.1395348837209305,8.681818181818182,6.6923076923076925,7.701923076923077,7.153846153846154,9.107142857142858,7.416666666666667,8.366666666666667,7.384615384615385,6.905405405405405,8.027777777777779,7.142857142857143,7.426229508196721,8.529411764705882,7.277777777777778,8.333333333333334,7.423076923076923,6.473684210526316,8.203389830508474,7.222222222222222,7.1521739130434785,8.64406779661017,7.511627906976744,7.739130434782608,6.525,8.03225806451613,7.461538461538462,8.333333333333334,9.08695652173913,6.764705882352941,6.977011494252873,6.980392156862745,8.066666666666666,7.388888888888889,7.476190476190476,7.536585365853658,7.516129032258065,8.3,7.954545454545454,7.85,7.555555555555555,6.675,7.078947368421052,6.787234042553192,8.024390243902438,7.833333333333333,6.456140350877193,9.303921568627452,8.0,8.022727272727273,5.4,8.0,6.2075471698113205,7.326923076923077,7.784313725490196,7.88,7.131147540983607,6.7317073170731705,8.785714285714286,7.35,6.1875,8.321428571428571,6.444444444444445,8.608695652173912,6.9411764705882355,7.90625,9.166666666666666,8.625,6.791666666666667,8.03448275862069,7.625,6.8,8.923076923076923,7.275,6.2105263157894735,9.0,8.466666666666667,6.72972972972973,8.713235294117647,7.875,8.518518518518519,6.588235294117647,8.564102564102564,7.571428571428571,7.4375,7.454545454545454,6.923076923076923,6.607142857142857,6.653846153846154,8.714285714285714,6.8936170212765955,6.333333333333333,6.428571428571429,8.043478260869565,7.206611570247934,6.757575757575758,7.652631578947369,6.777777777777778,10.8,5.75,8.173333333333334,6.128205128205129,7.642424242424243,8.090909090909092,7.52,6.0,6.990566037735849,7.333333333333333,7.0602409638554215,6.104166666666667,6.576923076923077,7.482758620689655,6.75,7.285714285714286,7.444444444444445,6.689655172413793,6.827586206896552,6.904761904761905,7.55,6.555555555555555,8.0,6.790697674418604,7.45,9.222222222222221,6.2272727272727275,8.7,6.371428571428571,8.208333333333334,7.0,6.576923076923077,6.48,7.583333333333333,6.674418604651163,6.55,7.725,7.712328767123288,8.333333333333334,6.862745098039215,6.733333333333333,9.375,6.729166666666667,4.888888888888889,6.783289817232376,7.363636363636363,6.2727272727272725,7.449275362318841,7.523809523809524,7.304347826086956,6.777777777777778,7.769230769230769,6.9375,7.6909090909090905,6.666666666666667,8.192307692307692,8.15,6.967213114754099,8.142857142857142,6.647058823529412,7.038461538461538,6.961038961038961,8.380952380952381,7.037037037037037,8.793103448275861,6.333333333333333,6.5638297872340425,7.583333333333333,9.319148936170214,10.153846153846153,8.5,6.9375,7.945945945945946,8.208333333333334,9.25,7.333333333333333,7.346153846153846,7.705882352941177,8.461538461538462,6.804878048780488,8.285714285714286,6.666666666666667,8.0,7.852941176470588,6.875,7.087719298245614,6.730769230769231,6.411764705882353,6.607142857142857,7.446808510638298,6.619047619047619,6.4375,7.36,6.833333333333333,9.413793103448276,7.96,8.357142857142858,6.222222222222222,6.782608695652174,6.4,7.0,8.264705882352942,6.7407407407407405,6.428571428571429,7.260869565217392,7.5,9.431034482758621,8.025,7.176470588235294,6.354838709677419,9.695652173913043,7.166666666666667,7.848484848484849,7.172413793103448,7.6,7.944444444444445,7.2926829268292686,9.523809523809524,6.571428571428571,7.2,6.5,9.266666666666667,8.625,7.142857142857143,6.818181818181818,8.0,8.053571428571429,6.56,7.186440677966102,7.257142857142857,6.433333333333334,7.685714285714286,6.086956521739131,8.818181818181818,4.888888888888889,8.375,6.9655172413793105,6.333333333333333,6.622222222222222,7.555555555555555,8.75,6.866666666666666,7.5,8.026315789473685,7.1688311688311686,6.609756097560975,6.0,7.111111111111111,7.032258064516129,6.947368421052632,8.772727272727273,7.620253164556962,6.611111111111111,7.25,8.0,7.341666666666667,5.944444444444445,6.433962264150943,7.406593406593407,6.5,7.9375,8.25,6.509803921568627,6.7368421052631575,6.2727272727272725,7.068493150684931,6.533333333333333,7.333333333333333,7.191489361702128,8.105263157894736,7.485714285714286,8.5,8.8,6.511627906976744,7.390243902439025,7.904761904761905,8.833333333333334,10.346153846153847,6.875,7.75,6.17948717948718,7.7727272727272725,7.433333333333334,7.458333333333333,7.857142857142857,7.88,9.692307692307692,7.1568627450980395,6.86,7.2,7.666666666666667,9.705882352941176,8.461538461538462,10.2,6.755102040816326,7.576923076923077,5.906976744186046,7.1875,8.28125,7.3,9.954545454545455,6.5,9.470588235294118,6.714285714285714,7.55,6.943661971830986,8.263157894736842,7.696428571428571,7.5,7.333333333333333,7.8584905660377355,6.830508474576271,6.785714285714286,6.538461538461538,7.0,7.096385542168675,7.634146341463414,7.0588235294117645,8.75,7.157894736842105,7.636363636363637,9.090909090909092,7.384615384615385,9.23076923076923,7.333333333333333,8.686046511627907,8.542857142857143,6.699029126213592,7.857142857142857,8.08695652173913,6.699029126213592,8.775,7.3076923076923075,7.346153846153846,7.75,8.058823529411764,8.288461538461538,6.86,8.4,9.1875,6.904761904761905,7.102564102564102,6.0,6.788461538461538,6.193548387096774,9.157894736842104,8.518987341772151,7.806451612903226,6.888888888888889,8.142857142857142,7.15,6.875,9.026315789473685,5.833333333333333,8.245283018867925,7.107142857142857,7.442857142857143,8.333333333333334,9.8,8.875,7.238095238095238,7.228571428571429,8.25,5.875,7.545454545454546,6.979166666666667,6.271604938271605,6.788461538461538,9.5,7.894736842105263,8.865671641791044,7.627272727272727,7.076923076923077,7.275862068965517,7.461538461538462,7.878787878787879,6.7272727272727275,7.410714285714286,6.931034482758621,7.875,8.395348837209303,7.583333333333333,7.117647058823529,6.884615384615385,8.090909090909092,6.309523809523809,7.769230769230769,7.75,7.513513513513513,7.588235294117647,6.888888888888889,7.228571428571429,7.3478260869565215,7.26530612244898,6.5,6.266666666666667,9.25,7.48,7.289719626168225,7.3896103896103895,7.866666666666666,8.466666666666667,6.615384615384615,10.242424242424242,7.216216216216216,8.0,7.425925925925926,8.294117647058824,8.609756097560975,7.541666666666667,6.435897435897436,7.761904761904762,7.0,6.25,7.8,7.166666666666667,8.6,7.5,7.4375,6.833333333333333,7.095238095238095,8.355555555555556,7.238095238095238,8.277777777777779,6.863636363636363,6.266666666666667,7.568181818181818,7.8,7.0227272727272725,7.090909090909091,6.847222222222222,4.833333333333333,6.632075471698113,8.0,6.9,9.4,7.25,6.964285714285714,7.84375,7.137931034482759,6.983333333333333,8.0,6.5,8.173913043478262,7.28125,7.574712643678161,7.149321266968326,6.551282051282051,7.136363636363637,7.117647058823529,11.222222222222221,7.657894736842105,8.122395833333334,7.148148148148148,8.52,8.0,7.151515151515151,7.195488721804511,8.785714285714286,7.116279069767442,6.8,6.617283950617284,7.870967741935484,7.090909090909091,6.230769230769231,8.1,8.25,7.622950819672131,6.933333333333334,7.454545454545454,8.523809523809524,9.53968253968254,8.2,7.078947368421052,6.846153846153846,6.793103448275862,8.923076923076923,7.541666666666667,7.818897637795276,7.644927536231884,7.725,6.947368421052632,5.2,7.827586206896552,7.588235294117647,7.297297297297297,7.456310679611651,8.645390070921986,8.883333333333333,9.647058823529411,6.508771929824562,10.052631578947368,7.15,7.638297872340425,6.868131868131868,8.181818181818182,8.2,8.296296296296296,8.763157894736842,7.916666666666667,7.7,7.2444444444444445,6.852941176470588,6.425925925925926,7.020408163265306,7.388349514563107,6.914893617021277,7.214285714285714,7.689655172413793,7.090909090909091,7.65,6.666666666666667,7.0,8.884615384615385,6.838709677419355,6.836734693877551,6.693548387096774,7.719298245614035,8.071428571428571,8.608695652173912,7.2926829268292686,7.468085106382978,7.076923076923077,7.421052631578948,7.416666666666667,7.090909090909091,6.91743119266055,7.095238095238095,7.04424778761062,9.555555555555555,7.875,7.025316455696203,8.05,6.902777777777778,8.578947368421053,7.612903225806452,6.8,7.4324324324324325,7.237623762376238,7.009803921568627,8.0,8.203389830508474,11.0,11.6,7.6923076923076925,6.5576923076923075,7.894736842105263,7.375,6.862068965517241,6.888888888888889,7.56140350877193,8.176470588235293,7.529411764705882,7.209677419354839,10.681818181818182,7.08,7.125,7.217391304347826,7.382352941176471,7.535714285714286,6.450980392156863,7.173913043478261,7.325581395348837,6.833333333333333,9.210526315789474,7.325,7.896551724137931,6.7,7.0,9.162162162162161,7.814814814814815,7.7,6.7164179104477615,7.545454545454546,7.065359477124183,6.53125,6.318181818181818,10.80952380952381,7.0754716981132075,7.357142857142857,7.653846153846154,7.136363636363637,8.102564102564102,7.636363636363637,6.189473684210526,7.454545454545454,7.0,7.8493150684931505,7.0,7.0476190476190474,6.9,7.822222222222222,6.382352941176471,6.8352941176470585,8.363636363636363,7.05,6.680555555555555,9.6,7.029411764705882,7.25,7.020408163265306,7.58,7.5,7.462962962962963,7.9,6.545454545454546,6.888888888888889,6.927536231884058,8.428571428571429]}],                        {\"barmode\":\"overlay\",\"legend\":{\"bgcolor\":\"#F5F6F9\",\"font\":{\"color\":\"#4D5663\"}},\"paper_bgcolor\":\"#F5F6F9\",\"plot_bgcolor\":\"#F5F6F9\",\"template\":{\"data\":{\"bar\":[{\"error_x\":{\"color\":\"#2a3f5f\"},\"error_y\":{\"color\":\"#2a3f5f\"},\"marker\":{\"line\":{\"color\":\"#E5ECF6\",\"width\":0.5},\"pattern\":{\"fillmode\":\"overlay\",\"size\":10,\"solidity\":0.2}},\"type\":\"bar\"}],\"barpolar\":[{\"marker\":{\"line\":{\"color\":\"#E5ECF6\",\"width\":0.5},\"pattern\":{\"fillmode\":\"overlay\",\"size\":10,\"solidity\":0.2}},\"type\":\"barpolar\"}],\"carpet\":[{\"aaxis\":{\"endlinecolor\":\"#2a3f5f\",\"gridcolor\":\"white\",\"linecolor\":\"white\",\"minorgridcolor\":\"white\",\"startlinecolor\":\"#2a3f5f\"},\"baxis\":{\"endlinecolor\":\"#2a3f5f\",\"gridcolor\":\"white\",\"linecolor\":\"white\",\"minorgridcolor\":\"white\",\"startlinecolor\":\"#2a3f5f\"},\"type\":\"carpet\"}],\"choropleth\":[{\"colorbar\":{\"outlinewidth\":0,\"ticks\":\"\"},\"type\":\"choropleth\"}],\"contour\":[{\"colorbar\":{\"outlinewidth\":0,\"ticks\":\"\"},\"colorscale\":[[0.0,\"#0d0887\"],[0.1111111111111111,\"#46039f\"],[0.2222222222222222,\"#7201a8\"],[0.3333333333333333,\"#9c179e\"],[0.4444444444444444,\"#bd3786\"],[0.5555555555555556,\"#d8576b\"],[0.6666666666666666,\"#ed7953\"],[0.7777777777777778,\"#fb9f3a\"],[0.8888888888888888,\"#fdca26\"],[1.0,\"#f0f921\"]],\"type\":\"contour\"}],\"contourcarpet\":[{\"colorbar\":{\"outlinewidth\":0,\"ticks\":\"\"},\"type\":\"contourcarpet\"}],\"heatmap\":[{\"colorbar\":{\"outlinewidth\":0,\"ticks\":\"\"},\"colorscale\":[[0.0,\"#0d0887\"],[0.1111111111111111,\"#46039f\"],[0.2222222222222222,\"#7201a8\"],[0.3333333333333333,\"#9c179e\"],[0.4444444444444444,\"#bd3786\"],[0.5555555555555556,\"#d8576b\"],[0.6666666666666666,\"#ed7953\"],[0.7777777777777778,\"#fb9f3a\"],[0.8888888888888888,\"#fdca26\"],[1.0,\"#f0f921\"]],\"type\":\"heatmap\"}],\"heatmapgl\":[{\"colorbar\":{\"outlinewidth\":0,\"ticks\":\"\"},\"colorscale\":[[0.0,\"#0d0887\"],[0.1111111111111111,\"#46039f\"],[0.2222222222222222,\"#7201a8\"],[0.3333333333333333,\"#9c179e\"],[0.4444444444444444,\"#bd3786\"],[0.5555555555555556,\"#d8576b\"],[0.6666666666666666,\"#ed7953\"],[0.7777777777777778,\"#fb9f3a\"],[0.8888888888888888,\"#fdca26\"],[1.0,\"#f0f921\"]],\"type\":\"heatmapgl\"}],\"histogram\":[{\"marker\":{\"pattern\":{\"fillmode\":\"overlay\",\"size\":10,\"solidity\":0.2}},\"type\":\"histogram\"}],\"histogram2d\":[{\"colorbar\":{\"outlinewidth\":0,\"ticks\":\"\"},\"colorscale\":[[0.0,\"#0d0887\"],[0.1111111111111111,\"#46039f\"],[0.2222222222222222,\"#7201a8\"],[0.3333333333333333,\"#9c179e\"],[0.4444444444444444,\"#bd3786\"],[0.5555555555555556,\"#d8576b\"],[0.6666666666666666,\"#ed7953\"],[0.7777777777777778,\"#fb9f3a\"],[0.8888888888888888,\"#fdca26\"],[1.0,\"#f0f921\"]],\"type\":\"histogram2d\"}],\"histogram2dcontour\":[{\"colorbar\":{\"outlinewidth\":0,\"ticks\":\"\"},\"colorscale\":[[0.0,\"#0d0887\"],[0.1111111111111111,\"#46039f\"],[0.2222222222222222,\"#7201a8\"],[0.3333333333333333,\"#9c179e\"],[0.4444444444444444,\"#bd3786\"],[0.5555555555555556,\"#d8576b\"],[0.6666666666666666,\"#ed7953\"],[0.7777777777777778,\"#fb9f3a\"],[0.8888888888888888,\"#fdca26\"],[1.0,\"#f0f921\"]],\"type\":\"histogram2dcontour\"}],\"mesh3d\":[{\"colorbar\":{\"outlinewidth\":0,\"ticks\":\"\"},\"type\":\"mesh3d\"}],\"parcoords\":[{\"line\":{\"colorbar\":{\"outlinewidth\":0,\"ticks\":\"\"}},\"type\":\"parcoords\"}],\"pie\":[{\"automargin\":true,\"type\":\"pie\"}],\"scatter\":[{\"marker\":{\"colorbar\":{\"outlinewidth\":0,\"ticks\":\"\"}},\"type\":\"scatter\"}],\"scatter3d\":[{\"line\":{\"colorbar\":{\"outlinewidth\":0,\"ticks\":\"\"}},\"marker\":{\"colorbar\":{\"outlinewidth\":0,\"ticks\":\"\"}},\"type\":\"scatter3d\"}],\"scattercarpet\":[{\"marker\":{\"colorbar\":{\"outlinewidth\":0,\"ticks\":\"\"}},\"type\":\"scattercarpet\"}],\"scattergeo\":[{\"marker\":{\"colorbar\":{\"outlinewidth\":0,\"ticks\":\"\"}},\"type\":\"scattergeo\"}],\"scattergl\":[{\"marker\":{\"colorbar\":{\"outlinewidth\":0,\"ticks\":\"\"}},\"type\":\"scattergl\"}],\"scattermapbox\":[{\"marker\":{\"colorbar\":{\"outlinewidth\":0,\"ticks\":\"\"}},\"type\":\"scattermapbox\"}],\"scatterpolar\":[{\"marker\":{\"colorbar\":{\"outlinewidth\":0,\"ticks\":\"\"}},\"type\":\"scatterpolar\"}],\"scatterpolargl\":[{\"marker\":{\"colorbar\":{\"outlinewidth\":0,\"ticks\":\"\"}},\"type\":\"scatterpolargl\"}],\"scatterternary\":[{\"marker\":{\"colorbar\":{\"outlinewidth\":0,\"ticks\":\"\"}},\"type\":\"scatterternary\"}],\"surface\":[{\"colorbar\":{\"outlinewidth\":0,\"ticks\":\"\"},\"colorscale\":[[0.0,\"#0d0887\"],[0.1111111111111111,\"#46039f\"],[0.2222222222222222,\"#7201a8\"],[0.3333333333333333,\"#9c179e\"],[0.4444444444444444,\"#bd3786\"],[0.5555555555555556,\"#d8576b\"],[0.6666666666666666,\"#ed7953\"],[0.7777777777777778,\"#fb9f3a\"],[0.8888888888888888,\"#fdca26\"],[1.0,\"#f0f921\"]],\"type\":\"surface\"}],\"table\":[{\"cells\":{\"fill\":{\"color\":\"#EBF0F8\"},\"line\":{\"color\":\"white\"}},\"header\":{\"fill\":{\"color\":\"#C8D4E3\"},\"line\":{\"color\":\"white\"}},\"type\":\"table\"}]},\"layout\":{\"annotationdefaults\":{\"arrowcolor\":\"#2a3f5f\",\"arrowhead\":0,\"arrowwidth\":1},\"autotypenumbers\":\"strict\",\"coloraxis\":{\"colorbar\":{\"outlinewidth\":0,\"ticks\":\"\"}},\"colorscale\":{\"diverging\":[[0,\"#8e0152\"],[0.1,\"#c51b7d\"],[0.2,\"#de77ae\"],[0.3,\"#f1b6da\"],[0.4,\"#fde0ef\"],[0.5,\"#f7f7f7\"],[0.6,\"#e6f5d0\"],[0.7,\"#b8e186\"],[0.8,\"#7fbc41\"],[0.9,\"#4d9221\"],[1,\"#276419\"]],\"sequential\":[[0.0,\"#0d0887\"],[0.1111111111111111,\"#46039f\"],[0.2222222222222222,\"#7201a8\"],[0.3333333333333333,\"#9c179e\"],[0.4444444444444444,\"#bd3786\"],[0.5555555555555556,\"#d8576b\"],[0.6666666666666666,\"#ed7953\"],[0.7777777777777778,\"#fb9f3a\"],[0.8888888888888888,\"#fdca26\"],[1.0,\"#f0f921\"]],\"sequentialminus\":[[0.0,\"#0d0887\"],[0.1111111111111111,\"#46039f\"],[0.2222222222222222,\"#7201a8\"],[0.3333333333333333,\"#9c179e\"],[0.4444444444444444,\"#bd3786\"],[0.5555555555555556,\"#d8576b\"],[0.6666666666666666,\"#ed7953\"],[0.7777777777777778,\"#fb9f3a\"],[0.8888888888888888,\"#fdca26\"],[1.0,\"#f0f921\"]]},\"colorway\":[\"#636efa\",\"#EF553B\",\"#00cc96\",\"#ab63fa\",\"#FFA15A\",\"#19d3f3\",\"#FF6692\",\"#B6E880\",\"#FF97FF\",\"#FECB52\"],\"font\":{\"color\":\"#2a3f5f\"},\"geo\":{\"bgcolor\":\"white\",\"lakecolor\":\"white\",\"landcolor\":\"#E5ECF6\",\"showlakes\":true,\"showland\":true,\"subunitcolor\":\"white\"},\"hoverlabel\":{\"align\":\"left\"},\"hovermode\":\"closest\",\"mapbox\":{\"style\":\"light\"},\"paper_bgcolor\":\"white\",\"plot_bgcolor\":\"#E5ECF6\",\"polar\":{\"angularaxis\":{\"gridcolor\":\"white\",\"linecolor\":\"white\",\"ticks\":\"\"},\"bgcolor\":\"#E5ECF6\",\"radialaxis\":{\"gridcolor\":\"white\",\"linecolor\":\"white\",\"ticks\":\"\"}},\"scene\":{\"xaxis\":{\"backgroundcolor\":\"#E5ECF6\",\"gridcolor\":\"white\",\"gridwidth\":2,\"linecolor\":\"white\",\"showbackground\":true,\"ticks\":\"\",\"zerolinecolor\":\"white\"},\"yaxis\":{\"backgroundcolor\":\"#E5ECF6\",\"gridcolor\":\"white\",\"gridwidth\":2,\"linecolor\":\"white\",\"showbackground\":true,\"ticks\":\"\",\"zerolinecolor\":\"white\"},\"zaxis\":{\"backgroundcolor\":\"#E5ECF6\",\"gridcolor\":\"white\",\"gridwidth\":2,\"linecolor\":\"white\",\"showbackground\":true,\"ticks\":\"\",\"zerolinecolor\":\"white\"}},\"shapedefaults\":{\"line\":{\"color\":\"#2a3f5f\"}},\"ternary\":{\"aaxis\":{\"gridcolor\":\"white\",\"linecolor\":\"white\",\"ticks\":\"\"},\"baxis\":{\"gridcolor\":\"white\",\"linecolor\":\"white\",\"ticks\":\"\"},\"bgcolor\":\"#E5ECF6\",\"caxis\":{\"gridcolor\":\"white\",\"linecolor\":\"white\",\"ticks\":\"\"}},\"title\":{\"x\":0.05},\"xaxis\":{\"automargin\":true,\"gridcolor\":\"white\",\"linecolor\":\"white\",\"ticks\":\"\",\"title\":{\"standoff\":15},\"zerolinecolor\":\"white\",\"zerolinewidth\":2},\"yaxis\":{\"automargin\":true,\"gridcolor\":\"white\",\"linecolor\":\"white\",\"ticks\":\"\",\"title\":{\"standoff\":15},\"zerolinecolor\":\"white\",\"zerolinewidth\":2}}},\"title\":{\"font\":{\"color\":\"#4D5663\"},\"text\":\"\\u0421\\u0440\\u0435\\u0434\\u043d\\u044f\\u044f \\u0434\\u043b\\u0438\\u043d\\u0430 \\u0441\\u043b\\u043e\\u0432\"},\"xaxis\":{\"gridcolor\":\"#E1E5ED\",\"showgrid\":true,\"tickfont\":{\"color\":\"#4D5663\"},\"title\":{\"font\":{\"color\":\"#4D5663\"},\"text\":\"\\u0421\\u0440\\u0435\\u0434\\u043d\\u044f\\u044f \\u0434\\u043b\\u0438\\u043d\\u0430 \\u0441\\u043b\\u043e\\u0432\"},\"zerolinecolor\":\"#E1E5ED\"},\"yaxis\":{\"gridcolor\":\"#E1E5ED\",\"showgrid\":true,\"tickfont\":{\"color\":\"#4D5663\"},\"title\":{\"font\":{\"color\":\"#4D5663\"},\"text\":\"\\u041a\\u043e\\u043b\\u0438\\u0447\\u0435\\u0441\\u0442\\u0432\\u043e \\u043e\\u0442\\u0437\\u044b\\u0432\\u043e\\u0432, \\u0438\\u043c\\u0435\\u044e\\u0449\\u0438\\u0445 \\u0442\\u0430\\u043a\\u0443\\u044e \\u0441\\u0440\\u0435\\u0434\\u043d\\u044e\\u044e \\u0434\\u043b\\u0438\\u043d\\u0443 \\u0441\\u043b\\u043e\\u0432\\u0430\"},\"zerolinecolor\":\"#E1E5ED\"}},                        {\"showLink\": true, \"linkText\": \"Export to plot.ly\", \"plotlyServerURL\": \"https://plot.ly\", \"responsive\": true}                    ).then(function(){\n",
       "                            \n",
       "var gd = document.getElementById('4f402237-f040-4c32-b033-54360ba6e748');\n",
       "var x = new MutationObserver(function (mutations, observer) {{\n",
       "        var display = window.getComputedStyle(gd).display;\n",
       "        if (!display || display === 'none') {{\n",
       "            console.log([gd, 'removed!']);\n",
       "            Plotly.purge(gd);\n",
       "            observer.disconnect();\n",
       "        }}\n",
       "}});\n",
       "\n",
       "// Listen for the removal of the full notebook cells\n",
       "var notebookContainer = gd.closest('#notebook-container');\n",
       "if (notebookContainer) {{\n",
       "    x.observe(notebookContainer, {childList: true});\n",
       "}}\n",
       "\n",
       "// Listen for the clearing of the current output cell\n",
       "var outputEl = gd.closest('.output');\n",
       "if (outputEl) {{\n",
       "    x.observe(outputEl, {childList: true});\n",
       "}}\n",
       "\n",
       "                        })                };                });            </script>        </div>"
      ]
     },
     "metadata": {},
     "output_type": "display_data"
    }
   ],
   "source": [
    "info['middle_words'].iplot(kind='hist', xTitle = \"Средняя длина слов\", yTitle = \"Количество отзывов, имеющих такую среднюю длину слова\", title = \"Средняя длина слов\")"
   ]
  },
  {
   "cell_type": "markdown",
   "id": "525f9dac",
   "metadata": {},
   "source": [
    "Теперь попробуем отыскать самые часто встречающиеся слова в нашем файле в принципе, после чего соберем самые популярные слова от разных полов."
   ]
  },
  {
   "cell_type": "code",
   "execution_count": 28,
   "id": "52e8632c",
   "metadata": {},
   "outputs": [
    {
     "data": {
      "text/plain": [
       "[('год', 1104),\n",
       " ('здравствовать', 912),\n",
       " ('ли', 896),\n",
       " ('день', 720),\n",
       " ('операция', 604),\n",
       " ('спасибо', 508),\n",
       " ('сказать', 507),\n",
       " ('врач', 474),\n",
       " ('делать', 472),\n",
       " ('можно', 463),\n",
       " ('какой', 445),\n",
       " ('пожалуйста', 443),\n",
       " ('добрый', 435),\n",
       " ('после', 394),\n",
       " ('лечение', 390)]"
      ]
     },
     "execution_count": 28,
     "metadata": {},
     "output_type": "execute_result"
    }
   ],
   "source": [
    "from sklearn.feature_extraction.text import CountVectorizer\n",
    "def top_words(x,n):\n",
    "    vec = CountVectorizer().fit(x)\n",
    "    bow = vec.transform(x)\n",
    "    sum_words = bow.sum(axis = 0)\n",
    "    w = [(word, sum_words[0, idx]) for word, idx in vec.vocabulary_.items()]\n",
    "    w = sorted(w, key = lambda x: x[1], reverse = True)\n",
    "    return w[:n]\n",
    "words = top_words(info['lemmatized'], 15)\n",
    "words"
   ]
  },
  {
   "cell_type": "code",
   "execution_count": 29,
   "id": "c893272d",
   "metadata": {},
   "outputs": [
    {
     "data": {
      "text/html": [
       "<div>\n",
       "<style scoped>\n",
       "    .dataframe tbody tr th:only-of-type {\n",
       "        vertical-align: middle;\n",
       "    }\n",
       "\n",
       "    .dataframe tbody tr th {\n",
       "        vertical-align: top;\n",
       "    }\n",
       "\n",
       "    .dataframe thead th {\n",
       "        text-align: right;\n",
       "    }\n",
       "</style>\n",
       "<table border=\"1\" class=\"dataframe\">\n",
       "  <thead>\n",
       "    <tr style=\"text-align: right;\">\n",
       "      <th></th>\n",
       "      <th>txt</th>\n",
       "      <th>gender</th>\n",
       "      <th>create_date</th>\n",
       "      <th>cleaned</th>\n",
       "      <th>lemmatized</th>\n",
       "      <th>review_len</th>\n",
       "      <th>w_count</th>\n",
       "      <th>middle_words</th>\n",
       "    </tr>\n",
       "  </thead>\n",
       "  <tbody>\n",
       "    <tr>\n",
       "      <th>16</th>\n",
       "      <td>Евгений Альбертович, здравствуйте! У меня одно...</td>\n",
       "      <td>male</td>\n",
       "      <td>2021-01-31</td>\n",
       "      <td>евгений альбертович здравствуйте у меня одност...</td>\n",
       "      <td>евгений альбертович здравствовать односторонни...</td>\n",
       "      <td>389</td>\n",
       "      <td>45</td>\n",
       "      <td>7.666667</td>\n",
       "    </tr>\n",
       "    <tr>\n",
       "      <th>31</th>\n",
       "      <td>Евгений Альбертович! после операции по удалени...</td>\n",
       "      <td>male</td>\n",
       "      <td>2020-11-16</td>\n",
       "      <td>евгений альбертович после операции по удалению...</td>\n",
       "      <td>евгений альбертович после операция удаление ха...</td>\n",
       "      <td>329</td>\n",
       "      <td>37</td>\n",
       "      <td>7.918919</td>\n",
       "    </tr>\n",
       "    <tr>\n",
       "      <th>41</th>\n",
       "      <td>Здравствуйте, хочу записаться к вам на прием ,...</td>\n",
       "      <td>male</td>\n",
       "      <td>2020-10-05</td>\n",
       "      <td>здравствуйте хочу записаться к вам на прием ко...</td>\n",
       "      <td>здравствовать хотеть записаться приём консульт...</td>\n",
       "      <td>131</td>\n",
       "      <td>14</td>\n",
       "      <td>8.428571</td>\n",
       "    </tr>\n",
       "    <tr>\n",
       "      <th>58</th>\n",
       "      <td>Здравствуйте, Виктор Григорьевич!\\r\\nСпасибо В...</td>\n",
       "      <td>male</td>\n",
       "      <td>2020-03-29</td>\n",
       "      <td>здравствуйте виктор григорьевич  спасибо вам б...</td>\n",
       "      <td>здравствовать виктор григорьевич   спасибо бол...</td>\n",
       "      <td>814</td>\n",
       "      <td>97</td>\n",
       "      <td>7.298969</td>\n",
       "    </tr>\n",
       "    <tr>\n",
       "      <th>67</th>\n",
       "      <td>Виктор Г ригорьевич добрый день. болею с конца...</td>\n",
       "      <td>male</td>\n",
       "      <td>2015-10-14</td>\n",
       "      <td>виктор г ригорьевич добрый день болею с конца ...</td>\n",
       "      <td>виктор г ригорьевич добрый день болеть конец а...</td>\n",
       "      <td>212</td>\n",
       "      <td>26</td>\n",
       "      <td>7.192308</td>\n",
       "    </tr>\n",
       "    <tr>\n",
       "      <th>...</th>\n",
       "      <td>...</td>\n",
       "      <td>...</td>\n",
       "      <td>...</td>\n",
       "      <td>...</td>\n",
       "      <td>...</td>\n",
       "      <td>...</td>\n",
       "      <td>...</td>\n",
       "      <td>...</td>\n",
       "    </tr>\n",
       "    <tr>\n",
       "      <th>6738</th>\n",
       "      <td>Добрый день, Евгений Альбертович.\\r\\nЯ был у В...</td>\n",
       "      <td>male</td>\n",
       "      <td>2012-12-16</td>\n",
       "      <td>добрый день евгений альбертович  я был у вас н...</td>\n",
       "      <td>добрый день евгений альбертович   консультация...</td>\n",
       "      <td>1239</td>\n",
       "      <td>153</td>\n",
       "      <td>7.065359</td>\n",
       "    </tr>\n",
       "    <tr>\n",
       "      <th>6761</th>\n",
       "      <td>у меня была травма носа с 3 лет-искривление пе...</td>\n",
       "      <td>male</td>\n",
       "      <td>2012-11-02</td>\n",
       "      <td>у меня была травма носа с летискривление перег...</td>\n",
       "      <td>травма нос летискривление перегородкидва год н...</td>\n",
       "      <td>233</td>\n",
       "      <td>28</td>\n",
       "      <td>7.357143</td>\n",
       "    </tr>\n",
       "    <tr>\n",
       "      <th>6849</th>\n",
       "      <td>Здравствуйте,в последнее время мне стало трудн...</td>\n",
       "      <td>male</td>\n",
       "      <td>2012-04-11</td>\n",
       "      <td>здравствуйтев последнее время мне стало трудно...</td>\n",
       "      <td>здравствуйтев последний время стать трудный ды...</td>\n",
       "      <td>135</td>\n",
       "      <td>16</td>\n",
       "      <td>7.500000</td>\n",
       "    </tr>\n",
       "    <tr>\n",
       "      <th>6856</th>\n",
       "      <td>здравствуйте! беспокою вас с сахалина, пореком...</td>\n",
       "      <td>male</td>\n",
       "      <td>2012-04-02</td>\n",
       "      <td>здравствуйте беспокою вас с сахалина порекомен...</td>\n",
       "      <td>здравствовать беспокою сахалин порекомендовать...</td>\n",
       "      <td>266</td>\n",
       "      <td>30</td>\n",
       "      <td>7.900000</td>\n",
       "    </tr>\n",
       "    <tr>\n",
       "      <th>6875</th>\n",
       "      <td>В какую больницу лучше обратиться для исправле...</td>\n",
       "      <td>male</td>\n",
       "      <td>2012-03-15</td>\n",
       "      <td>в какую больницу лучше обратиться для исправле...</td>\n",
       "      <td>какой больница хороший обратиться исправление ...</td>\n",
       "      <td>65</td>\n",
       "      <td>7</td>\n",
       "      <td>8.428571</td>\n",
       "    </tr>\n",
       "  </tbody>\n",
       "</table>\n",
       "<p>509 rows × 8 columns</p>\n",
       "</div>"
      ],
      "text/plain": [
       "                                                    txt gender create_date  \\\n",
       "16    Евгений Альбертович, здравствуйте! У меня одно...   male  2021-01-31   \n",
       "31    Евгений Альбертович! после операции по удалени...   male  2020-11-16   \n",
       "41    Здравствуйте, хочу записаться к вам на прием ,...   male  2020-10-05   \n",
       "58    Здравствуйте, Виктор Григорьевич!\\r\\nСпасибо В...   male  2020-03-29   \n",
       "67    Виктор Г ригорьевич добрый день. болею с конца...   male  2015-10-14   \n",
       "...                                                 ...    ...         ...   \n",
       "6738  Добрый день, Евгений Альбертович.\\r\\nЯ был у В...   male  2012-12-16   \n",
       "6761  у меня была травма носа с 3 лет-искривление пе...   male  2012-11-02   \n",
       "6849  Здравствуйте,в последнее время мне стало трудн...   male  2012-04-11   \n",
       "6856  здравствуйте! беспокою вас с сахалина, пореком...   male  2012-04-02   \n",
       "6875  В какую больницу лучше обратиться для исправле...   male  2012-03-15   \n",
       "\n",
       "                                                cleaned  \\\n",
       "16    евгений альбертович здравствуйте у меня одност...   \n",
       "31    евгений альбертович после операции по удалению...   \n",
       "41    здравствуйте хочу записаться к вам на прием ко...   \n",
       "58    здравствуйте виктор григорьевич  спасибо вам б...   \n",
       "67    виктор г ригорьевич добрый день болею с конца ...   \n",
       "...                                                 ...   \n",
       "6738  добрый день евгений альбертович  я был у вас н...   \n",
       "6761  у меня была травма носа с летискривление перег...   \n",
       "6849  здравствуйтев последнее время мне стало трудно...   \n",
       "6856  здравствуйте беспокою вас с сахалина порекомен...   \n",
       "6875  в какую больницу лучше обратиться для исправле...   \n",
       "\n",
       "                                             lemmatized  review_len  w_count  \\\n",
       "16    евгений альбертович здравствовать односторонни...         389       45   \n",
       "31    евгений альбертович после операция удаление ха...         329       37   \n",
       "41    здравствовать хотеть записаться приём консульт...         131       14   \n",
       "58    здравствовать виктор григорьевич   спасибо бол...         814       97   \n",
       "67    виктор г ригорьевич добрый день болеть конец а...         212       26   \n",
       "...                                                 ...         ...      ...   \n",
       "6738  добрый день евгений альбертович   консультация...        1239      153   \n",
       "6761  травма нос летискривление перегородкидва год н...         233       28   \n",
       "6849  здравствуйтев последний время стать трудный ды...         135       16   \n",
       "6856  здравствовать беспокою сахалин порекомендовать...         266       30   \n",
       "6875  какой больница хороший обратиться исправление ...          65        7   \n",
       "\n",
       "      middle_words  \n",
       "16        7.666667  \n",
       "31        7.918919  \n",
       "41        8.428571  \n",
       "58        7.298969  \n",
       "67        7.192308  \n",
       "...            ...  \n",
       "6738      7.065359  \n",
       "6761      7.357143  \n",
       "6849      7.500000  \n",
       "6856      7.900000  \n",
       "6875      8.428571  \n",
       "\n",
       "[509 rows x 8 columns]"
      ]
     },
     "execution_count": 29,
     "metadata": {},
     "output_type": "execute_result"
    }
   ],
   "source": [
    "kek = info[info.gender=='male']\n",
    "kek"
   ]
  },
  {
   "cell_type": "code",
   "execution_count": 30,
   "id": "d98da71f",
   "metadata": {},
   "outputs": [
    {
     "data": {
      "text/plain": [
       "[('здравствовать', 255),\n",
       " ('год', 247),\n",
       " ('ли', 241),\n",
       " ('операция', 162),\n",
       " ('день', 150),\n",
       " ('сказать', 125),\n",
       " ('можно', 121),\n",
       " ('добрый', 120),\n",
       " ('спасибо', 118),\n",
       " ('какой', 113),\n",
       " ('делать', 109),\n",
       " ('лечение', 104),\n",
       " ('сделать', 102),\n",
       " ('после', 100),\n",
       " ('пожалуйста', 100)]"
      ]
     },
     "execution_count": 30,
     "metadata": {},
     "output_type": "execute_result"
    }
   ],
   "source": [
    "man = top_words(kek['lemmatized'], 15)\n",
    "man"
   ]
  },
  {
   "cell_type": "code",
   "execution_count": 31,
   "id": "e7dd2356",
   "metadata": {},
   "outputs": [
    {
     "data": {
      "text/html": [
       "<div>\n",
       "<style scoped>\n",
       "    .dataframe tbody tr th:only-of-type {\n",
       "        vertical-align: middle;\n",
       "    }\n",
       "\n",
       "    .dataframe tbody tr th {\n",
       "        vertical-align: top;\n",
       "    }\n",
       "\n",
       "    .dataframe thead th {\n",
       "        text-align: right;\n",
       "    }\n",
       "</style>\n",
       "<table border=\"1\" class=\"dataframe\">\n",
       "  <thead>\n",
       "    <tr style=\"text-align: right;\">\n",
       "      <th></th>\n",
       "      <th>txt</th>\n",
       "      <th>gender</th>\n",
       "      <th>create_date</th>\n",
       "      <th>cleaned</th>\n",
       "      <th>lemmatized</th>\n",
       "      <th>review_len</th>\n",
       "      <th>w_count</th>\n",
       "      <th>middle_words</th>\n",
       "    </tr>\n",
       "  </thead>\n",
       "  <tbody>\n",
       "    <tr>\n",
       "      <th>2</th>\n",
       "      <td>Добрый день, Евгений Альбертович!\\nРебенку 3,5...</td>\n",
       "      <td>female</td>\n",
       "      <td>2021-04-02</td>\n",
       "      <td>добрый день евгений альбертович ребенку года с...</td>\n",
       "      <td>добрый день евгений альбертович ребёнок год ст...</td>\n",
       "      <td>332</td>\n",
       "      <td>46</td>\n",
       "      <td>6.239130</td>\n",
       "    </tr>\n",
       "    <tr>\n",
       "      <th>4</th>\n",
       "      <td>Здравствуйте! Хочу оставить отзыв. Восемь лет ...</td>\n",
       "      <td>female</td>\n",
       "      <td>2021-03-31</td>\n",
       "      <td>здравствуйте хочу оставить отзыв восемь лет мо...</td>\n",
       "      <td>здравствовать хотеть оставить отзыв восемь год...</td>\n",
       "      <td>530</td>\n",
       "      <td>59</td>\n",
       "      <td>8.000000</td>\n",
       "    </tr>\n",
       "    <tr>\n",
       "      <th>5</th>\n",
       "      <td>Здравствуйте! В 2018 году ребенку (сейчас ему ...</td>\n",
       "      <td>female</td>\n",
       "      <td>2021-03-29</td>\n",
       "      <td>здравствуйте в году ребенку сейчас ему лет уда...</td>\n",
       "      <td>здравствовать год ребёнок сейчас год удалить а...</td>\n",
       "      <td>274</td>\n",
       "      <td>34</td>\n",
       "      <td>6.852941</td>\n",
       "    </tr>\n",
       "    <tr>\n",
       "      <th>8</th>\n",
       "      <td>Здравствуйте! Скажите, пожалуйста, может ли ми...</td>\n",
       "      <td>female</td>\n",
       "      <td>2021-02-24</td>\n",
       "      <td>здравствуйте скажите пожалуйста может ли минол...</td>\n",
       "      <td>здравствовать сказать пожалуйста ли минолексин...</td>\n",
       "      <td>122</td>\n",
       "      <td>15</td>\n",
       "      <td>7.200000</td>\n",
       "    </tr>\n",
       "    <tr>\n",
       "      <th>12</th>\n",
       "      <td>Здравствуйте, Евгений Альбертович! Куда и с ка...</td>\n",
       "      <td>female</td>\n",
       "      <td>2021-02-14</td>\n",
       "      <td>здравствуйте евгений альбертович куда и с каки...</td>\n",
       "      <td>здравствовать евгений альбертович куда какой о...</td>\n",
       "      <td>157</td>\n",
       "      <td>20</td>\n",
       "      <td>6.900000</td>\n",
       "    </tr>\n",
       "    <tr>\n",
       "      <th>...</th>\n",
       "      <td>...</td>\n",
       "      <td>...</td>\n",
       "      <td>...</td>\n",
       "      <td>...</td>\n",
       "      <td>...</td>\n",
       "      <td>...</td>\n",
       "      <td>...</td>\n",
       "      <td>...</td>\n",
       "    </tr>\n",
       "    <tr>\n",
       "      <th>6848</th>\n",
       "      <td>Здравствуйте, обратилась к терапевту с болью в...</td>\n",
       "      <td>female</td>\n",
       "      <td>2012-04-13</td>\n",
       "      <td>здравствуйте обратилась к терапевту с болью в ...</td>\n",
       "      <td>здравствовать обратиться терапевт боль горлеор...</td>\n",
       "      <td>428</td>\n",
       "      <td>50</td>\n",
       "      <td>7.580000</td>\n",
       "    </tr>\n",
       "    <tr>\n",
       "      <th>6855</th>\n",
       "      <td>Здравствуйте Евгений Альбертович. Я из Находки...</td>\n",
       "      <td>female</td>\n",
       "      <td>2012-04-02</td>\n",
       "      <td>здравствуйте евгений альбертович я из находки ...</td>\n",
       "      <td>здравствовать евгений альбертович находка зват...</td>\n",
       "      <td>456</td>\n",
       "      <td>54</td>\n",
       "      <td>7.462963</td>\n",
       "    </tr>\n",
       "    <tr>\n",
       "      <th>6861</th>\n",
       "      <td>Здравствуйте! У меня муж ночью сильно храпит. ...</td>\n",
       "      <td>female</td>\n",
       "      <td>2012-03-25</td>\n",
       "      <td>здравствуйте у меня муж ночью сильно храпит чт...</td>\n",
       "      <td>здравствовать муж ночь сильно храпеть можно сд...</td>\n",
       "      <td>82</td>\n",
       "      <td>11</td>\n",
       "      <td>6.545455</td>\n",
       "    </tr>\n",
       "    <tr>\n",
       "      <th>6867</th>\n",
       "      <td>Здравствуйте. Подскажите когда и где в ближайш...</td>\n",
       "      <td>female</td>\n",
       "      <td>2012-02-22</td>\n",
       "      <td>здравствуйте подскажите когда и где в ближайше...</td>\n",
       "      <td>здравствовать подсказать где близкий время мож...</td>\n",
       "      <td>70</td>\n",
       "      <td>9</td>\n",
       "      <td>6.888889</td>\n",
       "    </tr>\n",
       "    <tr>\n",
       "      <th>6871</th>\n",
       "      <td>Здравствуйте Евгений Альбертович! У меня к Вам...</td>\n",
       "      <td>female</td>\n",
       "      <td>2012-03-02</td>\n",
       "      <td>здравствуйте евгений альбертович у меня к вам ...</td>\n",
       "      <td>здравствовать евгений альбертович два вопрос к...</td>\n",
       "      <td>546</td>\n",
       "      <td>69</td>\n",
       "      <td>6.927536</td>\n",
       "    </tr>\n",
       "  </tbody>\n",
       "</table>\n",
       "<p>1292 rows × 8 columns</p>\n",
       "</div>"
      ],
      "text/plain": [
       "                                                    txt  gender create_date  \\\n",
       "2     Добрый день, Евгений Альбертович!\\nРебенку 3,5...  female  2021-04-02   \n",
       "4     Здравствуйте! Хочу оставить отзыв. Восемь лет ...  female  2021-03-31   \n",
       "5     Здравствуйте! В 2018 году ребенку (сейчас ему ...  female  2021-03-29   \n",
       "8     Здравствуйте! Скажите, пожалуйста, может ли ми...  female  2021-02-24   \n",
       "12    Здравствуйте, Евгений Альбертович! Куда и с ка...  female  2021-02-14   \n",
       "...                                                 ...     ...         ...   \n",
       "6848  Здравствуйте, обратилась к терапевту с болью в...  female  2012-04-13   \n",
       "6855  Здравствуйте Евгений Альбертович. Я из Находки...  female  2012-04-02   \n",
       "6861  Здравствуйте! У меня муж ночью сильно храпит. ...  female  2012-03-25   \n",
       "6867  Здравствуйте. Подскажите когда и где в ближайш...  female  2012-02-22   \n",
       "6871  Здравствуйте Евгений Альбертович! У меня к Вам...  female  2012-03-02   \n",
       "\n",
       "                                                cleaned  \\\n",
       "2     добрый день евгений альбертович ребенку года с...   \n",
       "4     здравствуйте хочу оставить отзыв восемь лет мо...   \n",
       "5     здравствуйте в году ребенку сейчас ему лет уда...   \n",
       "8     здравствуйте скажите пожалуйста может ли минол...   \n",
       "12    здравствуйте евгений альбертович куда и с каки...   \n",
       "...                                                 ...   \n",
       "6848  здравствуйте обратилась к терапевту с болью в ...   \n",
       "6855  здравствуйте евгений альбертович я из находки ...   \n",
       "6861  здравствуйте у меня муж ночью сильно храпит чт...   \n",
       "6867  здравствуйте подскажите когда и где в ближайше...   \n",
       "6871  здравствуйте евгений альбертович у меня к вам ...   \n",
       "\n",
       "                                             lemmatized  review_len  w_count  \\\n",
       "2     добрый день евгений альбертович ребёнок год ст...         332       46   \n",
       "4     здравствовать хотеть оставить отзыв восемь год...         530       59   \n",
       "5     здравствовать год ребёнок сейчас год удалить а...         274       34   \n",
       "8     здравствовать сказать пожалуйста ли минолексин...         122       15   \n",
       "12    здравствовать евгений альбертович куда какой о...         157       20   \n",
       "...                                                 ...         ...      ...   \n",
       "6848  здравствовать обратиться терапевт боль горлеор...         428       50   \n",
       "6855  здравствовать евгений альбертович находка зват...         456       54   \n",
       "6861  здравствовать муж ночь сильно храпеть можно сд...          82       11   \n",
       "6867  здравствовать подсказать где близкий время мож...          70        9   \n",
       "6871  здравствовать евгений альбертович два вопрос к...         546       69   \n",
       "\n",
       "      middle_words  \n",
       "2         6.239130  \n",
       "4         8.000000  \n",
       "5         6.852941  \n",
       "8         7.200000  \n",
       "12        6.900000  \n",
       "...            ...  \n",
       "6848      7.580000  \n",
       "6855      7.462963  \n",
       "6861      6.545455  \n",
       "6867      6.888889  \n",
       "6871      6.927536  \n",
       "\n",
       "[1292 rows x 8 columns]"
      ]
     },
     "execution_count": 31,
     "metadata": {},
     "output_type": "execute_result"
    }
   ],
   "source": [
    "puk = info[info.gender=='female']\n",
    "puk"
   ]
  },
  {
   "cell_type": "code",
   "execution_count": 32,
   "id": "8a46e8a0",
   "metadata": {},
   "outputs": [
    {
     "data": {
      "text/plain": [
       "[('год', 857),\n",
       " ('здравствовать', 657),\n",
       " ('ли', 655),\n",
       " ('день', 570),\n",
       " ('операция', 442),\n",
       " ('спасибо', 390),\n",
       " ('сказать', 382),\n",
       " ('врач', 378),\n",
       " ('делать', 363),\n",
       " ('пожалуйста', 343),\n",
       " ('можно', 342),\n",
       " ('какой', 332),\n",
       " ('ребёнок', 320),\n",
       " ('добрый', 315),\n",
       " ('после', 294)]"
      ]
     },
     "execution_count": 32,
     "metadata": {},
     "output_type": "execute_result"
    }
   ],
   "source": [
    "girl = top_words(puk['lemmatized'], 15)\n",
    "girl"
   ]
  },
  {
   "cell_type": "markdown",
   "id": "8da30f91",
   "metadata": {},
   "source": [
    "# Юниграммы"
   ]
  },
  {
   "cell_type": "code",
   "execution_count": 33,
   "id": "3f2e52d2",
   "metadata": {},
   "outputs": [
    {
     "data": {
      "application/vnd.plotly.v1+json": {
       "config": {
        "linkText": "Export to plot.ly",
        "plotlyServerURL": "https://plot.ly",
        "showLink": true
       },
       "data": [
        {
         "marker": {
          "color": "rgba(255, 153, 51, 0.6)",
          "line": {
           "color": "rgba(255, 153, 51, 1.0)",
           "width": 1
          }
         },
         "name": "Frequency",
         "orientation": "v",
         "text": "",
         "type": "bar",
         "x": [
          "год",
          "здравствовать",
          "ли",
          "день",
          "операция",
          "спасибо",
          "сказать",
          "врач",
          "делать",
          "можно",
          "какой",
          "пожалуйста",
          "добрый",
          "после",
          "лечение"
         ],
         "y": [
          1104,
          912,
          896,
          720,
          604,
          508,
          507,
          474,
          472,
          463,
          445,
          443,
          435,
          394,
          390
         ]
        }
       ],
       "layout": {
        "legend": {
         "bgcolor": "#F5F6F9",
         "font": {
          "color": "#4D5663"
         }
        },
        "paper_bgcolor": "#F5F6F9",
        "plot_bgcolor": "#F5F6F9",
        "template": {
         "data": {
          "bar": [
           {
            "error_x": {
             "color": "#2a3f5f"
            },
            "error_y": {
             "color": "#2a3f5f"
            },
            "marker": {
             "line": {
              "color": "#E5ECF6",
              "width": 0.5
             },
             "pattern": {
              "fillmode": "overlay",
              "size": 10,
              "solidity": 0.2
             }
            },
            "type": "bar"
           }
          ],
          "barpolar": [
           {
            "marker": {
             "line": {
              "color": "#E5ECF6",
              "width": 0.5
             },
             "pattern": {
              "fillmode": "overlay",
              "size": 10,
              "solidity": 0.2
             }
            },
            "type": "barpolar"
           }
          ],
          "carpet": [
           {
            "aaxis": {
             "endlinecolor": "#2a3f5f",
             "gridcolor": "white",
             "linecolor": "white",
             "minorgridcolor": "white",
             "startlinecolor": "#2a3f5f"
            },
            "baxis": {
             "endlinecolor": "#2a3f5f",
             "gridcolor": "white",
             "linecolor": "white",
             "minorgridcolor": "white",
             "startlinecolor": "#2a3f5f"
            },
            "type": "carpet"
           }
          ],
          "choropleth": [
           {
            "colorbar": {
             "outlinewidth": 0,
             "ticks": ""
            },
            "type": "choropleth"
           }
          ],
          "contour": [
           {
            "colorbar": {
             "outlinewidth": 0,
             "ticks": ""
            },
            "colorscale": [
             [
              0,
              "#0d0887"
             ],
             [
              0.1111111111111111,
              "#46039f"
             ],
             [
              0.2222222222222222,
              "#7201a8"
             ],
             [
              0.3333333333333333,
              "#9c179e"
             ],
             [
              0.4444444444444444,
              "#bd3786"
             ],
             [
              0.5555555555555556,
              "#d8576b"
             ],
             [
              0.6666666666666666,
              "#ed7953"
             ],
             [
              0.7777777777777778,
              "#fb9f3a"
             ],
             [
              0.8888888888888888,
              "#fdca26"
             ],
             [
              1,
              "#f0f921"
             ]
            ],
            "type": "contour"
           }
          ],
          "contourcarpet": [
           {
            "colorbar": {
             "outlinewidth": 0,
             "ticks": ""
            },
            "type": "contourcarpet"
           }
          ],
          "heatmap": [
           {
            "colorbar": {
             "outlinewidth": 0,
             "ticks": ""
            },
            "colorscale": [
             [
              0,
              "#0d0887"
             ],
             [
              0.1111111111111111,
              "#46039f"
             ],
             [
              0.2222222222222222,
              "#7201a8"
             ],
             [
              0.3333333333333333,
              "#9c179e"
             ],
             [
              0.4444444444444444,
              "#bd3786"
             ],
             [
              0.5555555555555556,
              "#d8576b"
             ],
             [
              0.6666666666666666,
              "#ed7953"
             ],
             [
              0.7777777777777778,
              "#fb9f3a"
             ],
             [
              0.8888888888888888,
              "#fdca26"
             ],
             [
              1,
              "#f0f921"
             ]
            ],
            "type": "heatmap"
           }
          ],
          "heatmapgl": [
           {
            "colorbar": {
             "outlinewidth": 0,
             "ticks": ""
            },
            "colorscale": [
             [
              0,
              "#0d0887"
             ],
             [
              0.1111111111111111,
              "#46039f"
             ],
             [
              0.2222222222222222,
              "#7201a8"
             ],
             [
              0.3333333333333333,
              "#9c179e"
             ],
             [
              0.4444444444444444,
              "#bd3786"
             ],
             [
              0.5555555555555556,
              "#d8576b"
             ],
             [
              0.6666666666666666,
              "#ed7953"
             ],
             [
              0.7777777777777778,
              "#fb9f3a"
             ],
             [
              0.8888888888888888,
              "#fdca26"
             ],
             [
              1,
              "#f0f921"
             ]
            ],
            "type": "heatmapgl"
           }
          ],
          "histogram": [
           {
            "marker": {
             "pattern": {
              "fillmode": "overlay",
              "size": 10,
              "solidity": 0.2
             }
            },
            "type": "histogram"
           }
          ],
          "histogram2d": [
           {
            "colorbar": {
             "outlinewidth": 0,
             "ticks": ""
            },
            "colorscale": [
             [
              0,
              "#0d0887"
             ],
             [
              0.1111111111111111,
              "#46039f"
             ],
             [
              0.2222222222222222,
              "#7201a8"
             ],
             [
              0.3333333333333333,
              "#9c179e"
             ],
             [
              0.4444444444444444,
              "#bd3786"
             ],
             [
              0.5555555555555556,
              "#d8576b"
             ],
             [
              0.6666666666666666,
              "#ed7953"
             ],
             [
              0.7777777777777778,
              "#fb9f3a"
             ],
             [
              0.8888888888888888,
              "#fdca26"
             ],
             [
              1,
              "#f0f921"
             ]
            ],
            "type": "histogram2d"
           }
          ],
          "histogram2dcontour": [
           {
            "colorbar": {
             "outlinewidth": 0,
             "ticks": ""
            },
            "colorscale": [
             [
              0,
              "#0d0887"
             ],
             [
              0.1111111111111111,
              "#46039f"
             ],
             [
              0.2222222222222222,
              "#7201a8"
             ],
             [
              0.3333333333333333,
              "#9c179e"
             ],
             [
              0.4444444444444444,
              "#bd3786"
             ],
             [
              0.5555555555555556,
              "#d8576b"
             ],
             [
              0.6666666666666666,
              "#ed7953"
             ],
             [
              0.7777777777777778,
              "#fb9f3a"
             ],
             [
              0.8888888888888888,
              "#fdca26"
             ],
             [
              1,
              "#f0f921"
             ]
            ],
            "type": "histogram2dcontour"
           }
          ],
          "mesh3d": [
           {
            "colorbar": {
             "outlinewidth": 0,
             "ticks": ""
            },
            "type": "mesh3d"
           }
          ],
          "parcoords": [
           {
            "line": {
             "colorbar": {
              "outlinewidth": 0,
              "ticks": ""
             }
            },
            "type": "parcoords"
           }
          ],
          "pie": [
           {
            "automargin": true,
            "type": "pie"
           }
          ],
          "scatter": [
           {
            "marker": {
             "colorbar": {
              "outlinewidth": 0,
              "ticks": ""
             }
            },
            "type": "scatter"
           }
          ],
          "scatter3d": [
           {
            "line": {
             "colorbar": {
              "outlinewidth": 0,
              "ticks": ""
             }
            },
            "marker": {
             "colorbar": {
              "outlinewidth": 0,
              "ticks": ""
             }
            },
            "type": "scatter3d"
           }
          ],
          "scattercarpet": [
           {
            "marker": {
             "colorbar": {
              "outlinewidth": 0,
              "ticks": ""
             }
            },
            "type": "scattercarpet"
           }
          ],
          "scattergeo": [
           {
            "marker": {
             "colorbar": {
              "outlinewidth": 0,
              "ticks": ""
             }
            },
            "type": "scattergeo"
           }
          ],
          "scattergl": [
           {
            "marker": {
             "colorbar": {
              "outlinewidth": 0,
              "ticks": ""
             }
            },
            "type": "scattergl"
           }
          ],
          "scattermapbox": [
           {
            "marker": {
             "colorbar": {
              "outlinewidth": 0,
              "ticks": ""
             }
            },
            "type": "scattermapbox"
           }
          ],
          "scatterpolar": [
           {
            "marker": {
             "colorbar": {
              "outlinewidth": 0,
              "ticks": ""
             }
            },
            "type": "scatterpolar"
           }
          ],
          "scatterpolargl": [
           {
            "marker": {
             "colorbar": {
              "outlinewidth": 0,
              "ticks": ""
             }
            },
            "type": "scatterpolargl"
           }
          ],
          "scatterternary": [
           {
            "marker": {
             "colorbar": {
              "outlinewidth": 0,
              "ticks": ""
             }
            },
            "type": "scatterternary"
           }
          ],
          "surface": [
           {
            "colorbar": {
             "outlinewidth": 0,
             "ticks": ""
            },
            "colorscale": [
             [
              0,
              "#0d0887"
             ],
             [
              0.1111111111111111,
              "#46039f"
             ],
             [
              0.2222222222222222,
              "#7201a8"
             ],
             [
              0.3333333333333333,
              "#9c179e"
             ],
             [
              0.4444444444444444,
              "#bd3786"
             ],
             [
              0.5555555555555556,
              "#d8576b"
             ],
             [
              0.6666666666666666,
              "#ed7953"
             ],
             [
              0.7777777777777778,
              "#fb9f3a"
             ],
             [
              0.8888888888888888,
              "#fdca26"
             ],
             [
              1,
              "#f0f921"
             ]
            ],
            "type": "surface"
           }
          ],
          "table": [
           {
            "cells": {
             "fill": {
              "color": "#EBF0F8"
             },
             "line": {
              "color": "white"
             }
            },
            "header": {
             "fill": {
              "color": "#C8D4E3"
             },
             "line": {
              "color": "white"
             }
            },
            "type": "table"
           }
          ]
         },
         "layout": {
          "annotationdefaults": {
           "arrowcolor": "#2a3f5f",
           "arrowhead": 0,
           "arrowwidth": 1
          },
          "autotypenumbers": "strict",
          "coloraxis": {
           "colorbar": {
            "outlinewidth": 0,
            "ticks": ""
           }
          },
          "colorscale": {
           "diverging": [
            [
             0,
             "#8e0152"
            ],
            [
             0.1,
             "#c51b7d"
            ],
            [
             0.2,
             "#de77ae"
            ],
            [
             0.3,
             "#f1b6da"
            ],
            [
             0.4,
             "#fde0ef"
            ],
            [
             0.5,
             "#f7f7f7"
            ],
            [
             0.6,
             "#e6f5d0"
            ],
            [
             0.7,
             "#b8e186"
            ],
            [
             0.8,
             "#7fbc41"
            ],
            [
             0.9,
             "#4d9221"
            ],
            [
             1,
             "#276419"
            ]
           ],
           "sequential": [
            [
             0,
             "#0d0887"
            ],
            [
             0.1111111111111111,
             "#46039f"
            ],
            [
             0.2222222222222222,
             "#7201a8"
            ],
            [
             0.3333333333333333,
             "#9c179e"
            ],
            [
             0.4444444444444444,
             "#bd3786"
            ],
            [
             0.5555555555555556,
             "#d8576b"
            ],
            [
             0.6666666666666666,
             "#ed7953"
            ],
            [
             0.7777777777777778,
             "#fb9f3a"
            ],
            [
             0.8888888888888888,
             "#fdca26"
            ],
            [
             1,
             "#f0f921"
            ]
           ],
           "sequentialminus": [
            [
             0,
             "#0d0887"
            ],
            [
             0.1111111111111111,
             "#46039f"
            ],
            [
             0.2222222222222222,
             "#7201a8"
            ],
            [
             0.3333333333333333,
             "#9c179e"
            ],
            [
             0.4444444444444444,
             "#bd3786"
            ],
            [
             0.5555555555555556,
             "#d8576b"
            ],
            [
             0.6666666666666666,
             "#ed7953"
            ],
            [
             0.7777777777777778,
             "#fb9f3a"
            ],
            [
             0.8888888888888888,
             "#fdca26"
            ],
            [
             1,
             "#f0f921"
            ]
           ]
          },
          "colorway": [
           "#636efa",
           "#EF553B",
           "#00cc96",
           "#ab63fa",
           "#FFA15A",
           "#19d3f3",
           "#FF6692",
           "#B6E880",
           "#FF97FF",
           "#FECB52"
          ],
          "font": {
           "color": "#2a3f5f"
          },
          "geo": {
           "bgcolor": "white",
           "lakecolor": "white",
           "landcolor": "#E5ECF6",
           "showlakes": true,
           "showland": true,
           "subunitcolor": "white"
          },
          "hoverlabel": {
           "align": "left"
          },
          "hovermode": "closest",
          "mapbox": {
           "style": "light"
          },
          "paper_bgcolor": "white",
          "plot_bgcolor": "#E5ECF6",
          "polar": {
           "angularaxis": {
            "gridcolor": "white",
            "linecolor": "white",
            "ticks": ""
           },
           "bgcolor": "#E5ECF6",
           "radialaxis": {
            "gridcolor": "white",
            "linecolor": "white",
            "ticks": ""
           }
          },
          "scene": {
           "xaxis": {
            "backgroundcolor": "#E5ECF6",
            "gridcolor": "white",
            "gridwidth": 2,
            "linecolor": "white",
            "showbackground": true,
            "ticks": "",
            "zerolinecolor": "white"
           },
           "yaxis": {
            "backgroundcolor": "#E5ECF6",
            "gridcolor": "white",
            "gridwidth": 2,
            "linecolor": "white",
            "showbackground": true,
            "ticks": "",
            "zerolinecolor": "white"
           },
           "zaxis": {
            "backgroundcolor": "#E5ECF6",
            "gridcolor": "white",
            "gridwidth": 2,
            "linecolor": "white",
            "showbackground": true,
            "ticks": "",
            "zerolinecolor": "white"
           }
          },
          "shapedefaults": {
           "line": {
            "color": "#2a3f5f"
           }
          },
          "ternary": {
           "aaxis": {
            "gridcolor": "white",
            "linecolor": "white",
            "ticks": ""
           },
           "baxis": {
            "gridcolor": "white",
            "linecolor": "white",
            "ticks": ""
           },
           "bgcolor": "#E5ECF6",
           "caxis": {
            "gridcolor": "white",
            "linecolor": "white",
            "ticks": ""
           }
          },
          "title": {
           "x": 0.05
          },
          "xaxis": {
           "automargin": true,
           "gridcolor": "white",
           "linecolor": "white",
           "ticks": "",
           "title": {
            "standoff": 15
           },
           "zerolinecolor": "white",
           "zerolinewidth": 2
          },
          "yaxis": {
           "automargin": true,
           "gridcolor": "white",
           "linecolor": "white",
           "ticks": "",
           "title": {
            "standoff": 15
           },
           "zerolinecolor": "white",
           "zerolinewidth": 2
          }
         }
        },
        "title": {
         "font": {
          "color": "#4D5663"
         },
         "text": "Юниграмма общая"
        },
        "xaxis": {
         "gridcolor": "#E1E5ED",
         "showgrid": true,
         "tickfont": {
          "color": "#4D5663"
         },
         "title": {
          "font": {
           "color": "#4D5663"
          },
          "text": "Юниграмма"
         },
         "zerolinecolor": "#E1E5ED"
        },
        "yaxis": {
         "gridcolor": "#E1E5ED",
         "showgrid": true,
         "tickfont": {
          "color": "#4D5663"
         },
         "title": {
          "font": {
           "color": "#4D5663"
          },
          "text": "Количество"
         },
         "zerolinecolor": "#E1E5ED"
        }
       }
      },
      "text/html": [
       "<div>                            <div id=\"ef9f0139-b764-4bd8-9352-6bacaa505f40\" class=\"plotly-graph-div\" style=\"height:525px; width:100%;\"></div>            <script type=\"text/javascript\">                require([\"plotly\"], function(Plotly) {                    window.PLOTLYENV=window.PLOTLYENV || {};\n",
       "                    window.PLOTLYENV.BASE_URL='https://plot.ly';                                    if (document.getElementById(\"ef9f0139-b764-4bd8-9352-6bacaa505f40\")) {                    Plotly.newPlot(                        \"ef9f0139-b764-4bd8-9352-6bacaa505f40\",                        [{\"marker\":{\"color\":\"rgba(255, 153, 51, 0.6)\",\"line\":{\"color\":\"rgba(255, 153, 51, 1.0)\",\"width\":1}},\"name\":\"Frequency\",\"orientation\":\"v\",\"text\":\"\",\"type\":\"bar\",\"x\":[\"\\u0433\\u043e\\u0434\",\"\\u0437\\u0434\\u0440\\u0430\\u0432\\u0441\\u0442\\u0432\\u043e\\u0432\\u0430\\u0442\\u044c\",\"\\u043b\\u0438\",\"\\u0434\\u0435\\u043d\\u044c\",\"\\u043e\\u043f\\u0435\\u0440\\u0430\\u0446\\u0438\\u044f\",\"\\u0441\\u043f\\u0430\\u0441\\u0438\\u0431\\u043e\",\"\\u0441\\u043a\\u0430\\u0437\\u0430\\u0442\\u044c\",\"\\u0432\\u0440\\u0430\\u0447\",\"\\u0434\\u0435\\u043b\\u0430\\u0442\\u044c\",\"\\u043c\\u043e\\u0436\\u043d\\u043e\",\"\\u043a\\u0430\\u043a\\u043e\\u0439\",\"\\u043f\\u043e\\u0436\\u0430\\u043b\\u0443\\u0439\\u0441\\u0442\\u0430\",\"\\u0434\\u043e\\u0431\\u0440\\u044b\\u0439\",\"\\u043f\\u043e\\u0441\\u043b\\u0435\",\"\\u043b\\u0435\\u0447\\u0435\\u043d\\u0438\\u0435\"],\"y\":[1104,912,896,720,604,508,507,474,472,463,445,443,435,394,390]}],                        {\"legend\":{\"bgcolor\":\"#F5F6F9\",\"font\":{\"color\":\"#4D5663\"}},\"paper_bgcolor\":\"#F5F6F9\",\"plot_bgcolor\":\"#F5F6F9\",\"template\":{\"data\":{\"bar\":[{\"error_x\":{\"color\":\"#2a3f5f\"},\"error_y\":{\"color\":\"#2a3f5f\"},\"marker\":{\"line\":{\"color\":\"#E5ECF6\",\"width\":0.5},\"pattern\":{\"fillmode\":\"overlay\",\"size\":10,\"solidity\":0.2}},\"type\":\"bar\"}],\"barpolar\":[{\"marker\":{\"line\":{\"color\":\"#E5ECF6\",\"width\":0.5},\"pattern\":{\"fillmode\":\"overlay\",\"size\":10,\"solidity\":0.2}},\"type\":\"barpolar\"}],\"carpet\":[{\"aaxis\":{\"endlinecolor\":\"#2a3f5f\",\"gridcolor\":\"white\",\"linecolor\":\"white\",\"minorgridcolor\":\"white\",\"startlinecolor\":\"#2a3f5f\"},\"baxis\":{\"endlinecolor\":\"#2a3f5f\",\"gridcolor\":\"white\",\"linecolor\":\"white\",\"minorgridcolor\":\"white\",\"startlinecolor\":\"#2a3f5f\"},\"type\":\"carpet\"}],\"choropleth\":[{\"colorbar\":{\"outlinewidth\":0,\"ticks\":\"\"},\"type\":\"choropleth\"}],\"contour\":[{\"colorbar\":{\"outlinewidth\":0,\"ticks\":\"\"},\"colorscale\":[[0.0,\"#0d0887\"],[0.1111111111111111,\"#46039f\"],[0.2222222222222222,\"#7201a8\"],[0.3333333333333333,\"#9c179e\"],[0.4444444444444444,\"#bd3786\"],[0.5555555555555556,\"#d8576b\"],[0.6666666666666666,\"#ed7953\"],[0.7777777777777778,\"#fb9f3a\"],[0.8888888888888888,\"#fdca26\"],[1.0,\"#f0f921\"]],\"type\":\"contour\"}],\"contourcarpet\":[{\"colorbar\":{\"outlinewidth\":0,\"ticks\":\"\"},\"type\":\"contourcarpet\"}],\"heatmap\":[{\"colorbar\":{\"outlinewidth\":0,\"ticks\":\"\"},\"colorscale\":[[0.0,\"#0d0887\"],[0.1111111111111111,\"#46039f\"],[0.2222222222222222,\"#7201a8\"],[0.3333333333333333,\"#9c179e\"],[0.4444444444444444,\"#bd3786\"],[0.5555555555555556,\"#d8576b\"],[0.6666666666666666,\"#ed7953\"],[0.7777777777777778,\"#fb9f3a\"],[0.8888888888888888,\"#fdca26\"],[1.0,\"#f0f921\"]],\"type\":\"heatmap\"}],\"heatmapgl\":[{\"colorbar\":{\"outlinewidth\":0,\"ticks\":\"\"},\"colorscale\":[[0.0,\"#0d0887\"],[0.1111111111111111,\"#46039f\"],[0.2222222222222222,\"#7201a8\"],[0.3333333333333333,\"#9c179e\"],[0.4444444444444444,\"#bd3786\"],[0.5555555555555556,\"#d8576b\"],[0.6666666666666666,\"#ed7953\"],[0.7777777777777778,\"#fb9f3a\"],[0.8888888888888888,\"#fdca26\"],[1.0,\"#f0f921\"]],\"type\":\"heatmapgl\"}],\"histogram\":[{\"marker\":{\"pattern\":{\"fillmode\":\"overlay\",\"size\":10,\"solidity\":0.2}},\"type\":\"histogram\"}],\"histogram2d\":[{\"colorbar\":{\"outlinewidth\":0,\"ticks\":\"\"},\"colorscale\":[[0.0,\"#0d0887\"],[0.1111111111111111,\"#46039f\"],[0.2222222222222222,\"#7201a8\"],[0.3333333333333333,\"#9c179e\"],[0.4444444444444444,\"#bd3786\"],[0.5555555555555556,\"#d8576b\"],[0.6666666666666666,\"#ed7953\"],[0.7777777777777778,\"#fb9f3a\"],[0.8888888888888888,\"#fdca26\"],[1.0,\"#f0f921\"]],\"type\":\"histogram2d\"}],\"histogram2dcontour\":[{\"colorbar\":{\"outlinewidth\":0,\"ticks\":\"\"},\"colorscale\":[[0.0,\"#0d0887\"],[0.1111111111111111,\"#46039f\"],[0.2222222222222222,\"#7201a8\"],[0.3333333333333333,\"#9c179e\"],[0.4444444444444444,\"#bd3786\"],[0.5555555555555556,\"#d8576b\"],[0.6666666666666666,\"#ed7953\"],[0.7777777777777778,\"#fb9f3a\"],[0.8888888888888888,\"#fdca26\"],[1.0,\"#f0f921\"]],\"type\":\"histogram2dcontour\"}],\"mesh3d\":[{\"colorbar\":{\"outlinewidth\":0,\"ticks\":\"\"},\"type\":\"mesh3d\"}],\"parcoords\":[{\"line\":{\"colorbar\":{\"outlinewidth\":0,\"ticks\":\"\"}},\"type\":\"parcoords\"}],\"pie\":[{\"automargin\":true,\"type\":\"pie\"}],\"scatter\":[{\"marker\":{\"colorbar\":{\"outlinewidth\":0,\"ticks\":\"\"}},\"type\":\"scatter\"}],\"scatter3d\":[{\"line\":{\"colorbar\":{\"outlinewidth\":0,\"ticks\":\"\"}},\"marker\":{\"colorbar\":{\"outlinewidth\":0,\"ticks\":\"\"}},\"type\":\"scatter3d\"}],\"scattercarpet\":[{\"marker\":{\"colorbar\":{\"outlinewidth\":0,\"ticks\":\"\"}},\"type\":\"scattercarpet\"}],\"scattergeo\":[{\"marker\":{\"colorbar\":{\"outlinewidth\":0,\"ticks\":\"\"}},\"type\":\"scattergeo\"}],\"scattergl\":[{\"marker\":{\"colorbar\":{\"outlinewidth\":0,\"ticks\":\"\"}},\"type\":\"scattergl\"}],\"scattermapbox\":[{\"marker\":{\"colorbar\":{\"outlinewidth\":0,\"ticks\":\"\"}},\"type\":\"scattermapbox\"}],\"scatterpolar\":[{\"marker\":{\"colorbar\":{\"outlinewidth\":0,\"ticks\":\"\"}},\"type\":\"scatterpolar\"}],\"scatterpolargl\":[{\"marker\":{\"colorbar\":{\"outlinewidth\":0,\"ticks\":\"\"}},\"type\":\"scatterpolargl\"}],\"scatterternary\":[{\"marker\":{\"colorbar\":{\"outlinewidth\":0,\"ticks\":\"\"}},\"type\":\"scatterternary\"}],\"surface\":[{\"colorbar\":{\"outlinewidth\":0,\"ticks\":\"\"},\"colorscale\":[[0.0,\"#0d0887\"],[0.1111111111111111,\"#46039f\"],[0.2222222222222222,\"#7201a8\"],[0.3333333333333333,\"#9c179e\"],[0.4444444444444444,\"#bd3786\"],[0.5555555555555556,\"#d8576b\"],[0.6666666666666666,\"#ed7953\"],[0.7777777777777778,\"#fb9f3a\"],[0.8888888888888888,\"#fdca26\"],[1.0,\"#f0f921\"]],\"type\":\"surface\"}],\"table\":[{\"cells\":{\"fill\":{\"color\":\"#EBF0F8\"},\"line\":{\"color\":\"white\"}},\"header\":{\"fill\":{\"color\":\"#C8D4E3\"},\"line\":{\"color\":\"white\"}},\"type\":\"table\"}]},\"layout\":{\"annotationdefaults\":{\"arrowcolor\":\"#2a3f5f\",\"arrowhead\":0,\"arrowwidth\":1},\"autotypenumbers\":\"strict\",\"coloraxis\":{\"colorbar\":{\"outlinewidth\":0,\"ticks\":\"\"}},\"colorscale\":{\"diverging\":[[0,\"#8e0152\"],[0.1,\"#c51b7d\"],[0.2,\"#de77ae\"],[0.3,\"#f1b6da\"],[0.4,\"#fde0ef\"],[0.5,\"#f7f7f7\"],[0.6,\"#e6f5d0\"],[0.7,\"#b8e186\"],[0.8,\"#7fbc41\"],[0.9,\"#4d9221\"],[1,\"#276419\"]],\"sequential\":[[0.0,\"#0d0887\"],[0.1111111111111111,\"#46039f\"],[0.2222222222222222,\"#7201a8\"],[0.3333333333333333,\"#9c179e\"],[0.4444444444444444,\"#bd3786\"],[0.5555555555555556,\"#d8576b\"],[0.6666666666666666,\"#ed7953\"],[0.7777777777777778,\"#fb9f3a\"],[0.8888888888888888,\"#fdca26\"],[1.0,\"#f0f921\"]],\"sequentialminus\":[[0.0,\"#0d0887\"],[0.1111111111111111,\"#46039f\"],[0.2222222222222222,\"#7201a8\"],[0.3333333333333333,\"#9c179e\"],[0.4444444444444444,\"#bd3786\"],[0.5555555555555556,\"#d8576b\"],[0.6666666666666666,\"#ed7953\"],[0.7777777777777778,\"#fb9f3a\"],[0.8888888888888888,\"#fdca26\"],[1.0,\"#f0f921\"]]},\"colorway\":[\"#636efa\",\"#EF553B\",\"#00cc96\",\"#ab63fa\",\"#FFA15A\",\"#19d3f3\",\"#FF6692\",\"#B6E880\",\"#FF97FF\",\"#FECB52\"],\"font\":{\"color\":\"#2a3f5f\"},\"geo\":{\"bgcolor\":\"white\",\"lakecolor\":\"white\",\"landcolor\":\"#E5ECF6\",\"showlakes\":true,\"showland\":true,\"subunitcolor\":\"white\"},\"hoverlabel\":{\"align\":\"left\"},\"hovermode\":\"closest\",\"mapbox\":{\"style\":\"light\"},\"paper_bgcolor\":\"white\",\"plot_bgcolor\":\"#E5ECF6\",\"polar\":{\"angularaxis\":{\"gridcolor\":\"white\",\"linecolor\":\"white\",\"ticks\":\"\"},\"bgcolor\":\"#E5ECF6\",\"radialaxis\":{\"gridcolor\":\"white\",\"linecolor\":\"white\",\"ticks\":\"\"}},\"scene\":{\"xaxis\":{\"backgroundcolor\":\"#E5ECF6\",\"gridcolor\":\"white\",\"gridwidth\":2,\"linecolor\":\"white\",\"showbackground\":true,\"ticks\":\"\",\"zerolinecolor\":\"white\"},\"yaxis\":{\"backgroundcolor\":\"#E5ECF6\",\"gridcolor\":\"white\",\"gridwidth\":2,\"linecolor\":\"white\",\"showbackground\":true,\"ticks\":\"\",\"zerolinecolor\":\"white\"},\"zaxis\":{\"backgroundcolor\":\"#E5ECF6\",\"gridcolor\":\"white\",\"gridwidth\":2,\"linecolor\":\"white\",\"showbackground\":true,\"ticks\":\"\",\"zerolinecolor\":\"white\"}},\"shapedefaults\":{\"line\":{\"color\":\"#2a3f5f\"}},\"ternary\":{\"aaxis\":{\"gridcolor\":\"white\",\"linecolor\":\"white\",\"ticks\":\"\"},\"baxis\":{\"gridcolor\":\"white\",\"linecolor\":\"white\",\"ticks\":\"\"},\"bgcolor\":\"#E5ECF6\",\"caxis\":{\"gridcolor\":\"white\",\"linecolor\":\"white\",\"ticks\":\"\"}},\"title\":{\"x\":0.05},\"xaxis\":{\"automargin\":true,\"gridcolor\":\"white\",\"linecolor\":\"white\",\"ticks\":\"\",\"title\":{\"standoff\":15},\"zerolinecolor\":\"white\",\"zerolinewidth\":2},\"yaxis\":{\"automargin\":true,\"gridcolor\":\"white\",\"linecolor\":\"white\",\"ticks\":\"\",\"title\":{\"standoff\":15},\"zerolinecolor\":\"white\",\"zerolinewidth\":2}}},\"title\":{\"font\":{\"color\":\"#4D5663\"},\"text\":\"\\u042e\\u043d\\u0438\\u0433\\u0440\\u0430\\u043c\\u043c\\u0430 \\u043e\\u0431\\u0449\\u0430\\u044f\"},\"xaxis\":{\"gridcolor\":\"#E1E5ED\",\"showgrid\":true,\"tickfont\":{\"color\":\"#4D5663\"},\"title\":{\"font\":{\"color\":\"#4D5663\"},\"text\":\"\\u042e\\u043d\\u0438\\u0433\\u0440\\u0430\\u043c\\u043c\\u0430\"},\"zerolinecolor\":\"#E1E5ED\"},\"yaxis\":{\"gridcolor\":\"#E1E5ED\",\"showgrid\":true,\"tickfont\":{\"color\":\"#4D5663\"},\"title\":{\"font\":{\"color\":\"#4D5663\"},\"text\":\"\\u041a\\u043e\\u043b\\u0438\\u0447\\u0435\\u0441\\u0442\\u0432\\u043e\"},\"zerolinecolor\":\"#E1E5ED\"}},                        {\"showLink\": true, \"linkText\": \"Export to plot.ly\", \"plotlyServerURL\": \"https://plot.ly\", \"responsive\": true}                    ).then(function(){\n",
       "                            \n",
       "var gd = document.getElementById('ef9f0139-b764-4bd8-9352-6bacaa505f40');\n",
       "var x = new MutationObserver(function (mutations, observer) {{\n",
       "        var display = window.getComputedStyle(gd).display;\n",
       "        if (!display || display === 'none') {{\n",
       "            console.log([gd, 'removed!']);\n",
       "            Plotly.purge(gd);\n",
       "            observer.disconnect();\n",
       "        }}\n",
       "}});\n",
       "\n",
       "// Listen for the removal of the full notebook cells\n",
       "var notebookContainer = gd.closest('#notebook-container');\n",
       "if (notebookContainer) {{\n",
       "    x.observe(notebookContainer, {childList: true});\n",
       "}}\n",
       "\n",
       "// Listen for the clearing of the current output cell\n",
       "var outputEl = gd.closest('.output');\n",
       "if (outputEl) {{\n",
       "    x.observe(outputEl, {childList: true});\n",
       "}}\n",
       "\n",
       "                        })                };                });            </script>        </div>"
      ]
     },
     "metadata": {},
     "output_type": "display_data"
    }
   ],
   "source": [
    "lol = pd.DataFrame(words, columns = ['Unigram', 'Frequency'])\n",
    "lol = lol.set_index('Unigram')\n",
    "lol.iplot(kind='bar', xTitle='Юниграмма', yTitle='Количество', title='Юниграмма общая')"
   ]
  },
  {
   "cell_type": "code",
   "execution_count": 34,
   "id": "5f9f4a0a",
   "metadata": {},
   "outputs": [
    {
     "data": {
      "application/vnd.plotly.v1+json": {
       "config": {
        "linkText": "Export to plot.ly",
        "plotlyServerURL": "https://plot.ly",
        "showLink": true
       },
       "data": [
        {
         "marker": {
          "color": "rgba(255, 153, 51, 0.6)",
          "line": {
           "color": "rgba(255, 153, 51, 1.0)",
           "width": 1
          }
         },
         "name": "Frequency",
         "orientation": "v",
         "text": "",
         "type": "bar",
         "x": [
          "здравствовать",
          "год",
          "ли",
          "операция",
          "день",
          "сказать",
          "можно",
          "добрый",
          "спасибо",
          "какой",
          "делать",
          "лечение",
          "сделать",
          "после",
          "пожалуйста"
         ],
         "y": [
          255,
          247,
          241,
          162,
          150,
          125,
          121,
          120,
          118,
          113,
          109,
          104,
          102,
          100,
          100
         ]
        }
       ],
       "layout": {
        "legend": {
         "bgcolor": "#F5F6F9",
         "font": {
          "color": "#4D5663"
         }
        },
        "paper_bgcolor": "#F5F6F9",
        "plot_bgcolor": "#F5F6F9",
        "template": {
         "data": {
          "bar": [
           {
            "error_x": {
             "color": "#2a3f5f"
            },
            "error_y": {
             "color": "#2a3f5f"
            },
            "marker": {
             "line": {
              "color": "#E5ECF6",
              "width": 0.5
             },
             "pattern": {
              "fillmode": "overlay",
              "size": 10,
              "solidity": 0.2
             }
            },
            "type": "bar"
           }
          ],
          "barpolar": [
           {
            "marker": {
             "line": {
              "color": "#E5ECF6",
              "width": 0.5
             },
             "pattern": {
              "fillmode": "overlay",
              "size": 10,
              "solidity": 0.2
             }
            },
            "type": "barpolar"
           }
          ],
          "carpet": [
           {
            "aaxis": {
             "endlinecolor": "#2a3f5f",
             "gridcolor": "white",
             "linecolor": "white",
             "minorgridcolor": "white",
             "startlinecolor": "#2a3f5f"
            },
            "baxis": {
             "endlinecolor": "#2a3f5f",
             "gridcolor": "white",
             "linecolor": "white",
             "minorgridcolor": "white",
             "startlinecolor": "#2a3f5f"
            },
            "type": "carpet"
           }
          ],
          "choropleth": [
           {
            "colorbar": {
             "outlinewidth": 0,
             "ticks": ""
            },
            "type": "choropleth"
           }
          ],
          "contour": [
           {
            "colorbar": {
             "outlinewidth": 0,
             "ticks": ""
            },
            "colorscale": [
             [
              0,
              "#0d0887"
             ],
             [
              0.1111111111111111,
              "#46039f"
             ],
             [
              0.2222222222222222,
              "#7201a8"
             ],
             [
              0.3333333333333333,
              "#9c179e"
             ],
             [
              0.4444444444444444,
              "#bd3786"
             ],
             [
              0.5555555555555556,
              "#d8576b"
             ],
             [
              0.6666666666666666,
              "#ed7953"
             ],
             [
              0.7777777777777778,
              "#fb9f3a"
             ],
             [
              0.8888888888888888,
              "#fdca26"
             ],
             [
              1,
              "#f0f921"
             ]
            ],
            "type": "contour"
           }
          ],
          "contourcarpet": [
           {
            "colorbar": {
             "outlinewidth": 0,
             "ticks": ""
            },
            "type": "contourcarpet"
           }
          ],
          "heatmap": [
           {
            "colorbar": {
             "outlinewidth": 0,
             "ticks": ""
            },
            "colorscale": [
             [
              0,
              "#0d0887"
             ],
             [
              0.1111111111111111,
              "#46039f"
             ],
             [
              0.2222222222222222,
              "#7201a8"
             ],
             [
              0.3333333333333333,
              "#9c179e"
             ],
             [
              0.4444444444444444,
              "#bd3786"
             ],
             [
              0.5555555555555556,
              "#d8576b"
             ],
             [
              0.6666666666666666,
              "#ed7953"
             ],
             [
              0.7777777777777778,
              "#fb9f3a"
             ],
             [
              0.8888888888888888,
              "#fdca26"
             ],
             [
              1,
              "#f0f921"
             ]
            ],
            "type": "heatmap"
           }
          ],
          "heatmapgl": [
           {
            "colorbar": {
             "outlinewidth": 0,
             "ticks": ""
            },
            "colorscale": [
             [
              0,
              "#0d0887"
             ],
             [
              0.1111111111111111,
              "#46039f"
             ],
             [
              0.2222222222222222,
              "#7201a8"
             ],
             [
              0.3333333333333333,
              "#9c179e"
             ],
             [
              0.4444444444444444,
              "#bd3786"
             ],
             [
              0.5555555555555556,
              "#d8576b"
             ],
             [
              0.6666666666666666,
              "#ed7953"
             ],
             [
              0.7777777777777778,
              "#fb9f3a"
             ],
             [
              0.8888888888888888,
              "#fdca26"
             ],
             [
              1,
              "#f0f921"
             ]
            ],
            "type": "heatmapgl"
           }
          ],
          "histogram": [
           {
            "marker": {
             "pattern": {
              "fillmode": "overlay",
              "size": 10,
              "solidity": 0.2
             }
            },
            "type": "histogram"
           }
          ],
          "histogram2d": [
           {
            "colorbar": {
             "outlinewidth": 0,
             "ticks": ""
            },
            "colorscale": [
             [
              0,
              "#0d0887"
             ],
             [
              0.1111111111111111,
              "#46039f"
             ],
             [
              0.2222222222222222,
              "#7201a8"
             ],
             [
              0.3333333333333333,
              "#9c179e"
             ],
             [
              0.4444444444444444,
              "#bd3786"
             ],
             [
              0.5555555555555556,
              "#d8576b"
             ],
             [
              0.6666666666666666,
              "#ed7953"
             ],
             [
              0.7777777777777778,
              "#fb9f3a"
             ],
             [
              0.8888888888888888,
              "#fdca26"
             ],
             [
              1,
              "#f0f921"
             ]
            ],
            "type": "histogram2d"
           }
          ],
          "histogram2dcontour": [
           {
            "colorbar": {
             "outlinewidth": 0,
             "ticks": ""
            },
            "colorscale": [
             [
              0,
              "#0d0887"
             ],
             [
              0.1111111111111111,
              "#46039f"
             ],
             [
              0.2222222222222222,
              "#7201a8"
             ],
             [
              0.3333333333333333,
              "#9c179e"
             ],
             [
              0.4444444444444444,
              "#bd3786"
             ],
             [
              0.5555555555555556,
              "#d8576b"
             ],
             [
              0.6666666666666666,
              "#ed7953"
             ],
             [
              0.7777777777777778,
              "#fb9f3a"
             ],
             [
              0.8888888888888888,
              "#fdca26"
             ],
             [
              1,
              "#f0f921"
             ]
            ],
            "type": "histogram2dcontour"
           }
          ],
          "mesh3d": [
           {
            "colorbar": {
             "outlinewidth": 0,
             "ticks": ""
            },
            "type": "mesh3d"
           }
          ],
          "parcoords": [
           {
            "line": {
             "colorbar": {
              "outlinewidth": 0,
              "ticks": ""
             }
            },
            "type": "parcoords"
           }
          ],
          "pie": [
           {
            "automargin": true,
            "type": "pie"
           }
          ],
          "scatter": [
           {
            "marker": {
             "colorbar": {
              "outlinewidth": 0,
              "ticks": ""
             }
            },
            "type": "scatter"
           }
          ],
          "scatter3d": [
           {
            "line": {
             "colorbar": {
              "outlinewidth": 0,
              "ticks": ""
             }
            },
            "marker": {
             "colorbar": {
              "outlinewidth": 0,
              "ticks": ""
             }
            },
            "type": "scatter3d"
           }
          ],
          "scattercarpet": [
           {
            "marker": {
             "colorbar": {
              "outlinewidth": 0,
              "ticks": ""
             }
            },
            "type": "scattercarpet"
           }
          ],
          "scattergeo": [
           {
            "marker": {
             "colorbar": {
              "outlinewidth": 0,
              "ticks": ""
             }
            },
            "type": "scattergeo"
           }
          ],
          "scattergl": [
           {
            "marker": {
             "colorbar": {
              "outlinewidth": 0,
              "ticks": ""
             }
            },
            "type": "scattergl"
           }
          ],
          "scattermapbox": [
           {
            "marker": {
             "colorbar": {
              "outlinewidth": 0,
              "ticks": ""
             }
            },
            "type": "scattermapbox"
           }
          ],
          "scatterpolar": [
           {
            "marker": {
             "colorbar": {
              "outlinewidth": 0,
              "ticks": ""
             }
            },
            "type": "scatterpolar"
           }
          ],
          "scatterpolargl": [
           {
            "marker": {
             "colorbar": {
              "outlinewidth": 0,
              "ticks": ""
             }
            },
            "type": "scatterpolargl"
           }
          ],
          "scatterternary": [
           {
            "marker": {
             "colorbar": {
              "outlinewidth": 0,
              "ticks": ""
             }
            },
            "type": "scatterternary"
           }
          ],
          "surface": [
           {
            "colorbar": {
             "outlinewidth": 0,
             "ticks": ""
            },
            "colorscale": [
             [
              0,
              "#0d0887"
             ],
             [
              0.1111111111111111,
              "#46039f"
             ],
             [
              0.2222222222222222,
              "#7201a8"
             ],
             [
              0.3333333333333333,
              "#9c179e"
             ],
             [
              0.4444444444444444,
              "#bd3786"
             ],
             [
              0.5555555555555556,
              "#d8576b"
             ],
             [
              0.6666666666666666,
              "#ed7953"
             ],
             [
              0.7777777777777778,
              "#fb9f3a"
             ],
             [
              0.8888888888888888,
              "#fdca26"
             ],
             [
              1,
              "#f0f921"
             ]
            ],
            "type": "surface"
           }
          ],
          "table": [
           {
            "cells": {
             "fill": {
              "color": "#EBF0F8"
             },
             "line": {
              "color": "white"
             }
            },
            "header": {
             "fill": {
              "color": "#C8D4E3"
             },
             "line": {
              "color": "white"
             }
            },
            "type": "table"
           }
          ]
         },
         "layout": {
          "annotationdefaults": {
           "arrowcolor": "#2a3f5f",
           "arrowhead": 0,
           "arrowwidth": 1
          },
          "autotypenumbers": "strict",
          "coloraxis": {
           "colorbar": {
            "outlinewidth": 0,
            "ticks": ""
           }
          },
          "colorscale": {
           "diverging": [
            [
             0,
             "#8e0152"
            ],
            [
             0.1,
             "#c51b7d"
            ],
            [
             0.2,
             "#de77ae"
            ],
            [
             0.3,
             "#f1b6da"
            ],
            [
             0.4,
             "#fde0ef"
            ],
            [
             0.5,
             "#f7f7f7"
            ],
            [
             0.6,
             "#e6f5d0"
            ],
            [
             0.7,
             "#b8e186"
            ],
            [
             0.8,
             "#7fbc41"
            ],
            [
             0.9,
             "#4d9221"
            ],
            [
             1,
             "#276419"
            ]
           ],
           "sequential": [
            [
             0,
             "#0d0887"
            ],
            [
             0.1111111111111111,
             "#46039f"
            ],
            [
             0.2222222222222222,
             "#7201a8"
            ],
            [
             0.3333333333333333,
             "#9c179e"
            ],
            [
             0.4444444444444444,
             "#bd3786"
            ],
            [
             0.5555555555555556,
             "#d8576b"
            ],
            [
             0.6666666666666666,
             "#ed7953"
            ],
            [
             0.7777777777777778,
             "#fb9f3a"
            ],
            [
             0.8888888888888888,
             "#fdca26"
            ],
            [
             1,
             "#f0f921"
            ]
           ],
           "sequentialminus": [
            [
             0,
             "#0d0887"
            ],
            [
             0.1111111111111111,
             "#46039f"
            ],
            [
             0.2222222222222222,
             "#7201a8"
            ],
            [
             0.3333333333333333,
             "#9c179e"
            ],
            [
             0.4444444444444444,
             "#bd3786"
            ],
            [
             0.5555555555555556,
             "#d8576b"
            ],
            [
             0.6666666666666666,
             "#ed7953"
            ],
            [
             0.7777777777777778,
             "#fb9f3a"
            ],
            [
             0.8888888888888888,
             "#fdca26"
            ],
            [
             1,
             "#f0f921"
            ]
           ]
          },
          "colorway": [
           "#636efa",
           "#EF553B",
           "#00cc96",
           "#ab63fa",
           "#FFA15A",
           "#19d3f3",
           "#FF6692",
           "#B6E880",
           "#FF97FF",
           "#FECB52"
          ],
          "font": {
           "color": "#2a3f5f"
          },
          "geo": {
           "bgcolor": "white",
           "lakecolor": "white",
           "landcolor": "#E5ECF6",
           "showlakes": true,
           "showland": true,
           "subunitcolor": "white"
          },
          "hoverlabel": {
           "align": "left"
          },
          "hovermode": "closest",
          "mapbox": {
           "style": "light"
          },
          "paper_bgcolor": "white",
          "plot_bgcolor": "#E5ECF6",
          "polar": {
           "angularaxis": {
            "gridcolor": "white",
            "linecolor": "white",
            "ticks": ""
           },
           "bgcolor": "#E5ECF6",
           "radialaxis": {
            "gridcolor": "white",
            "linecolor": "white",
            "ticks": ""
           }
          },
          "scene": {
           "xaxis": {
            "backgroundcolor": "#E5ECF6",
            "gridcolor": "white",
            "gridwidth": 2,
            "linecolor": "white",
            "showbackground": true,
            "ticks": "",
            "zerolinecolor": "white"
           },
           "yaxis": {
            "backgroundcolor": "#E5ECF6",
            "gridcolor": "white",
            "gridwidth": 2,
            "linecolor": "white",
            "showbackground": true,
            "ticks": "",
            "zerolinecolor": "white"
           },
           "zaxis": {
            "backgroundcolor": "#E5ECF6",
            "gridcolor": "white",
            "gridwidth": 2,
            "linecolor": "white",
            "showbackground": true,
            "ticks": "",
            "zerolinecolor": "white"
           }
          },
          "shapedefaults": {
           "line": {
            "color": "#2a3f5f"
           }
          },
          "ternary": {
           "aaxis": {
            "gridcolor": "white",
            "linecolor": "white",
            "ticks": ""
           },
           "baxis": {
            "gridcolor": "white",
            "linecolor": "white",
            "ticks": ""
           },
           "bgcolor": "#E5ECF6",
           "caxis": {
            "gridcolor": "white",
            "linecolor": "white",
            "ticks": ""
           }
          },
          "title": {
           "x": 0.05
          },
          "xaxis": {
           "automargin": true,
           "gridcolor": "white",
           "linecolor": "white",
           "ticks": "",
           "title": {
            "standoff": 15
           },
           "zerolinecolor": "white",
           "zerolinewidth": 2
          },
          "yaxis": {
           "automargin": true,
           "gridcolor": "white",
           "linecolor": "white",
           "ticks": "",
           "title": {
            "standoff": 15
           },
           "zerolinecolor": "white",
           "zerolinewidth": 2
          }
         }
        },
        "title": {
         "font": {
          "color": "#4D5663"
         },
         "text": "Юниграмма мужская"
        },
        "xaxis": {
         "gridcolor": "#E1E5ED",
         "showgrid": true,
         "tickfont": {
          "color": "#4D5663"
         },
         "title": {
          "font": {
           "color": "#4D5663"
          },
          "text": "Юниграмма"
         },
         "zerolinecolor": "#E1E5ED"
        },
        "yaxis": {
         "gridcolor": "#E1E5ED",
         "showgrid": true,
         "tickfont": {
          "color": "#4D5663"
         },
         "title": {
          "font": {
           "color": "#4D5663"
          },
          "text": "Количество"
         },
         "zerolinecolor": "#E1E5ED"
        }
       }
      },
      "text/html": [
       "<div>                            <div id=\"6819d6e2-ef0f-499d-802c-60cb5d150c89\" class=\"plotly-graph-div\" style=\"height:525px; width:100%;\"></div>            <script type=\"text/javascript\">                require([\"plotly\"], function(Plotly) {                    window.PLOTLYENV=window.PLOTLYENV || {};\n",
       "                    window.PLOTLYENV.BASE_URL='https://plot.ly';                                    if (document.getElementById(\"6819d6e2-ef0f-499d-802c-60cb5d150c89\")) {                    Plotly.newPlot(                        \"6819d6e2-ef0f-499d-802c-60cb5d150c89\",                        [{\"marker\":{\"color\":\"rgba(255, 153, 51, 0.6)\",\"line\":{\"color\":\"rgba(255, 153, 51, 1.0)\",\"width\":1}},\"name\":\"Frequency\",\"orientation\":\"v\",\"text\":\"\",\"type\":\"bar\",\"x\":[\"\\u0437\\u0434\\u0440\\u0430\\u0432\\u0441\\u0442\\u0432\\u043e\\u0432\\u0430\\u0442\\u044c\",\"\\u0433\\u043e\\u0434\",\"\\u043b\\u0438\",\"\\u043e\\u043f\\u0435\\u0440\\u0430\\u0446\\u0438\\u044f\",\"\\u0434\\u0435\\u043d\\u044c\",\"\\u0441\\u043a\\u0430\\u0437\\u0430\\u0442\\u044c\",\"\\u043c\\u043e\\u0436\\u043d\\u043e\",\"\\u0434\\u043e\\u0431\\u0440\\u044b\\u0439\",\"\\u0441\\u043f\\u0430\\u0441\\u0438\\u0431\\u043e\",\"\\u043a\\u0430\\u043a\\u043e\\u0439\",\"\\u0434\\u0435\\u043b\\u0430\\u0442\\u044c\",\"\\u043b\\u0435\\u0447\\u0435\\u043d\\u0438\\u0435\",\"\\u0441\\u0434\\u0435\\u043b\\u0430\\u0442\\u044c\",\"\\u043f\\u043e\\u0441\\u043b\\u0435\",\"\\u043f\\u043e\\u0436\\u0430\\u043b\\u0443\\u0439\\u0441\\u0442\\u0430\"],\"y\":[255,247,241,162,150,125,121,120,118,113,109,104,102,100,100]}],                        {\"legend\":{\"bgcolor\":\"#F5F6F9\",\"font\":{\"color\":\"#4D5663\"}},\"paper_bgcolor\":\"#F5F6F9\",\"plot_bgcolor\":\"#F5F6F9\",\"template\":{\"data\":{\"bar\":[{\"error_x\":{\"color\":\"#2a3f5f\"},\"error_y\":{\"color\":\"#2a3f5f\"},\"marker\":{\"line\":{\"color\":\"#E5ECF6\",\"width\":0.5},\"pattern\":{\"fillmode\":\"overlay\",\"size\":10,\"solidity\":0.2}},\"type\":\"bar\"}],\"barpolar\":[{\"marker\":{\"line\":{\"color\":\"#E5ECF6\",\"width\":0.5},\"pattern\":{\"fillmode\":\"overlay\",\"size\":10,\"solidity\":0.2}},\"type\":\"barpolar\"}],\"carpet\":[{\"aaxis\":{\"endlinecolor\":\"#2a3f5f\",\"gridcolor\":\"white\",\"linecolor\":\"white\",\"minorgridcolor\":\"white\",\"startlinecolor\":\"#2a3f5f\"},\"baxis\":{\"endlinecolor\":\"#2a3f5f\",\"gridcolor\":\"white\",\"linecolor\":\"white\",\"minorgridcolor\":\"white\",\"startlinecolor\":\"#2a3f5f\"},\"type\":\"carpet\"}],\"choropleth\":[{\"colorbar\":{\"outlinewidth\":0,\"ticks\":\"\"},\"type\":\"choropleth\"}],\"contour\":[{\"colorbar\":{\"outlinewidth\":0,\"ticks\":\"\"},\"colorscale\":[[0.0,\"#0d0887\"],[0.1111111111111111,\"#46039f\"],[0.2222222222222222,\"#7201a8\"],[0.3333333333333333,\"#9c179e\"],[0.4444444444444444,\"#bd3786\"],[0.5555555555555556,\"#d8576b\"],[0.6666666666666666,\"#ed7953\"],[0.7777777777777778,\"#fb9f3a\"],[0.8888888888888888,\"#fdca26\"],[1.0,\"#f0f921\"]],\"type\":\"contour\"}],\"contourcarpet\":[{\"colorbar\":{\"outlinewidth\":0,\"ticks\":\"\"},\"type\":\"contourcarpet\"}],\"heatmap\":[{\"colorbar\":{\"outlinewidth\":0,\"ticks\":\"\"},\"colorscale\":[[0.0,\"#0d0887\"],[0.1111111111111111,\"#46039f\"],[0.2222222222222222,\"#7201a8\"],[0.3333333333333333,\"#9c179e\"],[0.4444444444444444,\"#bd3786\"],[0.5555555555555556,\"#d8576b\"],[0.6666666666666666,\"#ed7953\"],[0.7777777777777778,\"#fb9f3a\"],[0.8888888888888888,\"#fdca26\"],[1.0,\"#f0f921\"]],\"type\":\"heatmap\"}],\"heatmapgl\":[{\"colorbar\":{\"outlinewidth\":0,\"ticks\":\"\"},\"colorscale\":[[0.0,\"#0d0887\"],[0.1111111111111111,\"#46039f\"],[0.2222222222222222,\"#7201a8\"],[0.3333333333333333,\"#9c179e\"],[0.4444444444444444,\"#bd3786\"],[0.5555555555555556,\"#d8576b\"],[0.6666666666666666,\"#ed7953\"],[0.7777777777777778,\"#fb9f3a\"],[0.8888888888888888,\"#fdca26\"],[1.0,\"#f0f921\"]],\"type\":\"heatmapgl\"}],\"histogram\":[{\"marker\":{\"pattern\":{\"fillmode\":\"overlay\",\"size\":10,\"solidity\":0.2}},\"type\":\"histogram\"}],\"histogram2d\":[{\"colorbar\":{\"outlinewidth\":0,\"ticks\":\"\"},\"colorscale\":[[0.0,\"#0d0887\"],[0.1111111111111111,\"#46039f\"],[0.2222222222222222,\"#7201a8\"],[0.3333333333333333,\"#9c179e\"],[0.4444444444444444,\"#bd3786\"],[0.5555555555555556,\"#d8576b\"],[0.6666666666666666,\"#ed7953\"],[0.7777777777777778,\"#fb9f3a\"],[0.8888888888888888,\"#fdca26\"],[1.0,\"#f0f921\"]],\"type\":\"histogram2d\"}],\"histogram2dcontour\":[{\"colorbar\":{\"outlinewidth\":0,\"ticks\":\"\"},\"colorscale\":[[0.0,\"#0d0887\"],[0.1111111111111111,\"#46039f\"],[0.2222222222222222,\"#7201a8\"],[0.3333333333333333,\"#9c179e\"],[0.4444444444444444,\"#bd3786\"],[0.5555555555555556,\"#d8576b\"],[0.6666666666666666,\"#ed7953\"],[0.7777777777777778,\"#fb9f3a\"],[0.8888888888888888,\"#fdca26\"],[1.0,\"#f0f921\"]],\"type\":\"histogram2dcontour\"}],\"mesh3d\":[{\"colorbar\":{\"outlinewidth\":0,\"ticks\":\"\"},\"type\":\"mesh3d\"}],\"parcoords\":[{\"line\":{\"colorbar\":{\"outlinewidth\":0,\"ticks\":\"\"}},\"type\":\"parcoords\"}],\"pie\":[{\"automargin\":true,\"type\":\"pie\"}],\"scatter\":[{\"marker\":{\"colorbar\":{\"outlinewidth\":0,\"ticks\":\"\"}},\"type\":\"scatter\"}],\"scatter3d\":[{\"line\":{\"colorbar\":{\"outlinewidth\":0,\"ticks\":\"\"}},\"marker\":{\"colorbar\":{\"outlinewidth\":0,\"ticks\":\"\"}},\"type\":\"scatter3d\"}],\"scattercarpet\":[{\"marker\":{\"colorbar\":{\"outlinewidth\":0,\"ticks\":\"\"}},\"type\":\"scattercarpet\"}],\"scattergeo\":[{\"marker\":{\"colorbar\":{\"outlinewidth\":0,\"ticks\":\"\"}},\"type\":\"scattergeo\"}],\"scattergl\":[{\"marker\":{\"colorbar\":{\"outlinewidth\":0,\"ticks\":\"\"}},\"type\":\"scattergl\"}],\"scattermapbox\":[{\"marker\":{\"colorbar\":{\"outlinewidth\":0,\"ticks\":\"\"}},\"type\":\"scattermapbox\"}],\"scatterpolar\":[{\"marker\":{\"colorbar\":{\"outlinewidth\":0,\"ticks\":\"\"}},\"type\":\"scatterpolar\"}],\"scatterpolargl\":[{\"marker\":{\"colorbar\":{\"outlinewidth\":0,\"ticks\":\"\"}},\"type\":\"scatterpolargl\"}],\"scatterternary\":[{\"marker\":{\"colorbar\":{\"outlinewidth\":0,\"ticks\":\"\"}},\"type\":\"scatterternary\"}],\"surface\":[{\"colorbar\":{\"outlinewidth\":0,\"ticks\":\"\"},\"colorscale\":[[0.0,\"#0d0887\"],[0.1111111111111111,\"#46039f\"],[0.2222222222222222,\"#7201a8\"],[0.3333333333333333,\"#9c179e\"],[0.4444444444444444,\"#bd3786\"],[0.5555555555555556,\"#d8576b\"],[0.6666666666666666,\"#ed7953\"],[0.7777777777777778,\"#fb9f3a\"],[0.8888888888888888,\"#fdca26\"],[1.0,\"#f0f921\"]],\"type\":\"surface\"}],\"table\":[{\"cells\":{\"fill\":{\"color\":\"#EBF0F8\"},\"line\":{\"color\":\"white\"}},\"header\":{\"fill\":{\"color\":\"#C8D4E3\"},\"line\":{\"color\":\"white\"}},\"type\":\"table\"}]},\"layout\":{\"annotationdefaults\":{\"arrowcolor\":\"#2a3f5f\",\"arrowhead\":0,\"arrowwidth\":1},\"autotypenumbers\":\"strict\",\"coloraxis\":{\"colorbar\":{\"outlinewidth\":0,\"ticks\":\"\"}},\"colorscale\":{\"diverging\":[[0,\"#8e0152\"],[0.1,\"#c51b7d\"],[0.2,\"#de77ae\"],[0.3,\"#f1b6da\"],[0.4,\"#fde0ef\"],[0.5,\"#f7f7f7\"],[0.6,\"#e6f5d0\"],[0.7,\"#b8e186\"],[0.8,\"#7fbc41\"],[0.9,\"#4d9221\"],[1,\"#276419\"]],\"sequential\":[[0.0,\"#0d0887\"],[0.1111111111111111,\"#46039f\"],[0.2222222222222222,\"#7201a8\"],[0.3333333333333333,\"#9c179e\"],[0.4444444444444444,\"#bd3786\"],[0.5555555555555556,\"#d8576b\"],[0.6666666666666666,\"#ed7953\"],[0.7777777777777778,\"#fb9f3a\"],[0.8888888888888888,\"#fdca26\"],[1.0,\"#f0f921\"]],\"sequentialminus\":[[0.0,\"#0d0887\"],[0.1111111111111111,\"#46039f\"],[0.2222222222222222,\"#7201a8\"],[0.3333333333333333,\"#9c179e\"],[0.4444444444444444,\"#bd3786\"],[0.5555555555555556,\"#d8576b\"],[0.6666666666666666,\"#ed7953\"],[0.7777777777777778,\"#fb9f3a\"],[0.8888888888888888,\"#fdca26\"],[1.0,\"#f0f921\"]]},\"colorway\":[\"#636efa\",\"#EF553B\",\"#00cc96\",\"#ab63fa\",\"#FFA15A\",\"#19d3f3\",\"#FF6692\",\"#B6E880\",\"#FF97FF\",\"#FECB52\"],\"font\":{\"color\":\"#2a3f5f\"},\"geo\":{\"bgcolor\":\"white\",\"lakecolor\":\"white\",\"landcolor\":\"#E5ECF6\",\"showlakes\":true,\"showland\":true,\"subunitcolor\":\"white\"},\"hoverlabel\":{\"align\":\"left\"},\"hovermode\":\"closest\",\"mapbox\":{\"style\":\"light\"},\"paper_bgcolor\":\"white\",\"plot_bgcolor\":\"#E5ECF6\",\"polar\":{\"angularaxis\":{\"gridcolor\":\"white\",\"linecolor\":\"white\",\"ticks\":\"\"},\"bgcolor\":\"#E5ECF6\",\"radialaxis\":{\"gridcolor\":\"white\",\"linecolor\":\"white\",\"ticks\":\"\"}},\"scene\":{\"xaxis\":{\"backgroundcolor\":\"#E5ECF6\",\"gridcolor\":\"white\",\"gridwidth\":2,\"linecolor\":\"white\",\"showbackground\":true,\"ticks\":\"\",\"zerolinecolor\":\"white\"},\"yaxis\":{\"backgroundcolor\":\"#E5ECF6\",\"gridcolor\":\"white\",\"gridwidth\":2,\"linecolor\":\"white\",\"showbackground\":true,\"ticks\":\"\",\"zerolinecolor\":\"white\"},\"zaxis\":{\"backgroundcolor\":\"#E5ECF6\",\"gridcolor\":\"white\",\"gridwidth\":2,\"linecolor\":\"white\",\"showbackground\":true,\"ticks\":\"\",\"zerolinecolor\":\"white\"}},\"shapedefaults\":{\"line\":{\"color\":\"#2a3f5f\"}},\"ternary\":{\"aaxis\":{\"gridcolor\":\"white\",\"linecolor\":\"white\",\"ticks\":\"\"},\"baxis\":{\"gridcolor\":\"white\",\"linecolor\":\"white\",\"ticks\":\"\"},\"bgcolor\":\"#E5ECF6\",\"caxis\":{\"gridcolor\":\"white\",\"linecolor\":\"white\",\"ticks\":\"\"}},\"title\":{\"x\":0.05},\"xaxis\":{\"automargin\":true,\"gridcolor\":\"white\",\"linecolor\":\"white\",\"ticks\":\"\",\"title\":{\"standoff\":15},\"zerolinecolor\":\"white\",\"zerolinewidth\":2},\"yaxis\":{\"automargin\":true,\"gridcolor\":\"white\",\"linecolor\":\"white\",\"ticks\":\"\",\"title\":{\"standoff\":15},\"zerolinecolor\":\"white\",\"zerolinewidth\":2}}},\"title\":{\"font\":{\"color\":\"#4D5663\"},\"text\":\"\\u042e\\u043d\\u0438\\u0433\\u0440\\u0430\\u043c\\u043c\\u0430 \\u043c\\u0443\\u0436\\u0441\\u043a\\u0430\\u044f\"},\"xaxis\":{\"gridcolor\":\"#E1E5ED\",\"showgrid\":true,\"tickfont\":{\"color\":\"#4D5663\"},\"title\":{\"font\":{\"color\":\"#4D5663\"},\"text\":\"\\u042e\\u043d\\u0438\\u0433\\u0440\\u0430\\u043c\\u043c\\u0430\"},\"zerolinecolor\":\"#E1E5ED\"},\"yaxis\":{\"gridcolor\":\"#E1E5ED\",\"showgrid\":true,\"tickfont\":{\"color\":\"#4D5663\"},\"title\":{\"font\":{\"color\":\"#4D5663\"},\"text\":\"\\u041a\\u043e\\u043b\\u0438\\u0447\\u0435\\u0441\\u0442\\u0432\\u043e\"},\"zerolinecolor\":\"#E1E5ED\"}},                        {\"showLink\": true, \"linkText\": \"Export to plot.ly\", \"plotlyServerURL\": \"https://plot.ly\", \"responsive\": true}                    ).then(function(){\n",
       "                            \n",
       "var gd = document.getElementById('6819d6e2-ef0f-499d-802c-60cb5d150c89');\n",
       "var x = new MutationObserver(function (mutations, observer) {{\n",
       "        var display = window.getComputedStyle(gd).display;\n",
       "        if (!display || display === 'none') {{\n",
       "            console.log([gd, 'removed!']);\n",
       "            Plotly.purge(gd);\n",
       "            observer.disconnect();\n",
       "        }}\n",
       "}});\n",
       "\n",
       "// Listen for the removal of the full notebook cells\n",
       "var notebookContainer = gd.closest('#notebook-container');\n",
       "if (notebookContainer) {{\n",
       "    x.observe(notebookContainer, {childList: true});\n",
       "}}\n",
       "\n",
       "// Listen for the clearing of the current output cell\n",
       "var outputEl = gd.closest('.output');\n",
       "if (outputEl) {{\n",
       "    x.observe(outputEl, {childList: true});\n",
       "}}\n",
       "\n",
       "                        })                };                });            </script>        </div>"
      ]
     },
     "metadata": {},
     "output_type": "display_data"
    }
   ],
   "source": [
    "mem = pd.DataFrame(man, columns = ['Unigram', 'Frequency'])\n",
    "mem = mem.set_index('Unigram')\n",
    "mem.iplot(kind='bar', xTitle='Юниграмма', yTitle='Количество', title='Юниграмма мужская')"
   ]
  },
  {
   "cell_type": "code",
   "execution_count": 35,
   "id": "ae4421db",
   "metadata": {},
   "outputs": [
    {
     "data": {
      "application/vnd.plotly.v1+json": {
       "config": {
        "linkText": "Export to plot.ly",
        "plotlyServerURL": "https://plot.ly",
        "showLink": true
       },
       "data": [
        {
         "marker": {
          "color": "rgba(255, 153, 51, 0.6)",
          "line": {
           "color": "rgba(255, 153, 51, 1.0)",
           "width": 1
          }
         },
         "name": "Frequency",
         "orientation": "v",
         "text": "",
         "type": "bar",
         "x": [
          "год",
          "здравствовать",
          "ли",
          "день",
          "операция",
          "спасибо",
          "сказать",
          "врач",
          "делать",
          "пожалуйста",
          "можно",
          "какой",
          "ребёнок",
          "добрый",
          "после"
         ],
         "y": [
          857,
          657,
          655,
          570,
          442,
          390,
          382,
          378,
          363,
          343,
          342,
          332,
          320,
          315,
          294
         ]
        }
       ],
       "layout": {
        "legend": {
         "bgcolor": "#F5F6F9",
         "font": {
          "color": "#4D5663"
         }
        },
        "paper_bgcolor": "#F5F6F9",
        "plot_bgcolor": "#F5F6F9",
        "template": {
         "data": {
          "bar": [
           {
            "error_x": {
             "color": "#2a3f5f"
            },
            "error_y": {
             "color": "#2a3f5f"
            },
            "marker": {
             "line": {
              "color": "#E5ECF6",
              "width": 0.5
             },
             "pattern": {
              "fillmode": "overlay",
              "size": 10,
              "solidity": 0.2
             }
            },
            "type": "bar"
           }
          ],
          "barpolar": [
           {
            "marker": {
             "line": {
              "color": "#E5ECF6",
              "width": 0.5
             },
             "pattern": {
              "fillmode": "overlay",
              "size": 10,
              "solidity": 0.2
             }
            },
            "type": "barpolar"
           }
          ],
          "carpet": [
           {
            "aaxis": {
             "endlinecolor": "#2a3f5f",
             "gridcolor": "white",
             "linecolor": "white",
             "minorgridcolor": "white",
             "startlinecolor": "#2a3f5f"
            },
            "baxis": {
             "endlinecolor": "#2a3f5f",
             "gridcolor": "white",
             "linecolor": "white",
             "minorgridcolor": "white",
             "startlinecolor": "#2a3f5f"
            },
            "type": "carpet"
           }
          ],
          "choropleth": [
           {
            "colorbar": {
             "outlinewidth": 0,
             "ticks": ""
            },
            "type": "choropleth"
           }
          ],
          "contour": [
           {
            "colorbar": {
             "outlinewidth": 0,
             "ticks": ""
            },
            "colorscale": [
             [
              0,
              "#0d0887"
             ],
             [
              0.1111111111111111,
              "#46039f"
             ],
             [
              0.2222222222222222,
              "#7201a8"
             ],
             [
              0.3333333333333333,
              "#9c179e"
             ],
             [
              0.4444444444444444,
              "#bd3786"
             ],
             [
              0.5555555555555556,
              "#d8576b"
             ],
             [
              0.6666666666666666,
              "#ed7953"
             ],
             [
              0.7777777777777778,
              "#fb9f3a"
             ],
             [
              0.8888888888888888,
              "#fdca26"
             ],
             [
              1,
              "#f0f921"
             ]
            ],
            "type": "contour"
           }
          ],
          "contourcarpet": [
           {
            "colorbar": {
             "outlinewidth": 0,
             "ticks": ""
            },
            "type": "contourcarpet"
           }
          ],
          "heatmap": [
           {
            "colorbar": {
             "outlinewidth": 0,
             "ticks": ""
            },
            "colorscale": [
             [
              0,
              "#0d0887"
             ],
             [
              0.1111111111111111,
              "#46039f"
             ],
             [
              0.2222222222222222,
              "#7201a8"
             ],
             [
              0.3333333333333333,
              "#9c179e"
             ],
             [
              0.4444444444444444,
              "#bd3786"
             ],
             [
              0.5555555555555556,
              "#d8576b"
             ],
             [
              0.6666666666666666,
              "#ed7953"
             ],
             [
              0.7777777777777778,
              "#fb9f3a"
             ],
             [
              0.8888888888888888,
              "#fdca26"
             ],
             [
              1,
              "#f0f921"
             ]
            ],
            "type": "heatmap"
           }
          ],
          "heatmapgl": [
           {
            "colorbar": {
             "outlinewidth": 0,
             "ticks": ""
            },
            "colorscale": [
             [
              0,
              "#0d0887"
             ],
             [
              0.1111111111111111,
              "#46039f"
             ],
             [
              0.2222222222222222,
              "#7201a8"
             ],
             [
              0.3333333333333333,
              "#9c179e"
             ],
             [
              0.4444444444444444,
              "#bd3786"
             ],
             [
              0.5555555555555556,
              "#d8576b"
             ],
             [
              0.6666666666666666,
              "#ed7953"
             ],
             [
              0.7777777777777778,
              "#fb9f3a"
             ],
             [
              0.8888888888888888,
              "#fdca26"
             ],
             [
              1,
              "#f0f921"
             ]
            ],
            "type": "heatmapgl"
           }
          ],
          "histogram": [
           {
            "marker": {
             "pattern": {
              "fillmode": "overlay",
              "size": 10,
              "solidity": 0.2
             }
            },
            "type": "histogram"
           }
          ],
          "histogram2d": [
           {
            "colorbar": {
             "outlinewidth": 0,
             "ticks": ""
            },
            "colorscale": [
             [
              0,
              "#0d0887"
             ],
             [
              0.1111111111111111,
              "#46039f"
             ],
             [
              0.2222222222222222,
              "#7201a8"
             ],
             [
              0.3333333333333333,
              "#9c179e"
             ],
             [
              0.4444444444444444,
              "#bd3786"
             ],
             [
              0.5555555555555556,
              "#d8576b"
             ],
             [
              0.6666666666666666,
              "#ed7953"
             ],
             [
              0.7777777777777778,
              "#fb9f3a"
             ],
             [
              0.8888888888888888,
              "#fdca26"
             ],
             [
              1,
              "#f0f921"
             ]
            ],
            "type": "histogram2d"
           }
          ],
          "histogram2dcontour": [
           {
            "colorbar": {
             "outlinewidth": 0,
             "ticks": ""
            },
            "colorscale": [
             [
              0,
              "#0d0887"
             ],
             [
              0.1111111111111111,
              "#46039f"
             ],
             [
              0.2222222222222222,
              "#7201a8"
             ],
             [
              0.3333333333333333,
              "#9c179e"
             ],
             [
              0.4444444444444444,
              "#bd3786"
             ],
             [
              0.5555555555555556,
              "#d8576b"
             ],
             [
              0.6666666666666666,
              "#ed7953"
             ],
             [
              0.7777777777777778,
              "#fb9f3a"
             ],
             [
              0.8888888888888888,
              "#fdca26"
             ],
             [
              1,
              "#f0f921"
             ]
            ],
            "type": "histogram2dcontour"
           }
          ],
          "mesh3d": [
           {
            "colorbar": {
             "outlinewidth": 0,
             "ticks": ""
            },
            "type": "mesh3d"
           }
          ],
          "parcoords": [
           {
            "line": {
             "colorbar": {
              "outlinewidth": 0,
              "ticks": ""
             }
            },
            "type": "parcoords"
           }
          ],
          "pie": [
           {
            "automargin": true,
            "type": "pie"
           }
          ],
          "scatter": [
           {
            "marker": {
             "colorbar": {
              "outlinewidth": 0,
              "ticks": ""
             }
            },
            "type": "scatter"
           }
          ],
          "scatter3d": [
           {
            "line": {
             "colorbar": {
              "outlinewidth": 0,
              "ticks": ""
             }
            },
            "marker": {
             "colorbar": {
              "outlinewidth": 0,
              "ticks": ""
             }
            },
            "type": "scatter3d"
           }
          ],
          "scattercarpet": [
           {
            "marker": {
             "colorbar": {
              "outlinewidth": 0,
              "ticks": ""
             }
            },
            "type": "scattercarpet"
           }
          ],
          "scattergeo": [
           {
            "marker": {
             "colorbar": {
              "outlinewidth": 0,
              "ticks": ""
             }
            },
            "type": "scattergeo"
           }
          ],
          "scattergl": [
           {
            "marker": {
             "colorbar": {
              "outlinewidth": 0,
              "ticks": ""
             }
            },
            "type": "scattergl"
           }
          ],
          "scattermapbox": [
           {
            "marker": {
             "colorbar": {
              "outlinewidth": 0,
              "ticks": ""
             }
            },
            "type": "scattermapbox"
           }
          ],
          "scatterpolar": [
           {
            "marker": {
             "colorbar": {
              "outlinewidth": 0,
              "ticks": ""
             }
            },
            "type": "scatterpolar"
           }
          ],
          "scatterpolargl": [
           {
            "marker": {
             "colorbar": {
              "outlinewidth": 0,
              "ticks": ""
             }
            },
            "type": "scatterpolargl"
           }
          ],
          "scatterternary": [
           {
            "marker": {
             "colorbar": {
              "outlinewidth": 0,
              "ticks": ""
             }
            },
            "type": "scatterternary"
           }
          ],
          "surface": [
           {
            "colorbar": {
             "outlinewidth": 0,
             "ticks": ""
            },
            "colorscale": [
             [
              0,
              "#0d0887"
             ],
             [
              0.1111111111111111,
              "#46039f"
             ],
             [
              0.2222222222222222,
              "#7201a8"
             ],
             [
              0.3333333333333333,
              "#9c179e"
             ],
             [
              0.4444444444444444,
              "#bd3786"
             ],
             [
              0.5555555555555556,
              "#d8576b"
             ],
             [
              0.6666666666666666,
              "#ed7953"
             ],
             [
              0.7777777777777778,
              "#fb9f3a"
             ],
             [
              0.8888888888888888,
              "#fdca26"
             ],
             [
              1,
              "#f0f921"
             ]
            ],
            "type": "surface"
           }
          ],
          "table": [
           {
            "cells": {
             "fill": {
              "color": "#EBF0F8"
             },
             "line": {
              "color": "white"
             }
            },
            "header": {
             "fill": {
              "color": "#C8D4E3"
             },
             "line": {
              "color": "white"
             }
            },
            "type": "table"
           }
          ]
         },
         "layout": {
          "annotationdefaults": {
           "arrowcolor": "#2a3f5f",
           "arrowhead": 0,
           "arrowwidth": 1
          },
          "autotypenumbers": "strict",
          "coloraxis": {
           "colorbar": {
            "outlinewidth": 0,
            "ticks": ""
           }
          },
          "colorscale": {
           "diverging": [
            [
             0,
             "#8e0152"
            ],
            [
             0.1,
             "#c51b7d"
            ],
            [
             0.2,
             "#de77ae"
            ],
            [
             0.3,
             "#f1b6da"
            ],
            [
             0.4,
             "#fde0ef"
            ],
            [
             0.5,
             "#f7f7f7"
            ],
            [
             0.6,
             "#e6f5d0"
            ],
            [
             0.7,
             "#b8e186"
            ],
            [
             0.8,
             "#7fbc41"
            ],
            [
             0.9,
             "#4d9221"
            ],
            [
             1,
             "#276419"
            ]
           ],
           "sequential": [
            [
             0,
             "#0d0887"
            ],
            [
             0.1111111111111111,
             "#46039f"
            ],
            [
             0.2222222222222222,
             "#7201a8"
            ],
            [
             0.3333333333333333,
             "#9c179e"
            ],
            [
             0.4444444444444444,
             "#bd3786"
            ],
            [
             0.5555555555555556,
             "#d8576b"
            ],
            [
             0.6666666666666666,
             "#ed7953"
            ],
            [
             0.7777777777777778,
             "#fb9f3a"
            ],
            [
             0.8888888888888888,
             "#fdca26"
            ],
            [
             1,
             "#f0f921"
            ]
           ],
           "sequentialminus": [
            [
             0,
             "#0d0887"
            ],
            [
             0.1111111111111111,
             "#46039f"
            ],
            [
             0.2222222222222222,
             "#7201a8"
            ],
            [
             0.3333333333333333,
             "#9c179e"
            ],
            [
             0.4444444444444444,
             "#bd3786"
            ],
            [
             0.5555555555555556,
             "#d8576b"
            ],
            [
             0.6666666666666666,
             "#ed7953"
            ],
            [
             0.7777777777777778,
             "#fb9f3a"
            ],
            [
             0.8888888888888888,
             "#fdca26"
            ],
            [
             1,
             "#f0f921"
            ]
           ]
          },
          "colorway": [
           "#636efa",
           "#EF553B",
           "#00cc96",
           "#ab63fa",
           "#FFA15A",
           "#19d3f3",
           "#FF6692",
           "#B6E880",
           "#FF97FF",
           "#FECB52"
          ],
          "font": {
           "color": "#2a3f5f"
          },
          "geo": {
           "bgcolor": "white",
           "lakecolor": "white",
           "landcolor": "#E5ECF6",
           "showlakes": true,
           "showland": true,
           "subunitcolor": "white"
          },
          "hoverlabel": {
           "align": "left"
          },
          "hovermode": "closest",
          "mapbox": {
           "style": "light"
          },
          "paper_bgcolor": "white",
          "plot_bgcolor": "#E5ECF6",
          "polar": {
           "angularaxis": {
            "gridcolor": "white",
            "linecolor": "white",
            "ticks": ""
           },
           "bgcolor": "#E5ECF6",
           "radialaxis": {
            "gridcolor": "white",
            "linecolor": "white",
            "ticks": ""
           }
          },
          "scene": {
           "xaxis": {
            "backgroundcolor": "#E5ECF6",
            "gridcolor": "white",
            "gridwidth": 2,
            "linecolor": "white",
            "showbackground": true,
            "ticks": "",
            "zerolinecolor": "white"
           },
           "yaxis": {
            "backgroundcolor": "#E5ECF6",
            "gridcolor": "white",
            "gridwidth": 2,
            "linecolor": "white",
            "showbackground": true,
            "ticks": "",
            "zerolinecolor": "white"
           },
           "zaxis": {
            "backgroundcolor": "#E5ECF6",
            "gridcolor": "white",
            "gridwidth": 2,
            "linecolor": "white",
            "showbackground": true,
            "ticks": "",
            "zerolinecolor": "white"
           }
          },
          "shapedefaults": {
           "line": {
            "color": "#2a3f5f"
           }
          },
          "ternary": {
           "aaxis": {
            "gridcolor": "white",
            "linecolor": "white",
            "ticks": ""
           },
           "baxis": {
            "gridcolor": "white",
            "linecolor": "white",
            "ticks": ""
           },
           "bgcolor": "#E5ECF6",
           "caxis": {
            "gridcolor": "white",
            "linecolor": "white",
            "ticks": ""
           }
          },
          "title": {
           "x": 0.05
          },
          "xaxis": {
           "automargin": true,
           "gridcolor": "white",
           "linecolor": "white",
           "ticks": "",
           "title": {
            "standoff": 15
           },
           "zerolinecolor": "white",
           "zerolinewidth": 2
          },
          "yaxis": {
           "automargin": true,
           "gridcolor": "white",
           "linecolor": "white",
           "ticks": "",
           "title": {
            "standoff": 15
           },
           "zerolinecolor": "white",
           "zerolinewidth": 2
          }
         }
        },
        "title": {
         "font": {
          "color": "#4D5663"
         },
         "text": "Юниграмма женская"
        },
        "xaxis": {
         "gridcolor": "#E1E5ED",
         "showgrid": true,
         "tickfont": {
          "color": "#4D5663"
         },
         "title": {
          "font": {
           "color": "#4D5663"
          },
          "text": "Юниграмма"
         },
         "zerolinecolor": "#E1E5ED"
        },
        "yaxis": {
         "gridcolor": "#E1E5ED",
         "showgrid": true,
         "tickfont": {
          "color": "#4D5663"
         },
         "title": {
          "font": {
           "color": "#4D5663"
          },
          "text": "Количество"
         },
         "zerolinecolor": "#E1E5ED"
        }
       }
      },
      "text/html": [
       "<div>                            <div id=\"b31c7ae5-10de-4524-a018-e352b94d09b0\" class=\"plotly-graph-div\" style=\"height:525px; width:100%;\"></div>            <script type=\"text/javascript\">                require([\"plotly\"], function(Plotly) {                    window.PLOTLYENV=window.PLOTLYENV || {};\n",
       "                    window.PLOTLYENV.BASE_URL='https://plot.ly';                                    if (document.getElementById(\"b31c7ae5-10de-4524-a018-e352b94d09b0\")) {                    Plotly.newPlot(                        \"b31c7ae5-10de-4524-a018-e352b94d09b0\",                        [{\"marker\":{\"color\":\"rgba(255, 153, 51, 0.6)\",\"line\":{\"color\":\"rgba(255, 153, 51, 1.0)\",\"width\":1}},\"name\":\"Frequency\",\"orientation\":\"v\",\"text\":\"\",\"type\":\"bar\",\"x\":[\"\\u0433\\u043e\\u0434\",\"\\u0437\\u0434\\u0440\\u0430\\u0432\\u0441\\u0442\\u0432\\u043e\\u0432\\u0430\\u0442\\u044c\",\"\\u043b\\u0438\",\"\\u0434\\u0435\\u043d\\u044c\",\"\\u043e\\u043f\\u0435\\u0440\\u0430\\u0446\\u0438\\u044f\",\"\\u0441\\u043f\\u0430\\u0441\\u0438\\u0431\\u043e\",\"\\u0441\\u043a\\u0430\\u0437\\u0430\\u0442\\u044c\",\"\\u0432\\u0440\\u0430\\u0447\",\"\\u0434\\u0435\\u043b\\u0430\\u0442\\u044c\",\"\\u043f\\u043e\\u0436\\u0430\\u043b\\u0443\\u0439\\u0441\\u0442\\u0430\",\"\\u043c\\u043e\\u0436\\u043d\\u043e\",\"\\u043a\\u0430\\u043a\\u043e\\u0439\",\"\\u0440\\u0435\\u0431\\u0451\\u043d\\u043e\\u043a\",\"\\u0434\\u043e\\u0431\\u0440\\u044b\\u0439\",\"\\u043f\\u043e\\u0441\\u043b\\u0435\"],\"y\":[857,657,655,570,442,390,382,378,363,343,342,332,320,315,294]}],                        {\"legend\":{\"bgcolor\":\"#F5F6F9\",\"font\":{\"color\":\"#4D5663\"}},\"paper_bgcolor\":\"#F5F6F9\",\"plot_bgcolor\":\"#F5F6F9\",\"template\":{\"data\":{\"bar\":[{\"error_x\":{\"color\":\"#2a3f5f\"},\"error_y\":{\"color\":\"#2a3f5f\"},\"marker\":{\"line\":{\"color\":\"#E5ECF6\",\"width\":0.5},\"pattern\":{\"fillmode\":\"overlay\",\"size\":10,\"solidity\":0.2}},\"type\":\"bar\"}],\"barpolar\":[{\"marker\":{\"line\":{\"color\":\"#E5ECF6\",\"width\":0.5},\"pattern\":{\"fillmode\":\"overlay\",\"size\":10,\"solidity\":0.2}},\"type\":\"barpolar\"}],\"carpet\":[{\"aaxis\":{\"endlinecolor\":\"#2a3f5f\",\"gridcolor\":\"white\",\"linecolor\":\"white\",\"minorgridcolor\":\"white\",\"startlinecolor\":\"#2a3f5f\"},\"baxis\":{\"endlinecolor\":\"#2a3f5f\",\"gridcolor\":\"white\",\"linecolor\":\"white\",\"minorgridcolor\":\"white\",\"startlinecolor\":\"#2a3f5f\"},\"type\":\"carpet\"}],\"choropleth\":[{\"colorbar\":{\"outlinewidth\":0,\"ticks\":\"\"},\"type\":\"choropleth\"}],\"contour\":[{\"colorbar\":{\"outlinewidth\":0,\"ticks\":\"\"},\"colorscale\":[[0.0,\"#0d0887\"],[0.1111111111111111,\"#46039f\"],[0.2222222222222222,\"#7201a8\"],[0.3333333333333333,\"#9c179e\"],[0.4444444444444444,\"#bd3786\"],[0.5555555555555556,\"#d8576b\"],[0.6666666666666666,\"#ed7953\"],[0.7777777777777778,\"#fb9f3a\"],[0.8888888888888888,\"#fdca26\"],[1.0,\"#f0f921\"]],\"type\":\"contour\"}],\"contourcarpet\":[{\"colorbar\":{\"outlinewidth\":0,\"ticks\":\"\"},\"type\":\"contourcarpet\"}],\"heatmap\":[{\"colorbar\":{\"outlinewidth\":0,\"ticks\":\"\"},\"colorscale\":[[0.0,\"#0d0887\"],[0.1111111111111111,\"#46039f\"],[0.2222222222222222,\"#7201a8\"],[0.3333333333333333,\"#9c179e\"],[0.4444444444444444,\"#bd3786\"],[0.5555555555555556,\"#d8576b\"],[0.6666666666666666,\"#ed7953\"],[0.7777777777777778,\"#fb9f3a\"],[0.8888888888888888,\"#fdca26\"],[1.0,\"#f0f921\"]],\"type\":\"heatmap\"}],\"heatmapgl\":[{\"colorbar\":{\"outlinewidth\":0,\"ticks\":\"\"},\"colorscale\":[[0.0,\"#0d0887\"],[0.1111111111111111,\"#46039f\"],[0.2222222222222222,\"#7201a8\"],[0.3333333333333333,\"#9c179e\"],[0.4444444444444444,\"#bd3786\"],[0.5555555555555556,\"#d8576b\"],[0.6666666666666666,\"#ed7953\"],[0.7777777777777778,\"#fb9f3a\"],[0.8888888888888888,\"#fdca26\"],[1.0,\"#f0f921\"]],\"type\":\"heatmapgl\"}],\"histogram\":[{\"marker\":{\"pattern\":{\"fillmode\":\"overlay\",\"size\":10,\"solidity\":0.2}},\"type\":\"histogram\"}],\"histogram2d\":[{\"colorbar\":{\"outlinewidth\":0,\"ticks\":\"\"},\"colorscale\":[[0.0,\"#0d0887\"],[0.1111111111111111,\"#46039f\"],[0.2222222222222222,\"#7201a8\"],[0.3333333333333333,\"#9c179e\"],[0.4444444444444444,\"#bd3786\"],[0.5555555555555556,\"#d8576b\"],[0.6666666666666666,\"#ed7953\"],[0.7777777777777778,\"#fb9f3a\"],[0.8888888888888888,\"#fdca26\"],[1.0,\"#f0f921\"]],\"type\":\"histogram2d\"}],\"histogram2dcontour\":[{\"colorbar\":{\"outlinewidth\":0,\"ticks\":\"\"},\"colorscale\":[[0.0,\"#0d0887\"],[0.1111111111111111,\"#46039f\"],[0.2222222222222222,\"#7201a8\"],[0.3333333333333333,\"#9c179e\"],[0.4444444444444444,\"#bd3786\"],[0.5555555555555556,\"#d8576b\"],[0.6666666666666666,\"#ed7953\"],[0.7777777777777778,\"#fb9f3a\"],[0.8888888888888888,\"#fdca26\"],[1.0,\"#f0f921\"]],\"type\":\"histogram2dcontour\"}],\"mesh3d\":[{\"colorbar\":{\"outlinewidth\":0,\"ticks\":\"\"},\"type\":\"mesh3d\"}],\"parcoords\":[{\"line\":{\"colorbar\":{\"outlinewidth\":0,\"ticks\":\"\"}},\"type\":\"parcoords\"}],\"pie\":[{\"automargin\":true,\"type\":\"pie\"}],\"scatter\":[{\"marker\":{\"colorbar\":{\"outlinewidth\":0,\"ticks\":\"\"}},\"type\":\"scatter\"}],\"scatter3d\":[{\"line\":{\"colorbar\":{\"outlinewidth\":0,\"ticks\":\"\"}},\"marker\":{\"colorbar\":{\"outlinewidth\":0,\"ticks\":\"\"}},\"type\":\"scatter3d\"}],\"scattercarpet\":[{\"marker\":{\"colorbar\":{\"outlinewidth\":0,\"ticks\":\"\"}},\"type\":\"scattercarpet\"}],\"scattergeo\":[{\"marker\":{\"colorbar\":{\"outlinewidth\":0,\"ticks\":\"\"}},\"type\":\"scattergeo\"}],\"scattergl\":[{\"marker\":{\"colorbar\":{\"outlinewidth\":0,\"ticks\":\"\"}},\"type\":\"scattergl\"}],\"scattermapbox\":[{\"marker\":{\"colorbar\":{\"outlinewidth\":0,\"ticks\":\"\"}},\"type\":\"scattermapbox\"}],\"scatterpolar\":[{\"marker\":{\"colorbar\":{\"outlinewidth\":0,\"ticks\":\"\"}},\"type\":\"scatterpolar\"}],\"scatterpolargl\":[{\"marker\":{\"colorbar\":{\"outlinewidth\":0,\"ticks\":\"\"}},\"type\":\"scatterpolargl\"}],\"scatterternary\":[{\"marker\":{\"colorbar\":{\"outlinewidth\":0,\"ticks\":\"\"}},\"type\":\"scatterternary\"}],\"surface\":[{\"colorbar\":{\"outlinewidth\":0,\"ticks\":\"\"},\"colorscale\":[[0.0,\"#0d0887\"],[0.1111111111111111,\"#46039f\"],[0.2222222222222222,\"#7201a8\"],[0.3333333333333333,\"#9c179e\"],[0.4444444444444444,\"#bd3786\"],[0.5555555555555556,\"#d8576b\"],[0.6666666666666666,\"#ed7953\"],[0.7777777777777778,\"#fb9f3a\"],[0.8888888888888888,\"#fdca26\"],[1.0,\"#f0f921\"]],\"type\":\"surface\"}],\"table\":[{\"cells\":{\"fill\":{\"color\":\"#EBF0F8\"},\"line\":{\"color\":\"white\"}},\"header\":{\"fill\":{\"color\":\"#C8D4E3\"},\"line\":{\"color\":\"white\"}},\"type\":\"table\"}]},\"layout\":{\"annotationdefaults\":{\"arrowcolor\":\"#2a3f5f\",\"arrowhead\":0,\"arrowwidth\":1},\"autotypenumbers\":\"strict\",\"coloraxis\":{\"colorbar\":{\"outlinewidth\":0,\"ticks\":\"\"}},\"colorscale\":{\"diverging\":[[0,\"#8e0152\"],[0.1,\"#c51b7d\"],[0.2,\"#de77ae\"],[0.3,\"#f1b6da\"],[0.4,\"#fde0ef\"],[0.5,\"#f7f7f7\"],[0.6,\"#e6f5d0\"],[0.7,\"#b8e186\"],[0.8,\"#7fbc41\"],[0.9,\"#4d9221\"],[1,\"#276419\"]],\"sequential\":[[0.0,\"#0d0887\"],[0.1111111111111111,\"#46039f\"],[0.2222222222222222,\"#7201a8\"],[0.3333333333333333,\"#9c179e\"],[0.4444444444444444,\"#bd3786\"],[0.5555555555555556,\"#d8576b\"],[0.6666666666666666,\"#ed7953\"],[0.7777777777777778,\"#fb9f3a\"],[0.8888888888888888,\"#fdca26\"],[1.0,\"#f0f921\"]],\"sequentialminus\":[[0.0,\"#0d0887\"],[0.1111111111111111,\"#46039f\"],[0.2222222222222222,\"#7201a8\"],[0.3333333333333333,\"#9c179e\"],[0.4444444444444444,\"#bd3786\"],[0.5555555555555556,\"#d8576b\"],[0.6666666666666666,\"#ed7953\"],[0.7777777777777778,\"#fb9f3a\"],[0.8888888888888888,\"#fdca26\"],[1.0,\"#f0f921\"]]},\"colorway\":[\"#636efa\",\"#EF553B\",\"#00cc96\",\"#ab63fa\",\"#FFA15A\",\"#19d3f3\",\"#FF6692\",\"#B6E880\",\"#FF97FF\",\"#FECB52\"],\"font\":{\"color\":\"#2a3f5f\"},\"geo\":{\"bgcolor\":\"white\",\"lakecolor\":\"white\",\"landcolor\":\"#E5ECF6\",\"showlakes\":true,\"showland\":true,\"subunitcolor\":\"white\"},\"hoverlabel\":{\"align\":\"left\"},\"hovermode\":\"closest\",\"mapbox\":{\"style\":\"light\"},\"paper_bgcolor\":\"white\",\"plot_bgcolor\":\"#E5ECF6\",\"polar\":{\"angularaxis\":{\"gridcolor\":\"white\",\"linecolor\":\"white\",\"ticks\":\"\"},\"bgcolor\":\"#E5ECF6\",\"radialaxis\":{\"gridcolor\":\"white\",\"linecolor\":\"white\",\"ticks\":\"\"}},\"scene\":{\"xaxis\":{\"backgroundcolor\":\"#E5ECF6\",\"gridcolor\":\"white\",\"gridwidth\":2,\"linecolor\":\"white\",\"showbackground\":true,\"ticks\":\"\",\"zerolinecolor\":\"white\"},\"yaxis\":{\"backgroundcolor\":\"#E5ECF6\",\"gridcolor\":\"white\",\"gridwidth\":2,\"linecolor\":\"white\",\"showbackground\":true,\"ticks\":\"\",\"zerolinecolor\":\"white\"},\"zaxis\":{\"backgroundcolor\":\"#E5ECF6\",\"gridcolor\":\"white\",\"gridwidth\":2,\"linecolor\":\"white\",\"showbackground\":true,\"ticks\":\"\",\"zerolinecolor\":\"white\"}},\"shapedefaults\":{\"line\":{\"color\":\"#2a3f5f\"}},\"ternary\":{\"aaxis\":{\"gridcolor\":\"white\",\"linecolor\":\"white\",\"ticks\":\"\"},\"baxis\":{\"gridcolor\":\"white\",\"linecolor\":\"white\",\"ticks\":\"\"},\"bgcolor\":\"#E5ECF6\",\"caxis\":{\"gridcolor\":\"white\",\"linecolor\":\"white\",\"ticks\":\"\"}},\"title\":{\"x\":0.05},\"xaxis\":{\"automargin\":true,\"gridcolor\":\"white\",\"linecolor\":\"white\",\"ticks\":\"\",\"title\":{\"standoff\":15},\"zerolinecolor\":\"white\",\"zerolinewidth\":2},\"yaxis\":{\"automargin\":true,\"gridcolor\":\"white\",\"linecolor\":\"white\",\"ticks\":\"\",\"title\":{\"standoff\":15},\"zerolinecolor\":\"white\",\"zerolinewidth\":2}}},\"title\":{\"font\":{\"color\":\"#4D5663\"},\"text\":\"\\u042e\\u043d\\u0438\\u0433\\u0440\\u0430\\u043c\\u043c\\u0430 \\u0436\\u0435\\u043d\\u0441\\u043a\\u0430\\u044f\"},\"xaxis\":{\"gridcolor\":\"#E1E5ED\",\"showgrid\":true,\"tickfont\":{\"color\":\"#4D5663\"},\"title\":{\"font\":{\"color\":\"#4D5663\"},\"text\":\"\\u042e\\u043d\\u0438\\u0433\\u0440\\u0430\\u043c\\u043c\\u0430\"},\"zerolinecolor\":\"#E1E5ED\"},\"yaxis\":{\"gridcolor\":\"#E1E5ED\",\"showgrid\":true,\"tickfont\":{\"color\":\"#4D5663\"},\"title\":{\"font\":{\"color\":\"#4D5663\"},\"text\":\"\\u041a\\u043e\\u043b\\u0438\\u0447\\u0435\\u0441\\u0442\\u0432\\u043e\"},\"zerolinecolor\":\"#E1E5ED\"}},                        {\"showLink\": true, \"linkText\": \"Export to plot.ly\", \"plotlyServerURL\": \"https://plot.ly\", \"responsive\": true}                    ).then(function(){\n",
       "                            \n",
       "var gd = document.getElementById('b31c7ae5-10de-4524-a018-e352b94d09b0');\n",
       "var x = new MutationObserver(function (mutations, observer) {{\n",
       "        var display = window.getComputedStyle(gd).display;\n",
       "        if (!display || display === 'none') {{\n",
       "            console.log([gd, 'removed!']);\n",
       "            Plotly.purge(gd);\n",
       "            observer.disconnect();\n",
       "        }}\n",
       "}});\n",
       "\n",
       "// Listen for the removal of the full notebook cells\n",
       "var notebookContainer = gd.closest('#notebook-container');\n",
       "if (notebookContainer) {{\n",
       "    x.observe(notebookContainer, {childList: true});\n",
       "}}\n",
       "\n",
       "// Listen for the clearing of the current output cell\n",
       "var outputEl = gd.closest('.output');\n",
       "if (outputEl) {{\n",
       "    x.observe(outputEl, {childList: true});\n",
       "}}\n",
       "\n",
       "                        })                };                });            </script>        </div>"
      ]
     },
     "metadata": {},
     "output_type": "display_data"
    }
   ],
   "source": [
    "kuk = pd.DataFrame(girl, columns = ['Unigram', 'Frequency'])\n",
    "kuk = kuk.set_index('Unigram')\n",
    "kuk.iplot(kind='bar', xTitle='Юниграмма', yTitle='Количество', title='Юниграмма женская')"
   ]
  },
  {
   "cell_type": "markdown",
   "id": "9a6a4ddd",
   "metadata": {},
   "source": [
    "# Биграммы"
   ]
  },
  {
   "cell_type": "code",
   "execution_count": 36,
   "id": "1902ffb7",
   "metadata": {},
   "outputs": [],
   "source": [
    "def top_words(x,n):\n",
    "    vec = CountVectorizer(ngram_range=(2,2)).fit(x)\n",
    "    bow = vec.transform(x)\n",
    "    sum_words = bow.sum(axis = 0)\n",
    "    w = [(word, sum_words[0, idx]) for word, idx in vec.vocabulary_.items()]\n",
    "    w = sorted(w, key = lambda x: x[1], reverse = True)\n",
    "    return w[:n]"
   ]
  },
  {
   "cell_type": "code",
   "execution_count": 37,
   "id": "c9f0325c",
   "metadata": {},
   "outputs": [
    {
     "data": {
      "text/plain": [
       "[('добрый день', 330),\n",
       " ('подсказать пожалуйста', 207),\n",
       " ('евгений альбертович', 192),\n",
       " ('заранее спасибо', 143),\n",
       " ('можно ли', 132),\n",
       " ('год назад', 120),\n",
       " ('поставить диагноз', 113),\n",
       " ('здравствовать евгений', 105),\n",
       " ('сказать пожалуйста', 101),\n",
       " ('возможный ли', 86),\n",
       " ('попасть приём', 79),\n",
       " ('спасибо ответ', 69),\n",
       " ('врач сказать', 64),\n",
       " ('нужный ли', 57),\n",
       " ('ребёнок год', 56),\n",
       " ('сделать операция', 53),\n",
       " ('ваш ответ', 52),\n",
       " ('делать операция', 51),\n",
       " ('после операция', 48),\n",
       " ('сын год', 47)]"
      ]
     },
     "execution_count": 37,
     "metadata": {},
     "output_type": "execute_result"
    }
   ],
   "source": [
    "words = top_words(info['lemmatized'], 20)\n",
    "words"
   ]
  },
  {
   "cell_type": "code",
   "execution_count": 38,
   "id": "689a850b",
   "metadata": {},
   "outputs": [
    {
     "data": {
      "application/vnd.plotly.v1+json": {
       "config": {
        "linkText": "Export to plot.ly",
        "plotlyServerURL": "https://plot.ly",
        "showLink": true
       },
       "data": [
        {
         "marker": {
          "color": "rgba(255, 153, 51, 0.6)",
          "line": {
           "color": "rgba(255, 153, 51, 1.0)",
           "width": 1
          }
         },
         "name": "Frequency",
         "orientation": "v",
         "text": "",
         "type": "bar",
         "x": [
          "добрый день",
          "подсказать пожалуйста",
          "евгений альбертович",
          "заранее спасибо",
          "можно ли",
          "год назад",
          "поставить диагноз",
          "здравствовать евгений",
          "сказать пожалуйста",
          "возможный ли",
          "попасть приём",
          "спасибо ответ",
          "врач сказать",
          "нужный ли",
          "ребёнок год",
          "сделать операция",
          "ваш ответ",
          "делать операция",
          "после операция",
          "сын год"
         ],
         "y": [
          330,
          207,
          192,
          143,
          132,
          120,
          113,
          105,
          101,
          86,
          79,
          69,
          64,
          57,
          56,
          53,
          52,
          51,
          48,
          47
         ]
        }
       ],
       "layout": {
        "legend": {
         "bgcolor": "#F5F6F9",
         "font": {
          "color": "#4D5663"
         }
        },
        "paper_bgcolor": "#F5F6F9",
        "plot_bgcolor": "#F5F6F9",
        "template": {
         "data": {
          "bar": [
           {
            "error_x": {
             "color": "#2a3f5f"
            },
            "error_y": {
             "color": "#2a3f5f"
            },
            "marker": {
             "line": {
              "color": "#E5ECF6",
              "width": 0.5
             },
             "pattern": {
              "fillmode": "overlay",
              "size": 10,
              "solidity": 0.2
             }
            },
            "type": "bar"
           }
          ],
          "barpolar": [
           {
            "marker": {
             "line": {
              "color": "#E5ECF6",
              "width": 0.5
             },
             "pattern": {
              "fillmode": "overlay",
              "size": 10,
              "solidity": 0.2
             }
            },
            "type": "barpolar"
           }
          ],
          "carpet": [
           {
            "aaxis": {
             "endlinecolor": "#2a3f5f",
             "gridcolor": "white",
             "linecolor": "white",
             "minorgridcolor": "white",
             "startlinecolor": "#2a3f5f"
            },
            "baxis": {
             "endlinecolor": "#2a3f5f",
             "gridcolor": "white",
             "linecolor": "white",
             "minorgridcolor": "white",
             "startlinecolor": "#2a3f5f"
            },
            "type": "carpet"
           }
          ],
          "choropleth": [
           {
            "colorbar": {
             "outlinewidth": 0,
             "ticks": ""
            },
            "type": "choropleth"
           }
          ],
          "contour": [
           {
            "colorbar": {
             "outlinewidth": 0,
             "ticks": ""
            },
            "colorscale": [
             [
              0,
              "#0d0887"
             ],
             [
              0.1111111111111111,
              "#46039f"
             ],
             [
              0.2222222222222222,
              "#7201a8"
             ],
             [
              0.3333333333333333,
              "#9c179e"
             ],
             [
              0.4444444444444444,
              "#bd3786"
             ],
             [
              0.5555555555555556,
              "#d8576b"
             ],
             [
              0.6666666666666666,
              "#ed7953"
             ],
             [
              0.7777777777777778,
              "#fb9f3a"
             ],
             [
              0.8888888888888888,
              "#fdca26"
             ],
             [
              1,
              "#f0f921"
             ]
            ],
            "type": "contour"
           }
          ],
          "contourcarpet": [
           {
            "colorbar": {
             "outlinewidth": 0,
             "ticks": ""
            },
            "type": "contourcarpet"
           }
          ],
          "heatmap": [
           {
            "colorbar": {
             "outlinewidth": 0,
             "ticks": ""
            },
            "colorscale": [
             [
              0,
              "#0d0887"
             ],
             [
              0.1111111111111111,
              "#46039f"
             ],
             [
              0.2222222222222222,
              "#7201a8"
             ],
             [
              0.3333333333333333,
              "#9c179e"
             ],
             [
              0.4444444444444444,
              "#bd3786"
             ],
             [
              0.5555555555555556,
              "#d8576b"
             ],
             [
              0.6666666666666666,
              "#ed7953"
             ],
             [
              0.7777777777777778,
              "#fb9f3a"
             ],
             [
              0.8888888888888888,
              "#fdca26"
             ],
             [
              1,
              "#f0f921"
             ]
            ],
            "type": "heatmap"
           }
          ],
          "heatmapgl": [
           {
            "colorbar": {
             "outlinewidth": 0,
             "ticks": ""
            },
            "colorscale": [
             [
              0,
              "#0d0887"
             ],
             [
              0.1111111111111111,
              "#46039f"
             ],
             [
              0.2222222222222222,
              "#7201a8"
             ],
             [
              0.3333333333333333,
              "#9c179e"
             ],
             [
              0.4444444444444444,
              "#bd3786"
             ],
             [
              0.5555555555555556,
              "#d8576b"
             ],
             [
              0.6666666666666666,
              "#ed7953"
             ],
             [
              0.7777777777777778,
              "#fb9f3a"
             ],
             [
              0.8888888888888888,
              "#fdca26"
             ],
             [
              1,
              "#f0f921"
             ]
            ],
            "type": "heatmapgl"
           }
          ],
          "histogram": [
           {
            "marker": {
             "pattern": {
              "fillmode": "overlay",
              "size": 10,
              "solidity": 0.2
             }
            },
            "type": "histogram"
           }
          ],
          "histogram2d": [
           {
            "colorbar": {
             "outlinewidth": 0,
             "ticks": ""
            },
            "colorscale": [
             [
              0,
              "#0d0887"
             ],
             [
              0.1111111111111111,
              "#46039f"
             ],
             [
              0.2222222222222222,
              "#7201a8"
             ],
             [
              0.3333333333333333,
              "#9c179e"
             ],
             [
              0.4444444444444444,
              "#bd3786"
             ],
             [
              0.5555555555555556,
              "#d8576b"
             ],
             [
              0.6666666666666666,
              "#ed7953"
             ],
             [
              0.7777777777777778,
              "#fb9f3a"
             ],
             [
              0.8888888888888888,
              "#fdca26"
             ],
             [
              1,
              "#f0f921"
             ]
            ],
            "type": "histogram2d"
           }
          ],
          "histogram2dcontour": [
           {
            "colorbar": {
             "outlinewidth": 0,
             "ticks": ""
            },
            "colorscale": [
             [
              0,
              "#0d0887"
             ],
             [
              0.1111111111111111,
              "#46039f"
             ],
             [
              0.2222222222222222,
              "#7201a8"
             ],
             [
              0.3333333333333333,
              "#9c179e"
             ],
             [
              0.4444444444444444,
              "#bd3786"
             ],
             [
              0.5555555555555556,
              "#d8576b"
             ],
             [
              0.6666666666666666,
              "#ed7953"
             ],
             [
              0.7777777777777778,
              "#fb9f3a"
             ],
             [
              0.8888888888888888,
              "#fdca26"
             ],
             [
              1,
              "#f0f921"
             ]
            ],
            "type": "histogram2dcontour"
           }
          ],
          "mesh3d": [
           {
            "colorbar": {
             "outlinewidth": 0,
             "ticks": ""
            },
            "type": "mesh3d"
           }
          ],
          "parcoords": [
           {
            "line": {
             "colorbar": {
              "outlinewidth": 0,
              "ticks": ""
             }
            },
            "type": "parcoords"
           }
          ],
          "pie": [
           {
            "automargin": true,
            "type": "pie"
           }
          ],
          "scatter": [
           {
            "marker": {
             "colorbar": {
              "outlinewidth": 0,
              "ticks": ""
             }
            },
            "type": "scatter"
           }
          ],
          "scatter3d": [
           {
            "line": {
             "colorbar": {
              "outlinewidth": 0,
              "ticks": ""
             }
            },
            "marker": {
             "colorbar": {
              "outlinewidth": 0,
              "ticks": ""
             }
            },
            "type": "scatter3d"
           }
          ],
          "scattercarpet": [
           {
            "marker": {
             "colorbar": {
              "outlinewidth": 0,
              "ticks": ""
             }
            },
            "type": "scattercarpet"
           }
          ],
          "scattergeo": [
           {
            "marker": {
             "colorbar": {
              "outlinewidth": 0,
              "ticks": ""
             }
            },
            "type": "scattergeo"
           }
          ],
          "scattergl": [
           {
            "marker": {
             "colorbar": {
              "outlinewidth": 0,
              "ticks": ""
             }
            },
            "type": "scattergl"
           }
          ],
          "scattermapbox": [
           {
            "marker": {
             "colorbar": {
              "outlinewidth": 0,
              "ticks": ""
             }
            },
            "type": "scattermapbox"
           }
          ],
          "scatterpolar": [
           {
            "marker": {
             "colorbar": {
              "outlinewidth": 0,
              "ticks": ""
             }
            },
            "type": "scatterpolar"
           }
          ],
          "scatterpolargl": [
           {
            "marker": {
             "colorbar": {
              "outlinewidth": 0,
              "ticks": ""
             }
            },
            "type": "scatterpolargl"
           }
          ],
          "scatterternary": [
           {
            "marker": {
             "colorbar": {
              "outlinewidth": 0,
              "ticks": ""
             }
            },
            "type": "scatterternary"
           }
          ],
          "surface": [
           {
            "colorbar": {
             "outlinewidth": 0,
             "ticks": ""
            },
            "colorscale": [
             [
              0,
              "#0d0887"
             ],
             [
              0.1111111111111111,
              "#46039f"
             ],
             [
              0.2222222222222222,
              "#7201a8"
             ],
             [
              0.3333333333333333,
              "#9c179e"
             ],
             [
              0.4444444444444444,
              "#bd3786"
             ],
             [
              0.5555555555555556,
              "#d8576b"
             ],
             [
              0.6666666666666666,
              "#ed7953"
             ],
             [
              0.7777777777777778,
              "#fb9f3a"
             ],
             [
              0.8888888888888888,
              "#fdca26"
             ],
             [
              1,
              "#f0f921"
             ]
            ],
            "type": "surface"
           }
          ],
          "table": [
           {
            "cells": {
             "fill": {
              "color": "#EBF0F8"
             },
             "line": {
              "color": "white"
             }
            },
            "header": {
             "fill": {
              "color": "#C8D4E3"
             },
             "line": {
              "color": "white"
             }
            },
            "type": "table"
           }
          ]
         },
         "layout": {
          "annotationdefaults": {
           "arrowcolor": "#2a3f5f",
           "arrowhead": 0,
           "arrowwidth": 1
          },
          "autotypenumbers": "strict",
          "coloraxis": {
           "colorbar": {
            "outlinewidth": 0,
            "ticks": ""
           }
          },
          "colorscale": {
           "diverging": [
            [
             0,
             "#8e0152"
            ],
            [
             0.1,
             "#c51b7d"
            ],
            [
             0.2,
             "#de77ae"
            ],
            [
             0.3,
             "#f1b6da"
            ],
            [
             0.4,
             "#fde0ef"
            ],
            [
             0.5,
             "#f7f7f7"
            ],
            [
             0.6,
             "#e6f5d0"
            ],
            [
             0.7,
             "#b8e186"
            ],
            [
             0.8,
             "#7fbc41"
            ],
            [
             0.9,
             "#4d9221"
            ],
            [
             1,
             "#276419"
            ]
           ],
           "sequential": [
            [
             0,
             "#0d0887"
            ],
            [
             0.1111111111111111,
             "#46039f"
            ],
            [
             0.2222222222222222,
             "#7201a8"
            ],
            [
             0.3333333333333333,
             "#9c179e"
            ],
            [
             0.4444444444444444,
             "#bd3786"
            ],
            [
             0.5555555555555556,
             "#d8576b"
            ],
            [
             0.6666666666666666,
             "#ed7953"
            ],
            [
             0.7777777777777778,
             "#fb9f3a"
            ],
            [
             0.8888888888888888,
             "#fdca26"
            ],
            [
             1,
             "#f0f921"
            ]
           ],
           "sequentialminus": [
            [
             0,
             "#0d0887"
            ],
            [
             0.1111111111111111,
             "#46039f"
            ],
            [
             0.2222222222222222,
             "#7201a8"
            ],
            [
             0.3333333333333333,
             "#9c179e"
            ],
            [
             0.4444444444444444,
             "#bd3786"
            ],
            [
             0.5555555555555556,
             "#d8576b"
            ],
            [
             0.6666666666666666,
             "#ed7953"
            ],
            [
             0.7777777777777778,
             "#fb9f3a"
            ],
            [
             0.8888888888888888,
             "#fdca26"
            ],
            [
             1,
             "#f0f921"
            ]
           ]
          },
          "colorway": [
           "#636efa",
           "#EF553B",
           "#00cc96",
           "#ab63fa",
           "#FFA15A",
           "#19d3f3",
           "#FF6692",
           "#B6E880",
           "#FF97FF",
           "#FECB52"
          ],
          "font": {
           "color": "#2a3f5f"
          },
          "geo": {
           "bgcolor": "white",
           "lakecolor": "white",
           "landcolor": "#E5ECF6",
           "showlakes": true,
           "showland": true,
           "subunitcolor": "white"
          },
          "hoverlabel": {
           "align": "left"
          },
          "hovermode": "closest",
          "mapbox": {
           "style": "light"
          },
          "paper_bgcolor": "white",
          "plot_bgcolor": "#E5ECF6",
          "polar": {
           "angularaxis": {
            "gridcolor": "white",
            "linecolor": "white",
            "ticks": ""
           },
           "bgcolor": "#E5ECF6",
           "radialaxis": {
            "gridcolor": "white",
            "linecolor": "white",
            "ticks": ""
           }
          },
          "scene": {
           "xaxis": {
            "backgroundcolor": "#E5ECF6",
            "gridcolor": "white",
            "gridwidth": 2,
            "linecolor": "white",
            "showbackground": true,
            "ticks": "",
            "zerolinecolor": "white"
           },
           "yaxis": {
            "backgroundcolor": "#E5ECF6",
            "gridcolor": "white",
            "gridwidth": 2,
            "linecolor": "white",
            "showbackground": true,
            "ticks": "",
            "zerolinecolor": "white"
           },
           "zaxis": {
            "backgroundcolor": "#E5ECF6",
            "gridcolor": "white",
            "gridwidth": 2,
            "linecolor": "white",
            "showbackground": true,
            "ticks": "",
            "zerolinecolor": "white"
           }
          },
          "shapedefaults": {
           "line": {
            "color": "#2a3f5f"
           }
          },
          "ternary": {
           "aaxis": {
            "gridcolor": "white",
            "linecolor": "white",
            "ticks": ""
           },
           "baxis": {
            "gridcolor": "white",
            "linecolor": "white",
            "ticks": ""
           },
           "bgcolor": "#E5ECF6",
           "caxis": {
            "gridcolor": "white",
            "linecolor": "white",
            "ticks": ""
           }
          },
          "title": {
           "x": 0.05
          },
          "xaxis": {
           "automargin": true,
           "gridcolor": "white",
           "linecolor": "white",
           "ticks": "",
           "title": {
            "standoff": 15
           },
           "zerolinecolor": "white",
           "zerolinewidth": 2
          },
          "yaxis": {
           "automargin": true,
           "gridcolor": "white",
           "linecolor": "white",
           "ticks": "",
           "title": {
            "standoff": 15
           },
           "zerolinecolor": "white",
           "zerolinewidth": 2
          }
         }
        },
        "title": {
         "font": {
          "color": "#4D5663"
         },
         "text": "Биграмма общая"
        },
        "xaxis": {
         "gridcolor": "#E1E5ED",
         "showgrid": true,
         "tickfont": {
          "color": "#4D5663"
         },
         "title": {
          "font": {
           "color": "#4D5663"
          },
          "text": "Биграмма"
         },
         "zerolinecolor": "#E1E5ED"
        },
        "yaxis": {
         "gridcolor": "#E1E5ED",
         "showgrid": true,
         "tickfont": {
          "color": "#4D5663"
         },
         "title": {
          "font": {
           "color": "#4D5663"
          },
          "text": "Количество"
         },
         "zerolinecolor": "#E1E5ED"
        }
       }
      },
      "text/html": [
       "<div>                            <div id=\"59c5319b-31d4-44c2-87c7-8127b5495ded\" class=\"plotly-graph-div\" style=\"height:525px; width:100%;\"></div>            <script type=\"text/javascript\">                require([\"plotly\"], function(Plotly) {                    window.PLOTLYENV=window.PLOTLYENV || {};\n",
       "                    window.PLOTLYENV.BASE_URL='https://plot.ly';                                    if (document.getElementById(\"59c5319b-31d4-44c2-87c7-8127b5495ded\")) {                    Plotly.newPlot(                        \"59c5319b-31d4-44c2-87c7-8127b5495ded\",                        [{\"marker\":{\"color\":\"rgba(255, 153, 51, 0.6)\",\"line\":{\"color\":\"rgba(255, 153, 51, 1.0)\",\"width\":1}},\"name\":\"Frequency\",\"orientation\":\"v\",\"text\":\"\",\"type\":\"bar\",\"x\":[\"\\u0434\\u043e\\u0431\\u0440\\u044b\\u0439 \\u0434\\u0435\\u043d\\u044c\",\"\\u043f\\u043e\\u0434\\u0441\\u043a\\u0430\\u0437\\u0430\\u0442\\u044c \\u043f\\u043e\\u0436\\u0430\\u043b\\u0443\\u0439\\u0441\\u0442\\u0430\",\"\\u0435\\u0432\\u0433\\u0435\\u043d\\u0438\\u0439 \\u0430\\u043b\\u044c\\u0431\\u0435\\u0440\\u0442\\u043e\\u0432\\u0438\\u0447\",\"\\u0437\\u0430\\u0440\\u0430\\u043d\\u0435\\u0435 \\u0441\\u043f\\u0430\\u0441\\u0438\\u0431\\u043e\",\"\\u043c\\u043e\\u0436\\u043d\\u043e \\u043b\\u0438\",\"\\u0433\\u043e\\u0434 \\u043d\\u0430\\u0437\\u0430\\u0434\",\"\\u043f\\u043e\\u0441\\u0442\\u0430\\u0432\\u0438\\u0442\\u044c \\u0434\\u0438\\u0430\\u0433\\u043d\\u043e\\u0437\",\"\\u0437\\u0434\\u0440\\u0430\\u0432\\u0441\\u0442\\u0432\\u043e\\u0432\\u0430\\u0442\\u044c \\u0435\\u0432\\u0433\\u0435\\u043d\\u0438\\u0439\",\"\\u0441\\u043a\\u0430\\u0437\\u0430\\u0442\\u044c \\u043f\\u043e\\u0436\\u0430\\u043b\\u0443\\u0439\\u0441\\u0442\\u0430\",\"\\u0432\\u043e\\u0437\\u043c\\u043e\\u0436\\u043d\\u044b\\u0439 \\u043b\\u0438\",\"\\u043f\\u043e\\u043f\\u0430\\u0441\\u0442\\u044c \\u043f\\u0440\\u0438\\u0451\\u043c\",\"\\u0441\\u043f\\u0430\\u0441\\u0438\\u0431\\u043e \\u043e\\u0442\\u0432\\u0435\\u0442\",\"\\u0432\\u0440\\u0430\\u0447 \\u0441\\u043a\\u0430\\u0437\\u0430\\u0442\\u044c\",\"\\u043d\\u0443\\u0436\\u043d\\u044b\\u0439 \\u043b\\u0438\",\"\\u0440\\u0435\\u0431\\u0451\\u043d\\u043e\\u043a \\u0433\\u043e\\u0434\",\"\\u0441\\u0434\\u0435\\u043b\\u0430\\u0442\\u044c \\u043e\\u043f\\u0435\\u0440\\u0430\\u0446\\u0438\\u044f\",\"\\u0432\\u0430\\u0448 \\u043e\\u0442\\u0432\\u0435\\u0442\",\"\\u0434\\u0435\\u043b\\u0430\\u0442\\u044c \\u043e\\u043f\\u0435\\u0440\\u0430\\u0446\\u0438\\u044f\",\"\\u043f\\u043e\\u0441\\u043b\\u0435 \\u043e\\u043f\\u0435\\u0440\\u0430\\u0446\\u0438\\u044f\",\"\\u0441\\u044b\\u043d \\u0433\\u043e\\u0434\"],\"y\":[330,207,192,143,132,120,113,105,101,86,79,69,64,57,56,53,52,51,48,47]}],                        {\"legend\":{\"bgcolor\":\"#F5F6F9\",\"font\":{\"color\":\"#4D5663\"}},\"paper_bgcolor\":\"#F5F6F9\",\"plot_bgcolor\":\"#F5F6F9\",\"template\":{\"data\":{\"bar\":[{\"error_x\":{\"color\":\"#2a3f5f\"},\"error_y\":{\"color\":\"#2a3f5f\"},\"marker\":{\"line\":{\"color\":\"#E5ECF6\",\"width\":0.5},\"pattern\":{\"fillmode\":\"overlay\",\"size\":10,\"solidity\":0.2}},\"type\":\"bar\"}],\"barpolar\":[{\"marker\":{\"line\":{\"color\":\"#E5ECF6\",\"width\":0.5},\"pattern\":{\"fillmode\":\"overlay\",\"size\":10,\"solidity\":0.2}},\"type\":\"barpolar\"}],\"carpet\":[{\"aaxis\":{\"endlinecolor\":\"#2a3f5f\",\"gridcolor\":\"white\",\"linecolor\":\"white\",\"minorgridcolor\":\"white\",\"startlinecolor\":\"#2a3f5f\"},\"baxis\":{\"endlinecolor\":\"#2a3f5f\",\"gridcolor\":\"white\",\"linecolor\":\"white\",\"minorgridcolor\":\"white\",\"startlinecolor\":\"#2a3f5f\"},\"type\":\"carpet\"}],\"choropleth\":[{\"colorbar\":{\"outlinewidth\":0,\"ticks\":\"\"},\"type\":\"choropleth\"}],\"contour\":[{\"colorbar\":{\"outlinewidth\":0,\"ticks\":\"\"},\"colorscale\":[[0.0,\"#0d0887\"],[0.1111111111111111,\"#46039f\"],[0.2222222222222222,\"#7201a8\"],[0.3333333333333333,\"#9c179e\"],[0.4444444444444444,\"#bd3786\"],[0.5555555555555556,\"#d8576b\"],[0.6666666666666666,\"#ed7953\"],[0.7777777777777778,\"#fb9f3a\"],[0.8888888888888888,\"#fdca26\"],[1.0,\"#f0f921\"]],\"type\":\"contour\"}],\"contourcarpet\":[{\"colorbar\":{\"outlinewidth\":0,\"ticks\":\"\"},\"type\":\"contourcarpet\"}],\"heatmap\":[{\"colorbar\":{\"outlinewidth\":0,\"ticks\":\"\"},\"colorscale\":[[0.0,\"#0d0887\"],[0.1111111111111111,\"#46039f\"],[0.2222222222222222,\"#7201a8\"],[0.3333333333333333,\"#9c179e\"],[0.4444444444444444,\"#bd3786\"],[0.5555555555555556,\"#d8576b\"],[0.6666666666666666,\"#ed7953\"],[0.7777777777777778,\"#fb9f3a\"],[0.8888888888888888,\"#fdca26\"],[1.0,\"#f0f921\"]],\"type\":\"heatmap\"}],\"heatmapgl\":[{\"colorbar\":{\"outlinewidth\":0,\"ticks\":\"\"},\"colorscale\":[[0.0,\"#0d0887\"],[0.1111111111111111,\"#46039f\"],[0.2222222222222222,\"#7201a8\"],[0.3333333333333333,\"#9c179e\"],[0.4444444444444444,\"#bd3786\"],[0.5555555555555556,\"#d8576b\"],[0.6666666666666666,\"#ed7953\"],[0.7777777777777778,\"#fb9f3a\"],[0.8888888888888888,\"#fdca26\"],[1.0,\"#f0f921\"]],\"type\":\"heatmapgl\"}],\"histogram\":[{\"marker\":{\"pattern\":{\"fillmode\":\"overlay\",\"size\":10,\"solidity\":0.2}},\"type\":\"histogram\"}],\"histogram2d\":[{\"colorbar\":{\"outlinewidth\":0,\"ticks\":\"\"},\"colorscale\":[[0.0,\"#0d0887\"],[0.1111111111111111,\"#46039f\"],[0.2222222222222222,\"#7201a8\"],[0.3333333333333333,\"#9c179e\"],[0.4444444444444444,\"#bd3786\"],[0.5555555555555556,\"#d8576b\"],[0.6666666666666666,\"#ed7953\"],[0.7777777777777778,\"#fb9f3a\"],[0.8888888888888888,\"#fdca26\"],[1.0,\"#f0f921\"]],\"type\":\"histogram2d\"}],\"histogram2dcontour\":[{\"colorbar\":{\"outlinewidth\":0,\"ticks\":\"\"},\"colorscale\":[[0.0,\"#0d0887\"],[0.1111111111111111,\"#46039f\"],[0.2222222222222222,\"#7201a8\"],[0.3333333333333333,\"#9c179e\"],[0.4444444444444444,\"#bd3786\"],[0.5555555555555556,\"#d8576b\"],[0.6666666666666666,\"#ed7953\"],[0.7777777777777778,\"#fb9f3a\"],[0.8888888888888888,\"#fdca26\"],[1.0,\"#f0f921\"]],\"type\":\"histogram2dcontour\"}],\"mesh3d\":[{\"colorbar\":{\"outlinewidth\":0,\"ticks\":\"\"},\"type\":\"mesh3d\"}],\"parcoords\":[{\"line\":{\"colorbar\":{\"outlinewidth\":0,\"ticks\":\"\"}},\"type\":\"parcoords\"}],\"pie\":[{\"automargin\":true,\"type\":\"pie\"}],\"scatter\":[{\"marker\":{\"colorbar\":{\"outlinewidth\":0,\"ticks\":\"\"}},\"type\":\"scatter\"}],\"scatter3d\":[{\"line\":{\"colorbar\":{\"outlinewidth\":0,\"ticks\":\"\"}},\"marker\":{\"colorbar\":{\"outlinewidth\":0,\"ticks\":\"\"}},\"type\":\"scatter3d\"}],\"scattercarpet\":[{\"marker\":{\"colorbar\":{\"outlinewidth\":0,\"ticks\":\"\"}},\"type\":\"scattercarpet\"}],\"scattergeo\":[{\"marker\":{\"colorbar\":{\"outlinewidth\":0,\"ticks\":\"\"}},\"type\":\"scattergeo\"}],\"scattergl\":[{\"marker\":{\"colorbar\":{\"outlinewidth\":0,\"ticks\":\"\"}},\"type\":\"scattergl\"}],\"scattermapbox\":[{\"marker\":{\"colorbar\":{\"outlinewidth\":0,\"ticks\":\"\"}},\"type\":\"scattermapbox\"}],\"scatterpolar\":[{\"marker\":{\"colorbar\":{\"outlinewidth\":0,\"ticks\":\"\"}},\"type\":\"scatterpolar\"}],\"scatterpolargl\":[{\"marker\":{\"colorbar\":{\"outlinewidth\":0,\"ticks\":\"\"}},\"type\":\"scatterpolargl\"}],\"scatterternary\":[{\"marker\":{\"colorbar\":{\"outlinewidth\":0,\"ticks\":\"\"}},\"type\":\"scatterternary\"}],\"surface\":[{\"colorbar\":{\"outlinewidth\":0,\"ticks\":\"\"},\"colorscale\":[[0.0,\"#0d0887\"],[0.1111111111111111,\"#46039f\"],[0.2222222222222222,\"#7201a8\"],[0.3333333333333333,\"#9c179e\"],[0.4444444444444444,\"#bd3786\"],[0.5555555555555556,\"#d8576b\"],[0.6666666666666666,\"#ed7953\"],[0.7777777777777778,\"#fb9f3a\"],[0.8888888888888888,\"#fdca26\"],[1.0,\"#f0f921\"]],\"type\":\"surface\"}],\"table\":[{\"cells\":{\"fill\":{\"color\":\"#EBF0F8\"},\"line\":{\"color\":\"white\"}},\"header\":{\"fill\":{\"color\":\"#C8D4E3\"},\"line\":{\"color\":\"white\"}},\"type\":\"table\"}]},\"layout\":{\"annotationdefaults\":{\"arrowcolor\":\"#2a3f5f\",\"arrowhead\":0,\"arrowwidth\":1},\"autotypenumbers\":\"strict\",\"coloraxis\":{\"colorbar\":{\"outlinewidth\":0,\"ticks\":\"\"}},\"colorscale\":{\"diverging\":[[0,\"#8e0152\"],[0.1,\"#c51b7d\"],[0.2,\"#de77ae\"],[0.3,\"#f1b6da\"],[0.4,\"#fde0ef\"],[0.5,\"#f7f7f7\"],[0.6,\"#e6f5d0\"],[0.7,\"#b8e186\"],[0.8,\"#7fbc41\"],[0.9,\"#4d9221\"],[1,\"#276419\"]],\"sequential\":[[0.0,\"#0d0887\"],[0.1111111111111111,\"#46039f\"],[0.2222222222222222,\"#7201a8\"],[0.3333333333333333,\"#9c179e\"],[0.4444444444444444,\"#bd3786\"],[0.5555555555555556,\"#d8576b\"],[0.6666666666666666,\"#ed7953\"],[0.7777777777777778,\"#fb9f3a\"],[0.8888888888888888,\"#fdca26\"],[1.0,\"#f0f921\"]],\"sequentialminus\":[[0.0,\"#0d0887\"],[0.1111111111111111,\"#46039f\"],[0.2222222222222222,\"#7201a8\"],[0.3333333333333333,\"#9c179e\"],[0.4444444444444444,\"#bd3786\"],[0.5555555555555556,\"#d8576b\"],[0.6666666666666666,\"#ed7953\"],[0.7777777777777778,\"#fb9f3a\"],[0.8888888888888888,\"#fdca26\"],[1.0,\"#f0f921\"]]},\"colorway\":[\"#636efa\",\"#EF553B\",\"#00cc96\",\"#ab63fa\",\"#FFA15A\",\"#19d3f3\",\"#FF6692\",\"#B6E880\",\"#FF97FF\",\"#FECB52\"],\"font\":{\"color\":\"#2a3f5f\"},\"geo\":{\"bgcolor\":\"white\",\"lakecolor\":\"white\",\"landcolor\":\"#E5ECF6\",\"showlakes\":true,\"showland\":true,\"subunitcolor\":\"white\"},\"hoverlabel\":{\"align\":\"left\"},\"hovermode\":\"closest\",\"mapbox\":{\"style\":\"light\"},\"paper_bgcolor\":\"white\",\"plot_bgcolor\":\"#E5ECF6\",\"polar\":{\"angularaxis\":{\"gridcolor\":\"white\",\"linecolor\":\"white\",\"ticks\":\"\"},\"bgcolor\":\"#E5ECF6\",\"radialaxis\":{\"gridcolor\":\"white\",\"linecolor\":\"white\",\"ticks\":\"\"}},\"scene\":{\"xaxis\":{\"backgroundcolor\":\"#E5ECF6\",\"gridcolor\":\"white\",\"gridwidth\":2,\"linecolor\":\"white\",\"showbackground\":true,\"ticks\":\"\",\"zerolinecolor\":\"white\"},\"yaxis\":{\"backgroundcolor\":\"#E5ECF6\",\"gridcolor\":\"white\",\"gridwidth\":2,\"linecolor\":\"white\",\"showbackground\":true,\"ticks\":\"\",\"zerolinecolor\":\"white\"},\"zaxis\":{\"backgroundcolor\":\"#E5ECF6\",\"gridcolor\":\"white\",\"gridwidth\":2,\"linecolor\":\"white\",\"showbackground\":true,\"ticks\":\"\",\"zerolinecolor\":\"white\"}},\"shapedefaults\":{\"line\":{\"color\":\"#2a3f5f\"}},\"ternary\":{\"aaxis\":{\"gridcolor\":\"white\",\"linecolor\":\"white\",\"ticks\":\"\"},\"baxis\":{\"gridcolor\":\"white\",\"linecolor\":\"white\",\"ticks\":\"\"},\"bgcolor\":\"#E5ECF6\",\"caxis\":{\"gridcolor\":\"white\",\"linecolor\":\"white\",\"ticks\":\"\"}},\"title\":{\"x\":0.05},\"xaxis\":{\"automargin\":true,\"gridcolor\":\"white\",\"linecolor\":\"white\",\"ticks\":\"\",\"title\":{\"standoff\":15},\"zerolinecolor\":\"white\",\"zerolinewidth\":2},\"yaxis\":{\"automargin\":true,\"gridcolor\":\"white\",\"linecolor\":\"white\",\"ticks\":\"\",\"title\":{\"standoff\":15},\"zerolinecolor\":\"white\",\"zerolinewidth\":2}}},\"title\":{\"font\":{\"color\":\"#4D5663\"},\"text\":\"\\u0411\\u0438\\u0433\\u0440\\u0430\\u043c\\u043c\\u0430 \\u043e\\u0431\\u0449\\u0430\\u044f\"},\"xaxis\":{\"gridcolor\":\"#E1E5ED\",\"showgrid\":true,\"tickfont\":{\"color\":\"#4D5663\"},\"title\":{\"font\":{\"color\":\"#4D5663\"},\"text\":\"\\u0411\\u0438\\u0433\\u0440\\u0430\\u043c\\u043c\\u0430\"},\"zerolinecolor\":\"#E1E5ED\"},\"yaxis\":{\"gridcolor\":\"#E1E5ED\",\"showgrid\":true,\"tickfont\":{\"color\":\"#4D5663\"},\"title\":{\"font\":{\"color\":\"#4D5663\"},\"text\":\"\\u041a\\u043e\\u043b\\u0438\\u0447\\u0435\\u0441\\u0442\\u0432\\u043e\"},\"zerolinecolor\":\"#E1E5ED\"}},                        {\"showLink\": true, \"linkText\": \"Export to plot.ly\", \"plotlyServerURL\": \"https://plot.ly\", \"responsive\": true}                    ).then(function(){\n",
       "                            \n",
       "var gd = document.getElementById('59c5319b-31d4-44c2-87c7-8127b5495ded');\n",
       "var x = new MutationObserver(function (mutations, observer) {{\n",
       "        var display = window.getComputedStyle(gd).display;\n",
       "        if (!display || display === 'none') {{\n",
       "            console.log([gd, 'removed!']);\n",
       "            Plotly.purge(gd);\n",
       "            observer.disconnect();\n",
       "        }}\n",
       "}});\n",
       "\n",
       "// Listen for the removal of the full notebook cells\n",
       "var notebookContainer = gd.closest('#notebook-container');\n",
       "if (notebookContainer) {{\n",
       "    x.observe(notebookContainer, {childList: true});\n",
       "}}\n",
       "\n",
       "// Listen for the clearing of the current output cell\n",
       "var outputEl = gd.closest('.output');\n",
       "if (outputEl) {{\n",
       "    x.observe(outputEl, {childList: true});\n",
       "}}\n",
       "\n",
       "                        })                };                });            </script>        </div>"
      ]
     },
     "metadata": {},
     "output_type": "display_data"
    }
   ],
   "source": [
    "ustal = pd.DataFrame(words, columns = ['Bigram', 'Frequency'])\n",
    "ustal = ustal.set_index('Bigram')\n",
    "ustal.iplot(kind='bar', xTitle='Биграмма', yTitle='Количество', title='Биграмма общая')"
   ]
  },
  {
   "cell_type": "code",
   "execution_count": 39,
   "id": "5423ad34",
   "metadata": {},
   "outputs": [
    {
     "data": {
      "text/html": [
       "<div>\n",
       "<style scoped>\n",
       "    .dataframe tbody tr th:only-of-type {\n",
       "        vertical-align: middle;\n",
       "    }\n",
       "\n",
       "    .dataframe tbody tr th {\n",
       "        vertical-align: top;\n",
       "    }\n",
       "\n",
       "    .dataframe thead th {\n",
       "        text-align: right;\n",
       "    }\n",
       "</style>\n",
       "<table border=\"1\" class=\"dataframe\">\n",
       "  <thead>\n",
       "    <tr style=\"text-align: right;\">\n",
       "      <th></th>\n",
       "      <th>txt</th>\n",
       "      <th>gender</th>\n",
       "      <th>create_date</th>\n",
       "      <th>cleaned</th>\n",
       "      <th>lemmatized</th>\n",
       "      <th>review_len</th>\n",
       "      <th>w_count</th>\n",
       "      <th>middle_words</th>\n",
       "    </tr>\n",
       "  </thead>\n",
       "  <tbody>\n",
       "    <tr>\n",
       "      <th>16</th>\n",
       "      <td>Евгений Альбертович, здравствуйте! У меня одно...</td>\n",
       "      <td>male</td>\n",
       "      <td>2021-01-31</td>\n",
       "      <td>евгений альбертович здравствуйте у меня одност...</td>\n",
       "      <td>евгений альбертович здравствовать односторонни...</td>\n",
       "      <td>389</td>\n",
       "      <td>45</td>\n",
       "      <td>7.666667</td>\n",
       "    </tr>\n",
       "    <tr>\n",
       "      <th>31</th>\n",
       "      <td>Евгений Альбертович! после операции по удалени...</td>\n",
       "      <td>male</td>\n",
       "      <td>2020-11-16</td>\n",
       "      <td>евгений альбертович после операции по удалению...</td>\n",
       "      <td>евгений альбертович после операция удаление ха...</td>\n",
       "      <td>329</td>\n",
       "      <td>37</td>\n",
       "      <td>7.918919</td>\n",
       "    </tr>\n",
       "    <tr>\n",
       "      <th>41</th>\n",
       "      <td>Здравствуйте, хочу записаться к вам на прием ,...</td>\n",
       "      <td>male</td>\n",
       "      <td>2020-10-05</td>\n",
       "      <td>здравствуйте хочу записаться к вам на прием ко...</td>\n",
       "      <td>здравствовать хотеть записаться приём консульт...</td>\n",
       "      <td>131</td>\n",
       "      <td>14</td>\n",
       "      <td>8.428571</td>\n",
       "    </tr>\n",
       "    <tr>\n",
       "      <th>58</th>\n",
       "      <td>Здравствуйте, Виктор Григорьевич!\\r\\nСпасибо В...</td>\n",
       "      <td>male</td>\n",
       "      <td>2020-03-29</td>\n",
       "      <td>здравствуйте виктор григорьевич  спасибо вам б...</td>\n",
       "      <td>здравствовать виктор григорьевич   спасибо бол...</td>\n",
       "      <td>814</td>\n",
       "      <td>97</td>\n",
       "      <td>7.298969</td>\n",
       "    </tr>\n",
       "    <tr>\n",
       "      <th>67</th>\n",
       "      <td>Виктор Г ригорьевич добрый день. болею с конца...</td>\n",
       "      <td>male</td>\n",
       "      <td>2015-10-14</td>\n",
       "      <td>виктор г ригорьевич добрый день болею с конца ...</td>\n",
       "      <td>виктор г ригорьевич добрый день болеть конец а...</td>\n",
       "      <td>212</td>\n",
       "      <td>26</td>\n",
       "      <td>7.192308</td>\n",
       "    </tr>\n",
       "    <tr>\n",
       "      <th>...</th>\n",
       "      <td>...</td>\n",
       "      <td>...</td>\n",
       "      <td>...</td>\n",
       "      <td>...</td>\n",
       "      <td>...</td>\n",
       "      <td>...</td>\n",
       "      <td>...</td>\n",
       "      <td>...</td>\n",
       "    </tr>\n",
       "    <tr>\n",
       "      <th>6738</th>\n",
       "      <td>Добрый день, Евгений Альбертович.\\r\\nЯ был у В...</td>\n",
       "      <td>male</td>\n",
       "      <td>2012-12-16</td>\n",
       "      <td>добрый день евгений альбертович  я был у вас н...</td>\n",
       "      <td>добрый день евгений альбертович   консультация...</td>\n",
       "      <td>1239</td>\n",
       "      <td>153</td>\n",
       "      <td>7.065359</td>\n",
       "    </tr>\n",
       "    <tr>\n",
       "      <th>6761</th>\n",
       "      <td>у меня была травма носа с 3 лет-искривление пе...</td>\n",
       "      <td>male</td>\n",
       "      <td>2012-11-02</td>\n",
       "      <td>у меня была травма носа с летискривление перег...</td>\n",
       "      <td>травма нос летискривление перегородкидва год н...</td>\n",
       "      <td>233</td>\n",
       "      <td>28</td>\n",
       "      <td>7.357143</td>\n",
       "    </tr>\n",
       "    <tr>\n",
       "      <th>6849</th>\n",
       "      <td>Здравствуйте,в последнее время мне стало трудн...</td>\n",
       "      <td>male</td>\n",
       "      <td>2012-04-11</td>\n",
       "      <td>здравствуйтев последнее время мне стало трудно...</td>\n",
       "      <td>здравствуйтев последний время стать трудный ды...</td>\n",
       "      <td>135</td>\n",
       "      <td>16</td>\n",
       "      <td>7.500000</td>\n",
       "    </tr>\n",
       "    <tr>\n",
       "      <th>6856</th>\n",
       "      <td>здравствуйте! беспокою вас с сахалина, пореком...</td>\n",
       "      <td>male</td>\n",
       "      <td>2012-04-02</td>\n",
       "      <td>здравствуйте беспокою вас с сахалина порекомен...</td>\n",
       "      <td>здравствовать беспокою сахалин порекомендовать...</td>\n",
       "      <td>266</td>\n",
       "      <td>30</td>\n",
       "      <td>7.900000</td>\n",
       "    </tr>\n",
       "    <tr>\n",
       "      <th>6875</th>\n",
       "      <td>В какую больницу лучше обратиться для исправле...</td>\n",
       "      <td>male</td>\n",
       "      <td>2012-03-15</td>\n",
       "      <td>в какую больницу лучше обратиться для исправле...</td>\n",
       "      <td>какой больница хороший обратиться исправление ...</td>\n",
       "      <td>65</td>\n",
       "      <td>7</td>\n",
       "      <td>8.428571</td>\n",
       "    </tr>\n",
       "  </tbody>\n",
       "</table>\n",
       "<p>509 rows × 8 columns</p>\n",
       "</div>"
      ],
      "text/plain": [
       "                                                    txt gender create_date  \\\n",
       "16    Евгений Альбертович, здравствуйте! У меня одно...   male  2021-01-31   \n",
       "31    Евгений Альбертович! после операции по удалени...   male  2020-11-16   \n",
       "41    Здравствуйте, хочу записаться к вам на прием ,...   male  2020-10-05   \n",
       "58    Здравствуйте, Виктор Григорьевич!\\r\\nСпасибо В...   male  2020-03-29   \n",
       "67    Виктор Г ригорьевич добрый день. болею с конца...   male  2015-10-14   \n",
       "...                                                 ...    ...         ...   \n",
       "6738  Добрый день, Евгений Альбертович.\\r\\nЯ был у В...   male  2012-12-16   \n",
       "6761  у меня была травма носа с 3 лет-искривление пе...   male  2012-11-02   \n",
       "6849  Здравствуйте,в последнее время мне стало трудн...   male  2012-04-11   \n",
       "6856  здравствуйте! беспокою вас с сахалина, пореком...   male  2012-04-02   \n",
       "6875  В какую больницу лучше обратиться для исправле...   male  2012-03-15   \n",
       "\n",
       "                                                cleaned  \\\n",
       "16    евгений альбертович здравствуйте у меня одност...   \n",
       "31    евгений альбертович после операции по удалению...   \n",
       "41    здравствуйте хочу записаться к вам на прием ко...   \n",
       "58    здравствуйте виктор григорьевич  спасибо вам б...   \n",
       "67    виктор г ригорьевич добрый день болею с конца ...   \n",
       "...                                                 ...   \n",
       "6738  добрый день евгений альбертович  я был у вас н...   \n",
       "6761  у меня была травма носа с летискривление перег...   \n",
       "6849  здравствуйтев последнее время мне стало трудно...   \n",
       "6856  здравствуйте беспокою вас с сахалина порекомен...   \n",
       "6875  в какую больницу лучше обратиться для исправле...   \n",
       "\n",
       "                                             lemmatized  review_len  w_count  \\\n",
       "16    евгений альбертович здравствовать односторонни...         389       45   \n",
       "31    евгений альбертович после операция удаление ха...         329       37   \n",
       "41    здравствовать хотеть записаться приём консульт...         131       14   \n",
       "58    здравствовать виктор григорьевич   спасибо бол...         814       97   \n",
       "67    виктор г ригорьевич добрый день болеть конец а...         212       26   \n",
       "...                                                 ...         ...      ...   \n",
       "6738  добрый день евгений альбертович   консультация...        1239      153   \n",
       "6761  травма нос летискривление перегородкидва год н...         233       28   \n",
       "6849  здравствуйтев последний время стать трудный ды...         135       16   \n",
       "6856  здравствовать беспокою сахалин порекомендовать...         266       30   \n",
       "6875  какой больница хороший обратиться исправление ...          65        7   \n",
       "\n",
       "      middle_words  \n",
       "16        7.666667  \n",
       "31        7.918919  \n",
       "41        8.428571  \n",
       "58        7.298969  \n",
       "67        7.192308  \n",
       "...            ...  \n",
       "6738      7.065359  \n",
       "6761      7.357143  \n",
       "6849      7.500000  \n",
       "6856      7.900000  \n",
       "6875      8.428571  \n",
       "\n",
       "[509 rows x 8 columns]"
      ]
     },
     "execution_count": 39,
     "metadata": {},
     "output_type": "execute_result"
    }
   ],
   "source": [
    "kek = info[info.gender=='male']\n",
    "kek"
   ]
  },
  {
   "cell_type": "code",
   "execution_count": 40,
   "id": "6fc5e7c5",
   "metadata": {},
   "outputs": [
    {
     "data": {
      "text/plain": [
       "[('добрый день', 91),\n",
       " ('подсказать пожалуйста', 42),\n",
       " ('евгений альбертович', 41),\n",
       " ('заранее спасибо', 34),\n",
       " ('сказать пожалуйста', 33),\n",
       " ('можно ли', 29),\n",
       " ('поставить диагноз', 29),\n",
       " ('год назад', 28),\n",
       " ('возможный ли', 27),\n",
       " ('сделать операция', 22),\n",
       " ('здравствовать евгений', 22),\n",
       " ('сколько стоить', 20),\n",
       " ('попасть приём', 19),\n",
       " ('операция удаление', 16),\n",
       " ('записаться приём', 15),\n",
       " ('после операция', 14),\n",
       " ('сколько стоять', 14),\n",
       " ('нужный ли', 14),\n",
       " ('юрий александрович', 14),\n",
       " ('месяц назад', 13)]"
      ]
     },
     "execution_count": 40,
     "metadata": {},
     "output_type": "execute_result"
    }
   ],
   "source": [
    "man = top_words(kek['lemmatized'], 20)\n",
    "man"
   ]
  },
  {
   "cell_type": "code",
   "execution_count": 41,
   "id": "04d9dc0f",
   "metadata": {},
   "outputs": [
    {
     "data": {
      "application/vnd.plotly.v1+json": {
       "config": {
        "linkText": "Export to plot.ly",
        "plotlyServerURL": "https://plot.ly",
        "showLink": true
       },
       "data": [
        {
         "marker": {
          "color": "rgba(255, 153, 51, 0.6)",
          "line": {
           "color": "rgba(255, 153, 51, 1.0)",
           "width": 1
          }
         },
         "name": "Frequency",
         "orientation": "v",
         "text": "",
         "type": "bar",
         "x": [
          "добрый день",
          "подсказать пожалуйста",
          "евгений альбертович",
          "заранее спасибо",
          "сказать пожалуйста",
          "можно ли",
          "поставить диагноз",
          "год назад",
          "возможный ли",
          "сделать операция",
          "здравствовать евгений",
          "сколько стоить",
          "попасть приём",
          "операция удаление",
          "записаться приём",
          "после операция",
          "сколько стоять",
          "нужный ли",
          "юрий александрович",
          "месяц назад"
         ],
         "y": [
          91,
          42,
          41,
          34,
          33,
          29,
          29,
          28,
          27,
          22,
          22,
          20,
          19,
          16,
          15,
          14,
          14,
          14,
          14,
          13
         ]
        }
       ],
       "layout": {
        "legend": {
         "bgcolor": "#F5F6F9",
         "font": {
          "color": "#4D5663"
         }
        },
        "paper_bgcolor": "#F5F6F9",
        "plot_bgcolor": "#F5F6F9",
        "template": {
         "data": {
          "bar": [
           {
            "error_x": {
             "color": "#2a3f5f"
            },
            "error_y": {
             "color": "#2a3f5f"
            },
            "marker": {
             "line": {
              "color": "#E5ECF6",
              "width": 0.5
             },
             "pattern": {
              "fillmode": "overlay",
              "size": 10,
              "solidity": 0.2
             }
            },
            "type": "bar"
           }
          ],
          "barpolar": [
           {
            "marker": {
             "line": {
              "color": "#E5ECF6",
              "width": 0.5
             },
             "pattern": {
              "fillmode": "overlay",
              "size": 10,
              "solidity": 0.2
             }
            },
            "type": "barpolar"
           }
          ],
          "carpet": [
           {
            "aaxis": {
             "endlinecolor": "#2a3f5f",
             "gridcolor": "white",
             "linecolor": "white",
             "minorgridcolor": "white",
             "startlinecolor": "#2a3f5f"
            },
            "baxis": {
             "endlinecolor": "#2a3f5f",
             "gridcolor": "white",
             "linecolor": "white",
             "minorgridcolor": "white",
             "startlinecolor": "#2a3f5f"
            },
            "type": "carpet"
           }
          ],
          "choropleth": [
           {
            "colorbar": {
             "outlinewidth": 0,
             "ticks": ""
            },
            "type": "choropleth"
           }
          ],
          "contour": [
           {
            "colorbar": {
             "outlinewidth": 0,
             "ticks": ""
            },
            "colorscale": [
             [
              0,
              "#0d0887"
             ],
             [
              0.1111111111111111,
              "#46039f"
             ],
             [
              0.2222222222222222,
              "#7201a8"
             ],
             [
              0.3333333333333333,
              "#9c179e"
             ],
             [
              0.4444444444444444,
              "#bd3786"
             ],
             [
              0.5555555555555556,
              "#d8576b"
             ],
             [
              0.6666666666666666,
              "#ed7953"
             ],
             [
              0.7777777777777778,
              "#fb9f3a"
             ],
             [
              0.8888888888888888,
              "#fdca26"
             ],
             [
              1,
              "#f0f921"
             ]
            ],
            "type": "contour"
           }
          ],
          "contourcarpet": [
           {
            "colorbar": {
             "outlinewidth": 0,
             "ticks": ""
            },
            "type": "contourcarpet"
           }
          ],
          "heatmap": [
           {
            "colorbar": {
             "outlinewidth": 0,
             "ticks": ""
            },
            "colorscale": [
             [
              0,
              "#0d0887"
             ],
             [
              0.1111111111111111,
              "#46039f"
             ],
             [
              0.2222222222222222,
              "#7201a8"
             ],
             [
              0.3333333333333333,
              "#9c179e"
             ],
             [
              0.4444444444444444,
              "#bd3786"
             ],
             [
              0.5555555555555556,
              "#d8576b"
             ],
             [
              0.6666666666666666,
              "#ed7953"
             ],
             [
              0.7777777777777778,
              "#fb9f3a"
             ],
             [
              0.8888888888888888,
              "#fdca26"
             ],
             [
              1,
              "#f0f921"
             ]
            ],
            "type": "heatmap"
           }
          ],
          "heatmapgl": [
           {
            "colorbar": {
             "outlinewidth": 0,
             "ticks": ""
            },
            "colorscale": [
             [
              0,
              "#0d0887"
             ],
             [
              0.1111111111111111,
              "#46039f"
             ],
             [
              0.2222222222222222,
              "#7201a8"
             ],
             [
              0.3333333333333333,
              "#9c179e"
             ],
             [
              0.4444444444444444,
              "#bd3786"
             ],
             [
              0.5555555555555556,
              "#d8576b"
             ],
             [
              0.6666666666666666,
              "#ed7953"
             ],
             [
              0.7777777777777778,
              "#fb9f3a"
             ],
             [
              0.8888888888888888,
              "#fdca26"
             ],
             [
              1,
              "#f0f921"
             ]
            ],
            "type": "heatmapgl"
           }
          ],
          "histogram": [
           {
            "marker": {
             "pattern": {
              "fillmode": "overlay",
              "size": 10,
              "solidity": 0.2
             }
            },
            "type": "histogram"
           }
          ],
          "histogram2d": [
           {
            "colorbar": {
             "outlinewidth": 0,
             "ticks": ""
            },
            "colorscale": [
             [
              0,
              "#0d0887"
             ],
             [
              0.1111111111111111,
              "#46039f"
             ],
             [
              0.2222222222222222,
              "#7201a8"
             ],
             [
              0.3333333333333333,
              "#9c179e"
             ],
             [
              0.4444444444444444,
              "#bd3786"
             ],
             [
              0.5555555555555556,
              "#d8576b"
             ],
             [
              0.6666666666666666,
              "#ed7953"
             ],
             [
              0.7777777777777778,
              "#fb9f3a"
             ],
             [
              0.8888888888888888,
              "#fdca26"
             ],
             [
              1,
              "#f0f921"
             ]
            ],
            "type": "histogram2d"
           }
          ],
          "histogram2dcontour": [
           {
            "colorbar": {
             "outlinewidth": 0,
             "ticks": ""
            },
            "colorscale": [
             [
              0,
              "#0d0887"
             ],
             [
              0.1111111111111111,
              "#46039f"
             ],
             [
              0.2222222222222222,
              "#7201a8"
             ],
             [
              0.3333333333333333,
              "#9c179e"
             ],
             [
              0.4444444444444444,
              "#bd3786"
             ],
             [
              0.5555555555555556,
              "#d8576b"
             ],
             [
              0.6666666666666666,
              "#ed7953"
             ],
             [
              0.7777777777777778,
              "#fb9f3a"
             ],
             [
              0.8888888888888888,
              "#fdca26"
             ],
             [
              1,
              "#f0f921"
             ]
            ],
            "type": "histogram2dcontour"
           }
          ],
          "mesh3d": [
           {
            "colorbar": {
             "outlinewidth": 0,
             "ticks": ""
            },
            "type": "mesh3d"
           }
          ],
          "parcoords": [
           {
            "line": {
             "colorbar": {
              "outlinewidth": 0,
              "ticks": ""
             }
            },
            "type": "parcoords"
           }
          ],
          "pie": [
           {
            "automargin": true,
            "type": "pie"
           }
          ],
          "scatter": [
           {
            "marker": {
             "colorbar": {
              "outlinewidth": 0,
              "ticks": ""
             }
            },
            "type": "scatter"
           }
          ],
          "scatter3d": [
           {
            "line": {
             "colorbar": {
              "outlinewidth": 0,
              "ticks": ""
             }
            },
            "marker": {
             "colorbar": {
              "outlinewidth": 0,
              "ticks": ""
             }
            },
            "type": "scatter3d"
           }
          ],
          "scattercarpet": [
           {
            "marker": {
             "colorbar": {
              "outlinewidth": 0,
              "ticks": ""
             }
            },
            "type": "scattercarpet"
           }
          ],
          "scattergeo": [
           {
            "marker": {
             "colorbar": {
              "outlinewidth": 0,
              "ticks": ""
             }
            },
            "type": "scattergeo"
           }
          ],
          "scattergl": [
           {
            "marker": {
             "colorbar": {
              "outlinewidth": 0,
              "ticks": ""
             }
            },
            "type": "scattergl"
           }
          ],
          "scattermapbox": [
           {
            "marker": {
             "colorbar": {
              "outlinewidth": 0,
              "ticks": ""
             }
            },
            "type": "scattermapbox"
           }
          ],
          "scatterpolar": [
           {
            "marker": {
             "colorbar": {
              "outlinewidth": 0,
              "ticks": ""
             }
            },
            "type": "scatterpolar"
           }
          ],
          "scatterpolargl": [
           {
            "marker": {
             "colorbar": {
              "outlinewidth": 0,
              "ticks": ""
             }
            },
            "type": "scatterpolargl"
           }
          ],
          "scatterternary": [
           {
            "marker": {
             "colorbar": {
              "outlinewidth": 0,
              "ticks": ""
             }
            },
            "type": "scatterternary"
           }
          ],
          "surface": [
           {
            "colorbar": {
             "outlinewidth": 0,
             "ticks": ""
            },
            "colorscale": [
             [
              0,
              "#0d0887"
             ],
             [
              0.1111111111111111,
              "#46039f"
             ],
             [
              0.2222222222222222,
              "#7201a8"
             ],
             [
              0.3333333333333333,
              "#9c179e"
             ],
             [
              0.4444444444444444,
              "#bd3786"
             ],
             [
              0.5555555555555556,
              "#d8576b"
             ],
             [
              0.6666666666666666,
              "#ed7953"
             ],
             [
              0.7777777777777778,
              "#fb9f3a"
             ],
             [
              0.8888888888888888,
              "#fdca26"
             ],
             [
              1,
              "#f0f921"
             ]
            ],
            "type": "surface"
           }
          ],
          "table": [
           {
            "cells": {
             "fill": {
              "color": "#EBF0F8"
             },
             "line": {
              "color": "white"
             }
            },
            "header": {
             "fill": {
              "color": "#C8D4E3"
             },
             "line": {
              "color": "white"
             }
            },
            "type": "table"
           }
          ]
         },
         "layout": {
          "annotationdefaults": {
           "arrowcolor": "#2a3f5f",
           "arrowhead": 0,
           "arrowwidth": 1
          },
          "autotypenumbers": "strict",
          "coloraxis": {
           "colorbar": {
            "outlinewidth": 0,
            "ticks": ""
           }
          },
          "colorscale": {
           "diverging": [
            [
             0,
             "#8e0152"
            ],
            [
             0.1,
             "#c51b7d"
            ],
            [
             0.2,
             "#de77ae"
            ],
            [
             0.3,
             "#f1b6da"
            ],
            [
             0.4,
             "#fde0ef"
            ],
            [
             0.5,
             "#f7f7f7"
            ],
            [
             0.6,
             "#e6f5d0"
            ],
            [
             0.7,
             "#b8e186"
            ],
            [
             0.8,
             "#7fbc41"
            ],
            [
             0.9,
             "#4d9221"
            ],
            [
             1,
             "#276419"
            ]
           ],
           "sequential": [
            [
             0,
             "#0d0887"
            ],
            [
             0.1111111111111111,
             "#46039f"
            ],
            [
             0.2222222222222222,
             "#7201a8"
            ],
            [
             0.3333333333333333,
             "#9c179e"
            ],
            [
             0.4444444444444444,
             "#bd3786"
            ],
            [
             0.5555555555555556,
             "#d8576b"
            ],
            [
             0.6666666666666666,
             "#ed7953"
            ],
            [
             0.7777777777777778,
             "#fb9f3a"
            ],
            [
             0.8888888888888888,
             "#fdca26"
            ],
            [
             1,
             "#f0f921"
            ]
           ],
           "sequentialminus": [
            [
             0,
             "#0d0887"
            ],
            [
             0.1111111111111111,
             "#46039f"
            ],
            [
             0.2222222222222222,
             "#7201a8"
            ],
            [
             0.3333333333333333,
             "#9c179e"
            ],
            [
             0.4444444444444444,
             "#bd3786"
            ],
            [
             0.5555555555555556,
             "#d8576b"
            ],
            [
             0.6666666666666666,
             "#ed7953"
            ],
            [
             0.7777777777777778,
             "#fb9f3a"
            ],
            [
             0.8888888888888888,
             "#fdca26"
            ],
            [
             1,
             "#f0f921"
            ]
           ]
          },
          "colorway": [
           "#636efa",
           "#EF553B",
           "#00cc96",
           "#ab63fa",
           "#FFA15A",
           "#19d3f3",
           "#FF6692",
           "#B6E880",
           "#FF97FF",
           "#FECB52"
          ],
          "font": {
           "color": "#2a3f5f"
          },
          "geo": {
           "bgcolor": "white",
           "lakecolor": "white",
           "landcolor": "#E5ECF6",
           "showlakes": true,
           "showland": true,
           "subunitcolor": "white"
          },
          "hoverlabel": {
           "align": "left"
          },
          "hovermode": "closest",
          "mapbox": {
           "style": "light"
          },
          "paper_bgcolor": "white",
          "plot_bgcolor": "#E5ECF6",
          "polar": {
           "angularaxis": {
            "gridcolor": "white",
            "linecolor": "white",
            "ticks": ""
           },
           "bgcolor": "#E5ECF6",
           "radialaxis": {
            "gridcolor": "white",
            "linecolor": "white",
            "ticks": ""
           }
          },
          "scene": {
           "xaxis": {
            "backgroundcolor": "#E5ECF6",
            "gridcolor": "white",
            "gridwidth": 2,
            "linecolor": "white",
            "showbackground": true,
            "ticks": "",
            "zerolinecolor": "white"
           },
           "yaxis": {
            "backgroundcolor": "#E5ECF6",
            "gridcolor": "white",
            "gridwidth": 2,
            "linecolor": "white",
            "showbackground": true,
            "ticks": "",
            "zerolinecolor": "white"
           },
           "zaxis": {
            "backgroundcolor": "#E5ECF6",
            "gridcolor": "white",
            "gridwidth": 2,
            "linecolor": "white",
            "showbackground": true,
            "ticks": "",
            "zerolinecolor": "white"
           }
          },
          "shapedefaults": {
           "line": {
            "color": "#2a3f5f"
           }
          },
          "ternary": {
           "aaxis": {
            "gridcolor": "white",
            "linecolor": "white",
            "ticks": ""
           },
           "baxis": {
            "gridcolor": "white",
            "linecolor": "white",
            "ticks": ""
           },
           "bgcolor": "#E5ECF6",
           "caxis": {
            "gridcolor": "white",
            "linecolor": "white",
            "ticks": ""
           }
          },
          "title": {
           "x": 0.05
          },
          "xaxis": {
           "automargin": true,
           "gridcolor": "white",
           "linecolor": "white",
           "ticks": "",
           "title": {
            "standoff": 15
           },
           "zerolinecolor": "white",
           "zerolinewidth": 2
          },
          "yaxis": {
           "automargin": true,
           "gridcolor": "white",
           "linecolor": "white",
           "ticks": "",
           "title": {
            "standoff": 15
           },
           "zerolinecolor": "white",
           "zerolinewidth": 2
          }
         }
        },
        "title": {
         "font": {
          "color": "#4D5663"
         },
         "text": "Биграмма мужская"
        },
        "xaxis": {
         "gridcolor": "#E1E5ED",
         "showgrid": true,
         "tickfont": {
          "color": "#4D5663"
         },
         "title": {
          "font": {
           "color": "#4D5663"
          },
          "text": "Биграмма"
         },
         "zerolinecolor": "#E1E5ED"
        },
        "yaxis": {
         "gridcolor": "#E1E5ED",
         "showgrid": true,
         "tickfont": {
          "color": "#4D5663"
         },
         "title": {
          "font": {
           "color": "#4D5663"
          },
          "text": "Количество"
         },
         "zerolinecolor": "#E1E5ED"
        }
       }
      },
      "text/html": [
       "<div>                            <div id=\"b3f175aa-507f-43ad-b837-e05ce0439273\" class=\"plotly-graph-div\" style=\"height:525px; width:100%;\"></div>            <script type=\"text/javascript\">                require([\"plotly\"], function(Plotly) {                    window.PLOTLYENV=window.PLOTLYENV || {};\n",
       "                    window.PLOTLYENV.BASE_URL='https://plot.ly';                                    if (document.getElementById(\"b3f175aa-507f-43ad-b837-e05ce0439273\")) {                    Plotly.newPlot(                        \"b3f175aa-507f-43ad-b837-e05ce0439273\",                        [{\"marker\":{\"color\":\"rgba(255, 153, 51, 0.6)\",\"line\":{\"color\":\"rgba(255, 153, 51, 1.0)\",\"width\":1}},\"name\":\"Frequency\",\"orientation\":\"v\",\"text\":\"\",\"type\":\"bar\",\"x\":[\"\\u0434\\u043e\\u0431\\u0440\\u044b\\u0439 \\u0434\\u0435\\u043d\\u044c\",\"\\u043f\\u043e\\u0434\\u0441\\u043a\\u0430\\u0437\\u0430\\u0442\\u044c \\u043f\\u043e\\u0436\\u0430\\u043b\\u0443\\u0439\\u0441\\u0442\\u0430\",\"\\u0435\\u0432\\u0433\\u0435\\u043d\\u0438\\u0439 \\u0430\\u043b\\u044c\\u0431\\u0435\\u0440\\u0442\\u043e\\u0432\\u0438\\u0447\",\"\\u0437\\u0430\\u0440\\u0430\\u043d\\u0435\\u0435 \\u0441\\u043f\\u0430\\u0441\\u0438\\u0431\\u043e\",\"\\u0441\\u043a\\u0430\\u0437\\u0430\\u0442\\u044c \\u043f\\u043e\\u0436\\u0430\\u043b\\u0443\\u0439\\u0441\\u0442\\u0430\",\"\\u043c\\u043e\\u0436\\u043d\\u043e \\u043b\\u0438\",\"\\u043f\\u043e\\u0441\\u0442\\u0430\\u0432\\u0438\\u0442\\u044c \\u0434\\u0438\\u0430\\u0433\\u043d\\u043e\\u0437\",\"\\u0433\\u043e\\u0434 \\u043d\\u0430\\u0437\\u0430\\u0434\",\"\\u0432\\u043e\\u0437\\u043c\\u043e\\u0436\\u043d\\u044b\\u0439 \\u043b\\u0438\",\"\\u0441\\u0434\\u0435\\u043b\\u0430\\u0442\\u044c \\u043e\\u043f\\u0435\\u0440\\u0430\\u0446\\u0438\\u044f\",\"\\u0437\\u0434\\u0440\\u0430\\u0432\\u0441\\u0442\\u0432\\u043e\\u0432\\u0430\\u0442\\u044c \\u0435\\u0432\\u0433\\u0435\\u043d\\u0438\\u0439\",\"\\u0441\\u043a\\u043e\\u043b\\u044c\\u043a\\u043e \\u0441\\u0442\\u043e\\u0438\\u0442\\u044c\",\"\\u043f\\u043e\\u043f\\u0430\\u0441\\u0442\\u044c \\u043f\\u0440\\u0438\\u0451\\u043c\",\"\\u043e\\u043f\\u0435\\u0440\\u0430\\u0446\\u0438\\u044f \\u0443\\u0434\\u0430\\u043b\\u0435\\u043d\\u0438\\u0435\",\"\\u0437\\u0430\\u043f\\u0438\\u0441\\u0430\\u0442\\u044c\\u0441\\u044f \\u043f\\u0440\\u0438\\u0451\\u043c\",\"\\u043f\\u043e\\u0441\\u043b\\u0435 \\u043e\\u043f\\u0435\\u0440\\u0430\\u0446\\u0438\\u044f\",\"\\u0441\\u043a\\u043e\\u043b\\u044c\\u043a\\u043e \\u0441\\u0442\\u043e\\u044f\\u0442\\u044c\",\"\\u043d\\u0443\\u0436\\u043d\\u044b\\u0439 \\u043b\\u0438\",\"\\u044e\\u0440\\u0438\\u0439 \\u0430\\u043b\\u0435\\u043a\\u0441\\u0430\\u043d\\u0434\\u0440\\u043e\\u0432\\u0438\\u0447\",\"\\u043c\\u0435\\u0441\\u044f\\u0446 \\u043d\\u0430\\u0437\\u0430\\u0434\"],\"y\":[91,42,41,34,33,29,29,28,27,22,22,20,19,16,15,14,14,14,14,13]}],                        {\"legend\":{\"bgcolor\":\"#F5F6F9\",\"font\":{\"color\":\"#4D5663\"}},\"paper_bgcolor\":\"#F5F6F9\",\"plot_bgcolor\":\"#F5F6F9\",\"template\":{\"data\":{\"bar\":[{\"error_x\":{\"color\":\"#2a3f5f\"},\"error_y\":{\"color\":\"#2a3f5f\"},\"marker\":{\"line\":{\"color\":\"#E5ECF6\",\"width\":0.5},\"pattern\":{\"fillmode\":\"overlay\",\"size\":10,\"solidity\":0.2}},\"type\":\"bar\"}],\"barpolar\":[{\"marker\":{\"line\":{\"color\":\"#E5ECF6\",\"width\":0.5},\"pattern\":{\"fillmode\":\"overlay\",\"size\":10,\"solidity\":0.2}},\"type\":\"barpolar\"}],\"carpet\":[{\"aaxis\":{\"endlinecolor\":\"#2a3f5f\",\"gridcolor\":\"white\",\"linecolor\":\"white\",\"minorgridcolor\":\"white\",\"startlinecolor\":\"#2a3f5f\"},\"baxis\":{\"endlinecolor\":\"#2a3f5f\",\"gridcolor\":\"white\",\"linecolor\":\"white\",\"minorgridcolor\":\"white\",\"startlinecolor\":\"#2a3f5f\"},\"type\":\"carpet\"}],\"choropleth\":[{\"colorbar\":{\"outlinewidth\":0,\"ticks\":\"\"},\"type\":\"choropleth\"}],\"contour\":[{\"colorbar\":{\"outlinewidth\":0,\"ticks\":\"\"},\"colorscale\":[[0.0,\"#0d0887\"],[0.1111111111111111,\"#46039f\"],[0.2222222222222222,\"#7201a8\"],[0.3333333333333333,\"#9c179e\"],[0.4444444444444444,\"#bd3786\"],[0.5555555555555556,\"#d8576b\"],[0.6666666666666666,\"#ed7953\"],[0.7777777777777778,\"#fb9f3a\"],[0.8888888888888888,\"#fdca26\"],[1.0,\"#f0f921\"]],\"type\":\"contour\"}],\"contourcarpet\":[{\"colorbar\":{\"outlinewidth\":0,\"ticks\":\"\"},\"type\":\"contourcarpet\"}],\"heatmap\":[{\"colorbar\":{\"outlinewidth\":0,\"ticks\":\"\"},\"colorscale\":[[0.0,\"#0d0887\"],[0.1111111111111111,\"#46039f\"],[0.2222222222222222,\"#7201a8\"],[0.3333333333333333,\"#9c179e\"],[0.4444444444444444,\"#bd3786\"],[0.5555555555555556,\"#d8576b\"],[0.6666666666666666,\"#ed7953\"],[0.7777777777777778,\"#fb9f3a\"],[0.8888888888888888,\"#fdca26\"],[1.0,\"#f0f921\"]],\"type\":\"heatmap\"}],\"heatmapgl\":[{\"colorbar\":{\"outlinewidth\":0,\"ticks\":\"\"},\"colorscale\":[[0.0,\"#0d0887\"],[0.1111111111111111,\"#46039f\"],[0.2222222222222222,\"#7201a8\"],[0.3333333333333333,\"#9c179e\"],[0.4444444444444444,\"#bd3786\"],[0.5555555555555556,\"#d8576b\"],[0.6666666666666666,\"#ed7953\"],[0.7777777777777778,\"#fb9f3a\"],[0.8888888888888888,\"#fdca26\"],[1.0,\"#f0f921\"]],\"type\":\"heatmapgl\"}],\"histogram\":[{\"marker\":{\"pattern\":{\"fillmode\":\"overlay\",\"size\":10,\"solidity\":0.2}},\"type\":\"histogram\"}],\"histogram2d\":[{\"colorbar\":{\"outlinewidth\":0,\"ticks\":\"\"},\"colorscale\":[[0.0,\"#0d0887\"],[0.1111111111111111,\"#46039f\"],[0.2222222222222222,\"#7201a8\"],[0.3333333333333333,\"#9c179e\"],[0.4444444444444444,\"#bd3786\"],[0.5555555555555556,\"#d8576b\"],[0.6666666666666666,\"#ed7953\"],[0.7777777777777778,\"#fb9f3a\"],[0.8888888888888888,\"#fdca26\"],[1.0,\"#f0f921\"]],\"type\":\"histogram2d\"}],\"histogram2dcontour\":[{\"colorbar\":{\"outlinewidth\":0,\"ticks\":\"\"},\"colorscale\":[[0.0,\"#0d0887\"],[0.1111111111111111,\"#46039f\"],[0.2222222222222222,\"#7201a8\"],[0.3333333333333333,\"#9c179e\"],[0.4444444444444444,\"#bd3786\"],[0.5555555555555556,\"#d8576b\"],[0.6666666666666666,\"#ed7953\"],[0.7777777777777778,\"#fb9f3a\"],[0.8888888888888888,\"#fdca26\"],[1.0,\"#f0f921\"]],\"type\":\"histogram2dcontour\"}],\"mesh3d\":[{\"colorbar\":{\"outlinewidth\":0,\"ticks\":\"\"},\"type\":\"mesh3d\"}],\"parcoords\":[{\"line\":{\"colorbar\":{\"outlinewidth\":0,\"ticks\":\"\"}},\"type\":\"parcoords\"}],\"pie\":[{\"automargin\":true,\"type\":\"pie\"}],\"scatter\":[{\"marker\":{\"colorbar\":{\"outlinewidth\":0,\"ticks\":\"\"}},\"type\":\"scatter\"}],\"scatter3d\":[{\"line\":{\"colorbar\":{\"outlinewidth\":0,\"ticks\":\"\"}},\"marker\":{\"colorbar\":{\"outlinewidth\":0,\"ticks\":\"\"}},\"type\":\"scatter3d\"}],\"scattercarpet\":[{\"marker\":{\"colorbar\":{\"outlinewidth\":0,\"ticks\":\"\"}},\"type\":\"scattercarpet\"}],\"scattergeo\":[{\"marker\":{\"colorbar\":{\"outlinewidth\":0,\"ticks\":\"\"}},\"type\":\"scattergeo\"}],\"scattergl\":[{\"marker\":{\"colorbar\":{\"outlinewidth\":0,\"ticks\":\"\"}},\"type\":\"scattergl\"}],\"scattermapbox\":[{\"marker\":{\"colorbar\":{\"outlinewidth\":0,\"ticks\":\"\"}},\"type\":\"scattermapbox\"}],\"scatterpolar\":[{\"marker\":{\"colorbar\":{\"outlinewidth\":0,\"ticks\":\"\"}},\"type\":\"scatterpolar\"}],\"scatterpolargl\":[{\"marker\":{\"colorbar\":{\"outlinewidth\":0,\"ticks\":\"\"}},\"type\":\"scatterpolargl\"}],\"scatterternary\":[{\"marker\":{\"colorbar\":{\"outlinewidth\":0,\"ticks\":\"\"}},\"type\":\"scatterternary\"}],\"surface\":[{\"colorbar\":{\"outlinewidth\":0,\"ticks\":\"\"},\"colorscale\":[[0.0,\"#0d0887\"],[0.1111111111111111,\"#46039f\"],[0.2222222222222222,\"#7201a8\"],[0.3333333333333333,\"#9c179e\"],[0.4444444444444444,\"#bd3786\"],[0.5555555555555556,\"#d8576b\"],[0.6666666666666666,\"#ed7953\"],[0.7777777777777778,\"#fb9f3a\"],[0.8888888888888888,\"#fdca26\"],[1.0,\"#f0f921\"]],\"type\":\"surface\"}],\"table\":[{\"cells\":{\"fill\":{\"color\":\"#EBF0F8\"},\"line\":{\"color\":\"white\"}},\"header\":{\"fill\":{\"color\":\"#C8D4E3\"},\"line\":{\"color\":\"white\"}},\"type\":\"table\"}]},\"layout\":{\"annotationdefaults\":{\"arrowcolor\":\"#2a3f5f\",\"arrowhead\":0,\"arrowwidth\":1},\"autotypenumbers\":\"strict\",\"coloraxis\":{\"colorbar\":{\"outlinewidth\":0,\"ticks\":\"\"}},\"colorscale\":{\"diverging\":[[0,\"#8e0152\"],[0.1,\"#c51b7d\"],[0.2,\"#de77ae\"],[0.3,\"#f1b6da\"],[0.4,\"#fde0ef\"],[0.5,\"#f7f7f7\"],[0.6,\"#e6f5d0\"],[0.7,\"#b8e186\"],[0.8,\"#7fbc41\"],[0.9,\"#4d9221\"],[1,\"#276419\"]],\"sequential\":[[0.0,\"#0d0887\"],[0.1111111111111111,\"#46039f\"],[0.2222222222222222,\"#7201a8\"],[0.3333333333333333,\"#9c179e\"],[0.4444444444444444,\"#bd3786\"],[0.5555555555555556,\"#d8576b\"],[0.6666666666666666,\"#ed7953\"],[0.7777777777777778,\"#fb9f3a\"],[0.8888888888888888,\"#fdca26\"],[1.0,\"#f0f921\"]],\"sequentialminus\":[[0.0,\"#0d0887\"],[0.1111111111111111,\"#46039f\"],[0.2222222222222222,\"#7201a8\"],[0.3333333333333333,\"#9c179e\"],[0.4444444444444444,\"#bd3786\"],[0.5555555555555556,\"#d8576b\"],[0.6666666666666666,\"#ed7953\"],[0.7777777777777778,\"#fb9f3a\"],[0.8888888888888888,\"#fdca26\"],[1.0,\"#f0f921\"]]},\"colorway\":[\"#636efa\",\"#EF553B\",\"#00cc96\",\"#ab63fa\",\"#FFA15A\",\"#19d3f3\",\"#FF6692\",\"#B6E880\",\"#FF97FF\",\"#FECB52\"],\"font\":{\"color\":\"#2a3f5f\"},\"geo\":{\"bgcolor\":\"white\",\"lakecolor\":\"white\",\"landcolor\":\"#E5ECF6\",\"showlakes\":true,\"showland\":true,\"subunitcolor\":\"white\"},\"hoverlabel\":{\"align\":\"left\"},\"hovermode\":\"closest\",\"mapbox\":{\"style\":\"light\"},\"paper_bgcolor\":\"white\",\"plot_bgcolor\":\"#E5ECF6\",\"polar\":{\"angularaxis\":{\"gridcolor\":\"white\",\"linecolor\":\"white\",\"ticks\":\"\"},\"bgcolor\":\"#E5ECF6\",\"radialaxis\":{\"gridcolor\":\"white\",\"linecolor\":\"white\",\"ticks\":\"\"}},\"scene\":{\"xaxis\":{\"backgroundcolor\":\"#E5ECF6\",\"gridcolor\":\"white\",\"gridwidth\":2,\"linecolor\":\"white\",\"showbackground\":true,\"ticks\":\"\",\"zerolinecolor\":\"white\"},\"yaxis\":{\"backgroundcolor\":\"#E5ECF6\",\"gridcolor\":\"white\",\"gridwidth\":2,\"linecolor\":\"white\",\"showbackground\":true,\"ticks\":\"\",\"zerolinecolor\":\"white\"},\"zaxis\":{\"backgroundcolor\":\"#E5ECF6\",\"gridcolor\":\"white\",\"gridwidth\":2,\"linecolor\":\"white\",\"showbackground\":true,\"ticks\":\"\",\"zerolinecolor\":\"white\"}},\"shapedefaults\":{\"line\":{\"color\":\"#2a3f5f\"}},\"ternary\":{\"aaxis\":{\"gridcolor\":\"white\",\"linecolor\":\"white\",\"ticks\":\"\"},\"baxis\":{\"gridcolor\":\"white\",\"linecolor\":\"white\",\"ticks\":\"\"},\"bgcolor\":\"#E5ECF6\",\"caxis\":{\"gridcolor\":\"white\",\"linecolor\":\"white\",\"ticks\":\"\"}},\"title\":{\"x\":0.05},\"xaxis\":{\"automargin\":true,\"gridcolor\":\"white\",\"linecolor\":\"white\",\"ticks\":\"\",\"title\":{\"standoff\":15},\"zerolinecolor\":\"white\",\"zerolinewidth\":2},\"yaxis\":{\"automargin\":true,\"gridcolor\":\"white\",\"linecolor\":\"white\",\"ticks\":\"\",\"title\":{\"standoff\":15},\"zerolinecolor\":\"white\",\"zerolinewidth\":2}}},\"title\":{\"font\":{\"color\":\"#4D5663\"},\"text\":\"\\u0411\\u0438\\u0433\\u0440\\u0430\\u043c\\u043c\\u0430 \\u043c\\u0443\\u0436\\u0441\\u043a\\u0430\\u044f\"},\"xaxis\":{\"gridcolor\":\"#E1E5ED\",\"showgrid\":true,\"tickfont\":{\"color\":\"#4D5663\"},\"title\":{\"font\":{\"color\":\"#4D5663\"},\"text\":\"\\u0411\\u0438\\u0433\\u0440\\u0430\\u043c\\u043c\\u0430\"},\"zerolinecolor\":\"#E1E5ED\"},\"yaxis\":{\"gridcolor\":\"#E1E5ED\",\"showgrid\":true,\"tickfont\":{\"color\":\"#4D5663\"},\"title\":{\"font\":{\"color\":\"#4D5663\"},\"text\":\"\\u041a\\u043e\\u043b\\u0438\\u0447\\u0435\\u0441\\u0442\\u0432\\u043e\"},\"zerolinecolor\":\"#E1E5ED\"}},                        {\"showLink\": true, \"linkText\": \"Export to plot.ly\", \"plotlyServerURL\": \"https://plot.ly\", \"responsive\": true}                    ).then(function(){\n",
       "                            \n",
       "var gd = document.getElementById('b3f175aa-507f-43ad-b837-e05ce0439273');\n",
       "var x = new MutationObserver(function (mutations, observer) {{\n",
       "        var display = window.getComputedStyle(gd).display;\n",
       "        if (!display || display === 'none') {{\n",
       "            console.log([gd, 'removed!']);\n",
       "            Plotly.purge(gd);\n",
       "            observer.disconnect();\n",
       "        }}\n",
       "}});\n",
       "\n",
       "// Listen for the removal of the full notebook cells\n",
       "var notebookContainer = gd.closest('#notebook-container');\n",
       "if (notebookContainer) {{\n",
       "    x.observe(notebookContainer, {childList: true});\n",
       "}}\n",
       "\n",
       "// Listen for the clearing of the current output cell\n",
       "var outputEl = gd.closest('.output');\n",
       "if (outputEl) {{\n",
       "    x.observe(outputEl, {childList: true});\n",
       "}}\n",
       "\n",
       "                        })                };                });            </script>        </div>"
      ]
     },
     "metadata": {},
     "output_type": "display_data"
    }
   ],
   "source": [
    "ustal = pd.DataFrame(man, columns = ['Bigram', 'Frequency'])\n",
    "ustal = ustal.set_index('Bigram')\n",
    "ustal.iplot(kind='bar', xTitle='Биграмма', yTitle='Количество', title='Биграмма мужская')"
   ]
  },
  {
   "cell_type": "code",
   "execution_count": 42,
   "id": "fbe21c7a",
   "metadata": {},
   "outputs": [
    {
     "data": {
      "text/html": [
       "<div>\n",
       "<style scoped>\n",
       "    .dataframe tbody tr th:only-of-type {\n",
       "        vertical-align: middle;\n",
       "    }\n",
       "\n",
       "    .dataframe tbody tr th {\n",
       "        vertical-align: top;\n",
       "    }\n",
       "\n",
       "    .dataframe thead th {\n",
       "        text-align: right;\n",
       "    }\n",
       "</style>\n",
       "<table border=\"1\" class=\"dataframe\">\n",
       "  <thead>\n",
       "    <tr style=\"text-align: right;\">\n",
       "      <th></th>\n",
       "      <th>txt</th>\n",
       "      <th>gender</th>\n",
       "      <th>create_date</th>\n",
       "      <th>cleaned</th>\n",
       "      <th>lemmatized</th>\n",
       "      <th>review_len</th>\n",
       "      <th>w_count</th>\n",
       "      <th>middle_words</th>\n",
       "    </tr>\n",
       "  </thead>\n",
       "  <tbody>\n",
       "    <tr>\n",
       "      <th>2</th>\n",
       "      <td>Добрый день, Евгений Альбертович!\\nРебенку 3,5...</td>\n",
       "      <td>female</td>\n",
       "      <td>2021-04-02</td>\n",
       "      <td>добрый день евгений альбертович ребенку года с...</td>\n",
       "      <td>добрый день евгений альбертович ребёнок год ст...</td>\n",
       "      <td>332</td>\n",
       "      <td>46</td>\n",
       "      <td>6.239130</td>\n",
       "    </tr>\n",
       "    <tr>\n",
       "      <th>4</th>\n",
       "      <td>Здравствуйте! Хочу оставить отзыв. Восемь лет ...</td>\n",
       "      <td>female</td>\n",
       "      <td>2021-03-31</td>\n",
       "      <td>здравствуйте хочу оставить отзыв восемь лет мо...</td>\n",
       "      <td>здравствовать хотеть оставить отзыв восемь год...</td>\n",
       "      <td>530</td>\n",
       "      <td>59</td>\n",
       "      <td>8.000000</td>\n",
       "    </tr>\n",
       "    <tr>\n",
       "      <th>5</th>\n",
       "      <td>Здравствуйте! В 2018 году ребенку (сейчас ему ...</td>\n",
       "      <td>female</td>\n",
       "      <td>2021-03-29</td>\n",
       "      <td>здравствуйте в году ребенку сейчас ему лет уда...</td>\n",
       "      <td>здравствовать год ребёнок сейчас год удалить а...</td>\n",
       "      <td>274</td>\n",
       "      <td>34</td>\n",
       "      <td>6.852941</td>\n",
       "    </tr>\n",
       "    <tr>\n",
       "      <th>8</th>\n",
       "      <td>Здравствуйте! Скажите, пожалуйста, может ли ми...</td>\n",
       "      <td>female</td>\n",
       "      <td>2021-02-24</td>\n",
       "      <td>здравствуйте скажите пожалуйста может ли минол...</td>\n",
       "      <td>здравствовать сказать пожалуйста ли минолексин...</td>\n",
       "      <td>122</td>\n",
       "      <td>15</td>\n",
       "      <td>7.200000</td>\n",
       "    </tr>\n",
       "    <tr>\n",
       "      <th>12</th>\n",
       "      <td>Здравствуйте, Евгений Альбертович! Куда и с ка...</td>\n",
       "      <td>female</td>\n",
       "      <td>2021-02-14</td>\n",
       "      <td>здравствуйте евгений альбертович куда и с каки...</td>\n",
       "      <td>здравствовать евгений альбертович куда какой о...</td>\n",
       "      <td>157</td>\n",
       "      <td>20</td>\n",
       "      <td>6.900000</td>\n",
       "    </tr>\n",
       "    <tr>\n",
       "      <th>...</th>\n",
       "      <td>...</td>\n",
       "      <td>...</td>\n",
       "      <td>...</td>\n",
       "      <td>...</td>\n",
       "      <td>...</td>\n",
       "      <td>...</td>\n",
       "      <td>...</td>\n",
       "      <td>...</td>\n",
       "    </tr>\n",
       "    <tr>\n",
       "      <th>6848</th>\n",
       "      <td>Здравствуйте, обратилась к терапевту с болью в...</td>\n",
       "      <td>female</td>\n",
       "      <td>2012-04-13</td>\n",
       "      <td>здравствуйте обратилась к терапевту с болью в ...</td>\n",
       "      <td>здравствовать обратиться терапевт боль горлеор...</td>\n",
       "      <td>428</td>\n",
       "      <td>50</td>\n",
       "      <td>7.580000</td>\n",
       "    </tr>\n",
       "    <tr>\n",
       "      <th>6855</th>\n",
       "      <td>Здравствуйте Евгений Альбертович. Я из Находки...</td>\n",
       "      <td>female</td>\n",
       "      <td>2012-04-02</td>\n",
       "      <td>здравствуйте евгений альбертович я из находки ...</td>\n",
       "      <td>здравствовать евгений альбертович находка зват...</td>\n",
       "      <td>456</td>\n",
       "      <td>54</td>\n",
       "      <td>7.462963</td>\n",
       "    </tr>\n",
       "    <tr>\n",
       "      <th>6861</th>\n",
       "      <td>Здравствуйте! У меня муж ночью сильно храпит. ...</td>\n",
       "      <td>female</td>\n",
       "      <td>2012-03-25</td>\n",
       "      <td>здравствуйте у меня муж ночью сильно храпит чт...</td>\n",
       "      <td>здравствовать муж ночь сильно храпеть можно сд...</td>\n",
       "      <td>82</td>\n",
       "      <td>11</td>\n",
       "      <td>6.545455</td>\n",
       "    </tr>\n",
       "    <tr>\n",
       "      <th>6867</th>\n",
       "      <td>Здравствуйте. Подскажите когда и где в ближайш...</td>\n",
       "      <td>female</td>\n",
       "      <td>2012-02-22</td>\n",
       "      <td>здравствуйте подскажите когда и где в ближайше...</td>\n",
       "      <td>здравствовать подсказать где близкий время мож...</td>\n",
       "      <td>70</td>\n",
       "      <td>9</td>\n",
       "      <td>6.888889</td>\n",
       "    </tr>\n",
       "    <tr>\n",
       "      <th>6871</th>\n",
       "      <td>Здравствуйте Евгений Альбертович! У меня к Вам...</td>\n",
       "      <td>female</td>\n",
       "      <td>2012-03-02</td>\n",
       "      <td>здравствуйте евгений альбертович у меня к вам ...</td>\n",
       "      <td>здравствовать евгений альбертович два вопрос к...</td>\n",
       "      <td>546</td>\n",
       "      <td>69</td>\n",
       "      <td>6.927536</td>\n",
       "    </tr>\n",
       "  </tbody>\n",
       "</table>\n",
       "<p>1292 rows × 8 columns</p>\n",
       "</div>"
      ],
      "text/plain": [
       "                                                    txt  gender create_date  \\\n",
       "2     Добрый день, Евгений Альбертович!\\nРебенку 3,5...  female  2021-04-02   \n",
       "4     Здравствуйте! Хочу оставить отзыв. Восемь лет ...  female  2021-03-31   \n",
       "5     Здравствуйте! В 2018 году ребенку (сейчас ему ...  female  2021-03-29   \n",
       "8     Здравствуйте! Скажите, пожалуйста, может ли ми...  female  2021-02-24   \n",
       "12    Здравствуйте, Евгений Альбертович! Куда и с ка...  female  2021-02-14   \n",
       "...                                                 ...     ...         ...   \n",
       "6848  Здравствуйте, обратилась к терапевту с болью в...  female  2012-04-13   \n",
       "6855  Здравствуйте Евгений Альбертович. Я из Находки...  female  2012-04-02   \n",
       "6861  Здравствуйте! У меня муж ночью сильно храпит. ...  female  2012-03-25   \n",
       "6867  Здравствуйте. Подскажите когда и где в ближайш...  female  2012-02-22   \n",
       "6871  Здравствуйте Евгений Альбертович! У меня к Вам...  female  2012-03-02   \n",
       "\n",
       "                                                cleaned  \\\n",
       "2     добрый день евгений альбертович ребенку года с...   \n",
       "4     здравствуйте хочу оставить отзыв восемь лет мо...   \n",
       "5     здравствуйте в году ребенку сейчас ему лет уда...   \n",
       "8     здравствуйте скажите пожалуйста может ли минол...   \n",
       "12    здравствуйте евгений альбертович куда и с каки...   \n",
       "...                                                 ...   \n",
       "6848  здравствуйте обратилась к терапевту с болью в ...   \n",
       "6855  здравствуйте евгений альбертович я из находки ...   \n",
       "6861  здравствуйте у меня муж ночью сильно храпит чт...   \n",
       "6867  здравствуйте подскажите когда и где в ближайше...   \n",
       "6871  здравствуйте евгений альбертович у меня к вам ...   \n",
       "\n",
       "                                             lemmatized  review_len  w_count  \\\n",
       "2     добрый день евгений альбертович ребёнок год ст...         332       46   \n",
       "4     здравствовать хотеть оставить отзыв восемь год...         530       59   \n",
       "5     здравствовать год ребёнок сейчас год удалить а...         274       34   \n",
       "8     здравствовать сказать пожалуйста ли минолексин...         122       15   \n",
       "12    здравствовать евгений альбертович куда какой о...         157       20   \n",
       "...                                                 ...         ...      ...   \n",
       "6848  здравствовать обратиться терапевт боль горлеор...         428       50   \n",
       "6855  здравствовать евгений альбертович находка зват...         456       54   \n",
       "6861  здравствовать муж ночь сильно храпеть можно сд...          82       11   \n",
       "6867  здравствовать подсказать где близкий время мож...          70        9   \n",
       "6871  здравствовать евгений альбертович два вопрос к...         546       69   \n",
       "\n",
       "      middle_words  \n",
       "2         6.239130  \n",
       "4         8.000000  \n",
       "5         6.852941  \n",
       "8         7.200000  \n",
       "12        6.900000  \n",
       "...            ...  \n",
       "6848      7.580000  \n",
       "6855      7.462963  \n",
       "6861      6.545455  \n",
       "6867      6.888889  \n",
       "6871      6.927536  \n",
       "\n",
       "[1292 rows x 8 columns]"
      ]
     },
     "execution_count": 42,
     "metadata": {},
     "output_type": "execute_result"
    }
   ],
   "source": [
    "puk = info[info.gender=='female']\n",
    "puk"
   ]
  },
  {
   "cell_type": "code",
   "execution_count": 43,
   "id": "d8c28aa4",
   "metadata": {},
   "outputs": [
    {
     "data": {
      "text/plain": [
       "[('добрый день', 239),\n",
       " ('подсказать пожалуйста', 165),\n",
       " ('евгений альбертович', 151),\n",
       " ('заранее спасибо', 109),\n",
       " ('можно ли', 103),\n",
       " ('год назад', 92),\n",
       " ('поставить диагноз', 84),\n",
       " ('здравствовать евгений', 83),\n",
       " ('сказать пожалуйста', 68),\n",
       " ('попасть приём', 60),\n",
       " ('возможный ли', 59),\n",
       " ('спасибо ответ', 57),\n",
       " ('врач сказать', 51),\n",
       " ('ребёнок год', 48),\n",
       " ('ваш ответ', 44),\n",
       " ('сын год', 43),\n",
       " ('нужный ли', 43),\n",
       " ('делать операция', 40),\n",
       " ('можно сделать', 35),\n",
       " ('заранее благодарить', 35)]"
      ]
     },
     "execution_count": 43,
     "metadata": {},
     "output_type": "execute_result"
    }
   ],
   "source": [
    "girl = top_words(puk['lemmatized'], 20)\n",
    "girl"
   ]
  },
  {
   "cell_type": "code",
   "execution_count": 44,
   "id": "196eb5ad",
   "metadata": {},
   "outputs": [
    {
     "data": {
      "application/vnd.plotly.v1+json": {
       "config": {
        "linkText": "Export to plot.ly",
        "plotlyServerURL": "https://plot.ly",
        "showLink": true
       },
       "data": [
        {
         "marker": {
          "color": "rgba(255, 153, 51, 0.6)",
          "line": {
           "color": "rgba(255, 153, 51, 1.0)",
           "width": 1
          }
         },
         "name": "Frequency",
         "orientation": "v",
         "text": "",
         "type": "bar",
         "x": [
          "добрый день",
          "подсказать пожалуйста",
          "евгений альбертович",
          "заранее спасибо",
          "можно ли",
          "год назад",
          "поставить диагноз",
          "здравствовать евгений",
          "сказать пожалуйста",
          "попасть приём",
          "возможный ли",
          "спасибо ответ",
          "врач сказать",
          "ребёнок год",
          "ваш ответ",
          "сын год",
          "нужный ли",
          "делать операция",
          "можно сделать",
          "заранее благодарить"
         ],
         "y": [
          239,
          165,
          151,
          109,
          103,
          92,
          84,
          83,
          68,
          60,
          59,
          57,
          51,
          48,
          44,
          43,
          43,
          40,
          35,
          35
         ]
        }
       ],
       "layout": {
        "legend": {
         "bgcolor": "#F5F6F9",
         "font": {
          "color": "#4D5663"
         }
        },
        "paper_bgcolor": "#F5F6F9",
        "plot_bgcolor": "#F5F6F9",
        "template": {
         "data": {
          "bar": [
           {
            "error_x": {
             "color": "#2a3f5f"
            },
            "error_y": {
             "color": "#2a3f5f"
            },
            "marker": {
             "line": {
              "color": "#E5ECF6",
              "width": 0.5
             },
             "pattern": {
              "fillmode": "overlay",
              "size": 10,
              "solidity": 0.2
             }
            },
            "type": "bar"
           }
          ],
          "barpolar": [
           {
            "marker": {
             "line": {
              "color": "#E5ECF6",
              "width": 0.5
             },
             "pattern": {
              "fillmode": "overlay",
              "size": 10,
              "solidity": 0.2
             }
            },
            "type": "barpolar"
           }
          ],
          "carpet": [
           {
            "aaxis": {
             "endlinecolor": "#2a3f5f",
             "gridcolor": "white",
             "linecolor": "white",
             "minorgridcolor": "white",
             "startlinecolor": "#2a3f5f"
            },
            "baxis": {
             "endlinecolor": "#2a3f5f",
             "gridcolor": "white",
             "linecolor": "white",
             "minorgridcolor": "white",
             "startlinecolor": "#2a3f5f"
            },
            "type": "carpet"
           }
          ],
          "choropleth": [
           {
            "colorbar": {
             "outlinewidth": 0,
             "ticks": ""
            },
            "type": "choropleth"
           }
          ],
          "contour": [
           {
            "colorbar": {
             "outlinewidth": 0,
             "ticks": ""
            },
            "colorscale": [
             [
              0,
              "#0d0887"
             ],
             [
              0.1111111111111111,
              "#46039f"
             ],
             [
              0.2222222222222222,
              "#7201a8"
             ],
             [
              0.3333333333333333,
              "#9c179e"
             ],
             [
              0.4444444444444444,
              "#bd3786"
             ],
             [
              0.5555555555555556,
              "#d8576b"
             ],
             [
              0.6666666666666666,
              "#ed7953"
             ],
             [
              0.7777777777777778,
              "#fb9f3a"
             ],
             [
              0.8888888888888888,
              "#fdca26"
             ],
             [
              1,
              "#f0f921"
             ]
            ],
            "type": "contour"
           }
          ],
          "contourcarpet": [
           {
            "colorbar": {
             "outlinewidth": 0,
             "ticks": ""
            },
            "type": "contourcarpet"
           }
          ],
          "heatmap": [
           {
            "colorbar": {
             "outlinewidth": 0,
             "ticks": ""
            },
            "colorscale": [
             [
              0,
              "#0d0887"
             ],
             [
              0.1111111111111111,
              "#46039f"
             ],
             [
              0.2222222222222222,
              "#7201a8"
             ],
             [
              0.3333333333333333,
              "#9c179e"
             ],
             [
              0.4444444444444444,
              "#bd3786"
             ],
             [
              0.5555555555555556,
              "#d8576b"
             ],
             [
              0.6666666666666666,
              "#ed7953"
             ],
             [
              0.7777777777777778,
              "#fb9f3a"
             ],
             [
              0.8888888888888888,
              "#fdca26"
             ],
             [
              1,
              "#f0f921"
             ]
            ],
            "type": "heatmap"
           }
          ],
          "heatmapgl": [
           {
            "colorbar": {
             "outlinewidth": 0,
             "ticks": ""
            },
            "colorscale": [
             [
              0,
              "#0d0887"
             ],
             [
              0.1111111111111111,
              "#46039f"
             ],
             [
              0.2222222222222222,
              "#7201a8"
             ],
             [
              0.3333333333333333,
              "#9c179e"
             ],
             [
              0.4444444444444444,
              "#bd3786"
             ],
             [
              0.5555555555555556,
              "#d8576b"
             ],
             [
              0.6666666666666666,
              "#ed7953"
             ],
             [
              0.7777777777777778,
              "#fb9f3a"
             ],
             [
              0.8888888888888888,
              "#fdca26"
             ],
             [
              1,
              "#f0f921"
             ]
            ],
            "type": "heatmapgl"
           }
          ],
          "histogram": [
           {
            "marker": {
             "pattern": {
              "fillmode": "overlay",
              "size": 10,
              "solidity": 0.2
             }
            },
            "type": "histogram"
           }
          ],
          "histogram2d": [
           {
            "colorbar": {
             "outlinewidth": 0,
             "ticks": ""
            },
            "colorscale": [
             [
              0,
              "#0d0887"
             ],
             [
              0.1111111111111111,
              "#46039f"
             ],
             [
              0.2222222222222222,
              "#7201a8"
             ],
             [
              0.3333333333333333,
              "#9c179e"
             ],
             [
              0.4444444444444444,
              "#bd3786"
             ],
             [
              0.5555555555555556,
              "#d8576b"
             ],
             [
              0.6666666666666666,
              "#ed7953"
             ],
             [
              0.7777777777777778,
              "#fb9f3a"
             ],
             [
              0.8888888888888888,
              "#fdca26"
             ],
             [
              1,
              "#f0f921"
             ]
            ],
            "type": "histogram2d"
           }
          ],
          "histogram2dcontour": [
           {
            "colorbar": {
             "outlinewidth": 0,
             "ticks": ""
            },
            "colorscale": [
             [
              0,
              "#0d0887"
             ],
             [
              0.1111111111111111,
              "#46039f"
             ],
             [
              0.2222222222222222,
              "#7201a8"
             ],
             [
              0.3333333333333333,
              "#9c179e"
             ],
             [
              0.4444444444444444,
              "#bd3786"
             ],
             [
              0.5555555555555556,
              "#d8576b"
             ],
             [
              0.6666666666666666,
              "#ed7953"
             ],
             [
              0.7777777777777778,
              "#fb9f3a"
             ],
             [
              0.8888888888888888,
              "#fdca26"
             ],
             [
              1,
              "#f0f921"
             ]
            ],
            "type": "histogram2dcontour"
           }
          ],
          "mesh3d": [
           {
            "colorbar": {
             "outlinewidth": 0,
             "ticks": ""
            },
            "type": "mesh3d"
           }
          ],
          "parcoords": [
           {
            "line": {
             "colorbar": {
              "outlinewidth": 0,
              "ticks": ""
             }
            },
            "type": "parcoords"
           }
          ],
          "pie": [
           {
            "automargin": true,
            "type": "pie"
           }
          ],
          "scatter": [
           {
            "marker": {
             "colorbar": {
              "outlinewidth": 0,
              "ticks": ""
             }
            },
            "type": "scatter"
           }
          ],
          "scatter3d": [
           {
            "line": {
             "colorbar": {
              "outlinewidth": 0,
              "ticks": ""
             }
            },
            "marker": {
             "colorbar": {
              "outlinewidth": 0,
              "ticks": ""
             }
            },
            "type": "scatter3d"
           }
          ],
          "scattercarpet": [
           {
            "marker": {
             "colorbar": {
              "outlinewidth": 0,
              "ticks": ""
             }
            },
            "type": "scattercarpet"
           }
          ],
          "scattergeo": [
           {
            "marker": {
             "colorbar": {
              "outlinewidth": 0,
              "ticks": ""
             }
            },
            "type": "scattergeo"
           }
          ],
          "scattergl": [
           {
            "marker": {
             "colorbar": {
              "outlinewidth": 0,
              "ticks": ""
             }
            },
            "type": "scattergl"
           }
          ],
          "scattermapbox": [
           {
            "marker": {
             "colorbar": {
              "outlinewidth": 0,
              "ticks": ""
             }
            },
            "type": "scattermapbox"
           }
          ],
          "scatterpolar": [
           {
            "marker": {
             "colorbar": {
              "outlinewidth": 0,
              "ticks": ""
             }
            },
            "type": "scatterpolar"
           }
          ],
          "scatterpolargl": [
           {
            "marker": {
             "colorbar": {
              "outlinewidth": 0,
              "ticks": ""
             }
            },
            "type": "scatterpolargl"
           }
          ],
          "scatterternary": [
           {
            "marker": {
             "colorbar": {
              "outlinewidth": 0,
              "ticks": ""
             }
            },
            "type": "scatterternary"
           }
          ],
          "surface": [
           {
            "colorbar": {
             "outlinewidth": 0,
             "ticks": ""
            },
            "colorscale": [
             [
              0,
              "#0d0887"
             ],
             [
              0.1111111111111111,
              "#46039f"
             ],
             [
              0.2222222222222222,
              "#7201a8"
             ],
             [
              0.3333333333333333,
              "#9c179e"
             ],
             [
              0.4444444444444444,
              "#bd3786"
             ],
             [
              0.5555555555555556,
              "#d8576b"
             ],
             [
              0.6666666666666666,
              "#ed7953"
             ],
             [
              0.7777777777777778,
              "#fb9f3a"
             ],
             [
              0.8888888888888888,
              "#fdca26"
             ],
             [
              1,
              "#f0f921"
             ]
            ],
            "type": "surface"
           }
          ],
          "table": [
           {
            "cells": {
             "fill": {
              "color": "#EBF0F8"
             },
             "line": {
              "color": "white"
             }
            },
            "header": {
             "fill": {
              "color": "#C8D4E3"
             },
             "line": {
              "color": "white"
             }
            },
            "type": "table"
           }
          ]
         },
         "layout": {
          "annotationdefaults": {
           "arrowcolor": "#2a3f5f",
           "arrowhead": 0,
           "arrowwidth": 1
          },
          "autotypenumbers": "strict",
          "coloraxis": {
           "colorbar": {
            "outlinewidth": 0,
            "ticks": ""
           }
          },
          "colorscale": {
           "diverging": [
            [
             0,
             "#8e0152"
            ],
            [
             0.1,
             "#c51b7d"
            ],
            [
             0.2,
             "#de77ae"
            ],
            [
             0.3,
             "#f1b6da"
            ],
            [
             0.4,
             "#fde0ef"
            ],
            [
             0.5,
             "#f7f7f7"
            ],
            [
             0.6,
             "#e6f5d0"
            ],
            [
             0.7,
             "#b8e186"
            ],
            [
             0.8,
             "#7fbc41"
            ],
            [
             0.9,
             "#4d9221"
            ],
            [
             1,
             "#276419"
            ]
           ],
           "sequential": [
            [
             0,
             "#0d0887"
            ],
            [
             0.1111111111111111,
             "#46039f"
            ],
            [
             0.2222222222222222,
             "#7201a8"
            ],
            [
             0.3333333333333333,
             "#9c179e"
            ],
            [
             0.4444444444444444,
             "#bd3786"
            ],
            [
             0.5555555555555556,
             "#d8576b"
            ],
            [
             0.6666666666666666,
             "#ed7953"
            ],
            [
             0.7777777777777778,
             "#fb9f3a"
            ],
            [
             0.8888888888888888,
             "#fdca26"
            ],
            [
             1,
             "#f0f921"
            ]
           ],
           "sequentialminus": [
            [
             0,
             "#0d0887"
            ],
            [
             0.1111111111111111,
             "#46039f"
            ],
            [
             0.2222222222222222,
             "#7201a8"
            ],
            [
             0.3333333333333333,
             "#9c179e"
            ],
            [
             0.4444444444444444,
             "#bd3786"
            ],
            [
             0.5555555555555556,
             "#d8576b"
            ],
            [
             0.6666666666666666,
             "#ed7953"
            ],
            [
             0.7777777777777778,
             "#fb9f3a"
            ],
            [
             0.8888888888888888,
             "#fdca26"
            ],
            [
             1,
             "#f0f921"
            ]
           ]
          },
          "colorway": [
           "#636efa",
           "#EF553B",
           "#00cc96",
           "#ab63fa",
           "#FFA15A",
           "#19d3f3",
           "#FF6692",
           "#B6E880",
           "#FF97FF",
           "#FECB52"
          ],
          "font": {
           "color": "#2a3f5f"
          },
          "geo": {
           "bgcolor": "white",
           "lakecolor": "white",
           "landcolor": "#E5ECF6",
           "showlakes": true,
           "showland": true,
           "subunitcolor": "white"
          },
          "hoverlabel": {
           "align": "left"
          },
          "hovermode": "closest",
          "mapbox": {
           "style": "light"
          },
          "paper_bgcolor": "white",
          "plot_bgcolor": "#E5ECF6",
          "polar": {
           "angularaxis": {
            "gridcolor": "white",
            "linecolor": "white",
            "ticks": ""
           },
           "bgcolor": "#E5ECF6",
           "radialaxis": {
            "gridcolor": "white",
            "linecolor": "white",
            "ticks": ""
           }
          },
          "scene": {
           "xaxis": {
            "backgroundcolor": "#E5ECF6",
            "gridcolor": "white",
            "gridwidth": 2,
            "linecolor": "white",
            "showbackground": true,
            "ticks": "",
            "zerolinecolor": "white"
           },
           "yaxis": {
            "backgroundcolor": "#E5ECF6",
            "gridcolor": "white",
            "gridwidth": 2,
            "linecolor": "white",
            "showbackground": true,
            "ticks": "",
            "zerolinecolor": "white"
           },
           "zaxis": {
            "backgroundcolor": "#E5ECF6",
            "gridcolor": "white",
            "gridwidth": 2,
            "linecolor": "white",
            "showbackground": true,
            "ticks": "",
            "zerolinecolor": "white"
           }
          },
          "shapedefaults": {
           "line": {
            "color": "#2a3f5f"
           }
          },
          "ternary": {
           "aaxis": {
            "gridcolor": "white",
            "linecolor": "white",
            "ticks": ""
           },
           "baxis": {
            "gridcolor": "white",
            "linecolor": "white",
            "ticks": ""
           },
           "bgcolor": "#E5ECF6",
           "caxis": {
            "gridcolor": "white",
            "linecolor": "white",
            "ticks": ""
           }
          },
          "title": {
           "x": 0.05
          },
          "xaxis": {
           "automargin": true,
           "gridcolor": "white",
           "linecolor": "white",
           "ticks": "",
           "title": {
            "standoff": 15
           },
           "zerolinecolor": "white",
           "zerolinewidth": 2
          },
          "yaxis": {
           "automargin": true,
           "gridcolor": "white",
           "linecolor": "white",
           "ticks": "",
           "title": {
            "standoff": 15
           },
           "zerolinecolor": "white",
           "zerolinewidth": 2
          }
         }
        },
        "title": {
         "font": {
          "color": "#4D5663"
         },
         "text": "Биграмма женская"
        },
        "xaxis": {
         "gridcolor": "#E1E5ED",
         "showgrid": true,
         "tickfont": {
          "color": "#4D5663"
         },
         "title": {
          "font": {
           "color": "#4D5663"
          },
          "text": "Биграмма"
         },
         "zerolinecolor": "#E1E5ED"
        },
        "yaxis": {
         "gridcolor": "#E1E5ED",
         "showgrid": true,
         "tickfont": {
          "color": "#4D5663"
         },
         "title": {
          "font": {
           "color": "#4D5663"
          },
          "text": "Количество"
         },
         "zerolinecolor": "#E1E5ED"
        }
       }
      },
      "text/html": [
       "<div>                            <div id=\"fb953077-96a6-48e6-8929-578e8d6ff57e\" class=\"plotly-graph-div\" style=\"height:525px; width:100%;\"></div>            <script type=\"text/javascript\">                require([\"plotly\"], function(Plotly) {                    window.PLOTLYENV=window.PLOTLYENV || {};\n",
       "                    window.PLOTLYENV.BASE_URL='https://plot.ly';                                    if (document.getElementById(\"fb953077-96a6-48e6-8929-578e8d6ff57e\")) {                    Plotly.newPlot(                        \"fb953077-96a6-48e6-8929-578e8d6ff57e\",                        [{\"marker\":{\"color\":\"rgba(255, 153, 51, 0.6)\",\"line\":{\"color\":\"rgba(255, 153, 51, 1.0)\",\"width\":1}},\"name\":\"Frequency\",\"orientation\":\"v\",\"text\":\"\",\"type\":\"bar\",\"x\":[\"\\u0434\\u043e\\u0431\\u0440\\u044b\\u0439 \\u0434\\u0435\\u043d\\u044c\",\"\\u043f\\u043e\\u0434\\u0441\\u043a\\u0430\\u0437\\u0430\\u0442\\u044c \\u043f\\u043e\\u0436\\u0430\\u043b\\u0443\\u0439\\u0441\\u0442\\u0430\",\"\\u0435\\u0432\\u0433\\u0435\\u043d\\u0438\\u0439 \\u0430\\u043b\\u044c\\u0431\\u0435\\u0440\\u0442\\u043e\\u0432\\u0438\\u0447\",\"\\u0437\\u0430\\u0440\\u0430\\u043d\\u0435\\u0435 \\u0441\\u043f\\u0430\\u0441\\u0438\\u0431\\u043e\",\"\\u043c\\u043e\\u0436\\u043d\\u043e \\u043b\\u0438\",\"\\u0433\\u043e\\u0434 \\u043d\\u0430\\u0437\\u0430\\u0434\",\"\\u043f\\u043e\\u0441\\u0442\\u0430\\u0432\\u0438\\u0442\\u044c \\u0434\\u0438\\u0430\\u0433\\u043d\\u043e\\u0437\",\"\\u0437\\u0434\\u0440\\u0430\\u0432\\u0441\\u0442\\u0432\\u043e\\u0432\\u0430\\u0442\\u044c \\u0435\\u0432\\u0433\\u0435\\u043d\\u0438\\u0439\",\"\\u0441\\u043a\\u0430\\u0437\\u0430\\u0442\\u044c \\u043f\\u043e\\u0436\\u0430\\u043b\\u0443\\u0439\\u0441\\u0442\\u0430\",\"\\u043f\\u043e\\u043f\\u0430\\u0441\\u0442\\u044c \\u043f\\u0440\\u0438\\u0451\\u043c\",\"\\u0432\\u043e\\u0437\\u043c\\u043e\\u0436\\u043d\\u044b\\u0439 \\u043b\\u0438\",\"\\u0441\\u043f\\u0430\\u0441\\u0438\\u0431\\u043e \\u043e\\u0442\\u0432\\u0435\\u0442\",\"\\u0432\\u0440\\u0430\\u0447 \\u0441\\u043a\\u0430\\u0437\\u0430\\u0442\\u044c\",\"\\u0440\\u0435\\u0431\\u0451\\u043d\\u043e\\u043a \\u0433\\u043e\\u0434\",\"\\u0432\\u0430\\u0448 \\u043e\\u0442\\u0432\\u0435\\u0442\",\"\\u0441\\u044b\\u043d \\u0433\\u043e\\u0434\",\"\\u043d\\u0443\\u0436\\u043d\\u044b\\u0439 \\u043b\\u0438\",\"\\u0434\\u0435\\u043b\\u0430\\u0442\\u044c \\u043e\\u043f\\u0435\\u0440\\u0430\\u0446\\u0438\\u044f\",\"\\u043c\\u043e\\u0436\\u043d\\u043e \\u0441\\u0434\\u0435\\u043b\\u0430\\u0442\\u044c\",\"\\u0437\\u0430\\u0440\\u0430\\u043d\\u0435\\u0435 \\u0431\\u043b\\u0430\\u0433\\u043e\\u0434\\u0430\\u0440\\u0438\\u0442\\u044c\"],\"y\":[239,165,151,109,103,92,84,83,68,60,59,57,51,48,44,43,43,40,35,35]}],                        {\"legend\":{\"bgcolor\":\"#F5F6F9\",\"font\":{\"color\":\"#4D5663\"}},\"paper_bgcolor\":\"#F5F6F9\",\"plot_bgcolor\":\"#F5F6F9\",\"template\":{\"data\":{\"bar\":[{\"error_x\":{\"color\":\"#2a3f5f\"},\"error_y\":{\"color\":\"#2a3f5f\"},\"marker\":{\"line\":{\"color\":\"#E5ECF6\",\"width\":0.5},\"pattern\":{\"fillmode\":\"overlay\",\"size\":10,\"solidity\":0.2}},\"type\":\"bar\"}],\"barpolar\":[{\"marker\":{\"line\":{\"color\":\"#E5ECF6\",\"width\":0.5},\"pattern\":{\"fillmode\":\"overlay\",\"size\":10,\"solidity\":0.2}},\"type\":\"barpolar\"}],\"carpet\":[{\"aaxis\":{\"endlinecolor\":\"#2a3f5f\",\"gridcolor\":\"white\",\"linecolor\":\"white\",\"minorgridcolor\":\"white\",\"startlinecolor\":\"#2a3f5f\"},\"baxis\":{\"endlinecolor\":\"#2a3f5f\",\"gridcolor\":\"white\",\"linecolor\":\"white\",\"minorgridcolor\":\"white\",\"startlinecolor\":\"#2a3f5f\"},\"type\":\"carpet\"}],\"choropleth\":[{\"colorbar\":{\"outlinewidth\":0,\"ticks\":\"\"},\"type\":\"choropleth\"}],\"contour\":[{\"colorbar\":{\"outlinewidth\":0,\"ticks\":\"\"},\"colorscale\":[[0.0,\"#0d0887\"],[0.1111111111111111,\"#46039f\"],[0.2222222222222222,\"#7201a8\"],[0.3333333333333333,\"#9c179e\"],[0.4444444444444444,\"#bd3786\"],[0.5555555555555556,\"#d8576b\"],[0.6666666666666666,\"#ed7953\"],[0.7777777777777778,\"#fb9f3a\"],[0.8888888888888888,\"#fdca26\"],[1.0,\"#f0f921\"]],\"type\":\"contour\"}],\"contourcarpet\":[{\"colorbar\":{\"outlinewidth\":0,\"ticks\":\"\"},\"type\":\"contourcarpet\"}],\"heatmap\":[{\"colorbar\":{\"outlinewidth\":0,\"ticks\":\"\"},\"colorscale\":[[0.0,\"#0d0887\"],[0.1111111111111111,\"#46039f\"],[0.2222222222222222,\"#7201a8\"],[0.3333333333333333,\"#9c179e\"],[0.4444444444444444,\"#bd3786\"],[0.5555555555555556,\"#d8576b\"],[0.6666666666666666,\"#ed7953\"],[0.7777777777777778,\"#fb9f3a\"],[0.8888888888888888,\"#fdca26\"],[1.0,\"#f0f921\"]],\"type\":\"heatmap\"}],\"heatmapgl\":[{\"colorbar\":{\"outlinewidth\":0,\"ticks\":\"\"},\"colorscale\":[[0.0,\"#0d0887\"],[0.1111111111111111,\"#46039f\"],[0.2222222222222222,\"#7201a8\"],[0.3333333333333333,\"#9c179e\"],[0.4444444444444444,\"#bd3786\"],[0.5555555555555556,\"#d8576b\"],[0.6666666666666666,\"#ed7953\"],[0.7777777777777778,\"#fb9f3a\"],[0.8888888888888888,\"#fdca26\"],[1.0,\"#f0f921\"]],\"type\":\"heatmapgl\"}],\"histogram\":[{\"marker\":{\"pattern\":{\"fillmode\":\"overlay\",\"size\":10,\"solidity\":0.2}},\"type\":\"histogram\"}],\"histogram2d\":[{\"colorbar\":{\"outlinewidth\":0,\"ticks\":\"\"},\"colorscale\":[[0.0,\"#0d0887\"],[0.1111111111111111,\"#46039f\"],[0.2222222222222222,\"#7201a8\"],[0.3333333333333333,\"#9c179e\"],[0.4444444444444444,\"#bd3786\"],[0.5555555555555556,\"#d8576b\"],[0.6666666666666666,\"#ed7953\"],[0.7777777777777778,\"#fb9f3a\"],[0.8888888888888888,\"#fdca26\"],[1.0,\"#f0f921\"]],\"type\":\"histogram2d\"}],\"histogram2dcontour\":[{\"colorbar\":{\"outlinewidth\":0,\"ticks\":\"\"},\"colorscale\":[[0.0,\"#0d0887\"],[0.1111111111111111,\"#46039f\"],[0.2222222222222222,\"#7201a8\"],[0.3333333333333333,\"#9c179e\"],[0.4444444444444444,\"#bd3786\"],[0.5555555555555556,\"#d8576b\"],[0.6666666666666666,\"#ed7953\"],[0.7777777777777778,\"#fb9f3a\"],[0.8888888888888888,\"#fdca26\"],[1.0,\"#f0f921\"]],\"type\":\"histogram2dcontour\"}],\"mesh3d\":[{\"colorbar\":{\"outlinewidth\":0,\"ticks\":\"\"},\"type\":\"mesh3d\"}],\"parcoords\":[{\"line\":{\"colorbar\":{\"outlinewidth\":0,\"ticks\":\"\"}},\"type\":\"parcoords\"}],\"pie\":[{\"automargin\":true,\"type\":\"pie\"}],\"scatter\":[{\"marker\":{\"colorbar\":{\"outlinewidth\":0,\"ticks\":\"\"}},\"type\":\"scatter\"}],\"scatter3d\":[{\"line\":{\"colorbar\":{\"outlinewidth\":0,\"ticks\":\"\"}},\"marker\":{\"colorbar\":{\"outlinewidth\":0,\"ticks\":\"\"}},\"type\":\"scatter3d\"}],\"scattercarpet\":[{\"marker\":{\"colorbar\":{\"outlinewidth\":0,\"ticks\":\"\"}},\"type\":\"scattercarpet\"}],\"scattergeo\":[{\"marker\":{\"colorbar\":{\"outlinewidth\":0,\"ticks\":\"\"}},\"type\":\"scattergeo\"}],\"scattergl\":[{\"marker\":{\"colorbar\":{\"outlinewidth\":0,\"ticks\":\"\"}},\"type\":\"scattergl\"}],\"scattermapbox\":[{\"marker\":{\"colorbar\":{\"outlinewidth\":0,\"ticks\":\"\"}},\"type\":\"scattermapbox\"}],\"scatterpolar\":[{\"marker\":{\"colorbar\":{\"outlinewidth\":0,\"ticks\":\"\"}},\"type\":\"scatterpolar\"}],\"scatterpolargl\":[{\"marker\":{\"colorbar\":{\"outlinewidth\":0,\"ticks\":\"\"}},\"type\":\"scatterpolargl\"}],\"scatterternary\":[{\"marker\":{\"colorbar\":{\"outlinewidth\":0,\"ticks\":\"\"}},\"type\":\"scatterternary\"}],\"surface\":[{\"colorbar\":{\"outlinewidth\":0,\"ticks\":\"\"},\"colorscale\":[[0.0,\"#0d0887\"],[0.1111111111111111,\"#46039f\"],[0.2222222222222222,\"#7201a8\"],[0.3333333333333333,\"#9c179e\"],[0.4444444444444444,\"#bd3786\"],[0.5555555555555556,\"#d8576b\"],[0.6666666666666666,\"#ed7953\"],[0.7777777777777778,\"#fb9f3a\"],[0.8888888888888888,\"#fdca26\"],[1.0,\"#f0f921\"]],\"type\":\"surface\"}],\"table\":[{\"cells\":{\"fill\":{\"color\":\"#EBF0F8\"},\"line\":{\"color\":\"white\"}},\"header\":{\"fill\":{\"color\":\"#C8D4E3\"},\"line\":{\"color\":\"white\"}},\"type\":\"table\"}]},\"layout\":{\"annotationdefaults\":{\"arrowcolor\":\"#2a3f5f\",\"arrowhead\":0,\"arrowwidth\":1},\"autotypenumbers\":\"strict\",\"coloraxis\":{\"colorbar\":{\"outlinewidth\":0,\"ticks\":\"\"}},\"colorscale\":{\"diverging\":[[0,\"#8e0152\"],[0.1,\"#c51b7d\"],[0.2,\"#de77ae\"],[0.3,\"#f1b6da\"],[0.4,\"#fde0ef\"],[0.5,\"#f7f7f7\"],[0.6,\"#e6f5d0\"],[0.7,\"#b8e186\"],[0.8,\"#7fbc41\"],[0.9,\"#4d9221\"],[1,\"#276419\"]],\"sequential\":[[0.0,\"#0d0887\"],[0.1111111111111111,\"#46039f\"],[0.2222222222222222,\"#7201a8\"],[0.3333333333333333,\"#9c179e\"],[0.4444444444444444,\"#bd3786\"],[0.5555555555555556,\"#d8576b\"],[0.6666666666666666,\"#ed7953\"],[0.7777777777777778,\"#fb9f3a\"],[0.8888888888888888,\"#fdca26\"],[1.0,\"#f0f921\"]],\"sequentialminus\":[[0.0,\"#0d0887\"],[0.1111111111111111,\"#46039f\"],[0.2222222222222222,\"#7201a8\"],[0.3333333333333333,\"#9c179e\"],[0.4444444444444444,\"#bd3786\"],[0.5555555555555556,\"#d8576b\"],[0.6666666666666666,\"#ed7953\"],[0.7777777777777778,\"#fb9f3a\"],[0.8888888888888888,\"#fdca26\"],[1.0,\"#f0f921\"]]},\"colorway\":[\"#636efa\",\"#EF553B\",\"#00cc96\",\"#ab63fa\",\"#FFA15A\",\"#19d3f3\",\"#FF6692\",\"#B6E880\",\"#FF97FF\",\"#FECB52\"],\"font\":{\"color\":\"#2a3f5f\"},\"geo\":{\"bgcolor\":\"white\",\"lakecolor\":\"white\",\"landcolor\":\"#E5ECF6\",\"showlakes\":true,\"showland\":true,\"subunitcolor\":\"white\"},\"hoverlabel\":{\"align\":\"left\"},\"hovermode\":\"closest\",\"mapbox\":{\"style\":\"light\"},\"paper_bgcolor\":\"white\",\"plot_bgcolor\":\"#E5ECF6\",\"polar\":{\"angularaxis\":{\"gridcolor\":\"white\",\"linecolor\":\"white\",\"ticks\":\"\"},\"bgcolor\":\"#E5ECF6\",\"radialaxis\":{\"gridcolor\":\"white\",\"linecolor\":\"white\",\"ticks\":\"\"}},\"scene\":{\"xaxis\":{\"backgroundcolor\":\"#E5ECF6\",\"gridcolor\":\"white\",\"gridwidth\":2,\"linecolor\":\"white\",\"showbackground\":true,\"ticks\":\"\",\"zerolinecolor\":\"white\"},\"yaxis\":{\"backgroundcolor\":\"#E5ECF6\",\"gridcolor\":\"white\",\"gridwidth\":2,\"linecolor\":\"white\",\"showbackground\":true,\"ticks\":\"\",\"zerolinecolor\":\"white\"},\"zaxis\":{\"backgroundcolor\":\"#E5ECF6\",\"gridcolor\":\"white\",\"gridwidth\":2,\"linecolor\":\"white\",\"showbackground\":true,\"ticks\":\"\",\"zerolinecolor\":\"white\"}},\"shapedefaults\":{\"line\":{\"color\":\"#2a3f5f\"}},\"ternary\":{\"aaxis\":{\"gridcolor\":\"white\",\"linecolor\":\"white\",\"ticks\":\"\"},\"baxis\":{\"gridcolor\":\"white\",\"linecolor\":\"white\",\"ticks\":\"\"},\"bgcolor\":\"#E5ECF6\",\"caxis\":{\"gridcolor\":\"white\",\"linecolor\":\"white\",\"ticks\":\"\"}},\"title\":{\"x\":0.05},\"xaxis\":{\"automargin\":true,\"gridcolor\":\"white\",\"linecolor\":\"white\",\"ticks\":\"\",\"title\":{\"standoff\":15},\"zerolinecolor\":\"white\",\"zerolinewidth\":2},\"yaxis\":{\"automargin\":true,\"gridcolor\":\"white\",\"linecolor\":\"white\",\"ticks\":\"\",\"title\":{\"standoff\":15},\"zerolinecolor\":\"white\",\"zerolinewidth\":2}}},\"title\":{\"font\":{\"color\":\"#4D5663\"},\"text\":\"\\u0411\\u0438\\u0433\\u0440\\u0430\\u043c\\u043c\\u0430 \\u0436\\u0435\\u043d\\u0441\\u043a\\u0430\\u044f\"},\"xaxis\":{\"gridcolor\":\"#E1E5ED\",\"showgrid\":true,\"tickfont\":{\"color\":\"#4D5663\"},\"title\":{\"font\":{\"color\":\"#4D5663\"},\"text\":\"\\u0411\\u0438\\u0433\\u0440\\u0430\\u043c\\u043c\\u0430\"},\"zerolinecolor\":\"#E1E5ED\"},\"yaxis\":{\"gridcolor\":\"#E1E5ED\",\"showgrid\":true,\"tickfont\":{\"color\":\"#4D5663\"},\"title\":{\"font\":{\"color\":\"#4D5663\"},\"text\":\"\\u041a\\u043e\\u043b\\u0438\\u0447\\u0435\\u0441\\u0442\\u0432\\u043e\"},\"zerolinecolor\":\"#E1E5ED\"}},                        {\"showLink\": true, \"linkText\": \"Export to plot.ly\", \"plotlyServerURL\": \"https://plot.ly\", \"responsive\": true}                    ).then(function(){\n",
       "                            \n",
       "var gd = document.getElementById('fb953077-96a6-48e6-8929-578e8d6ff57e');\n",
       "var x = new MutationObserver(function (mutations, observer) {{\n",
       "        var display = window.getComputedStyle(gd).display;\n",
       "        if (!display || display === 'none') {{\n",
       "            console.log([gd, 'removed!']);\n",
       "            Plotly.purge(gd);\n",
       "            observer.disconnect();\n",
       "        }}\n",
       "}});\n",
       "\n",
       "// Listen for the removal of the full notebook cells\n",
       "var notebookContainer = gd.closest('#notebook-container');\n",
       "if (notebookContainer) {{\n",
       "    x.observe(notebookContainer, {childList: true});\n",
       "}}\n",
       "\n",
       "// Listen for the clearing of the current output cell\n",
       "var outputEl = gd.closest('.output');\n",
       "if (outputEl) {{\n",
       "    x.observe(outputEl, {childList: true});\n",
       "}}\n",
       "\n",
       "                        })                };                });            </script>        </div>"
      ]
     },
     "metadata": {},
     "output_type": "display_data"
    }
   ],
   "source": [
    "ustal = pd.DataFrame(girl, columns = ['Bigram', 'Frequency'])\n",
    "ustal = ustal.set_index('Bigram')\n",
    "ustal.iplot(kind='bar', xTitle='Биграмма', yTitle='Количество', title='Биграмма женская')"
   ]
  },
  {
   "cell_type": "markdown",
   "id": "629499db",
   "metadata": {},
   "source": [
    "# Триграммы"
   ]
  },
  {
   "cell_type": "code",
   "execution_count": 45,
   "id": "3809fc35",
   "metadata": {},
   "outputs": [],
   "source": [
    "def top_words(x,n):\n",
    "    vec = CountVectorizer(ngram_range=(3,3)).fit(x)\n",
    "    bow = vec.transform(x)\n",
    "    sum_words = bow.sum(axis = 0)\n",
    "    w = [(word, sum_words[0, idx]) for word, idx in vec.vocabulary_.items()]\n",
    "    w = sorted(w, key = lambda x: x[1], reverse = True)\n",
    "    return w[:n]"
   ]
  },
  {
   "cell_type": "code",
   "execution_count": 46,
   "id": "096f59c3",
   "metadata": {},
   "outputs": [
    {
     "data": {
      "text/plain": [
       "[('здравствовать евгений альбертович', 82),\n",
       " ('добрый день евгений', 39),\n",
       " ('день евгений альбертович', 37),\n",
       " ('заранее спасибо ответ', 37),\n",
       " ('добрый день подсказать', 34),\n",
       " ('здравствовать валерий гамитович', 33),\n",
       " ('день подсказать пожалуйста', 31),\n",
       " ('здравствовать подсказать пожалуйста', 30),\n",
       " ('спасибо ваш ответ', 28),\n",
       " ('год рост вес', 27)]"
      ]
     },
     "execution_count": 46,
     "metadata": {},
     "output_type": "execute_result"
    }
   ],
   "source": [
    "words = top_words(info['lemmatized'], 10)\n",
    "words"
   ]
  },
  {
   "cell_type": "code",
   "execution_count": 47,
   "id": "dc85d11d",
   "metadata": {},
   "outputs": [
    {
     "data": {
      "application/vnd.plotly.v1+json": {
       "config": {
        "linkText": "Export to plot.ly",
        "plotlyServerURL": "https://plot.ly",
        "showLink": true
       },
       "data": [
        {
         "marker": {
          "color": "rgba(255, 153, 51, 0.6)",
          "line": {
           "color": "rgba(255, 153, 51, 1.0)",
           "width": 1
          }
         },
         "name": "Frequency",
         "orientation": "v",
         "text": "",
         "type": "bar",
         "x": [
          "здравствовать евгений альбертович",
          "добрый день евгений",
          "день евгений альбертович",
          "заранее спасибо ответ",
          "добрый день подсказать",
          "здравствовать валерий гамитович",
          "день подсказать пожалуйста",
          "здравствовать подсказать пожалуйста",
          "спасибо ваш ответ",
          "год рост вес"
         ],
         "y": [
          82,
          39,
          37,
          37,
          34,
          33,
          31,
          30,
          28,
          27
         ]
        }
       ],
       "layout": {
        "legend": {
         "bgcolor": "#F5F6F9",
         "font": {
          "color": "#4D5663"
         }
        },
        "paper_bgcolor": "#F5F6F9",
        "plot_bgcolor": "#F5F6F9",
        "template": {
         "data": {
          "bar": [
           {
            "error_x": {
             "color": "#2a3f5f"
            },
            "error_y": {
             "color": "#2a3f5f"
            },
            "marker": {
             "line": {
              "color": "#E5ECF6",
              "width": 0.5
             },
             "pattern": {
              "fillmode": "overlay",
              "size": 10,
              "solidity": 0.2
             }
            },
            "type": "bar"
           }
          ],
          "barpolar": [
           {
            "marker": {
             "line": {
              "color": "#E5ECF6",
              "width": 0.5
             },
             "pattern": {
              "fillmode": "overlay",
              "size": 10,
              "solidity": 0.2
             }
            },
            "type": "barpolar"
           }
          ],
          "carpet": [
           {
            "aaxis": {
             "endlinecolor": "#2a3f5f",
             "gridcolor": "white",
             "linecolor": "white",
             "minorgridcolor": "white",
             "startlinecolor": "#2a3f5f"
            },
            "baxis": {
             "endlinecolor": "#2a3f5f",
             "gridcolor": "white",
             "linecolor": "white",
             "minorgridcolor": "white",
             "startlinecolor": "#2a3f5f"
            },
            "type": "carpet"
           }
          ],
          "choropleth": [
           {
            "colorbar": {
             "outlinewidth": 0,
             "ticks": ""
            },
            "type": "choropleth"
           }
          ],
          "contour": [
           {
            "colorbar": {
             "outlinewidth": 0,
             "ticks": ""
            },
            "colorscale": [
             [
              0,
              "#0d0887"
             ],
             [
              0.1111111111111111,
              "#46039f"
             ],
             [
              0.2222222222222222,
              "#7201a8"
             ],
             [
              0.3333333333333333,
              "#9c179e"
             ],
             [
              0.4444444444444444,
              "#bd3786"
             ],
             [
              0.5555555555555556,
              "#d8576b"
             ],
             [
              0.6666666666666666,
              "#ed7953"
             ],
             [
              0.7777777777777778,
              "#fb9f3a"
             ],
             [
              0.8888888888888888,
              "#fdca26"
             ],
             [
              1,
              "#f0f921"
             ]
            ],
            "type": "contour"
           }
          ],
          "contourcarpet": [
           {
            "colorbar": {
             "outlinewidth": 0,
             "ticks": ""
            },
            "type": "contourcarpet"
           }
          ],
          "heatmap": [
           {
            "colorbar": {
             "outlinewidth": 0,
             "ticks": ""
            },
            "colorscale": [
             [
              0,
              "#0d0887"
             ],
             [
              0.1111111111111111,
              "#46039f"
             ],
             [
              0.2222222222222222,
              "#7201a8"
             ],
             [
              0.3333333333333333,
              "#9c179e"
             ],
             [
              0.4444444444444444,
              "#bd3786"
             ],
             [
              0.5555555555555556,
              "#d8576b"
             ],
             [
              0.6666666666666666,
              "#ed7953"
             ],
             [
              0.7777777777777778,
              "#fb9f3a"
             ],
             [
              0.8888888888888888,
              "#fdca26"
             ],
             [
              1,
              "#f0f921"
             ]
            ],
            "type": "heatmap"
           }
          ],
          "heatmapgl": [
           {
            "colorbar": {
             "outlinewidth": 0,
             "ticks": ""
            },
            "colorscale": [
             [
              0,
              "#0d0887"
             ],
             [
              0.1111111111111111,
              "#46039f"
             ],
             [
              0.2222222222222222,
              "#7201a8"
             ],
             [
              0.3333333333333333,
              "#9c179e"
             ],
             [
              0.4444444444444444,
              "#bd3786"
             ],
             [
              0.5555555555555556,
              "#d8576b"
             ],
             [
              0.6666666666666666,
              "#ed7953"
             ],
             [
              0.7777777777777778,
              "#fb9f3a"
             ],
             [
              0.8888888888888888,
              "#fdca26"
             ],
             [
              1,
              "#f0f921"
             ]
            ],
            "type": "heatmapgl"
           }
          ],
          "histogram": [
           {
            "marker": {
             "pattern": {
              "fillmode": "overlay",
              "size": 10,
              "solidity": 0.2
             }
            },
            "type": "histogram"
           }
          ],
          "histogram2d": [
           {
            "colorbar": {
             "outlinewidth": 0,
             "ticks": ""
            },
            "colorscale": [
             [
              0,
              "#0d0887"
             ],
             [
              0.1111111111111111,
              "#46039f"
             ],
             [
              0.2222222222222222,
              "#7201a8"
             ],
             [
              0.3333333333333333,
              "#9c179e"
             ],
             [
              0.4444444444444444,
              "#bd3786"
             ],
             [
              0.5555555555555556,
              "#d8576b"
             ],
             [
              0.6666666666666666,
              "#ed7953"
             ],
             [
              0.7777777777777778,
              "#fb9f3a"
             ],
             [
              0.8888888888888888,
              "#fdca26"
             ],
             [
              1,
              "#f0f921"
             ]
            ],
            "type": "histogram2d"
           }
          ],
          "histogram2dcontour": [
           {
            "colorbar": {
             "outlinewidth": 0,
             "ticks": ""
            },
            "colorscale": [
             [
              0,
              "#0d0887"
             ],
             [
              0.1111111111111111,
              "#46039f"
             ],
             [
              0.2222222222222222,
              "#7201a8"
             ],
             [
              0.3333333333333333,
              "#9c179e"
             ],
             [
              0.4444444444444444,
              "#bd3786"
             ],
             [
              0.5555555555555556,
              "#d8576b"
             ],
             [
              0.6666666666666666,
              "#ed7953"
             ],
             [
              0.7777777777777778,
              "#fb9f3a"
             ],
             [
              0.8888888888888888,
              "#fdca26"
             ],
             [
              1,
              "#f0f921"
             ]
            ],
            "type": "histogram2dcontour"
           }
          ],
          "mesh3d": [
           {
            "colorbar": {
             "outlinewidth": 0,
             "ticks": ""
            },
            "type": "mesh3d"
           }
          ],
          "parcoords": [
           {
            "line": {
             "colorbar": {
              "outlinewidth": 0,
              "ticks": ""
             }
            },
            "type": "parcoords"
           }
          ],
          "pie": [
           {
            "automargin": true,
            "type": "pie"
           }
          ],
          "scatter": [
           {
            "marker": {
             "colorbar": {
              "outlinewidth": 0,
              "ticks": ""
             }
            },
            "type": "scatter"
           }
          ],
          "scatter3d": [
           {
            "line": {
             "colorbar": {
              "outlinewidth": 0,
              "ticks": ""
             }
            },
            "marker": {
             "colorbar": {
              "outlinewidth": 0,
              "ticks": ""
             }
            },
            "type": "scatter3d"
           }
          ],
          "scattercarpet": [
           {
            "marker": {
             "colorbar": {
              "outlinewidth": 0,
              "ticks": ""
             }
            },
            "type": "scattercarpet"
           }
          ],
          "scattergeo": [
           {
            "marker": {
             "colorbar": {
              "outlinewidth": 0,
              "ticks": ""
             }
            },
            "type": "scattergeo"
           }
          ],
          "scattergl": [
           {
            "marker": {
             "colorbar": {
              "outlinewidth": 0,
              "ticks": ""
             }
            },
            "type": "scattergl"
           }
          ],
          "scattermapbox": [
           {
            "marker": {
             "colorbar": {
              "outlinewidth": 0,
              "ticks": ""
             }
            },
            "type": "scattermapbox"
           }
          ],
          "scatterpolar": [
           {
            "marker": {
             "colorbar": {
              "outlinewidth": 0,
              "ticks": ""
             }
            },
            "type": "scatterpolar"
           }
          ],
          "scatterpolargl": [
           {
            "marker": {
             "colorbar": {
              "outlinewidth": 0,
              "ticks": ""
             }
            },
            "type": "scatterpolargl"
           }
          ],
          "scatterternary": [
           {
            "marker": {
             "colorbar": {
              "outlinewidth": 0,
              "ticks": ""
             }
            },
            "type": "scatterternary"
           }
          ],
          "surface": [
           {
            "colorbar": {
             "outlinewidth": 0,
             "ticks": ""
            },
            "colorscale": [
             [
              0,
              "#0d0887"
             ],
             [
              0.1111111111111111,
              "#46039f"
             ],
             [
              0.2222222222222222,
              "#7201a8"
             ],
             [
              0.3333333333333333,
              "#9c179e"
             ],
             [
              0.4444444444444444,
              "#bd3786"
             ],
             [
              0.5555555555555556,
              "#d8576b"
             ],
             [
              0.6666666666666666,
              "#ed7953"
             ],
             [
              0.7777777777777778,
              "#fb9f3a"
             ],
             [
              0.8888888888888888,
              "#fdca26"
             ],
             [
              1,
              "#f0f921"
             ]
            ],
            "type": "surface"
           }
          ],
          "table": [
           {
            "cells": {
             "fill": {
              "color": "#EBF0F8"
             },
             "line": {
              "color": "white"
             }
            },
            "header": {
             "fill": {
              "color": "#C8D4E3"
             },
             "line": {
              "color": "white"
             }
            },
            "type": "table"
           }
          ]
         },
         "layout": {
          "annotationdefaults": {
           "arrowcolor": "#2a3f5f",
           "arrowhead": 0,
           "arrowwidth": 1
          },
          "autotypenumbers": "strict",
          "coloraxis": {
           "colorbar": {
            "outlinewidth": 0,
            "ticks": ""
           }
          },
          "colorscale": {
           "diverging": [
            [
             0,
             "#8e0152"
            ],
            [
             0.1,
             "#c51b7d"
            ],
            [
             0.2,
             "#de77ae"
            ],
            [
             0.3,
             "#f1b6da"
            ],
            [
             0.4,
             "#fde0ef"
            ],
            [
             0.5,
             "#f7f7f7"
            ],
            [
             0.6,
             "#e6f5d0"
            ],
            [
             0.7,
             "#b8e186"
            ],
            [
             0.8,
             "#7fbc41"
            ],
            [
             0.9,
             "#4d9221"
            ],
            [
             1,
             "#276419"
            ]
           ],
           "sequential": [
            [
             0,
             "#0d0887"
            ],
            [
             0.1111111111111111,
             "#46039f"
            ],
            [
             0.2222222222222222,
             "#7201a8"
            ],
            [
             0.3333333333333333,
             "#9c179e"
            ],
            [
             0.4444444444444444,
             "#bd3786"
            ],
            [
             0.5555555555555556,
             "#d8576b"
            ],
            [
             0.6666666666666666,
             "#ed7953"
            ],
            [
             0.7777777777777778,
             "#fb9f3a"
            ],
            [
             0.8888888888888888,
             "#fdca26"
            ],
            [
             1,
             "#f0f921"
            ]
           ],
           "sequentialminus": [
            [
             0,
             "#0d0887"
            ],
            [
             0.1111111111111111,
             "#46039f"
            ],
            [
             0.2222222222222222,
             "#7201a8"
            ],
            [
             0.3333333333333333,
             "#9c179e"
            ],
            [
             0.4444444444444444,
             "#bd3786"
            ],
            [
             0.5555555555555556,
             "#d8576b"
            ],
            [
             0.6666666666666666,
             "#ed7953"
            ],
            [
             0.7777777777777778,
             "#fb9f3a"
            ],
            [
             0.8888888888888888,
             "#fdca26"
            ],
            [
             1,
             "#f0f921"
            ]
           ]
          },
          "colorway": [
           "#636efa",
           "#EF553B",
           "#00cc96",
           "#ab63fa",
           "#FFA15A",
           "#19d3f3",
           "#FF6692",
           "#B6E880",
           "#FF97FF",
           "#FECB52"
          ],
          "font": {
           "color": "#2a3f5f"
          },
          "geo": {
           "bgcolor": "white",
           "lakecolor": "white",
           "landcolor": "#E5ECF6",
           "showlakes": true,
           "showland": true,
           "subunitcolor": "white"
          },
          "hoverlabel": {
           "align": "left"
          },
          "hovermode": "closest",
          "mapbox": {
           "style": "light"
          },
          "paper_bgcolor": "white",
          "plot_bgcolor": "#E5ECF6",
          "polar": {
           "angularaxis": {
            "gridcolor": "white",
            "linecolor": "white",
            "ticks": ""
           },
           "bgcolor": "#E5ECF6",
           "radialaxis": {
            "gridcolor": "white",
            "linecolor": "white",
            "ticks": ""
           }
          },
          "scene": {
           "xaxis": {
            "backgroundcolor": "#E5ECF6",
            "gridcolor": "white",
            "gridwidth": 2,
            "linecolor": "white",
            "showbackground": true,
            "ticks": "",
            "zerolinecolor": "white"
           },
           "yaxis": {
            "backgroundcolor": "#E5ECF6",
            "gridcolor": "white",
            "gridwidth": 2,
            "linecolor": "white",
            "showbackground": true,
            "ticks": "",
            "zerolinecolor": "white"
           },
           "zaxis": {
            "backgroundcolor": "#E5ECF6",
            "gridcolor": "white",
            "gridwidth": 2,
            "linecolor": "white",
            "showbackground": true,
            "ticks": "",
            "zerolinecolor": "white"
           }
          },
          "shapedefaults": {
           "line": {
            "color": "#2a3f5f"
           }
          },
          "ternary": {
           "aaxis": {
            "gridcolor": "white",
            "linecolor": "white",
            "ticks": ""
           },
           "baxis": {
            "gridcolor": "white",
            "linecolor": "white",
            "ticks": ""
           },
           "bgcolor": "#E5ECF6",
           "caxis": {
            "gridcolor": "white",
            "linecolor": "white",
            "ticks": ""
           }
          },
          "title": {
           "x": 0.05
          },
          "xaxis": {
           "automargin": true,
           "gridcolor": "white",
           "linecolor": "white",
           "ticks": "",
           "title": {
            "standoff": 15
           },
           "zerolinecolor": "white",
           "zerolinewidth": 2
          },
          "yaxis": {
           "automargin": true,
           "gridcolor": "white",
           "linecolor": "white",
           "ticks": "",
           "title": {
            "standoff": 15
           },
           "zerolinecolor": "white",
           "zerolinewidth": 2
          }
         }
        },
        "title": {
         "font": {
          "color": "#4D5663"
         },
         "text": "Триграмма общая"
        },
        "xaxis": {
         "gridcolor": "#E1E5ED",
         "showgrid": true,
         "tickfont": {
          "color": "#4D5663"
         },
         "title": {
          "font": {
           "color": "#4D5663"
          },
          "text": "Триграмма"
         },
         "zerolinecolor": "#E1E5ED"
        },
        "yaxis": {
         "gridcolor": "#E1E5ED",
         "showgrid": true,
         "tickfont": {
          "color": "#4D5663"
         },
         "title": {
          "font": {
           "color": "#4D5663"
          },
          "text": "Количество"
         },
         "zerolinecolor": "#E1E5ED"
        }
       }
      },
      "text/html": [
       "<div>                            <div id=\"e2ac9aca-dcb5-4ddb-ac5b-8442f374716e\" class=\"plotly-graph-div\" style=\"height:525px; width:100%;\"></div>            <script type=\"text/javascript\">                require([\"plotly\"], function(Plotly) {                    window.PLOTLYENV=window.PLOTLYENV || {};\n",
       "                    window.PLOTLYENV.BASE_URL='https://plot.ly';                                    if (document.getElementById(\"e2ac9aca-dcb5-4ddb-ac5b-8442f374716e\")) {                    Plotly.newPlot(                        \"e2ac9aca-dcb5-4ddb-ac5b-8442f374716e\",                        [{\"marker\":{\"color\":\"rgba(255, 153, 51, 0.6)\",\"line\":{\"color\":\"rgba(255, 153, 51, 1.0)\",\"width\":1}},\"name\":\"Frequency\",\"orientation\":\"v\",\"text\":\"\",\"type\":\"bar\",\"x\":[\"\\u0437\\u0434\\u0440\\u0430\\u0432\\u0441\\u0442\\u0432\\u043e\\u0432\\u0430\\u0442\\u044c \\u0435\\u0432\\u0433\\u0435\\u043d\\u0438\\u0439 \\u0430\\u043b\\u044c\\u0431\\u0435\\u0440\\u0442\\u043e\\u0432\\u0438\\u0447\",\"\\u0434\\u043e\\u0431\\u0440\\u044b\\u0439 \\u0434\\u0435\\u043d\\u044c \\u0435\\u0432\\u0433\\u0435\\u043d\\u0438\\u0439\",\"\\u0434\\u0435\\u043d\\u044c \\u0435\\u0432\\u0433\\u0435\\u043d\\u0438\\u0439 \\u0430\\u043b\\u044c\\u0431\\u0435\\u0440\\u0442\\u043e\\u0432\\u0438\\u0447\",\"\\u0437\\u0430\\u0440\\u0430\\u043d\\u0435\\u0435 \\u0441\\u043f\\u0430\\u0441\\u0438\\u0431\\u043e \\u043e\\u0442\\u0432\\u0435\\u0442\",\"\\u0434\\u043e\\u0431\\u0440\\u044b\\u0439 \\u0434\\u0435\\u043d\\u044c \\u043f\\u043e\\u0434\\u0441\\u043a\\u0430\\u0437\\u0430\\u0442\\u044c\",\"\\u0437\\u0434\\u0440\\u0430\\u0432\\u0441\\u0442\\u0432\\u043e\\u0432\\u0430\\u0442\\u044c \\u0432\\u0430\\u043b\\u0435\\u0440\\u0438\\u0439 \\u0433\\u0430\\u043c\\u0438\\u0442\\u043e\\u0432\\u0438\\u0447\",\"\\u0434\\u0435\\u043d\\u044c \\u043f\\u043e\\u0434\\u0441\\u043a\\u0430\\u0437\\u0430\\u0442\\u044c \\u043f\\u043e\\u0436\\u0430\\u043b\\u0443\\u0439\\u0441\\u0442\\u0430\",\"\\u0437\\u0434\\u0440\\u0430\\u0432\\u0441\\u0442\\u0432\\u043e\\u0432\\u0430\\u0442\\u044c \\u043f\\u043e\\u0434\\u0441\\u043a\\u0430\\u0437\\u0430\\u0442\\u044c \\u043f\\u043e\\u0436\\u0430\\u043b\\u0443\\u0439\\u0441\\u0442\\u0430\",\"\\u0441\\u043f\\u0430\\u0441\\u0438\\u0431\\u043e \\u0432\\u0430\\u0448 \\u043e\\u0442\\u0432\\u0435\\u0442\",\"\\u0433\\u043e\\u0434 \\u0440\\u043e\\u0441\\u0442 \\u0432\\u0435\\u0441\"],\"y\":[82,39,37,37,34,33,31,30,28,27]}],                        {\"legend\":{\"bgcolor\":\"#F5F6F9\",\"font\":{\"color\":\"#4D5663\"}},\"paper_bgcolor\":\"#F5F6F9\",\"plot_bgcolor\":\"#F5F6F9\",\"template\":{\"data\":{\"bar\":[{\"error_x\":{\"color\":\"#2a3f5f\"},\"error_y\":{\"color\":\"#2a3f5f\"},\"marker\":{\"line\":{\"color\":\"#E5ECF6\",\"width\":0.5},\"pattern\":{\"fillmode\":\"overlay\",\"size\":10,\"solidity\":0.2}},\"type\":\"bar\"}],\"barpolar\":[{\"marker\":{\"line\":{\"color\":\"#E5ECF6\",\"width\":0.5},\"pattern\":{\"fillmode\":\"overlay\",\"size\":10,\"solidity\":0.2}},\"type\":\"barpolar\"}],\"carpet\":[{\"aaxis\":{\"endlinecolor\":\"#2a3f5f\",\"gridcolor\":\"white\",\"linecolor\":\"white\",\"minorgridcolor\":\"white\",\"startlinecolor\":\"#2a3f5f\"},\"baxis\":{\"endlinecolor\":\"#2a3f5f\",\"gridcolor\":\"white\",\"linecolor\":\"white\",\"minorgridcolor\":\"white\",\"startlinecolor\":\"#2a3f5f\"},\"type\":\"carpet\"}],\"choropleth\":[{\"colorbar\":{\"outlinewidth\":0,\"ticks\":\"\"},\"type\":\"choropleth\"}],\"contour\":[{\"colorbar\":{\"outlinewidth\":0,\"ticks\":\"\"},\"colorscale\":[[0.0,\"#0d0887\"],[0.1111111111111111,\"#46039f\"],[0.2222222222222222,\"#7201a8\"],[0.3333333333333333,\"#9c179e\"],[0.4444444444444444,\"#bd3786\"],[0.5555555555555556,\"#d8576b\"],[0.6666666666666666,\"#ed7953\"],[0.7777777777777778,\"#fb9f3a\"],[0.8888888888888888,\"#fdca26\"],[1.0,\"#f0f921\"]],\"type\":\"contour\"}],\"contourcarpet\":[{\"colorbar\":{\"outlinewidth\":0,\"ticks\":\"\"},\"type\":\"contourcarpet\"}],\"heatmap\":[{\"colorbar\":{\"outlinewidth\":0,\"ticks\":\"\"},\"colorscale\":[[0.0,\"#0d0887\"],[0.1111111111111111,\"#46039f\"],[0.2222222222222222,\"#7201a8\"],[0.3333333333333333,\"#9c179e\"],[0.4444444444444444,\"#bd3786\"],[0.5555555555555556,\"#d8576b\"],[0.6666666666666666,\"#ed7953\"],[0.7777777777777778,\"#fb9f3a\"],[0.8888888888888888,\"#fdca26\"],[1.0,\"#f0f921\"]],\"type\":\"heatmap\"}],\"heatmapgl\":[{\"colorbar\":{\"outlinewidth\":0,\"ticks\":\"\"},\"colorscale\":[[0.0,\"#0d0887\"],[0.1111111111111111,\"#46039f\"],[0.2222222222222222,\"#7201a8\"],[0.3333333333333333,\"#9c179e\"],[0.4444444444444444,\"#bd3786\"],[0.5555555555555556,\"#d8576b\"],[0.6666666666666666,\"#ed7953\"],[0.7777777777777778,\"#fb9f3a\"],[0.8888888888888888,\"#fdca26\"],[1.0,\"#f0f921\"]],\"type\":\"heatmapgl\"}],\"histogram\":[{\"marker\":{\"pattern\":{\"fillmode\":\"overlay\",\"size\":10,\"solidity\":0.2}},\"type\":\"histogram\"}],\"histogram2d\":[{\"colorbar\":{\"outlinewidth\":0,\"ticks\":\"\"},\"colorscale\":[[0.0,\"#0d0887\"],[0.1111111111111111,\"#46039f\"],[0.2222222222222222,\"#7201a8\"],[0.3333333333333333,\"#9c179e\"],[0.4444444444444444,\"#bd3786\"],[0.5555555555555556,\"#d8576b\"],[0.6666666666666666,\"#ed7953\"],[0.7777777777777778,\"#fb9f3a\"],[0.8888888888888888,\"#fdca26\"],[1.0,\"#f0f921\"]],\"type\":\"histogram2d\"}],\"histogram2dcontour\":[{\"colorbar\":{\"outlinewidth\":0,\"ticks\":\"\"},\"colorscale\":[[0.0,\"#0d0887\"],[0.1111111111111111,\"#46039f\"],[0.2222222222222222,\"#7201a8\"],[0.3333333333333333,\"#9c179e\"],[0.4444444444444444,\"#bd3786\"],[0.5555555555555556,\"#d8576b\"],[0.6666666666666666,\"#ed7953\"],[0.7777777777777778,\"#fb9f3a\"],[0.8888888888888888,\"#fdca26\"],[1.0,\"#f0f921\"]],\"type\":\"histogram2dcontour\"}],\"mesh3d\":[{\"colorbar\":{\"outlinewidth\":0,\"ticks\":\"\"},\"type\":\"mesh3d\"}],\"parcoords\":[{\"line\":{\"colorbar\":{\"outlinewidth\":0,\"ticks\":\"\"}},\"type\":\"parcoords\"}],\"pie\":[{\"automargin\":true,\"type\":\"pie\"}],\"scatter\":[{\"marker\":{\"colorbar\":{\"outlinewidth\":0,\"ticks\":\"\"}},\"type\":\"scatter\"}],\"scatter3d\":[{\"line\":{\"colorbar\":{\"outlinewidth\":0,\"ticks\":\"\"}},\"marker\":{\"colorbar\":{\"outlinewidth\":0,\"ticks\":\"\"}},\"type\":\"scatter3d\"}],\"scattercarpet\":[{\"marker\":{\"colorbar\":{\"outlinewidth\":0,\"ticks\":\"\"}},\"type\":\"scattercarpet\"}],\"scattergeo\":[{\"marker\":{\"colorbar\":{\"outlinewidth\":0,\"ticks\":\"\"}},\"type\":\"scattergeo\"}],\"scattergl\":[{\"marker\":{\"colorbar\":{\"outlinewidth\":0,\"ticks\":\"\"}},\"type\":\"scattergl\"}],\"scattermapbox\":[{\"marker\":{\"colorbar\":{\"outlinewidth\":0,\"ticks\":\"\"}},\"type\":\"scattermapbox\"}],\"scatterpolar\":[{\"marker\":{\"colorbar\":{\"outlinewidth\":0,\"ticks\":\"\"}},\"type\":\"scatterpolar\"}],\"scatterpolargl\":[{\"marker\":{\"colorbar\":{\"outlinewidth\":0,\"ticks\":\"\"}},\"type\":\"scatterpolargl\"}],\"scatterternary\":[{\"marker\":{\"colorbar\":{\"outlinewidth\":0,\"ticks\":\"\"}},\"type\":\"scatterternary\"}],\"surface\":[{\"colorbar\":{\"outlinewidth\":0,\"ticks\":\"\"},\"colorscale\":[[0.0,\"#0d0887\"],[0.1111111111111111,\"#46039f\"],[0.2222222222222222,\"#7201a8\"],[0.3333333333333333,\"#9c179e\"],[0.4444444444444444,\"#bd3786\"],[0.5555555555555556,\"#d8576b\"],[0.6666666666666666,\"#ed7953\"],[0.7777777777777778,\"#fb9f3a\"],[0.8888888888888888,\"#fdca26\"],[1.0,\"#f0f921\"]],\"type\":\"surface\"}],\"table\":[{\"cells\":{\"fill\":{\"color\":\"#EBF0F8\"},\"line\":{\"color\":\"white\"}},\"header\":{\"fill\":{\"color\":\"#C8D4E3\"},\"line\":{\"color\":\"white\"}},\"type\":\"table\"}]},\"layout\":{\"annotationdefaults\":{\"arrowcolor\":\"#2a3f5f\",\"arrowhead\":0,\"arrowwidth\":1},\"autotypenumbers\":\"strict\",\"coloraxis\":{\"colorbar\":{\"outlinewidth\":0,\"ticks\":\"\"}},\"colorscale\":{\"diverging\":[[0,\"#8e0152\"],[0.1,\"#c51b7d\"],[0.2,\"#de77ae\"],[0.3,\"#f1b6da\"],[0.4,\"#fde0ef\"],[0.5,\"#f7f7f7\"],[0.6,\"#e6f5d0\"],[0.7,\"#b8e186\"],[0.8,\"#7fbc41\"],[0.9,\"#4d9221\"],[1,\"#276419\"]],\"sequential\":[[0.0,\"#0d0887\"],[0.1111111111111111,\"#46039f\"],[0.2222222222222222,\"#7201a8\"],[0.3333333333333333,\"#9c179e\"],[0.4444444444444444,\"#bd3786\"],[0.5555555555555556,\"#d8576b\"],[0.6666666666666666,\"#ed7953\"],[0.7777777777777778,\"#fb9f3a\"],[0.8888888888888888,\"#fdca26\"],[1.0,\"#f0f921\"]],\"sequentialminus\":[[0.0,\"#0d0887\"],[0.1111111111111111,\"#46039f\"],[0.2222222222222222,\"#7201a8\"],[0.3333333333333333,\"#9c179e\"],[0.4444444444444444,\"#bd3786\"],[0.5555555555555556,\"#d8576b\"],[0.6666666666666666,\"#ed7953\"],[0.7777777777777778,\"#fb9f3a\"],[0.8888888888888888,\"#fdca26\"],[1.0,\"#f0f921\"]]},\"colorway\":[\"#636efa\",\"#EF553B\",\"#00cc96\",\"#ab63fa\",\"#FFA15A\",\"#19d3f3\",\"#FF6692\",\"#B6E880\",\"#FF97FF\",\"#FECB52\"],\"font\":{\"color\":\"#2a3f5f\"},\"geo\":{\"bgcolor\":\"white\",\"lakecolor\":\"white\",\"landcolor\":\"#E5ECF6\",\"showlakes\":true,\"showland\":true,\"subunitcolor\":\"white\"},\"hoverlabel\":{\"align\":\"left\"},\"hovermode\":\"closest\",\"mapbox\":{\"style\":\"light\"},\"paper_bgcolor\":\"white\",\"plot_bgcolor\":\"#E5ECF6\",\"polar\":{\"angularaxis\":{\"gridcolor\":\"white\",\"linecolor\":\"white\",\"ticks\":\"\"},\"bgcolor\":\"#E5ECF6\",\"radialaxis\":{\"gridcolor\":\"white\",\"linecolor\":\"white\",\"ticks\":\"\"}},\"scene\":{\"xaxis\":{\"backgroundcolor\":\"#E5ECF6\",\"gridcolor\":\"white\",\"gridwidth\":2,\"linecolor\":\"white\",\"showbackground\":true,\"ticks\":\"\",\"zerolinecolor\":\"white\"},\"yaxis\":{\"backgroundcolor\":\"#E5ECF6\",\"gridcolor\":\"white\",\"gridwidth\":2,\"linecolor\":\"white\",\"showbackground\":true,\"ticks\":\"\",\"zerolinecolor\":\"white\"},\"zaxis\":{\"backgroundcolor\":\"#E5ECF6\",\"gridcolor\":\"white\",\"gridwidth\":2,\"linecolor\":\"white\",\"showbackground\":true,\"ticks\":\"\",\"zerolinecolor\":\"white\"}},\"shapedefaults\":{\"line\":{\"color\":\"#2a3f5f\"}},\"ternary\":{\"aaxis\":{\"gridcolor\":\"white\",\"linecolor\":\"white\",\"ticks\":\"\"},\"baxis\":{\"gridcolor\":\"white\",\"linecolor\":\"white\",\"ticks\":\"\"},\"bgcolor\":\"#E5ECF6\",\"caxis\":{\"gridcolor\":\"white\",\"linecolor\":\"white\",\"ticks\":\"\"}},\"title\":{\"x\":0.05},\"xaxis\":{\"automargin\":true,\"gridcolor\":\"white\",\"linecolor\":\"white\",\"ticks\":\"\",\"title\":{\"standoff\":15},\"zerolinecolor\":\"white\",\"zerolinewidth\":2},\"yaxis\":{\"automargin\":true,\"gridcolor\":\"white\",\"linecolor\":\"white\",\"ticks\":\"\",\"title\":{\"standoff\":15},\"zerolinecolor\":\"white\",\"zerolinewidth\":2}}},\"title\":{\"font\":{\"color\":\"#4D5663\"},\"text\":\"\\u0422\\u0440\\u0438\\u0433\\u0440\\u0430\\u043c\\u043c\\u0430 \\u043e\\u0431\\u0449\\u0430\\u044f\"},\"xaxis\":{\"gridcolor\":\"#E1E5ED\",\"showgrid\":true,\"tickfont\":{\"color\":\"#4D5663\"},\"title\":{\"font\":{\"color\":\"#4D5663\"},\"text\":\"\\u0422\\u0440\\u0438\\u0433\\u0440\\u0430\\u043c\\u043c\\u0430\"},\"zerolinecolor\":\"#E1E5ED\"},\"yaxis\":{\"gridcolor\":\"#E1E5ED\",\"showgrid\":true,\"tickfont\":{\"color\":\"#4D5663\"},\"title\":{\"font\":{\"color\":\"#4D5663\"},\"text\":\"\\u041a\\u043e\\u043b\\u0438\\u0447\\u0435\\u0441\\u0442\\u0432\\u043e\"},\"zerolinecolor\":\"#E1E5ED\"}},                        {\"showLink\": true, \"linkText\": \"Export to plot.ly\", \"plotlyServerURL\": \"https://plot.ly\", \"responsive\": true}                    ).then(function(){\n",
       "                            \n",
       "var gd = document.getElementById('e2ac9aca-dcb5-4ddb-ac5b-8442f374716e');\n",
       "var x = new MutationObserver(function (mutations, observer) {{\n",
       "        var display = window.getComputedStyle(gd).display;\n",
       "        if (!display || display === 'none') {{\n",
       "            console.log([gd, 'removed!']);\n",
       "            Plotly.purge(gd);\n",
       "            observer.disconnect();\n",
       "        }}\n",
       "}});\n",
       "\n",
       "// Listen for the removal of the full notebook cells\n",
       "var notebookContainer = gd.closest('#notebook-container');\n",
       "if (notebookContainer) {{\n",
       "    x.observe(notebookContainer, {childList: true});\n",
       "}}\n",
       "\n",
       "// Listen for the clearing of the current output cell\n",
       "var outputEl = gd.closest('.output');\n",
       "if (outputEl) {{\n",
       "    x.observe(outputEl, {childList: true});\n",
       "}}\n",
       "\n",
       "                        })                };                });            </script>        </div>"
      ]
     },
     "metadata": {},
     "output_type": "display_data"
    }
   ],
   "source": [
    "ustal = pd.DataFrame(words, columns = ['Trigram', 'Frequency'])\n",
    "ustal = ustal.set_index('Trigram')\n",
    "ustal.iplot(kind='bar', xTitle='Триграмма', yTitle='Количество', title='Триграмма общая')"
   ]
  },
  {
   "cell_type": "code",
   "execution_count": 48,
   "id": "46adfe00",
   "metadata": {},
   "outputs": [
    {
     "data": {
      "text/plain": [
       "[('здравствовать евгений альбертович', 17),\n",
       " ('добрый время суток', 10),\n",
       " ('spp обнаружить обнаружить', 10),\n",
       " ('здравствовать валерий гамитович', 9),\n",
       " ('заранее спасибо ответ', 8),\n",
       " ('обрезание крайний плоть', 8),\n",
       " ('добрый день евгений', 8),\n",
       " ('добрый день год', 7),\n",
       " ('можно попасть приём', 7),\n",
       " ('здравствовать юрий александрович', 7)]"
      ]
     },
     "execution_count": 48,
     "metadata": {},
     "output_type": "execute_result"
    }
   ],
   "source": [
    "kek = info[info.gender=='male']\n",
    "man = top_words(kek['lemmatized'], 10)\n",
    "man"
   ]
  },
  {
   "cell_type": "code",
   "execution_count": 49,
   "id": "dce0a33a",
   "metadata": {},
   "outputs": [
    {
     "data": {
      "application/vnd.plotly.v1+json": {
       "config": {
        "linkText": "Export to plot.ly",
        "plotlyServerURL": "https://plot.ly",
        "showLink": true
       },
       "data": [
        {
         "marker": {
          "color": "rgba(255, 153, 51, 0.6)",
          "line": {
           "color": "rgba(255, 153, 51, 1.0)",
           "width": 1
          }
         },
         "name": "Frequency",
         "orientation": "v",
         "text": "",
         "type": "bar",
         "x": [
          "здравствовать евгений альбертович",
          "добрый время суток",
          "spp обнаружить обнаружить",
          "здравствовать валерий гамитович",
          "заранее спасибо ответ",
          "обрезание крайний плоть",
          "добрый день евгений",
          "добрый день год",
          "можно попасть приём",
          "здравствовать юрий александрович"
         ],
         "y": [
          17,
          10,
          10,
          9,
          8,
          8,
          8,
          7,
          7,
          7
         ]
        }
       ],
       "layout": {
        "legend": {
         "bgcolor": "#F5F6F9",
         "font": {
          "color": "#4D5663"
         }
        },
        "paper_bgcolor": "#F5F6F9",
        "plot_bgcolor": "#F5F6F9",
        "template": {
         "data": {
          "bar": [
           {
            "error_x": {
             "color": "#2a3f5f"
            },
            "error_y": {
             "color": "#2a3f5f"
            },
            "marker": {
             "line": {
              "color": "#E5ECF6",
              "width": 0.5
             },
             "pattern": {
              "fillmode": "overlay",
              "size": 10,
              "solidity": 0.2
             }
            },
            "type": "bar"
           }
          ],
          "barpolar": [
           {
            "marker": {
             "line": {
              "color": "#E5ECF6",
              "width": 0.5
             },
             "pattern": {
              "fillmode": "overlay",
              "size": 10,
              "solidity": 0.2
             }
            },
            "type": "barpolar"
           }
          ],
          "carpet": [
           {
            "aaxis": {
             "endlinecolor": "#2a3f5f",
             "gridcolor": "white",
             "linecolor": "white",
             "minorgridcolor": "white",
             "startlinecolor": "#2a3f5f"
            },
            "baxis": {
             "endlinecolor": "#2a3f5f",
             "gridcolor": "white",
             "linecolor": "white",
             "minorgridcolor": "white",
             "startlinecolor": "#2a3f5f"
            },
            "type": "carpet"
           }
          ],
          "choropleth": [
           {
            "colorbar": {
             "outlinewidth": 0,
             "ticks": ""
            },
            "type": "choropleth"
           }
          ],
          "contour": [
           {
            "colorbar": {
             "outlinewidth": 0,
             "ticks": ""
            },
            "colorscale": [
             [
              0,
              "#0d0887"
             ],
             [
              0.1111111111111111,
              "#46039f"
             ],
             [
              0.2222222222222222,
              "#7201a8"
             ],
             [
              0.3333333333333333,
              "#9c179e"
             ],
             [
              0.4444444444444444,
              "#bd3786"
             ],
             [
              0.5555555555555556,
              "#d8576b"
             ],
             [
              0.6666666666666666,
              "#ed7953"
             ],
             [
              0.7777777777777778,
              "#fb9f3a"
             ],
             [
              0.8888888888888888,
              "#fdca26"
             ],
             [
              1,
              "#f0f921"
             ]
            ],
            "type": "contour"
           }
          ],
          "contourcarpet": [
           {
            "colorbar": {
             "outlinewidth": 0,
             "ticks": ""
            },
            "type": "contourcarpet"
           }
          ],
          "heatmap": [
           {
            "colorbar": {
             "outlinewidth": 0,
             "ticks": ""
            },
            "colorscale": [
             [
              0,
              "#0d0887"
             ],
             [
              0.1111111111111111,
              "#46039f"
             ],
             [
              0.2222222222222222,
              "#7201a8"
             ],
             [
              0.3333333333333333,
              "#9c179e"
             ],
             [
              0.4444444444444444,
              "#bd3786"
             ],
             [
              0.5555555555555556,
              "#d8576b"
             ],
             [
              0.6666666666666666,
              "#ed7953"
             ],
             [
              0.7777777777777778,
              "#fb9f3a"
             ],
             [
              0.8888888888888888,
              "#fdca26"
             ],
             [
              1,
              "#f0f921"
             ]
            ],
            "type": "heatmap"
           }
          ],
          "heatmapgl": [
           {
            "colorbar": {
             "outlinewidth": 0,
             "ticks": ""
            },
            "colorscale": [
             [
              0,
              "#0d0887"
             ],
             [
              0.1111111111111111,
              "#46039f"
             ],
             [
              0.2222222222222222,
              "#7201a8"
             ],
             [
              0.3333333333333333,
              "#9c179e"
             ],
             [
              0.4444444444444444,
              "#bd3786"
             ],
             [
              0.5555555555555556,
              "#d8576b"
             ],
             [
              0.6666666666666666,
              "#ed7953"
             ],
             [
              0.7777777777777778,
              "#fb9f3a"
             ],
             [
              0.8888888888888888,
              "#fdca26"
             ],
             [
              1,
              "#f0f921"
             ]
            ],
            "type": "heatmapgl"
           }
          ],
          "histogram": [
           {
            "marker": {
             "pattern": {
              "fillmode": "overlay",
              "size": 10,
              "solidity": 0.2
             }
            },
            "type": "histogram"
           }
          ],
          "histogram2d": [
           {
            "colorbar": {
             "outlinewidth": 0,
             "ticks": ""
            },
            "colorscale": [
             [
              0,
              "#0d0887"
             ],
             [
              0.1111111111111111,
              "#46039f"
             ],
             [
              0.2222222222222222,
              "#7201a8"
             ],
             [
              0.3333333333333333,
              "#9c179e"
             ],
             [
              0.4444444444444444,
              "#bd3786"
             ],
             [
              0.5555555555555556,
              "#d8576b"
             ],
             [
              0.6666666666666666,
              "#ed7953"
             ],
             [
              0.7777777777777778,
              "#fb9f3a"
             ],
             [
              0.8888888888888888,
              "#fdca26"
             ],
             [
              1,
              "#f0f921"
             ]
            ],
            "type": "histogram2d"
           }
          ],
          "histogram2dcontour": [
           {
            "colorbar": {
             "outlinewidth": 0,
             "ticks": ""
            },
            "colorscale": [
             [
              0,
              "#0d0887"
             ],
             [
              0.1111111111111111,
              "#46039f"
             ],
             [
              0.2222222222222222,
              "#7201a8"
             ],
             [
              0.3333333333333333,
              "#9c179e"
             ],
             [
              0.4444444444444444,
              "#bd3786"
             ],
             [
              0.5555555555555556,
              "#d8576b"
             ],
             [
              0.6666666666666666,
              "#ed7953"
             ],
             [
              0.7777777777777778,
              "#fb9f3a"
             ],
             [
              0.8888888888888888,
              "#fdca26"
             ],
             [
              1,
              "#f0f921"
             ]
            ],
            "type": "histogram2dcontour"
           }
          ],
          "mesh3d": [
           {
            "colorbar": {
             "outlinewidth": 0,
             "ticks": ""
            },
            "type": "mesh3d"
           }
          ],
          "parcoords": [
           {
            "line": {
             "colorbar": {
              "outlinewidth": 0,
              "ticks": ""
             }
            },
            "type": "parcoords"
           }
          ],
          "pie": [
           {
            "automargin": true,
            "type": "pie"
           }
          ],
          "scatter": [
           {
            "marker": {
             "colorbar": {
              "outlinewidth": 0,
              "ticks": ""
             }
            },
            "type": "scatter"
           }
          ],
          "scatter3d": [
           {
            "line": {
             "colorbar": {
              "outlinewidth": 0,
              "ticks": ""
             }
            },
            "marker": {
             "colorbar": {
              "outlinewidth": 0,
              "ticks": ""
             }
            },
            "type": "scatter3d"
           }
          ],
          "scattercarpet": [
           {
            "marker": {
             "colorbar": {
              "outlinewidth": 0,
              "ticks": ""
             }
            },
            "type": "scattercarpet"
           }
          ],
          "scattergeo": [
           {
            "marker": {
             "colorbar": {
              "outlinewidth": 0,
              "ticks": ""
             }
            },
            "type": "scattergeo"
           }
          ],
          "scattergl": [
           {
            "marker": {
             "colorbar": {
              "outlinewidth": 0,
              "ticks": ""
             }
            },
            "type": "scattergl"
           }
          ],
          "scattermapbox": [
           {
            "marker": {
             "colorbar": {
              "outlinewidth": 0,
              "ticks": ""
             }
            },
            "type": "scattermapbox"
           }
          ],
          "scatterpolar": [
           {
            "marker": {
             "colorbar": {
              "outlinewidth": 0,
              "ticks": ""
             }
            },
            "type": "scatterpolar"
           }
          ],
          "scatterpolargl": [
           {
            "marker": {
             "colorbar": {
              "outlinewidth": 0,
              "ticks": ""
             }
            },
            "type": "scatterpolargl"
           }
          ],
          "scatterternary": [
           {
            "marker": {
             "colorbar": {
              "outlinewidth": 0,
              "ticks": ""
             }
            },
            "type": "scatterternary"
           }
          ],
          "surface": [
           {
            "colorbar": {
             "outlinewidth": 0,
             "ticks": ""
            },
            "colorscale": [
             [
              0,
              "#0d0887"
             ],
             [
              0.1111111111111111,
              "#46039f"
             ],
             [
              0.2222222222222222,
              "#7201a8"
             ],
             [
              0.3333333333333333,
              "#9c179e"
             ],
             [
              0.4444444444444444,
              "#bd3786"
             ],
             [
              0.5555555555555556,
              "#d8576b"
             ],
             [
              0.6666666666666666,
              "#ed7953"
             ],
             [
              0.7777777777777778,
              "#fb9f3a"
             ],
             [
              0.8888888888888888,
              "#fdca26"
             ],
             [
              1,
              "#f0f921"
             ]
            ],
            "type": "surface"
           }
          ],
          "table": [
           {
            "cells": {
             "fill": {
              "color": "#EBF0F8"
             },
             "line": {
              "color": "white"
             }
            },
            "header": {
             "fill": {
              "color": "#C8D4E3"
             },
             "line": {
              "color": "white"
             }
            },
            "type": "table"
           }
          ]
         },
         "layout": {
          "annotationdefaults": {
           "arrowcolor": "#2a3f5f",
           "arrowhead": 0,
           "arrowwidth": 1
          },
          "autotypenumbers": "strict",
          "coloraxis": {
           "colorbar": {
            "outlinewidth": 0,
            "ticks": ""
           }
          },
          "colorscale": {
           "diverging": [
            [
             0,
             "#8e0152"
            ],
            [
             0.1,
             "#c51b7d"
            ],
            [
             0.2,
             "#de77ae"
            ],
            [
             0.3,
             "#f1b6da"
            ],
            [
             0.4,
             "#fde0ef"
            ],
            [
             0.5,
             "#f7f7f7"
            ],
            [
             0.6,
             "#e6f5d0"
            ],
            [
             0.7,
             "#b8e186"
            ],
            [
             0.8,
             "#7fbc41"
            ],
            [
             0.9,
             "#4d9221"
            ],
            [
             1,
             "#276419"
            ]
           ],
           "sequential": [
            [
             0,
             "#0d0887"
            ],
            [
             0.1111111111111111,
             "#46039f"
            ],
            [
             0.2222222222222222,
             "#7201a8"
            ],
            [
             0.3333333333333333,
             "#9c179e"
            ],
            [
             0.4444444444444444,
             "#bd3786"
            ],
            [
             0.5555555555555556,
             "#d8576b"
            ],
            [
             0.6666666666666666,
             "#ed7953"
            ],
            [
             0.7777777777777778,
             "#fb9f3a"
            ],
            [
             0.8888888888888888,
             "#fdca26"
            ],
            [
             1,
             "#f0f921"
            ]
           ],
           "sequentialminus": [
            [
             0,
             "#0d0887"
            ],
            [
             0.1111111111111111,
             "#46039f"
            ],
            [
             0.2222222222222222,
             "#7201a8"
            ],
            [
             0.3333333333333333,
             "#9c179e"
            ],
            [
             0.4444444444444444,
             "#bd3786"
            ],
            [
             0.5555555555555556,
             "#d8576b"
            ],
            [
             0.6666666666666666,
             "#ed7953"
            ],
            [
             0.7777777777777778,
             "#fb9f3a"
            ],
            [
             0.8888888888888888,
             "#fdca26"
            ],
            [
             1,
             "#f0f921"
            ]
           ]
          },
          "colorway": [
           "#636efa",
           "#EF553B",
           "#00cc96",
           "#ab63fa",
           "#FFA15A",
           "#19d3f3",
           "#FF6692",
           "#B6E880",
           "#FF97FF",
           "#FECB52"
          ],
          "font": {
           "color": "#2a3f5f"
          },
          "geo": {
           "bgcolor": "white",
           "lakecolor": "white",
           "landcolor": "#E5ECF6",
           "showlakes": true,
           "showland": true,
           "subunitcolor": "white"
          },
          "hoverlabel": {
           "align": "left"
          },
          "hovermode": "closest",
          "mapbox": {
           "style": "light"
          },
          "paper_bgcolor": "white",
          "plot_bgcolor": "#E5ECF6",
          "polar": {
           "angularaxis": {
            "gridcolor": "white",
            "linecolor": "white",
            "ticks": ""
           },
           "bgcolor": "#E5ECF6",
           "radialaxis": {
            "gridcolor": "white",
            "linecolor": "white",
            "ticks": ""
           }
          },
          "scene": {
           "xaxis": {
            "backgroundcolor": "#E5ECF6",
            "gridcolor": "white",
            "gridwidth": 2,
            "linecolor": "white",
            "showbackground": true,
            "ticks": "",
            "zerolinecolor": "white"
           },
           "yaxis": {
            "backgroundcolor": "#E5ECF6",
            "gridcolor": "white",
            "gridwidth": 2,
            "linecolor": "white",
            "showbackground": true,
            "ticks": "",
            "zerolinecolor": "white"
           },
           "zaxis": {
            "backgroundcolor": "#E5ECF6",
            "gridcolor": "white",
            "gridwidth": 2,
            "linecolor": "white",
            "showbackground": true,
            "ticks": "",
            "zerolinecolor": "white"
           }
          },
          "shapedefaults": {
           "line": {
            "color": "#2a3f5f"
           }
          },
          "ternary": {
           "aaxis": {
            "gridcolor": "white",
            "linecolor": "white",
            "ticks": ""
           },
           "baxis": {
            "gridcolor": "white",
            "linecolor": "white",
            "ticks": ""
           },
           "bgcolor": "#E5ECF6",
           "caxis": {
            "gridcolor": "white",
            "linecolor": "white",
            "ticks": ""
           }
          },
          "title": {
           "x": 0.05
          },
          "xaxis": {
           "automargin": true,
           "gridcolor": "white",
           "linecolor": "white",
           "ticks": "",
           "title": {
            "standoff": 15
           },
           "zerolinecolor": "white",
           "zerolinewidth": 2
          },
          "yaxis": {
           "automargin": true,
           "gridcolor": "white",
           "linecolor": "white",
           "ticks": "",
           "title": {
            "standoff": 15
           },
           "zerolinecolor": "white",
           "zerolinewidth": 2
          }
         }
        },
        "title": {
         "font": {
          "color": "#4D5663"
         },
         "text": "Триграмма мужская"
        },
        "xaxis": {
         "gridcolor": "#E1E5ED",
         "showgrid": true,
         "tickfont": {
          "color": "#4D5663"
         },
         "title": {
          "font": {
           "color": "#4D5663"
          },
          "text": "Триграмма"
         },
         "zerolinecolor": "#E1E5ED"
        },
        "yaxis": {
         "gridcolor": "#E1E5ED",
         "showgrid": true,
         "tickfont": {
          "color": "#4D5663"
         },
         "title": {
          "font": {
           "color": "#4D5663"
          },
          "text": "Количество"
         },
         "zerolinecolor": "#E1E5ED"
        }
       }
      },
      "text/html": [
       "<div>                            <div id=\"d6f62428-6381-42c9-ba84-6319ac475c8a\" class=\"plotly-graph-div\" style=\"height:525px; width:100%;\"></div>            <script type=\"text/javascript\">                require([\"plotly\"], function(Plotly) {                    window.PLOTLYENV=window.PLOTLYENV || {};\n",
       "                    window.PLOTLYENV.BASE_URL='https://plot.ly';                                    if (document.getElementById(\"d6f62428-6381-42c9-ba84-6319ac475c8a\")) {                    Plotly.newPlot(                        \"d6f62428-6381-42c9-ba84-6319ac475c8a\",                        [{\"marker\":{\"color\":\"rgba(255, 153, 51, 0.6)\",\"line\":{\"color\":\"rgba(255, 153, 51, 1.0)\",\"width\":1}},\"name\":\"Frequency\",\"orientation\":\"v\",\"text\":\"\",\"type\":\"bar\",\"x\":[\"\\u0437\\u0434\\u0440\\u0430\\u0432\\u0441\\u0442\\u0432\\u043e\\u0432\\u0430\\u0442\\u044c \\u0435\\u0432\\u0433\\u0435\\u043d\\u0438\\u0439 \\u0430\\u043b\\u044c\\u0431\\u0435\\u0440\\u0442\\u043e\\u0432\\u0438\\u0447\",\"\\u0434\\u043e\\u0431\\u0440\\u044b\\u0439 \\u0432\\u0440\\u0435\\u043c\\u044f \\u0441\\u0443\\u0442\\u043e\\u043a\",\"spp \\u043e\\u0431\\u043d\\u0430\\u0440\\u0443\\u0436\\u0438\\u0442\\u044c \\u043e\\u0431\\u043d\\u0430\\u0440\\u0443\\u0436\\u0438\\u0442\\u044c\",\"\\u0437\\u0434\\u0440\\u0430\\u0432\\u0441\\u0442\\u0432\\u043e\\u0432\\u0430\\u0442\\u044c \\u0432\\u0430\\u043b\\u0435\\u0440\\u0438\\u0439 \\u0433\\u0430\\u043c\\u0438\\u0442\\u043e\\u0432\\u0438\\u0447\",\"\\u0437\\u0430\\u0440\\u0430\\u043d\\u0435\\u0435 \\u0441\\u043f\\u0430\\u0441\\u0438\\u0431\\u043e \\u043e\\u0442\\u0432\\u0435\\u0442\",\"\\u043e\\u0431\\u0440\\u0435\\u0437\\u0430\\u043d\\u0438\\u0435 \\u043a\\u0440\\u0430\\u0439\\u043d\\u0438\\u0439 \\u043f\\u043b\\u043e\\u0442\\u044c\",\"\\u0434\\u043e\\u0431\\u0440\\u044b\\u0439 \\u0434\\u0435\\u043d\\u044c \\u0435\\u0432\\u0433\\u0435\\u043d\\u0438\\u0439\",\"\\u0434\\u043e\\u0431\\u0440\\u044b\\u0439 \\u0434\\u0435\\u043d\\u044c \\u0433\\u043e\\u0434\",\"\\u043c\\u043e\\u0436\\u043d\\u043e \\u043f\\u043e\\u043f\\u0430\\u0441\\u0442\\u044c \\u043f\\u0440\\u0438\\u0451\\u043c\",\"\\u0437\\u0434\\u0440\\u0430\\u0432\\u0441\\u0442\\u0432\\u043e\\u0432\\u0430\\u0442\\u044c \\u044e\\u0440\\u0438\\u0439 \\u0430\\u043b\\u0435\\u043a\\u0441\\u0430\\u043d\\u0434\\u0440\\u043e\\u0432\\u0438\\u0447\"],\"y\":[17,10,10,9,8,8,8,7,7,7]}],                        {\"legend\":{\"bgcolor\":\"#F5F6F9\",\"font\":{\"color\":\"#4D5663\"}},\"paper_bgcolor\":\"#F5F6F9\",\"plot_bgcolor\":\"#F5F6F9\",\"template\":{\"data\":{\"bar\":[{\"error_x\":{\"color\":\"#2a3f5f\"},\"error_y\":{\"color\":\"#2a3f5f\"},\"marker\":{\"line\":{\"color\":\"#E5ECF6\",\"width\":0.5},\"pattern\":{\"fillmode\":\"overlay\",\"size\":10,\"solidity\":0.2}},\"type\":\"bar\"}],\"barpolar\":[{\"marker\":{\"line\":{\"color\":\"#E5ECF6\",\"width\":0.5},\"pattern\":{\"fillmode\":\"overlay\",\"size\":10,\"solidity\":0.2}},\"type\":\"barpolar\"}],\"carpet\":[{\"aaxis\":{\"endlinecolor\":\"#2a3f5f\",\"gridcolor\":\"white\",\"linecolor\":\"white\",\"minorgridcolor\":\"white\",\"startlinecolor\":\"#2a3f5f\"},\"baxis\":{\"endlinecolor\":\"#2a3f5f\",\"gridcolor\":\"white\",\"linecolor\":\"white\",\"minorgridcolor\":\"white\",\"startlinecolor\":\"#2a3f5f\"},\"type\":\"carpet\"}],\"choropleth\":[{\"colorbar\":{\"outlinewidth\":0,\"ticks\":\"\"},\"type\":\"choropleth\"}],\"contour\":[{\"colorbar\":{\"outlinewidth\":0,\"ticks\":\"\"},\"colorscale\":[[0.0,\"#0d0887\"],[0.1111111111111111,\"#46039f\"],[0.2222222222222222,\"#7201a8\"],[0.3333333333333333,\"#9c179e\"],[0.4444444444444444,\"#bd3786\"],[0.5555555555555556,\"#d8576b\"],[0.6666666666666666,\"#ed7953\"],[0.7777777777777778,\"#fb9f3a\"],[0.8888888888888888,\"#fdca26\"],[1.0,\"#f0f921\"]],\"type\":\"contour\"}],\"contourcarpet\":[{\"colorbar\":{\"outlinewidth\":0,\"ticks\":\"\"},\"type\":\"contourcarpet\"}],\"heatmap\":[{\"colorbar\":{\"outlinewidth\":0,\"ticks\":\"\"},\"colorscale\":[[0.0,\"#0d0887\"],[0.1111111111111111,\"#46039f\"],[0.2222222222222222,\"#7201a8\"],[0.3333333333333333,\"#9c179e\"],[0.4444444444444444,\"#bd3786\"],[0.5555555555555556,\"#d8576b\"],[0.6666666666666666,\"#ed7953\"],[0.7777777777777778,\"#fb9f3a\"],[0.8888888888888888,\"#fdca26\"],[1.0,\"#f0f921\"]],\"type\":\"heatmap\"}],\"heatmapgl\":[{\"colorbar\":{\"outlinewidth\":0,\"ticks\":\"\"},\"colorscale\":[[0.0,\"#0d0887\"],[0.1111111111111111,\"#46039f\"],[0.2222222222222222,\"#7201a8\"],[0.3333333333333333,\"#9c179e\"],[0.4444444444444444,\"#bd3786\"],[0.5555555555555556,\"#d8576b\"],[0.6666666666666666,\"#ed7953\"],[0.7777777777777778,\"#fb9f3a\"],[0.8888888888888888,\"#fdca26\"],[1.0,\"#f0f921\"]],\"type\":\"heatmapgl\"}],\"histogram\":[{\"marker\":{\"pattern\":{\"fillmode\":\"overlay\",\"size\":10,\"solidity\":0.2}},\"type\":\"histogram\"}],\"histogram2d\":[{\"colorbar\":{\"outlinewidth\":0,\"ticks\":\"\"},\"colorscale\":[[0.0,\"#0d0887\"],[0.1111111111111111,\"#46039f\"],[0.2222222222222222,\"#7201a8\"],[0.3333333333333333,\"#9c179e\"],[0.4444444444444444,\"#bd3786\"],[0.5555555555555556,\"#d8576b\"],[0.6666666666666666,\"#ed7953\"],[0.7777777777777778,\"#fb9f3a\"],[0.8888888888888888,\"#fdca26\"],[1.0,\"#f0f921\"]],\"type\":\"histogram2d\"}],\"histogram2dcontour\":[{\"colorbar\":{\"outlinewidth\":0,\"ticks\":\"\"},\"colorscale\":[[0.0,\"#0d0887\"],[0.1111111111111111,\"#46039f\"],[0.2222222222222222,\"#7201a8\"],[0.3333333333333333,\"#9c179e\"],[0.4444444444444444,\"#bd3786\"],[0.5555555555555556,\"#d8576b\"],[0.6666666666666666,\"#ed7953\"],[0.7777777777777778,\"#fb9f3a\"],[0.8888888888888888,\"#fdca26\"],[1.0,\"#f0f921\"]],\"type\":\"histogram2dcontour\"}],\"mesh3d\":[{\"colorbar\":{\"outlinewidth\":0,\"ticks\":\"\"},\"type\":\"mesh3d\"}],\"parcoords\":[{\"line\":{\"colorbar\":{\"outlinewidth\":0,\"ticks\":\"\"}},\"type\":\"parcoords\"}],\"pie\":[{\"automargin\":true,\"type\":\"pie\"}],\"scatter\":[{\"marker\":{\"colorbar\":{\"outlinewidth\":0,\"ticks\":\"\"}},\"type\":\"scatter\"}],\"scatter3d\":[{\"line\":{\"colorbar\":{\"outlinewidth\":0,\"ticks\":\"\"}},\"marker\":{\"colorbar\":{\"outlinewidth\":0,\"ticks\":\"\"}},\"type\":\"scatter3d\"}],\"scattercarpet\":[{\"marker\":{\"colorbar\":{\"outlinewidth\":0,\"ticks\":\"\"}},\"type\":\"scattercarpet\"}],\"scattergeo\":[{\"marker\":{\"colorbar\":{\"outlinewidth\":0,\"ticks\":\"\"}},\"type\":\"scattergeo\"}],\"scattergl\":[{\"marker\":{\"colorbar\":{\"outlinewidth\":0,\"ticks\":\"\"}},\"type\":\"scattergl\"}],\"scattermapbox\":[{\"marker\":{\"colorbar\":{\"outlinewidth\":0,\"ticks\":\"\"}},\"type\":\"scattermapbox\"}],\"scatterpolar\":[{\"marker\":{\"colorbar\":{\"outlinewidth\":0,\"ticks\":\"\"}},\"type\":\"scatterpolar\"}],\"scatterpolargl\":[{\"marker\":{\"colorbar\":{\"outlinewidth\":0,\"ticks\":\"\"}},\"type\":\"scatterpolargl\"}],\"scatterternary\":[{\"marker\":{\"colorbar\":{\"outlinewidth\":0,\"ticks\":\"\"}},\"type\":\"scatterternary\"}],\"surface\":[{\"colorbar\":{\"outlinewidth\":0,\"ticks\":\"\"},\"colorscale\":[[0.0,\"#0d0887\"],[0.1111111111111111,\"#46039f\"],[0.2222222222222222,\"#7201a8\"],[0.3333333333333333,\"#9c179e\"],[0.4444444444444444,\"#bd3786\"],[0.5555555555555556,\"#d8576b\"],[0.6666666666666666,\"#ed7953\"],[0.7777777777777778,\"#fb9f3a\"],[0.8888888888888888,\"#fdca26\"],[1.0,\"#f0f921\"]],\"type\":\"surface\"}],\"table\":[{\"cells\":{\"fill\":{\"color\":\"#EBF0F8\"},\"line\":{\"color\":\"white\"}},\"header\":{\"fill\":{\"color\":\"#C8D4E3\"},\"line\":{\"color\":\"white\"}},\"type\":\"table\"}]},\"layout\":{\"annotationdefaults\":{\"arrowcolor\":\"#2a3f5f\",\"arrowhead\":0,\"arrowwidth\":1},\"autotypenumbers\":\"strict\",\"coloraxis\":{\"colorbar\":{\"outlinewidth\":0,\"ticks\":\"\"}},\"colorscale\":{\"diverging\":[[0,\"#8e0152\"],[0.1,\"#c51b7d\"],[0.2,\"#de77ae\"],[0.3,\"#f1b6da\"],[0.4,\"#fde0ef\"],[0.5,\"#f7f7f7\"],[0.6,\"#e6f5d0\"],[0.7,\"#b8e186\"],[0.8,\"#7fbc41\"],[0.9,\"#4d9221\"],[1,\"#276419\"]],\"sequential\":[[0.0,\"#0d0887\"],[0.1111111111111111,\"#46039f\"],[0.2222222222222222,\"#7201a8\"],[0.3333333333333333,\"#9c179e\"],[0.4444444444444444,\"#bd3786\"],[0.5555555555555556,\"#d8576b\"],[0.6666666666666666,\"#ed7953\"],[0.7777777777777778,\"#fb9f3a\"],[0.8888888888888888,\"#fdca26\"],[1.0,\"#f0f921\"]],\"sequentialminus\":[[0.0,\"#0d0887\"],[0.1111111111111111,\"#46039f\"],[0.2222222222222222,\"#7201a8\"],[0.3333333333333333,\"#9c179e\"],[0.4444444444444444,\"#bd3786\"],[0.5555555555555556,\"#d8576b\"],[0.6666666666666666,\"#ed7953\"],[0.7777777777777778,\"#fb9f3a\"],[0.8888888888888888,\"#fdca26\"],[1.0,\"#f0f921\"]]},\"colorway\":[\"#636efa\",\"#EF553B\",\"#00cc96\",\"#ab63fa\",\"#FFA15A\",\"#19d3f3\",\"#FF6692\",\"#B6E880\",\"#FF97FF\",\"#FECB52\"],\"font\":{\"color\":\"#2a3f5f\"},\"geo\":{\"bgcolor\":\"white\",\"lakecolor\":\"white\",\"landcolor\":\"#E5ECF6\",\"showlakes\":true,\"showland\":true,\"subunitcolor\":\"white\"},\"hoverlabel\":{\"align\":\"left\"},\"hovermode\":\"closest\",\"mapbox\":{\"style\":\"light\"},\"paper_bgcolor\":\"white\",\"plot_bgcolor\":\"#E5ECF6\",\"polar\":{\"angularaxis\":{\"gridcolor\":\"white\",\"linecolor\":\"white\",\"ticks\":\"\"},\"bgcolor\":\"#E5ECF6\",\"radialaxis\":{\"gridcolor\":\"white\",\"linecolor\":\"white\",\"ticks\":\"\"}},\"scene\":{\"xaxis\":{\"backgroundcolor\":\"#E5ECF6\",\"gridcolor\":\"white\",\"gridwidth\":2,\"linecolor\":\"white\",\"showbackground\":true,\"ticks\":\"\",\"zerolinecolor\":\"white\"},\"yaxis\":{\"backgroundcolor\":\"#E5ECF6\",\"gridcolor\":\"white\",\"gridwidth\":2,\"linecolor\":\"white\",\"showbackground\":true,\"ticks\":\"\",\"zerolinecolor\":\"white\"},\"zaxis\":{\"backgroundcolor\":\"#E5ECF6\",\"gridcolor\":\"white\",\"gridwidth\":2,\"linecolor\":\"white\",\"showbackground\":true,\"ticks\":\"\",\"zerolinecolor\":\"white\"}},\"shapedefaults\":{\"line\":{\"color\":\"#2a3f5f\"}},\"ternary\":{\"aaxis\":{\"gridcolor\":\"white\",\"linecolor\":\"white\",\"ticks\":\"\"},\"baxis\":{\"gridcolor\":\"white\",\"linecolor\":\"white\",\"ticks\":\"\"},\"bgcolor\":\"#E5ECF6\",\"caxis\":{\"gridcolor\":\"white\",\"linecolor\":\"white\",\"ticks\":\"\"}},\"title\":{\"x\":0.05},\"xaxis\":{\"automargin\":true,\"gridcolor\":\"white\",\"linecolor\":\"white\",\"ticks\":\"\",\"title\":{\"standoff\":15},\"zerolinecolor\":\"white\",\"zerolinewidth\":2},\"yaxis\":{\"automargin\":true,\"gridcolor\":\"white\",\"linecolor\":\"white\",\"ticks\":\"\",\"title\":{\"standoff\":15},\"zerolinecolor\":\"white\",\"zerolinewidth\":2}}},\"title\":{\"font\":{\"color\":\"#4D5663\"},\"text\":\"\\u0422\\u0440\\u0438\\u0433\\u0440\\u0430\\u043c\\u043c\\u0430 \\u043c\\u0443\\u0436\\u0441\\u043a\\u0430\\u044f\"},\"xaxis\":{\"gridcolor\":\"#E1E5ED\",\"showgrid\":true,\"tickfont\":{\"color\":\"#4D5663\"},\"title\":{\"font\":{\"color\":\"#4D5663\"},\"text\":\"\\u0422\\u0440\\u0438\\u0433\\u0440\\u0430\\u043c\\u043c\\u0430\"},\"zerolinecolor\":\"#E1E5ED\"},\"yaxis\":{\"gridcolor\":\"#E1E5ED\",\"showgrid\":true,\"tickfont\":{\"color\":\"#4D5663\"},\"title\":{\"font\":{\"color\":\"#4D5663\"},\"text\":\"\\u041a\\u043e\\u043b\\u0438\\u0447\\u0435\\u0441\\u0442\\u0432\\u043e\"},\"zerolinecolor\":\"#E1E5ED\"}},                        {\"showLink\": true, \"linkText\": \"Export to plot.ly\", \"plotlyServerURL\": \"https://plot.ly\", \"responsive\": true}                    ).then(function(){\n",
       "                            \n",
       "var gd = document.getElementById('d6f62428-6381-42c9-ba84-6319ac475c8a');\n",
       "var x = new MutationObserver(function (mutations, observer) {{\n",
       "        var display = window.getComputedStyle(gd).display;\n",
       "        if (!display || display === 'none') {{\n",
       "            console.log([gd, 'removed!']);\n",
       "            Plotly.purge(gd);\n",
       "            observer.disconnect();\n",
       "        }}\n",
       "}});\n",
       "\n",
       "// Listen for the removal of the full notebook cells\n",
       "var notebookContainer = gd.closest('#notebook-container');\n",
       "if (notebookContainer) {{\n",
       "    x.observe(notebookContainer, {childList: true});\n",
       "}}\n",
       "\n",
       "// Listen for the clearing of the current output cell\n",
       "var outputEl = gd.closest('.output');\n",
       "if (outputEl) {{\n",
       "    x.observe(outputEl, {childList: true});\n",
       "}}\n",
       "\n",
       "                        })                };                });            </script>        </div>"
      ]
     },
     "metadata": {},
     "output_type": "display_data"
    }
   ],
   "source": [
    "ustal = pd.DataFrame(man, columns = ['Trigram', 'Frequency'])\n",
    "ustal = ustal.set_index('Trigram')\n",
    "ustal.iplot(kind='bar', xTitle='Триграмма', yTitle='Количество', title='Триграмма мужская')"
   ]
  },
  {
   "cell_type": "code",
   "execution_count": 50,
   "id": "f0f2fbab",
   "metadata": {},
   "outputs": [
    {
     "data": {
      "text/plain": [
       "[('здравствовать евгений альбертович', 65),\n",
       " ('добрый день евгений', 31),\n",
       " ('день евгений альбертович', 30),\n",
       " ('заранее спасибо ответ', 29),\n",
       " ('добрый день подсказать', 28),\n",
       " ('спасибо ваш ответ', 28),\n",
       " ('год рост вес', 27),\n",
       " ('день подсказать пожалуйста', 27),\n",
       " ('кровь липидный спектр', 27),\n",
       " ('здравствовать подсказать пожалуйста', 26)]"
      ]
     },
     "execution_count": 50,
     "metadata": {},
     "output_type": "execute_result"
    }
   ],
   "source": [
    "puk = info[info.gender=='female']\n",
    "girl = top_words(puk['lemmatized'], 10)\n",
    "girl"
   ]
  },
  {
   "cell_type": "code",
   "execution_count": 51,
   "id": "c54a1d70",
   "metadata": {},
   "outputs": [
    {
     "data": {
      "application/vnd.plotly.v1+json": {
       "config": {
        "linkText": "Export to plot.ly",
        "plotlyServerURL": "https://plot.ly",
        "showLink": true
       },
       "data": [
        {
         "marker": {
          "color": "rgba(255, 153, 51, 0.6)",
          "line": {
           "color": "rgba(255, 153, 51, 1.0)",
           "width": 1
          }
         },
         "name": "Frequency",
         "orientation": "v",
         "text": "",
         "type": "bar",
         "x": [
          "здравствовать евгений альбертович",
          "добрый время суток",
          "spp обнаружить обнаружить",
          "здравствовать валерий гамитович",
          "заранее спасибо ответ",
          "обрезание крайний плоть",
          "добрый день евгений",
          "добрый день год",
          "можно попасть приём",
          "здравствовать юрий александрович"
         ],
         "y": [
          17,
          10,
          10,
          9,
          8,
          8,
          8,
          7,
          7,
          7
         ]
        }
       ],
       "layout": {
        "legend": {
         "bgcolor": "#F5F6F9",
         "font": {
          "color": "#4D5663"
         }
        },
        "paper_bgcolor": "#F5F6F9",
        "plot_bgcolor": "#F5F6F9",
        "template": {
         "data": {
          "bar": [
           {
            "error_x": {
             "color": "#2a3f5f"
            },
            "error_y": {
             "color": "#2a3f5f"
            },
            "marker": {
             "line": {
              "color": "#E5ECF6",
              "width": 0.5
             },
             "pattern": {
              "fillmode": "overlay",
              "size": 10,
              "solidity": 0.2
             }
            },
            "type": "bar"
           }
          ],
          "barpolar": [
           {
            "marker": {
             "line": {
              "color": "#E5ECF6",
              "width": 0.5
             },
             "pattern": {
              "fillmode": "overlay",
              "size": 10,
              "solidity": 0.2
             }
            },
            "type": "barpolar"
           }
          ],
          "carpet": [
           {
            "aaxis": {
             "endlinecolor": "#2a3f5f",
             "gridcolor": "white",
             "linecolor": "white",
             "minorgridcolor": "white",
             "startlinecolor": "#2a3f5f"
            },
            "baxis": {
             "endlinecolor": "#2a3f5f",
             "gridcolor": "white",
             "linecolor": "white",
             "minorgridcolor": "white",
             "startlinecolor": "#2a3f5f"
            },
            "type": "carpet"
           }
          ],
          "choropleth": [
           {
            "colorbar": {
             "outlinewidth": 0,
             "ticks": ""
            },
            "type": "choropleth"
           }
          ],
          "contour": [
           {
            "colorbar": {
             "outlinewidth": 0,
             "ticks": ""
            },
            "colorscale": [
             [
              0,
              "#0d0887"
             ],
             [
              0.1111111111111111,
              "#46039f"
             ],
             [
              0.2222222222222222,
              "#7201a8"
             ],
             [
              0.3333333333333333,
              "#9c179e"
             ],
             [
              0.4444444444444444,
              "#bd3786"
             ],
             [
              0.5555555555555556,
              "#d8576b"
             ],
             [
              0.6666666666666666,
              "#ed7953"
             ],
             [
              0.7777777777777778,
              "#fb9f3a"
             ],
             [
              0.8888888888888888,
              "#fdca26"
             ],
             [
              1,
              "#f0f921"
             ]
            ],
            "type": "contour"
           }
          ],
          "contourcarpet": [
           {
            "colorbar": {
             "outlinewidth": 0,
             "ticks": ""
            },
            "type": "contourcarpet"
           }
          ],
          "heatmap": [
           {
            "colorbar": {
             "outlinewidth": 0,
             "ticks": ""
            },
            "colorscale": [
             [
              0,
              "#0d0887"
             ],
             [
              0.1111111111111111,
              "#46039f"
             ],
             [
              0.2222222222222222,
              "#7201a8"
             ],
             [
              0.3333333333333333,
              "#9c179e"
             ],
             [
              0.4444444444444444,
              "#bd3786"
             ],
             [
              0.5555555555555556,
              "#d8576b"
             ],
             [
              0.6666666666666666,
              "#ed7953"
             ],
             [
              0.7777777777777778,
              "#fb9f3a"
             ],
             [
              0.8888888888888888,
              "#fdca26"
             ],
             [
              1,
              "#f0f921"
             ]
            ],
            "type": "heatmap"
           }
          ],
          "heatmapgl": [
           {
            "colorbar": {
             "outlinewidth": 0,
             "ticks": ""
            },
            "colorscale": [
             [
              0,
              "#0d0887"
             ],
             [
              0.1111111111111111,
              "#46039f"
             ],
             [
              0.2222222222222222,
              "#7201a8"
             ],
             [
              0.3333333333333333,
              "#9c179e"
             ],
             [
              0.4444444444444444,
              "#bd3786"
             ],
             [
              0.5555555555555556,
              "#d8576b"
             ],
             [
              0.6666666666666666,
              "#ed7953"
             ],
             [
              0.7777777777777778,
              "#fb9f3a"
             ],
             [
              0.8888888888888888,
              "#fdca26"
             ],
             [
              1,
              "#f0f921"
             ]
            ],
            "type": "heatmapgl"
           }
          ],
          "histogram": [
           {
            "marker": {
             "pattern": {
              "fillmode": "overlay",
              "size": 10,
              "solidity": 0.2
             }
            },
            "type": "histogram"
           }
          ],
          "histogram2d": [
           {
            "colorbar": {
             "outlinewidth": 0,
             "ticks": ""
            },
            "colorscale": [
             [
              0,
              "#0d0887"
             ],
             [
              0.1111111111111111,
              "#46039f"
             ],
             [
              0.2222222222222222,
              "#7201a8"
             ],
             [
              0.3333333333333333,
              "#9c179e"
             ],
             [
              0.4444444444444444,
              "#bd3786"
             ],
             [
              0.5555555555555556,
              "#d8576b"
             ],
             [
              0.6666666666666666,
              "#ed7953"
             ],
             [
              0.7777777777777778,
              "#fb9f3a"
             ],
             [
              0.8888888888888888,
              "#fdca26"
             ],
             [
              1,
              "#f0f921"
             ]
            ],
            "type": "histogram2d"
           }
          ],
          "histogram2dcontour": [
           {
            "colorbar": {
             "outlinewidth": 0,
             "ticks": ""
            },
            "colorscale": [
             [
              0,
              "#0d0887"
             ],
             [
              0.1111111111111111,
              "#46039f"
             ],
             [
              0.2222222222222222,
              "#7201a8"
             ],
             [
              0.3333333333333333,
              "#9c179e"
             ],
             [
              0.4444444444444444,
              "#bd3786"
             ],
             [
              0.5555555555555556,
              "#d8576b"
             ],
             [
              0.6666666666666666,
              "#ed7953"
             ],
             [
              0.7777777777777778,
              "#fb9f3a"
             ],
             [
              0.8888888888888888,
              "#fdca26"
             ],
             [
              1,
              "#f0f921"
             ]
            ],
            "type": "histogram2dcontour"
           }
          ],
          "mesh3d": [
           {
            "colorbar": {
             "outlinewidth": 0,
             "ticks": ""
            },
            "type": "mesh3d"
           }
          ],
          "parcoords": [
           {
            "line": {
             "colorbar": {
              "outlinewidth": 0,
              "ticks": ""
             }
            },
            "type": "parcoords"
           }
          ],
          "pie": [
           {
            "automargin": true,
            "type": "pie"
           }
          ],
          "scatter": [
           {
            "marker": {
             "colorbar": {
              "outlinewidth": 0,
              "ticks": ""
             }
            },
            "type": "scatter"
           }
          ],
          "scatter3d": [
           {
            "line": {
             "colorbar": {
              "outlinewidth": 0,
              "ticks": ""
             }
            },
            "marker": {
             "colorbar": {
              "outlinewidth": 0,
              "ticks": ""
             }
            },
            "type": "scatter3d"
           }
          ],
          "scattercarpet": [
           {
            "marker": {
             "colorbar": {
              "outlinewidth": 0,
              "ticks": ""
             }
            },
            "type": "scattercarpet"
           }
          ],
          "scattergeo": [
           {
            "marker": {
             "colorbar": {
              "outlinewidth": 0,
              "ticks": ""
             }
            },
            "type": "scattergeo"
           }
          ],
          "scattergl": [
           {
            "marker": {
             "colorbar": {
              "outlinewidth": 0,
              "ticks": ""
             }
            },
            "type": "scattergl"
           }
          ],
          "scattermapbox": [
           {
            "marker": {
             "colorbar": {
              "outlinewidth": 0,
              "ticks": ""
             }
            },
            "type": "scattermapbox"
           }
          ],
          "scatterpolar": [
           {
            "marker": {
             "colorbar": {
              "outlinewidth": 0,
              "ticks": ""
             }
            },
            "type": "scatterpolar"
           }
          ],
          "scatterpolargl": [
           {
            "marker": {
             "colorbar": {
              "outlinewidth": 0,
              "ticks": ""
             }
            },
            "type": "scatterpolargl"
           }
          ],
          "scatterternary": [
           {
            "marker": {
             "colorbar": {
              "outlinewidth": 0,
              "ticks": ""
             }
            },
            "type": "scatterternary"
           }
          ],
          "surface": [
           {
            "colorbar": {
             "outlinewidth": 0,
             "ticks": ""
            },
            "colorscale": [
             [
              0,
              "#0d0887"
             ],
             [
              0.1111111111111111,
              "#46039f"
             ],
             [
              0.2222222222222222,
              "#7201a8"
             ],
             [
              0.3333333333333333,
              "#9c179e"
             ],
             [
              0.4444444444444444,
              "#bd3786"
             ],
             [
              0.5555555555555556,
              "#d8576b"
             ],
             [
              0.6666666666666666,
              "#ed7953"
             ],
             [
              0.7777777777777778,
              "#fb9f3a"
             ],
             [
              0.8888888888888888,
              "#fdca26"
             ],
             [
              1,
              "#f0f921"
             ]
            ],
            "type": "surface"
           }
          ],
          "table": [
           {
            "cells": {
             "fill": {
              "color": "#EBF0F8"
             },
             "line": {
              "color": "white"
             }
            },
            "header": {
             "fill": {
              "color": "#C8D4E3"
             },
             "line": {
              "color": "white"
             }
            },
            "type": "table"
           }
          ]
         },
         "layout": {
          "annotationdefaults": {
           "arrowcolor": "#2a3f5f",
           "arrowhead": 0,
           "arrowwidth": 1
          },
          "autotypenumbers": "strict",
          "coloraxis": {
           "colorbar": {
            "outlinewidth": 0,
            "ticks": ""
           }
          },
          "colorscale": {
           "diverging": [
            [
             0,
             "#8e0152"
            ],
            [
             0.1,
             "#c51b7d"
            ],
            [
             0.2,
             "#de77ae"
            ],
            [
             0.3,
             "#f1b6da"
            ],
            [
             0.4,
             "#fde0ef"
            ],
            [
             0.5,
             "#f7f7f7"
            ],
            [
             0.6,
             "#e6f5d0"
            ],
            [
             0.7,
             "#b8e186"
            ],
            [
             0.8,
             "#7fbc41"
            ],
            [
             0.9,
             "#4d9221"
            ],
            [
             1,
             "#276419"
            ]
           ],
           "sequential": [
            [
             0,
             "#0d0887"
            ],
            [
             0.1111111111111111,
             "#46039f"
            ],
            [
             0.2222222222222222,
             "#7201a8"
            ],
            [
             0.3333333333333333,
             "#9c179e"
            ],
            [
             0.4444444444444444,
             "#bd3786"
            ],
            [
             0.5555555555555556,
             "#d8576b"
            ],
            [
             0.6666666666666666,
             "#ed7953"
            ],
            [
             0.7777777777777778,
             "#fb9f3a"
            ],
            [
             0.8888888888888888,
             "#fdca26"
            ],
            [
             1,
             "#f0f921"
            ]
           ],
           "sequentialminus": [
            [
             0,
             "#0d0887"
            ],
            [
             0.1111111111111111,
             "#46039f"
            ],
            [
             0.2222222222222222,
             "#7201a8"
            ],
            [
             0.3333333333333333,
             "#9c179e"
            ],
            [
             0.4444444444444444,
             "#bd3786"
            ],
            [
             0.5555555555555556,
             "#d8576b"
            ],
            [
             0.6666666666666666,
             "#ed7953"
            ],
            [
             0.7777777777777778,
             "#fb9f3a"
            ],
            [
             0.8888888888888888,
             "#fdca26"
            ],
            [
             1,
             "#f0f921"
            ]
           ]
          },
          "colorway": [
           "#636efa",
           "#EF553B",
           "#00cc96",
           "#ab63fa",
           "#FFA15A",
           "#19d3f3",
           "#FF6692",
           "#B6E880",
           "#FF97FF",
           "#FECB52"
          ],
          "font": {
           "color": "#2a3f5f"
          },
          "geo": {
           "bgcolor": "white",
           "lakecolor": "white",
           "landcolor": "#E5ECF6",
           "showlakes": true,
           "showland": true,
           "subunitcolor": "white"
          },
          "hoverlabel": {
           "align": "left"
          },
          "hovermode": "closest",
          "mapbox": {
           "style": "light"
          },
          "paper_bgcolor": "white",
          "plot_bgcolor": "#E5ECF6",
          "polar": {
           "angularaxis": {
            "gridcolor": "white",
            "linecolor": "white",
            "ticks": ""
           },
           "bgcolor": "#E5ECF6",
           "radialaxis": {
            "gridcolor": "white",
            "linecolor": "white",
            "ticks": ""
           }
          },
          "scene": {
           "xaxis": {
            "backgroundcolor": "#E5ECF6",
            "gridcolor": "white",
            "gridwidth": 2,
            "linecolor": "white",
            "showbackground": true,
            "ticks": "",
            "zerolinecolor": "white"
           },
           "yaxis": {
            "backgroundcolor": "#E5ECF6",
            "gridcolor": "white",
            "gridwidth": 2,
            "linecolor": "white",
            "showbackground": true,
            "ticks": "",
            "zerolinecolor": "white"
           },
           "zaxis": {
            "backgroundcolor": "#E5ECF6",
            "gridcolor": "white",
            "gridwidth": 2,
            "linecolor": "white",
            "showbackground": true,
            "ticks": "",
            "zerolinecolor": "white"
           }
          },
          "shapedefaults": {
           "line": {
            "color": "#2a3f5f"
           }
          },
          "ternary": {
           "aaxis": {
            "gridcolor": "white",
            "linecolor": "white",
            "ticks": ""
           },
           "baxis": {
            "gridcolor": "white",
            "linecolor": "white",
            "ticks": ""
           },
           "bgcolor": "#E5ECF6",
           "caxis": {
            "gridcolor": "white",
            "linecolor": "white",
            "ticks": ""
           }
          },
          "title": {
           "x": 0.05
          },
          "xaxis": {
           "automargin": true,
           "gridcolor": "white",
           "linecolor": "white",
           "ticks": "",
           "title": {
            "standoff": 15
           },
           "zerolinecolor": "white",
           "zerolinewidth": 2
          },
          "yaxis": {
           "automargin": true,
           "gridcolor": "white",
           "linecolor": "white",
           "ticks": "",
           "title": {
            "standoff": 15
           },
           "zerolinecolor": "white",
           "zerolinewidth": 2
          }
         }
        },
        "title": {
         "font": {
          "color": "#4D5663"
         },
         "text": "Триграмма женская"
        },
        "xaxis": {
         "gridcolor": "#E1E5ED",
         "showgrid": true,
         "tickfont": {
          "color": "#4D5663"
         },
         "title": {
          "font": {
           "color": "#4D5663"
          },
          "text": "Триграмма"
         },
         "zerolinecolor": "#E1E5ED"
        },
        "yaxis": {
         "gridcolor": "#E1E5ED",
         "showgrid": true,
         "tickfont": {
          "color": "#4D5663"
         },
         "title": {
          "font": {
           "color": "#4D5663"
          },
          "text": "Количество"
         },
         "zerolinecolor": "#E1E5ED"
        }
       }
      },
      "text/html": [
       "<div>                            <div id=\"3bfcfdda-7388-485d-bb3f-6f533177dcc2\" class=\"plotly-graph-div\" style=\"height:525px; width:100%;\"></div>            <script type=\"text/javascript\">                require([\"plotly\"], function(Plotly) {                    window.PLOTLYENV=window.PLOTLYENV || {};\n",
       "                    window.PLOTLYENV.BASE_URL='https://plot.ly';                                    if (document.getElementById(\"3bfcfdda-7388-485d-bb3f-6f533177dcc2\")) {                    Plotly.newPlot(                        \"3bfcfdda-7388-485d-bb3f-6f533177dcc2\",                        [{\"marker\":{\"color\":\"rgba(255, 153, 51, 0.6)\",\"line\":{\"color\":\"rgba(255, 153, 51, 1.0)\",\"width\":1}},\"name\":\"Frequency\",\"orientation\":\"v\",\"text\":\"\",\"type\":\"bar\",\"x\":[\"\\u0437\\u0434\\u0440\\u0430\\u0432\\u0441\\u0442\\u0432\\u043e\\u0432\\u0430\\u0442\\u044c \\u0435\\u0432\\u0433\\u0435\\u043d\\u0438\\u0439 \\u0430\\u043b\\u044c\\u0431\\u0435\\u0440\\u0442\\u043e\\u0432\\u0438\\u0447\",\"\\u0434\\u043e\\u0431\\u0440\\u044b\\u0439 \\u0432\\u0440\\u0435\\u043c\\u044f \\u0441\\u0443\\u0442\\u043e\\u043a\",\"spp \\u043e\\u0431\\u043d\\u0430\\u0440\\u0443\\u0436\\u0438\\u0442\\u044c \\u043e\\u0431\\u043d\\u0430\\u0440\\u0443\\u0436\\u0438\\u0442\\u044c\",\"\\u0437\\u0434\\u0440\\u0430\\u0432\\u0441\\u0442\\u0432\\u043e\\u0432\\u0430\\u0442\\u044c \\u0432\\u0430\\u043b\\u0435\\u0440\\u0438\\u0439 \\u0433\\u0430\\u043c\\u0438\\u0442\\u043e\\u0432\\u0438\\u0447\",\"\\u0437\\u0430\\u0440\\u0430\\u043d\\u0435\\u0435 \\u0441\\u043f\\u0430\\u0441\\u0438\\u0431\\u043e \\u043e\\u0442\\u0432\\u0435\\u0442\",\"\\u043e\\u0431\\u0440\\u0435\\u0437\\u0430\\u043d\\u0438\\u0435 \\u043a\\u0440\\u0430\\u0439\\u043d\\u0438\\u0439 \\u043f\\u043b\\u043e\\u0442\\u044c\",\"\\u0434\\u043e\\u0431\\u0440\\u044b\\u0439 \\u0434\\u0435\\u043d\\u044c \\u0435\\u0432\\u0433\\u0435\\u043d\\u0438\\u0439\",\"\\u0434\\u043e\\u0431\\u0440\\u044b\\u0439 \\u0434\\u0435\\u043d\\u044c \\u0433\\u043e\\u0434\",\"\\u043c\\u043e\\u0436\\u043d\\u043e \\u043f\\u043e\\u043f\\u0430\\u0441\\u0442\\u044c \\u043f\\u0440\\u0438\\u0451\\u043c\",\"\\u0437\\u0434\\u0440\\u0430\\u0432\\u0441\\u0442\\u0432\\u043e\\u0432\\u0430\\u0442\\u044c \\u044e\\u0440\\u0438\\u0439 \\u0430\\u043b\\u0435\\u043a\\u0441\\u0430\\u043d\\u0434\\u0440\\u043e\\u0432\\u0438\\u0447\"],\"y\":[17,10,10,9,8,8,8,7,7,7]}],                        {\"legend\":{\"bgcolor\":\"#F5F6F9\",\"font\":{\"color\":\"#4D5663\"}},\"paper_bgcolor\":\"#F5F6F9\",\"plot_bgcolor\":\"#F5F6F9\",\"template\":{\"data\":{\"bar\":[{\"error_x\":{\"color\":\"#2a3f5f\"},\"error_y\":{\"color\":\"#2a3f5f\"},\"marker\":{\"line\":{\"color\":\"#E5ECF6\",\"width\":0.5},\"pattern\":{\"fillmode\":\"overlay\",\"size\":10,\"solidity\":0.2}},\"type\":\"bar\"}],\"barpolar\":[{\"marker\":{\"line\":{\"color\":\"#E5ECF6\",\"width\":0.5},\"pattern\":{\"fillmode\":\"overlay\",\"size\":10,\"solidity\":0.2}},\"type\":\"barpolar\"}],\"carpet\":[{\"aaxis\":{\"endlinecolor\":\"#2a3f5f\",\"gridcolor\":\"white\",\"linecolor\":\"white\",\"minorgridcolor\":\"white\",\"startlinecolor\":\"#2a3f5f\"},\"baxis\":{\"endlinecolor\":\"#2a3f5f\",\"gridcolor\":\"white\",\"linecolor\":\"white\",\"minorgridcolor\":\"white\",\"startlinecolor\":\"#2a3f5f\"},\"type\":\"carpet\"}],\"choropleth\":[{\"colorbar\":{\"outlinewidth\":0,\"ticks\":\"\"},\"type\":\"choropleth\"}],\"contour\":[{\"colorbar\":{\"outlinewidth\":0,\"ticks\":\"\"},\"colorscale\":[[0.0,\"#0d0887\"],[0.1111111111111111,\"#46039f\"],[0.2222222222222222,\"#7201a8\"],[0.3333333333333333,\"#9c179e\"],[0.4444444444444444,\"#bd3786\"],[0.5555555555555556,\"#d8576b\"],[0.6666666666666666,\"#ed7953\"],[0.7777777777777778,\"#fb9f3a\"],[0.8888888888888888,\"#fdca26\"],[1.0,\"#f0f921\"]],\"type\":\"contour\"}],\"contourcarpet\":[{\"colorbar\":{\"outlinewidth\":0,\"ticks\":\"\"},\"type\":\"contourcarpet\"}],\"heatmap\":[{\"colorbar\":{\"outlinewidth\":0,\"ticks\":\"\"},\"colorscale\":[[0.0,\"#0d0887\"],[0.1111111111111111,\"#46039f\"],[0.2222222222222222,\"#7201a8\"],[0.3333333333333333,\"#9c179e\"],[0.4444444444444444,\"#bd3786\"],[0.5555555555555556,\"#d8576b\"],[0.6666666666666666,\"#ed7953\"],[0.7777777777777778,\"#fb9f3a\"],[0.8888888888888888,\"#fdca26\"],[1.0,\"#f0f921\"]],\"type\":\"heatmap\"}],\"heatmapgl\":[{\"colorbar\":{\"outlinewidth\":0,\"ticks\":\"\"},\"colorscale\":[[0.0,\"#0d0887\"],[0.1111111111111111,\"#46039f\"],[0.2222222222222222,\"#7201a8\"],[0.3333333333333333,\"#9c179e\"],[0.4444444444444444,\"#bd3786\"],[0.5555555555555556,\"#d8576b\"],[0.6666666666666666,\"#ed7953\"],[0.7777777777777778,\"#fb9f3a\"],[0.8888888888888888,\"#fdca26\"],[1.0,\"#f0f921\"]],\"type\":\"heatmapgl\"}],\"histogram\":[{\"marker\":{\"pattern\":{\"fillmode\":\"overlay\",\"size\":10,\"solidity\":0.2}},\"type\":\"histogram\"}],\"histogram2d\":[{\"colorbar\":{\"outlinewidth\":0,\"ticks\":\"\"},\"colorscale\":[[0.0,\"#0d0887\"],[0.1111111111111111,\"#46039f\"],[0.2222222222222222,\"#7201a8\"],[0.3333333333333333,\"#9c179e\"],[0.4444444444444444,\"#bd3786\"],[0.5555555555555556,\"#d8576b\"],[0.6666666666666666,\"#ed7953\"],[0.7777777777777778,\"#fb9f3a\"],[0.8888888888888888,\"#fdca26\"],[1.0,\"#f0f921\"]],\"type\":\"histogram2d\"}],\"histogram2dcontour\":[{\"colorbar\":{\"outlinewidth\":0,\"ticks\":\"\"},\"colorscale\":[[0.0,\"#0d0887\"],[0.1111111111111111,\"#46039f\"],[0.2222222222222222,\"#7201a8\"],[0.3333333333333333,\"#9c179e\"],[0.4444444444444444,\"#bd3786\"],[0.5555555555555556,\"#d8576b\"],[0.6666666666666666,\"#ed7953\"],[0.7777777777777778,\"#fb9f3a\"],[0.8888888888888888,\"#fdca26\"],[1.0,\"#f0f921\"]],\"type\":\"histogram2dcontour\"}],\"mesh3d\":[{\"colorbar\":{\"outlinewidth\":0,\"ticks\":\"\"},\"type\":\"mesh3d\"}],\"parcoords\":[{\"line\":{\"colorbar\":{\"outlinewidth\":0,\"ticks\":\"\"}},\"type\":\"parcoords\"}],\"pie\":[{\"automargin\":true,\"type\":\"pie\"}],\"scatter\":[{\"marker\":{\"colorbar\":{\"outlinewidth\":0,\"ticks\":\"\"}},\"type\":\"scatter\"}],\"scatter3d\":[{\"line\":{\"colorbar\":{\"outlinewidth\":0,\"ticks\":\"\"}},\"marker\":{\"colorbar\":{\"outlinewidth\":0,\"ticks\":\"\"}},\"type\":\"scatter3d\"}],\"scattercarpet\":[{\"marker\":{\"colorbar\":{\"outlinewidth\":0,\"ticks\":\"\"}},\"type\":\"scattercarpet\"}],\"scattergeo\":[{\"marker\":{\"colorbar\":{\"outlinewidth\":0,\"ticks\":\"\"}},\"type\":\"scattergeo\"}],\"scattergl\":[{\"marker\":{\"colorbar\":{\"outlinewidth\":0,\"ticks\":\"\"}},\"type\":\"scattergl\"}],\"scattermapbox\":[{\"marker\":{\"colorbar\":{\"outlinewidth\":0,\"ticks\":\"\"}},\"type\":\"scattermapbox\"}],\"scatterpolar\":[{\"marker\":{\"colorbar\":{\"outlinewidth\":0,\"ticks\":\"\"}},\"type\":\"scatterpolar\"}],\"scatterpolargl\":[{\"marker\":{\"colorbar\":{\"outlinewidth\":0,\"ticks\":\"\"}},\"type\":\"scatterpolargl\"}],\"scatterternary\":[{\"marker\":{\"colorbar\":{\"outlinewidth\":0,\"ticks\":\"\"}},\"type\":\"scatterternary\"}],\"surface\":[{\"colorbar\":{\"outlinewidth\":0,\"ticks\":\"\"},\"colorscale\":[[0.0,\"#0d0887\"],[0.1111111111111111,\"#46039f\"],[0.2222222222222222,\"#7201a8\"],[0.3333333333333333,\"#9c179e\"],[0.4444444444444444,\"#bd3786\"],[0.5555555555555556,\"#d8576b\"],[0.6666666666666666,\"#ed7953\"],[0.7777777777777778,\"#fb9f3a\"],[0.8888888888888888,\"#fdca26\"],[1.0,\"#f0f921\"]],\"type\":\"surface\"}],\"table\":[{\"cells\":{\"fill\":{\"color\":\"#EBF0F8\"},\"line\":{\"color\":\"white\"}},\"header\":{\"fill\":{\"color\":\"#C8D4E3\"},\"line\":{\"color\":\"white\"}},\"type\":\"table\"}]},\"layout\":{\"annotationdefaults\":{\"arrowcolor\":\"#2a3f5f\",\"arrowhead\":0,\"arrowwidth\":1},\"autotypenumbers\":\"strict\",\"coloraxis\":{\"colorbar\":{\"outlinewidth\":0,\"ticks\":\"\"}},\"colorscale\":{\"diverging\":[[0,\"#8e0152\"],[0.1,\"#c51b7d\"],[0.2,\"#de77ae\"],[0.3,\"#f1b6da\"],[0.4,\"#fde0ef\"],[0.5,\"#f7f7f7\"],[0.6,\"#e6f5d0\"],[0.7,\"#b8e186\"],[0.8,\"#7fbc41\"],[0.9,\"#4d9221\"],[1,\"#276419\"]],\"sequential\":[[0.0,\"#0d0887\"],[0.1111111111111111,\"#46039f\"],[0.2222222222222222,\"#7201a8\"],[0.3333333333333333,\"#9c179e\"],[0.4444444444444444,\"#bd3786\"],[0.5555555555555556,\"#d8576b\"],[0.6666666666666666,\"#ed7953\"],[0.7777777777777778,\"#fb9f3a\"],[0.8888888888888888,\"#fdca26\"],[1.0,\"#f0f921\"]],\"sequentialminus\":[[0.0,\"#0d0887\"],[0.1111111111111111,\"#46039f\"],[0.2222222222222222,\"#7201a8\"],[0.3333333333333333,\"#9c179e\"],[0.4444444444444444,\"#bd3786\"],[0.5555555555555556,\"#d8576b\"],[0.6666666666666666,\"#ed7953\"],[0.7777777777777778,\"#fb9f3a\"],[0.8888888888888888,\"#fdca26\"],[1.0,\"#f0f921\"]]},\"colorway\":[\"#636efa\",\"#EF553B\",\"#00cc96\",\"#ab63fa\",\"#FFA15A\",\"#19d3f3\",\"#FF6692\",\"#B6E880\",\"#FF97FF\",\"#FECB52\"],\"font\":{\"color\":\"#2a3f5f\"},\"geo\":{\"bgcolor\":\"white\",\"lakecolor\":\"white\",\"landcolor\":\"#E5ECF6\",\"showlakes\":true,\"showland\":true,\"subunitcolor\":\"white\"},\"hoverlabel\":{\"align\":\"left\"},\"hovermode\":\"closest\",\"mapbox\":{\"style\":\"light\"},\"paper_bgcolor\":\"white\",\"plot_bgcolor\":\"#E5ECF6\",\"polar\":{\"angularaxis\":{\"gridcolor\":\"white\",\"linecolor\":\"white\",\"ticks\":\"\"},\"bgcolor\":\"#E5ECF6\",\"radialaxis\":{\"gridcolor\":\"white\",\"linecolor\":\"white\",\"ticks\":\"\"}},\"scene\":{\"xaxis\":{\"backgroundcolor\":\"#E5ECF6\",\"gridcolor\":\"white\",\"gridwidth\":2,\"linecolor\":\"white\",\"showbackground\":true,\"ticks\":\"\",\"zerolinecolor\":\"white\"},\"yaxis\":{\"backgroundcolor\":\"#E5ECF6\",\"gridcolor\":\"white\",\"gridwidth\":2,\"linecolor\":\"white\",\"showbackground\":true,\"ticks\":\"\",\"zerolinecolor\":\"white\"},\"zaxis\":{\"backgroundcolor\":\"#E5ECF6\",\"gridcolor\":\"white\",\"gridwidth\":2,\"linecolor\":\"white\",\"showbackground\":true,\"ticks\":\"\",\"zerolinecolor\":\"white\"}},\"shapedefaults\":{\"line\":{\"color\":\"#2a3f5f\"}},\"ternary\":{\"aaxis\":{\"gridcolor\":\"white\",\"linecolor\":\"white\",\"ticks\":\"\"},\"baxis\":{\"gridcolor\":\"white\",\"linecolor\":\"white\",\"ticks\":\"\"},\"bgcolor\":\"#E5ECF6\",\"caxis\":{\"gridcolor\":\"white\",\"linecolor\":\"white\",\"ticks\":\"\"}},\"title\":{\"x\":0.05},\"xaxis\":{\"automargin\":true,\"gridcolor\":\"white\",\"linecolor\":\"white\",\"ticks\":\"\",\"title\":{\"standoff\":15},\"zerolinecolor\":\"white\",\"zerolinewidth\":2},\"yaxis\":{\"automargin\":true,\"gridcolor\":\"white\",\"linecolor\":\"white\",\"ticks\":\"\",\"title\":{\"standoff\":15},\"zerolinecolor\":\"white\",\"zerolinewidth\":2}}},\"title\":{\"font\":{\"color\":\"#4D5663\"},\"text\":\"\\u0422\\u0440\\u0438\\u0433\\u0440\\u0430\\u043c\\u043c\\u0430 \\u0436\\u0435\\u043d\\u0441\\u043a\\u0430\\u044f\"},\"xaxis\":{\"gridcolor\":\"#E1E5ED\",\"showgrid\":true,\"tickfont\":{\"color\":\"#4D5663\"},\"title\":{\"font\":{\"color\":\"#4D5663\"},\"text\":\"\\u0422\\u0440\\u0438\\u0433\\u0440\\u0430\\u043c\\u043c\\u0430\"},\"zerolinecolor\":\"#E1E5ED\"},\"yaxis\":{\"gridcolor\":\"#E1E5ED\",\"showgrid\":true,\"tickfont\":{\"color\":\"#4D5663\"},\"title\":{\"font\":{\"color\":\"#4D5663\"},\"text\":\"\\u041a\\u043e\\u043b\\u0438\\u0447\\u0435\\u0441\\u0442\\u0432\\u043e\"},\"zerolinecolor\":\"#E1E5ED\"}},                        {\"showLink\": true, \"linkText\": \"Export to plot.ly\", \"plotlyServerURL\": \"https://plot.ly\", \"responsive\": true}                    ).then(function(){\n",
       "                            \n",
       "var gd = document.getElementById('3bfcfdda-7388-485d-bb3f-6f533177dcc2');\n",
       "var x = new MutationObserver(function (mutations, observer) {{\n",
       "        var display = window.getComputedStyle(gd).display;\n",
       "        if (!display || display === 'none') {{\n",
       "            console.log([gd, 'removed!']);\n",
       "            Plotly.purge(gd);\n",
       "            observer.disconnect();\n",
       "        }}\n",
       "}});\n",
       "\n",
       "// Listen for the removal of the full notebook cells\n",
       "var notebookContainer = gd.closest('#notebook-container');\n",
       "if (notebookContainer) {{\n",
       "    x.observe(notebookContainer, {childList: true});\n",
       "}}\n",
       "\n",
       "// Listen for the clearing of the current output cell\n",
       "var outputEl = gd.closest('.output');\n",
       "if (outputEl) {{\n",
       "    x.observe(outputEl, {childList: true});\n",
       "}}\n",
       "\n",
       "                        })                };                });            </script>        </div>"
      ]
     },
     "metadata": {},
     "output_type": "display_data"
    }
   ],
   "source": [
    "ustal = pd.DataFrame(man, columns = ['Trigram', 'Frequency'])\n",
    "ustal = ustal.set_index('Trigram')\n",
    "ustal.iplot(kind='bar', xTitle='Триграмма', yTitle='Количество', title='Триграмма женская')"
   ]
  },
  {
   "cell_type": "code",
   "execution_count": null,
   "id": "2b77833a",
   "metadata": {},
   "outputs": [],
   "source": []
  }
 ],
 "metadata": {
  "kernelspec": {
   "display_name": "Python 3",
   "language": "python",
   "name": "python3"
  },
  "language_info": {
   "codemirror_mode": {
    "name": "ipython",
    "version": 3
   },
   "file_extension": ".py",
   "mimetype": "text/x-python",
   "name": "python",
   "nbconvert_exporter": "python",
   "pygments_lexer": "ipython3",
   "version": "3.8.8"
  }
 },
 "nbformat": 4,
 "nbformat_minor": 5
}
